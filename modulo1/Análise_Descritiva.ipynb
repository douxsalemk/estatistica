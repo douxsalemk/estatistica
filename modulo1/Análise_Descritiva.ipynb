{
 "cells": [
  {
   "cell_type": "markdown",
   "source": [
    "***\n",
    "# <font color=green size=10>CURSO DE ESTATÍSTICA - PARTE 1</font>\n",
    "***\n",
    "\n",
    "## Trabalho de Análise Descritiva de um Conjunto de Dados\n",
    "\n",
    "Utilizando os conhecimentos adquiridos em nosso treinamento realize uma análise descritiva básica de um conjunto de dados retirados da Pesquisa Nacional por Amostra de Domicílios - 2015 do IBGE. \n",
    "\n",
    "Vamos construir histogramas, calcular e avaliar medidas de tendência central, medidas separatrizes e de dispersão dos dados.\n",
    "\n",
    "Siga o roteiro proposto e vá completando as células vazias. Procure pensar em mais informações interessantes que podem ser exploradas em nosso dataset."
   ],
   "metadata": {
    "colab_type": "text",
    "id": "WvMflodMjQKe"
   }
  },
  {
   "cell_type": "markdown",
   "source": [
    "# <font color=green>DATASET DO PROJETO</font>\n",
    "***"
   ],
   "metadata": {
    "colab_type": "text",
    "id": "cVgsZ_E3jQKg"
   }
  },
  {
   "cell_type": "markdown",
   "source": [
    "### Pesquisa Nacional por Amostra de Domicílios - 2015\n",
    "\n",
    "A <b>Pesquisa Nacional por Amostra de Domicílios - PNAD</b> investiga anualmente, de forma permanente, características gerais da população, de educação, trabalho, rendimento e habitação e outras, com periodicidade variável, de acordo com as necessidades de informação para o país, como as características sobre migração, fecundidade, nupcialidade, saúde, segurança alimentar, entre outros temas. O levantamento dessas estatísticas constitui, ao longo dos 49 anos de realização da pesquisa, um importante instrumento para formulação, validação e avaliação de políticas orientadas para o desenvolvimento socioeconômico e a melhoria das condições de vida no Brasil."
   ],
   "metadata": {
    "colab_type": "text",
    "id": "iN1gIbaKjQKh"
   }
  },
  {
   "cell_type": "markdown",
   "source": [
    "### Fonte dos Dados\n",
    "\n",
    "https://ww2.ibge.gov.br/home/estatistica/populacao/trabalhoerendimento/pnad2015/microdados.shtm"
   ],
   "metadata": {
    "colab_type": "text",
    "id": "U6V7br1RjQKi"
   }
  },
  {
   "cell_type": "markdown",
   "source": [
    "### Variáveis utilizadas\n",
    "\n",
    "> ### Renda\n",
    "> ***\n",
    "\n",
    "Rendimento mensal do trabalho principal para pessoas de 10 anos ou mais de idade.\n",
    "\n",
    "> ### Idade\n",
    "> ***\n",
    "\n",
    "Idade do morador na data de referência em anos.\n",
    "\n",
    "> ### Altura (elaboração própria)\n",
    "> ***\n",
    "\n",
    "Altura do morador em metros.\n",
    "\n",
    "> ### UF\n",
    "> ***\n",
    "\n",
    "|Código|Descrição|\n",
    "|---|---|\n",
    "|11|Rondônia|\n",
    "|12|Acre|\n",
    "|13|Amazonas|\n",
    "|14|Roraima|\n",
    "|15|Pará|\n",
    "|16|Amapá|\n",
    "|17|Tocantins|\n",
    "|21|Maranhão|\n",
    "|22|Piauí|\n",
    "|23|Ceará|\n",
    "|24|Rio Grande do Norte|\n",
    "|25|Paraíba|\n",
    "|26|Pernambuco|\n",
    "|27|Alagoas|\n",
    "|28|Sergipe|\n",
    "|29|Bahia|\n",
    "|31|Minas Gerais|\n",
    "|32|Espírito Santo|\n",
    "|33|Rio de Janeiro|\n",
    "|35|São Paulo|\n",
    "|41|Paraná|\n",
    "|42|Santa Catarina|\n",
    "|43|Rio Grande do Sul|\n",
    "|50|Mato Grosso do Sul|\n",
    "|51|Mato Grosso|\n",
    "|52|Goiás|\n",
    "|53|Distrito Federal|\n",
    "\n",
    "> ### Sexo\t\n",
    "> ***\n",
    "\n",
    "|Código|Descrição|\n",
    "|---|---|\n",
    "|0|Masculino|\n",
    "|1|Feminino|\n",
    "\n",
    "> ### Anos de Estudo\n",
    "> ***\n",
    "\n",
    "|Código|Descrição|\n",
    "|---|---|\n",
    "|1|Sem instrução e menos de 1 ano|\n",
    "|2|1 ano|\n",
    "|3|2 anos|\n",
    "|4|3 anos|\n",
    "|5|4 anos|\n",
    "|6|5 anos|\n",
    "|7|6 anos|\n",
    "|8|7 anos|\n",
    "|9|8 anos|\n",
    "|10|9 anos|\n",
    "|11|10 anos|\n",
    "|12|11 anos|\n",
    "|13|12 anos|\n",
    "|14|13 anos|\n",
    "|15|14 anos|\n",
    "|16|15 anos ou mais|\n",
    "|17|Não determinados| \n",
    "||Não aplicável|\n",
    "\n",
    "> ### Cor\n",
    "> ***\n",
    "\n",
    "|Código|Descrição|\n",
    "|---|---|\n",
    "|0|Indígena|\n",
    "|2|Branca|\n",
    "|4|Preta|\n",
    "|6|Amarela|\n",
    "|8|Parda|\n",
    "|9|Sem declaração|"
   ],
   "metadata": {
    "colab_type": "text",
    "id": "r0Fe_qnzjQKj"
   }
  },
  {
   "cell_type": "markdown",
   "source": [
    "#### <font color='red'>Observação</font>\n",
    "***\n",
    "> Os seguintes tratamentos foram realizados nos dados originais:\n",
    "> 1. Foram eliminados os registros onde a <b>Renda</b> era inválida (999 999 999 999);\n",
    "> 2. Foram eliminados os registros onde a <b>Renda</b> era missing;\n",
    "> 3. Foram considerados somente os registros das <b>Pessoas de Referência</b> de cada domicílio (responsável pelo domicílio)."
   ],
   "metadata": {
    "colab_type": "text",
    "id": "OK1IQH5cX7Gb"
   }
  },
  {
   "cell_type": "markdown",
   "source": [
    "***\n",
    "***"
   ],
   "metadata": {
    "colab_type": "text",
    "id": "ZIqLOffNTg1Y"
   }
  },
  {
   "cell_type": "markdown",
   "source": [
    "### Utilize a célula abaixo para importar as biblioteca que precisar para executar as tarefas\n",
    "#### <font color='red'>Sugestões: pandas, numpy, seaborn</font>"
   ],
   "metadata": {
    "colab_type": "text",
    "id": "8Rw70V6ojQKk"
   }
  },
  {
   "cell_type": "code",
   "execution_count": 161,
   "source": [
    "import pandas as pd\n",
    "import numpy as np\n",
    "import seaborn as sns"
   ],
   "outputs": [],
   "metadata": {
    "colab": {},
    "colab_type": "code",
    "id": "fcTgimHBybMz"
   }
  },
  {
   "cell_type": "markdown",
   "source": [
    "### Importe o dataset e armazene o conteúdo em uma DataFrame"
   ],
   "metadata": {
    "colab_type": "text",
    "id": "2a-gvBvCULwt"
   }
  },
  {
   "cell_type": "code",
   "execution_count": 162,
   "source": [
    "dados = pd.read_csv(\"dados.csv\")"
   ],
   "outputs": [],
   "metadata": {
    "colab": {},
    "colab_type": "code",
    "id": "ufRZ7TLwjQKo"
   }
  },
  {
   "cell_type": "markdown",
   "source": [
    "### Visualize o conteúdo do DataFrame"
   ],
   "metadata": {
    "colab_type": "text",
    "id": "Oq3CKHCmTg1j"
   }
  },
  {
   "cell_type": "code",
   "execution_count": 163,
   "source": [
    "dados"
   ],
   "outputs": [
    {
     "output_type": "execute_result",
     "data": {
      "text/plain": [
       "       UF  Sexo  Idade  Cor  Anos de Estudo  Renda    Altura\n",
       "0      11     0     23    8              12    800  1.603808\n",
       "1      11     1     23    2              12   1150  1.739790\n",
       "2      11     1     35    8              15    880  1.760444\n",
       "3      11     0     46    2               6   3500  1.783158\n",
       "4      11     1     47    8               9    150  1.690631\n",
       "...    ..   ...    ...  ...             ...    ...       ...\n",
       "76835  53     1     46    2              11    812  1.687030\n",
       "76836  53     0     30    4               7   1500  1.792934\n",
       "76837  53     0     32    8              12   1300  1.830587\n",
       "76838  53     0     57    8               4   1500  1.726344\n",
       "76839  53     0     38    8               4    900  1.658305\n",
       "\n",
       "[76840 rows x 7 columns]"
      ],
      "text/html": [
       "<div>\n",
       "<style scoped>\n",
       "    .dataframe tbody tr th:only-of-type {\n",
       "        vertical-align: middle;\n",
       "    }\n",
       "\n",
       "    .dataframe tbody tr th {\n",
       "        vertical-align: top;\n",
       "    }\n",
       "\n",
       "    .dataframe thead th {\n",
       "        text-align: right;\n",
       "    }\n",
       "</style>\n",
       "<table border=\"1\" class=\"dataframe\">\n",
       "  <thead>\n",
       "    <tr style=\"text-align: right;\">\n",
       "      <th></th>\n",
       "      <th>UF</th>\n",
       "      <th>Sexo</th>\n",
       "      <th>Idade</th>\n",
       "      <th>Cor</th>\n",
       "      <th>Anos de Estudo</th>\n",
       "      <th>Renda</th>\n",
       "      <th>Altura</th>\n",
       "    </tr>\n",
       "  </thead>\n",
       "  <tbody>\n",
       "    <tr>\n",
       "      <th>0</th>\n",
       "      <td>11</td>\n",
       "      <td>0</td>\n",
       "      <td>23</td>\n",
       "      <td>8</td>\n",
       "      <td>12</td>\n",
       "      <td>800</td>\n",
       "      <td>1.603808</td>\n",
       "    </tr>\n",
       "    <tr>\n",
       "      <th>1</th>\n",
       "      <td>11</td>\n",
       "      <td>1</td>\n",
       "      <td>23</td>\n",
       "      <td>2</td>\n",
       "      <td>12</td>\n",
       "      <td>1150</td>\n",
       "      <td>1.739790</td>\n",
       "    </tr>\n",
       "    <tr>\n",
       "      <th>2</th>\n",
       "      <td>11</td>\n",
       "      <td>1</td>\n",
       "      <td>35</td>\n",
       "      <td>8</td>\n",
       "      <td>15</td>\n",
       "      <td>880</td>\n",
       "      <td>1.760444</td>\n",
       "    </tr>\n",
       "    <tr>\n",
       "      <th>3</th>\n",
       "      <td>11</td>\n",
       "      <td>0</td>\n",
       "      <td>46</td>\n",
       "      <td>2</td>\n",
       "      <td>6</td>\n",
       "      <td>3500</td>\n",
       "      <td>1.783158</td>\n",
       "    </tr>\n",
       "    <tr>\n",
       "      <th>4</th>\n",
       "      <td>11</td>\n",
       "      <td>1</td>\n",
       "      <td>47</td>\n",
       "      <td>8</td>\n",
       "      <td>9</td>\n",
       "      <td>150</td>\n",
       "      <td>1.690631</td>\n",
       "    </tr>\n",
       "    <tr>\n",
       "      <th>...</th>\n",
       "      <td>...</td>\n",
       "      <td>...</td>\n",
       "      <td>...</td>\n",
       "      <td>...</td>\n",
       "      <td>...</td>\n",
       "      <td>...</td>\n",
       "      <td>...</td>\n",
       "    </tr>\n",
       "    <tr>\n",
       "      <th>76835</th>\n",
       "      <td>53</td>\n",
       "      <td>1</td>\n",
       "      <td>46</td>\n",
       "      <td>2</td>\n",
       "      <td>11</td>\n",
       "      <td>812</td>\n",
       "      <td>1.687030</td>\n",
       "    </tr>\n",
       "    <tr>\n",
       "      <th>76836</th>\n",
       "      <td>53</td>\n",
       "      <td>0</td>\n",
       "      <td>30</td>\n",
       "      <td>4</td>\n",
       "      <td>7</td>\n",
       "      <td>1500</td>\n",
       "      <td>1.792934</td>\n",
       "    </tr>\n",
       "    <tr>\n",
       "      <th>76837</th>\n",
       "      <td>53</td>\n",
       "      <td>0</td>\n",
       "      <td>32</td>\n",
       "      <td>8</td>\n",
       "      <td>12</td>\n",
       "      <td>1300</td>\n",
       "      <td>1.830587</td>\n",
       "    </tr>\n",
       "    <tr>\n",
       "      <th>76838</th>\n",
       "      <td>53</td>\n",
       "      <td>0</td>\n",
       "      <td>57</td>\n",
       "      <td>8</td>\n",
       "      <td>4</td>\n",
       "      <td>1500</td>\n",
       "      <td>1.726344</td>\n",
       "    </tr>\n",
       "    <tr>\n",
       "      <th>76839</th>\n",
       "      <td>53</td>\n",
       "      <td>0</td>\n",
       "      <td>38</td>\n",
       "      <td>8</td>\n",
       "      <td>4</td>\n",
       "      <td>900</td>\n",
       "      <td>1.658305</td>\n",
       "    </tr>\n",
       "  </tbody>\n",
       "</table>\n",
       "<p>76840 rows × 7 columns</p>\n",
       "</div>"
      ]
     },
     "metadata": {},
     "execution_count": 163
    }
   ],
   "metadata": {
    "colab": {},
    "colab_type": "code",
    "id": "GsC_WhLFjQKq",
    "scrolled": true
   }
  },
  {
   "cell_type": "markdown",
   "source": [
    "### Para avaliarmos o comportamento da variável RENDA vamos construir uma tabela de frequências considerando as seguintes classes em salários mínimos (SM)\n",
    "#### <font color='blue'>Descreva os pontos mais relevantes que você observa na tabela e no gráfico.</font>\n",
    "\n",
    "Classes de renda:\n",
    "\n",
    "<b>A</b> ► Acima de 25 SM\n",
    "\n",
    "<b>B</b> ► De 15 a 25 SM\n",
    "\n",
    "<b>C</b> ► De 5 a 15 SM\n",
    "\n",
    "<b>D</b> ► De 2 a 5 SM\n",
    "\n",
    "<b>E</b> ► Até 2 SM\n",
    "\n",
    "Para construir as classes de renda considere que o salário mínimo na época da pesquisa era de <b>R$ 788,00</b>.\n",
    "\n",
    "#### Siga os passos abaixo:"
   ],
   "metadata": {
    "colab_type": "text",
    "id": "HDrFJQitTg1n"
   }
  },
  {
   "cell_type": "markdown",
   "source": [
    "### 1º Definir os intevalos das classes em reais (R$)"
   ],
   "metadata": {
    "colab_type": "text",
    "id": "zJBkeGxiTg1o"
   }
  },
  {
   "cell_type": "code",
   "execution_count": 164,
   "source": [
    "SM = 788\n",
    "intervalo = [dados.Renda.min(), 2*SM, 5*SM, 15*SM, 25*SM, dados.Renda.max()]"
   ],
   "outputs": [],
   "metadata": {
    "colab": {},
    "colab_type": "code",
    "id": "-Ct3QUj6Tg1p"
   }
  },
  {
   "cell_type": "markdown",
   "source": [
    "### 2º Definir os labels das classes"
   ],
   "metadata": {
    "colab_type": "text",
    "id": "dZ7X37CGTg1t"
   }
  },
  {
   "cell_type": "code",
   "execution_count": 165,
   "source": [
    "\n",
    "label = [\"E\", \"D\", \"C\",\"B\", \"A\" ]    \n",
    "label     "
   ],
   "outputs": [
    {
     "output_type": "execute_result",
     "data": {
      "text/plain": [
       "['E', 'D', 'C', 'B', 'A']"
      ]
     },
     "metadata": {},
     "execution_count": 165
    }
   ],
   "metadata": {
    "colab": {},
    "colab_type": "code",
    "id": "4UFOzitTTg1u"
   }
  },
  {
   "cell_type": "markdown",
   "source": [
    "### 3º Construir a coluna de frequências"
   ],
   "metadata": {
    "colab_type": "text",
    "id": "umFq1o-UTg1w"
   }
  },
  {
   "cell_type": "code",
   "execution_count": 166,
   "source": [
    "frequencia = pd.value_counts(\n",
    "                 pd.cut(x = dados.Renda,\n",
    "                        bins = intervalo, \n",
    "                        labels = label,\n",
    "                        include_lowest= True\n",
    "                       )\n",
    "             )\n",
    "frequencia "
   ],
   "outputs": [
    {
     "output_type": "execute_result",
     "data": {
      "text/plain": [
       "E    49755\n",
       "D    18602\n",
       "C     7241\n",
       "B      822\n",
       "A      420\n",
       "Name: Renda, dtype: int64"
      ]
     },
     "metadata": {},
     "execution_count": 166
    }
   ],
   "metadata": {
    "colab": {},
    "colab_type": "code",
    "id": "uSztBoqOTg1x"
   }
  },
  {
   "cell_type": "markdown",
   "source": [
    "### 4º Construir a coluna de percentuais"
   ],
   "metadata": {
    "colab_type": "text",
    "id": "2k6nGUZKTg11"
   }
  },
  {
   "cell_type": "code",
   "execution_count": 167,
   "source": [
    "percentual = pd.value_counts(\n",
    "                 pd.cut(x = dados.Renda,\n",
    "                        bins = intervalo, \n",
    "                        labels = label,\n",
    "                        include_lowest= True\n",
    "                       ),\n",
    "                  normalize= True     \n",
    "             )*100\n",
    "percentual "
   ],
   "outputs": [
    {
     "output_type": "execute_result",
     "data": {
      "text/plain": [
       "E    64.751432\n",
       "D    24.208745\n",
       "C     9.423477\n",
       "B     1.069755\n",
       "A     0.546590\n",
       "Name: Renda, dtype: float64"
      ]
     },
     "metadata": {},
     "execution_count": 167
    }
   ],
   "metadata": {
    "colab": {},
    "colab_type": "code",
    "id": "rdwUABsnTg12"
   }
  },
  {
   "cell_type": "markdown",
   "source": [
    "### 5º Juntar as colunas de frequência e percentuais e ordenar as linhas de acordo com os labels das classes"
   ],
   "metadata": {
    "colab_type": "text",
    "id": "9dvk6-9_Tg16"
   }
  },
  {
   "cell_type": "code",
   "execution_count": 168,
   "source": [
    "dist_frequencia_quantitativa = pd.DataFrame({\"Frequencia\": frequencia, \"Porcentagem\": percentual})\n",
    "dist_frequencia_quantitativa"
   ],
   "outputs": [
    {
     "output_type": "execute_result",
     "data": {
      "text/plain": [
       "   Frequencia  Porcentagem\n",
       "E       49755    64.751432\n",
       "D       18602    24.208745\n",
       "C        7241     9.423477\n",
       "B         822     1.069755\n",
       "A         420     0.546590"
      ],
      "text/html": [
       "<div>\n",
       "<style scoped>\n",
       "    .dataframe tbody tr th:only-of-type {\n",
       "        vertical-align: middle;\n",
       "    }\n",
       "\n",
       "    .dataframe tbody tr th {\n",
       "        vertical-align: top;\n",
       "    }\n",
       "\n",
       "    .dataframe thead th {\n",
       "        text-align: right;\n",
       "    }\n",
       "</style>\n",
       "<table border=\"1\" class=\"dataframe\">\n",
       "  <thead>\n",
       "    <tr style=\"text-align: right;\">\n",
       "      <th></th>\n",
       "      <th>Frequencia</th>\n",
       "      <th>Porcentagem</th>\n",
       "    </tr>\n",
       "  </thead>\n",
       "  <tbody>\n",
       "    <tr>\n",
       "      <th>E</th>\n",
       "      <td>49755</td>\n",
       "      <td>64.751432</td>\n",
       "    </tr>\n",
       "    <tr>\n",
       "      <th>D</th>\n",
       "      <td>18602</td>\n",
       "      <td>24.208745</td>\n",
       "    </tr>\n",
       "    <tr>\n",
       "      <th>C</th>\n",
       "      <td>7241</td>\n",
       "      <td>9.423477</td>\n",
       "    </tr>\n",
       "    <tr>\n",
       "      <th>B</th>\n",
       "      <td>822</td>\n",
       "      <td>1.069755</td>\n",
       "    </tr>\n",
       "    <tr>\n",
       "      <th>A</th>\n",
       "      <td>420</td>\n",
       "      <td>0.546590</td>\n",
       "    </tr>\n",
       "  </tbody>\n",
       "</table>\n",
       "</div>"
      ]
     },
     "metadata": {},
     "execution_count": 168
    }
   ],
   "metadata": {
    "colab": {},
    "colab_type": "code",
    "id": "tO_bcMmgTg16"
   }
  },
  {
   "cell_type": "markdown",
   "source": [
    "### Construa um gráfico de barras para visualizar as informações da tabela de frequências acima"
   ],
   "metadata": {
    "colab_type": "text",
    "id": "DOYtXuSbTg18"
   }
  },
  {
   "cell_type": "code",
   "execution_count": null,
   "source": [],
   "outputs": [],
   "metadata": {
    "colab": {},
    "colab_type": "code",
    "id": "e4mDPKf1Tg18"
   }
  },
  {
   "cell_type": "markdown",
   "source": [
    "> ### Conclusões\n",
    "\n",
    "Escreva suas conclusões aqui..."
   ],
   "metadata": {
    "colab_type": "text",
    "id": "9ppt5JevTg1-"
   }
  },
  {
   "cell_type": "markdown",
   "source": [
    "### Crie um histograma para as variáveis QUANTITATIVAS de nosso dataset\n",
    "#### <font color='blue'>Descreva os pontos mais relevantes que você observa nos gráficos (assimetrias e seus tipos, possíveis causas para determinados comportamentos etc.)</font>"
   ],
   "metadata": {
    "colab_type": "text",
    "id": "yt-gFm93Tg1-"
   }
  },
  {
   "cell_type": "code",
   "execution_count": 169,
   "source": [
    "dist_frequencia_quantitativa[\"Frequencia\"].plot.bar(width=1, color = \"blue\", alpha= 0.1, figsize=(12,6) )\n"
   ],
   "outputs": [
    {
     "output_type": "execute_result",
     "data": {
      "text/plain": [
       "<AxesSubplot:>"
      ]
     },
     "metadata": {},
     "execution_count": 169
    },
    {
     "output_type": "display_data",
     "data": {
      "text/plain": [
       "<Figure size 864x432 with 1 Axes>"
      ],
      "image/svg+xml": "<?xml version=\"1.0\" encoding=\"utf-8\" standalone=\"no\"?>\n<!DOCTYPE svg PUBLIC \"-//W3C//DTD SVG 1.1//EN\"\n  \"http://www.w3.org/Graphics/SVG/1.1/DTD/svg11.dtd\">\n<svg height=\"355.26pt\" version=\"1.1\" viewBox=\"0 0 722.8125 355.26\" width=\"722.8125pt\" xmlns=\"http://www.w3.org/2000/svg\" xmlns:xlink=\"http://www.w3.org/1999/xlink\">\n <metadata>\n  <rdf:RDF xmlns:cc=\"http://creativecommons.org/ns#\" xmlns:dc=\"http://purl.org/dc/elements/1.1/\" xmlns:rdf=\"http://www.w3.org/1999/02/22-rdf-syntax-ns#\">\n   <cc:Work>\n    <dc:type rdf:resource=\"http://purl.org/dc/dcmitype/StillImage\"/>\n    <dc:date>2021-08-14T07:54:42.984111</dc:date>\n    <dc:format>image/svg+xml</dc:format>\n    <dc:creator>\n     <cc:Agent>\n      <dc:title>Matplotlib v3.4.3, https://matplotlib.org/</dc:title>\n     </cc:Agent>\n    </dc:creator>\n   </cc:Work>\n  </rdf:RDF>\n </metadata>\n <defs>\n  <style type=\"text/css\">*{stroke-linecap:butt;stroke-linejoin:round;}</style>\n </defs>\n <g id=\"figure_1\">\n  <g id=\"patch_1\">\n   <path d=\"M 0 355.26 \nL 722.8125 355.26 \nL 722.8125 0 \nL 0 0 \nz\n\" style=\"fill:none;\"/>\n  </g>\n  <g id=\"axes_1\">\n   <g id=\"patch_2\">\n    <path d=\"M 46.0125 333.36 \nL 715.6125 333.36 \nL 715.6125 7.2 \nL 46.0125 7.2 \nz\n\" style=\"fill:#ffffff;\"/>\n   </g>\n   <g id=\"patch_3\">\n    <path clip-path=\"url(#p5647d22732)\" d=\"M 76.448864 333.36 \nL 198.194318 333.36 \nL 198.194318 22.731429 \nL 76.448864 22.731429 \nz\n\" style=\"fill:#0000ff;opacity:0.1;\"/>\n   </g>\n   <g id=\"patch_4\">\n    <path clip-path=\"url(#p5647d22732)\" d=\"M 198.194318 333.36 \nL 319.939773 333.36 \nL 319.939773 217.224683 \nL 198.194318 217.224683 \nz\n\" style=\"fill:#0000ff;opacity:0.1;\"/>\n   </g>\n   <g id=\"patch_5\">\n    <path clip-path=\"url(#p5647d22732)\" d=\"M 319.939773 333.36 \nL 441.685227 333.36 \nL 441.685227 288.153257 \nL 319.939773 288.153257 \nz\n\" style=\"fill:#0000ff;opacity:0.1;\"/>\n   </g>\n   <g id=\"patch_6\">\n    <path clip-path=\"url(#p5647d22732)\" d=\"M 441.685227 333.36 \nL 563.430682 333.36 \nL 563.430682 328.22812 \nL 441.685227 328.22812 \nz\n\" style=\"fill:#0000ff;opacity:0.1;\"/>\n   </g>\n   <g id=\"patch_7\">\n    <path clip-path=\"url(#p5647d22732)\" d=\"M 563.430682 333.36 \nL 685.176136 333.36 \nL 685.176136 330.737872 \nL 563.430682 330.737872 \nz\n\" style=\"fill:#0000ff;opacity:0.1;\"/>\n   </g>\n   <g id=\"matplotlib.axis_1\">\n    <g id=\"xtick_1\">\n     <g id=\"line2d_1\">\n      <defs>\n       <path d=\"M 0 0 \nL 0 3.5 \n\" id=\"m078cc362c1\" style=\"stroke:#000000;stroke-width:0.8;\"/>\n      </defs>\n      <g>\n       <use style=\"stroke:#000000;stroke-width:0.8;\" x=\"137.321591\" xlink:href=\"#m078cc362c1\" y=\"333.36\"/>\n      </g>\n     </g>\n     <g id=\"text_1\">\n      <!-- E -->\n      <g transform=\"translate(140.080966 346.67875)rotate(-90)scale(0.1 -0.1)\">\n       <defs>\n        <path d=\"M 628 4666 \nL 3578 4666 \nL 3578 4134 \nL 1259 4134 \nL 1259 2753 \nL 3481 2753 \nL 3481 2222 \nL 1259 2222 \nL 1259 531 \nL 3634 531 \nL 3634 0 \nL 628 0 \nL 628 4666 \nz\n\" id=\"DejaVuSans-45\" transform=\"scale(0.015625)\"/>\n       </defs>\n       <use xlink:href=\"#DejaVuSans-45\"/>\n      </g>\n     </g>\n    </g>\n    <g id=\"xtick_2\">\n     <g id=\"line2d_2\">\n      <g>\n       <use style=\"stroke:#000000;stroke-width:0.8;\" x=\"259.067045\" xlink:href=\"#m078cc362c1\" y=\"333.36\"/>\n      </g>\n     </g>\n     <g id=\"text_2\">\n      <!-- D -->\n      <g transform=\"translate(261.82642 348.06)rotate(-90)scale(0.1 -0.1)\">\n       <defs>\n        <path d=\"M 1259 4147 \nL 1259 519 \nL 2022 519 \nQ 2988 519 3436 956 \nQ 3884 1394 3884 2338 \nQ 3884 3275 3436 3711 \nQ 2988 4147 2022 4147 \nL 1259 4147 \nz\nM 628 4666 \nL 1925 4666 \nQ 3281 4666 3915 4102 \nQ 4550 3538 4550 2338 \nQ 4550 1131 3912 565 \nQ 3275 0 1925 0 \nL 628 0 \nL 628 4666 \nz\n\" id=\"DejaVuSans-44\" transform=\"scale(0.015625)\"/>\n       </defs>\n       <use xlink:href=\"#DejaVuSans-44\"/>\n      </g>\n     </g>\n    </g>\n    <g id=\"xtick_3\">\n     <g id=\"line2d_3\">\n      <g>\n       <use style=\"stroke:#000000;stroke-width:0.8;\" x=\"380.8125\" xlink:href=\"#m078cc362c1\" y=\"333.36\"/>\n      </g>\n     </g>\n     <g id=\"text_3\">\n      <!-- C -->\n      <g transform=\"translate(383.571875 347.342813)rotate(-90)scale(0.1 -0.1)\">\n       <defs>\n        <path d=\"M 4122 4306 \nL 4122 3641 \nQ 3803 3938 3442 4084 \nQ 3081 4231 2675 4231 \nQ 1875 4231 1450 3742 \nQ 1025 3253 1025 2328 \nQ 1025 1406 1450 917 \nQ 1875 428 2675 428 \nQ 3081 428 3442 575 \nQ 3803 722 4122 1019 \nL 4122 359 \nQ 3791 134 3420 21 \nQ 3050 -91 2638 -91 \nQ 1578 -91 968 557 \nQ 359 1206 359 2328 \nQ 359 3453 968 4101 \nQ 1578 4750 2638 4750 \nQ 3056 4750 3426 4639 \nQ 3797 4528 4122 4306 \nz\n\" id=\"DejaVuSans-43\" transform=\"scale(0.015625)\"/>\n       </defs>\n       <use xlink:href=\"#DejaVuSans-43\"/>\n      </g>\n     </g>\n    </g>\n    <g id=\"xtick_4\">\n     <g id=\"line2d_4\">\n      <g>\n       <use style=\"stroke:#000000;stroke-width:0.8;\" x=\"502.557955\" xlink:href=\"#m078cc362c1\" y=\"333.36\"/>\n      </g>\n     </g>\n     <g id=\"text_4\">\n      <!-- B -->\n      <g transform=\"translate(505.31733 347.220938)rotate(-90)scale(0.1 -0.1)\">\n       <defs>\n        <path d=\"M 1259 2228 \nL 1259 519 \nL 2272 519 \nQ 2781 519 3026 730 \nQ 3272 941 3272 1375 \nQ 3272 1813 3026 2020 \nQ 2781 2228 2272 2228 \nL 1259 2228 \nz\nM 1259 4147 \nL 1259 2741 \nL 2194 2741 \nQ 2656 2741 2882 2914 \nQ 3109 3088 3109 3444 \nQ 3109 3797 2882 3972 \nQ 2656 4147 2194 4147 \nL 1259 4147 \nz\nM 628 4666 \nL 2241 4666 \nQ 2963 4666 3353 4366 \nQ 3744 4066 3744 3513 \nQ 3744 3084 3544 2831 \nQ 3344 2578 2956 2516 \nQ 3422 2416 3680 2098 \nQ 3938 1781 3938 1306 \nQ 3938 681 3513 340 \nQ 3088 0 2303 0 \nL 628 0 \nL 628 4666 \nz\n\" id=\"DejaVuSans-42\" transform=\"scale(0.015625)\"/>\n       </defs>\n       <use xlink:href=\"#DejaVuSans-42\"/>\n      </g>\n     </g>\n    </g>\n    <g id=\"xtick_5\">\n     <g id=\"line2d_5\">\n      <g>\n       <use style=\"stroke:#000000;stroke-width:0.8;\" x=\"624.303409\" xlink:href=\"#m078cc362c1\" y=\"333.36\"/>\n      </g>\n     </g>\n     <g id=\"text_5\">\n      <!-- A -->\n      <g transform=\"translate(627.062784 347.200625)rotate(-90)scale(0.1 -0.1)\">\n       <defs>\n        <path d=\"M 2188 4044 \nL 1331 1722 \nL 3047 1722 \nL 2188 4044 \nz\nM 1831 4666 \nL 2547 4666 \nL 4325 0 \nL 3669 0 \nL 3244 1197 \nL 1141 1197 \nL 716 0 \nL 50 0 \nL 1831 4666 \nz\n\" id=\"DejaVuSans-41\" transform=\"scale(0.015625)\"/>\n       </defs>\n       <use xlink:href=\"#DejaVuSans-41\"/>\n      </g>\n     </g>\n    </g>\n   </g>\n   <g id=\"matplotlib.axis_2\">\n    <g id=\"ytick_1\">\n     <g id=\"line2d_6\">\n      <defs>\n       <path d=\"M 0 0 \nL -3.5 0 \n\" id=\"mf73791e99d\" style=\"stroke:#000000;stroke-width:0.8;\"/>\n      </defs>\n      <g>\n       <use style=\"stroke:#000000;stroke-width:0.8;\" x=\"46.0125\" xlink:href=\"#mf73791e99d\" y=\"333.36\"/>\n      </g>\n     </g>\n     <g id=\"text_6\">\n      <!-- 0 -->\n      <g transform=\"translate(32.65 337.159219)scale(0.1 -0.1)\">\n       <defs>\n        <path d=\"M 2034 4250 \nQ 1547 4250 1301 3770 \nQ 1056 3291 1056 2328 \nQ 1056 1369 1301 889 \nQ 1547 409 2034 409 \nQ 2525 409 2770 889 \nQ 3016 1369 3016 2328 \nQ 3016 3291 2770 3770 \nQ 2525 4250 2034 4250 \nz\nM 2034 4750 \nQ 2819 4750 3233 4129 \nQ 3647 3509 3647 2328 \nQ 3647 1150 3233 529 \nQ 2819 -91 2034 -91 \nQ 1250 -91 836 529 \nQ 422 1150 422 2328 \nQ 422 3509 836 4129 \nQ 1250 4750 2034 4750 \nz\n\" id=\"DejaVuSans-30\" transform=\"scale(0.015625)\"/>\n       </defs>\n       <use xlink:href=\"#DejaVuSans-30\"/>\n      </g>\n     </g>\n    </g>\n    <g id=\"ytick_2\">\n     <g id=\"line2d_7\">\n      <g>\n       <use style=\"stroke:#000000;stroke-width:0.8;\" x=\"46.0125\" xlink:href=\"#mf73791e99d\" y=\"270.928371\"/>\n      </g>\n     </g>\n     <g id=\"text_7\">\n      <!-- 10000 -->\n      <g transform=\"translate(7.2 274.727589)scale(0.1 -0.1)\">\n       <defs>\n        <path d=\"M 794 531 \nL 1825 531 \nL 1825 4091 \nL 703 3866 \nL 703 4441 \nL 1819 4666 \nL 2450 4666 \nL 2450 531 \nL 3481 531 \nL 3481 0 \nL 794 0 \nL 794 531 \nz\n\" id=\"DejaVuSans-31\" transform=\"scale(0.015625)\"/>\n       </defs>\n       <use xlink:href=\"#DejaVuSans-31\"/>\n       <use x=\"63.623047\" xlink:href=\"#DejaVuSans-30\"/>\n       <use x=\"127.246094\" xlink:href=\"#DejaVuSans-30\"/>\n       <use x=\"190.869141\" xlink:href=\"#DejaVuSans-30\"/>\n       <use x=\"254.492188\" xlink:href=\"#DejaVuSans-30\"/>\n      </g>\n     </g>\n    </g>\n    <g id=\"ytick_3\">\n     <g id=\"line2d_8\">\n      <g>\n       <use style=\"stroke:#000000;stroke-width:0.8;\" x=\"46.0125\" xlink:href=\"#mf73791e99d\" y=\"208.496741\"/>\n      </g>\n     </g>\n     <g id=\"text_8\">\n      <!-- 20000 -->\n      <g transform=\"translate(7.2 212.29596)scale(0.1 -0.1)\">\n       <defs>\n        <path d=\"M 1228 531 \nL 3431 531 \nL 3431 0 \nL 469 0 \nL 469 531 \nQ 828 903 1448 1529 \nQ 2069 2156 2228 2338 \nQ 2531 2678 2651 2914 \nQ 2772 3150 2772 3378 \nQ 2772 3750 2511 3984 \nQ 2250 4219 1831 4219 \nQ 1534 4219 1204 4116 \nQ 875 4013 500 3803 \nL 500 4441 \nQ 881 4594 1212 4672 \nQ 1544 4750 1819 4750 \nQ 2544 4750 2975 4387 \nQ 3406 4025 3406 3419 \nQ 3406 3131 3298 2873 \nQ 3191 2616 2906 2266 \nQ 2828 2175 2409 1742 \nQ 1991 1309 1228 531 \nz\n\" id=\"DejaVuSans-32\" transform=\"scale(0.015625)\"/>\n       </defs>\n       <use xlink:href=\"#DejaVuSans-32\"/>\n       <use x=\"63.623047\" xlink:href=\"#DejaVuSans-30\"/>\n       <use x=\"127.246094\" xlink:href=\"#DejaVuSans-30\"/>\n       <use x=\"190.869141\" xlink:href=\"#DejaVuSans-30\"/>\n       <use x=\"254.492188\" xlink:href=\"#DejaVuSans-30\"/>\n      </g>\n     </g>\n    </g>\n    <g id=\"ytick_4\">\n     <g id=\"line2d_9\">\n      <g>\n       <use style=\"stroke:#000000;stroke-width:0.8;\" x=\"46.0125\" xlink:href=\"#mf73791e99d\" y=\"146.065112\"/>\n      </g>\n     </g>\n     <g id=\"text_9\">\n      <!-- 30000 -->\n      <g transform=\"translate(7.2 149.864331)scale(0.1 -0.1)\">\n       <defs>\n        <path d=\"M 2597 2516 \nQ 3050 2419 3304 2112 \nQ 3559 1806 3559 1356 \nQ 3559 666 3084 287 \nQ 2609 -91 1734 -91 \nQ 1441 -91 1130 -33 \nQ 819 25 488 141 \nL 488 750 \nQ 750 597 1062 519 \nQ 1375 441 1716 441 \nQ 2309 441 2620 675 \nQ 2931 909 2931 1356 \nQ 2931 1769 2642 2001 \nQ 2353 2234 1838 2234 \nL 1294 2234 \nL 1294 2753 \nL 1863 2753 \nQ 2328 2753 2575 2939 \nQ 2822 3125 2822 3475 \nQ 2822 3834 2567 4026 \nQ 2313 4219 1838 4219 \nQ 1578 4219 1281 4162 \nQ 984 4106 628 3988 \nL 628 4550 \nQ 988 4650 1302 4700 \nQ 1616 4750 1894 4750 \nQ 2613 4750 3031 4423 \nQ 3450 4097 3450 3541 \nQ 3450 3153 3228 2886 \nQ 3006 2619 2597 2516 \nz\n\" id=\"DejaVuSans-33\" transform=\"scale(0.015625)\"/>\n       </defs>\n       <use xlink:href=\"#DejaVuSans-33\"/>\n       <use x=\"63.623047\" xlink:href=\"#DejaVuSans-30\"/>\n       <use x=\"127.246094\" xlink:href=\"#DejaVuSans-30\"/>\n       <use x=\"190.869141\" xlink:href=\"#DejaVuSans-30\"/>\n       <use x=\"254.492188\" xlink:href=\"#DejaVuSans-30\"/>\n      </g>\n     </g>\n    </g>\n    <g id=\"ytick_5\">\n     <g id=\"line2d_10\">\n      <g>\n       <use style=\"stroke:#000000;stroke-width:0.8;\" x=\"46.0125\" xlink:href=\"#mf73791e99d\" y=\"83.633483\"/>\n      </g>\n     </g>\n     <g id=\"text_10\">\n      <!-- 40000 -->\n      <g transform=\"translate(7.2 87.432702)scale(0.1 -0.1)\">\n       <defs>\n        <path d=\"M 2419 4116 \nL 825 1625 \nL 2419 1625 \nL 2419 4116 \nz\nM 2253 4666 \nL 3047 4666 \nL 3047 1625 \nL 3713 1625 \nL 3713 1100 \nL 3047 1100 \nL 3047 0 \nL 2419 0 \nL 2419 1100 \nL 313 1100 \nL 313 1709 \nL 2253 4666 \nz\n\" id=\"DejaVuSans-34\" transform=\"scale(0.015625)\"/>\n       </defs>\n       <use xlink:href=\"#DejaVuSans-34\"/>\n       <use x=\"63.623047\" xlink:href=\"#DejaVuSans-30\"/>\n       <use x=\"127.246094\" xlink:href=\"#DejaVuSans-30\"/>\n       <use x=\"190.869141\" xlink:href=\"#DejaVuSans-30\"/>\n       <use x=\"254.492188\" xlink:href=\"#DejaVuSans-30\"/>\n      </g>\n     </g>\n    </g>\n    <g id=\"ytick_6\">\n     <g id=\"line2d_11\">\n      <g>\n       <use style=\"stroke:#000000;stroke-width:0.8;\" x=\"46.0125\" xlink:href=\"#mf73791e99d\" y=\"21.201854\"/>\n      </g>\n     </g>\n     <g id=\"text_11\">\n      <!-- 50000 -->\n      <g transform=\"translate(7.2 25.001072)scale(0.1 -0.1)\">\n       <defs>\n        <path d=\"M 691 4666 \nL 3169 4666 \nL 3169 4134 \nL 1269 4134 \nL 1269 2991 \nQ 1406 3038 1543 3061 \nQ 1681 3084 1819 3084 \nQ 2600 3084 3056 2656 \nQ 3513 2228 3513 1497 \nQ 3513 744 3044 326 \nQ 2575 -91 1722 -91 \nQ 1428 -91 1123 -41 \nQ 819 9 494 109 \nL 494 744 \nQ 775 591 1075 516 \nQ 1375 441 1709 441 \nQ 2250 441 2565 725 \nQ 2881 1009 2881 1497 \nQ 2881 1984 2565 2268 \nQ 2250 2553 1709 2553 \nQ 1456 2553 1204 2497 \nQ 953 2441 691 2322 \nL 691 4666 \nz\n\" id=\"DejaVuSans-35\" transform=\"scale(0.015625)\"/>\n       </defs>\n       <use xlink:href=\"#DejaVuSans-35\"/>\n       <use x=\"63.623047\" xlink:href=\"#DejaVuSans-30\"/>\n       <use x=\"127.246094\" xlink:href=\"#DejaVuSans-30\"/>\n       <use x=\"190.869141\" xlink:href=\"#DejaVuSans-30\"/>\n       <use x=\"254.492188\" xlink:href=\"#DejaVuSans-30\"/>\n      </g>\n     </g>\n    </g>\n   </g>\n   <g id=\"patch_8\">\n    <path d=\"M 46.0125 333.36 \nL 46.0125 7.2 \n\" style=\"fill:none;stroke:#000000;stroke-linecap:square;stroke-linejoin:miter;stroke-width:0.8;\"/>\n   </g>\n   <g id=\"patch_9\">\n    <path d=\"M 715.6125 333.36 \nL 715.6125 7.2 \n\" style=\"fill:none;stroke:#000000;stroke-linecap:square;stroke-linejoin:miter;stroke-width:0.8;\"/>\n   </g>\n   <g id=\"patch_10\">\n    <path d=\"M 46.0125 333.36 \nL 715.6125 333.36 \n\" style=\"fill:none;stroke:#000000;stroke-linecap:square;stroke-linejoin:miter;stroke-width:0.8;\"/>\n   </g>\n   <g id=\"patch_11\">\n    <path d=\"M 46.0125 7.2 \nL 715.6125 7.2 \n\" style=\"fill:none;stroke:#000000;stroke-linecap:square;stroke-linejoin:miter;stroke-width:0.8;\"/>\n   </g>\n  </g>\n </g>\n <defs>\n  <clipPath id=\"p5647d22732\">\n   <rect height=\"326.16\" width=\"669.6\" x=\"46.0125\" y=\"7.2\"/>\n  </clipPath>\n </defs>\n</svg>\n",
      "image/png": "[encoded data removed]"
     },
     "metadata": {
      "needs_background": "light"
     }
    }
   ],
   "metadata": {
    "colab": {},
    "colab_type": "code",
    "id": "DYjq9xasTg1_"
   }
  },
  {
   "cell_type": "code",
   "execution_count": 170,
   "source": [
    "ax = sns.displot(dados.query(\"Renda < 10000\").Renda, kde= True)\n",
    "ax.fig.set_size_inches(12, 6)\n",
    "ax.set_titles(\"Distribuição de Frequência - Renda\")\n",
    "ax.set_xlabels(\"R$\")\n",
    "\n",
    "ax"
   ],
   "outputs": [
    {
     "output_type": "execute_result",
     "data": {
      "text/plain": [
       "<seaborn.axisgrid.FacetGrid at 0x7f4d55ce1b20>"
      ]
     },
     "metadata": {},
     "execution_count": 170
    },
    {
     "output_type": "display_data",
     "data": {
      "text/plain": [
       "<Figure size 864x432 with 1 Axes>"
      ],
      "image/svg+xml": "<?xml version=\"1.0\" encoding=\"utf-8\" standalone=\"no\"?>\n<!DOCTYPE svg PUBLIC \"-//W3C//DTD SVG 1.1//EN\"\n  \"http://www.w3.org/Graphics/SVG/1.1/DTD/svg11.dtd\">\n<svg height=\"413.63625pt\" version=\"1.1\" viewBox=\"0 0 747.57367 413.63625\" width=\"747.57367pt\" xmlns=\"http://www.w3.org/2000/svg\" xmlns:xlink=\"http://www.w3.org/1999/xlink\">\n <metadata>\n  <rdf:RDF xmlns:cc=\"http://creativecommons.org/ns#\" xmlns:dc=\"http://purl.org/dc/elements/1.1/\" xmlns:rdf=\"http://www.w3.org/1999/02/22-rdf-syntax-ns#\">\n   <cc:Work>\n    <dc:type rdf:resource=\"http://purl.org/dc/dcmitype/StillImage\"/>\n    <dc:date>2021-08-14T07:54:43.701029</dc:date>\n    <dc:format>image/svg+xml</dc:format>\n    <dc:creator>\n     <cc:Agent>\n      <dc:title>Matplotlib v3.4.3, https://matplotlib.org/</dc:title>\n     </cc:Agent>\n    </dc:creator>\n   </cc:Work>\n  </rdf:RDF>\n </metadata>\n <defs>\n  <style type=\"text/css\">*{stroke-linecap:butt;stroke-linejoin:round;}</style>\n </defs>\n <g id=\"figure_1\">\n  <g id=\"patch_1\">\n   <path d=\"M 0 413.63625 \nL 747.57367 413.63625 \nL 747.57367 0 \nL 0 0 \nz\n\" style=\"fill:none;\"/>\n  </g>\n  <g id=\"axes_1\">\n   <g id=\"patch_2\">\n    <path d=\"M 59.690625 376.08 \nL 740.37367 376.08 \nL 740.37367 7.2 \nL 59.690625 7.2 \nz\n\" style=\"fill:#ffffff;\"/>\n   </g>\n   <g id=\"patch_3\">\n    <path clip-path=\"url(#p0af9b251c1)\" d=\"M 90.630763 376.08 \nL 94.187101 376.08 \nL 94.187101 266.124816 \nL 90.630763 266.124816 \nz\n\" style=\"fill:#1f77b4;fill-opacity:0.5;stroke:#000000;stroke-linejoin:miter;stroke-width:0.160704;\"/>\n   </g>\n   <g id=\"patch_4\">\n    <path clip-path=\"url(#p0af9b251c1)\" d=\"M 94.187101 376.08 \nL 97.743439 376.08 \nL 97.743439 350.042557 \nL 94.187101 350.042557 \nz\n\" style=\"fill:#1f77b4;fill-opacity:0.5;stroke:#000000;stroke-linejoin:miter;stroke-width:0.160704;\"/>\n   </g>\n   <g id=\"patch_5\">\n    <path clip-path=\"url(#p0af9b251c1)\" d=\"M 97.743439 376.08 \nL 101.299777 376.08 \nL 101.299777 352.858355 \nL 97.743439 352.858355 \nz\n\" style=\"fill:#1f77b4;fill-opacity:0.5;stroke:#000000;stroke-linejoin:miter;stroke-width:0.160704;\"/>\n   </g>\n   <g id=\"patch_6\">\n    <path clip-path=\"url(#p0af9b251c1)\" d=\"M 101.299777 376.08 \nL 104.856114 376.08 \nL 104.856114 338.153631 \nL 101.299777 338.153631 \nz\n\" style=\"fill:#1f77b4;fill-opacity:0.5;stroke:#000000;stroke-linejoin:miter;stroke-width:0.160704;\"/>\n   </g>\n   <g id=\"patch_7\">\n    <path clip-path=\"url(#p0af9b251c1)\" d=\"M 104.856114 376.08 \nL 108.412452 376.08 \nL 108.412452 356.786568 \nL 104.856114 356.786568 \nz\n\" style=\"fill:#1f77b4;fill-opacity:0.5;stroke:#000000;stroke-linejoin:miter;stroke-width:0.160704;\"/>\n   </g>\n   <g id=\"patch_8\">\n    <path clip-path=\"url(#p0af9b251c1)\" d=\"M 108.412452 376.08 \nL 111.96879 376.08 \nL 111.96879 328.385244 \nL 108.412452 328.385244 \nz\n\" style=\"fill:#1f77b4;fill-opacity:0.5;stroke:#000000;stroke-linejoin:miter;stroke-width:0.160704;\"/>\n   </g>\n   <g id=\"patch_9\">\n    <path clip-path=\"url(#p0af9b251c1)\" d=\"M 111.96879 376.08 \nL 115.525128 376.08 \nL 115.525128 306.866984 \nL 111.96879 306.866984 \nz\n\" style=\"fill:#1f77b4;fill-opacity:0.5;stroke:#000000;stroke-linejoin:miter;stroke-width:0.160704;\"/>\n   </g>\n   <g id=\"patch_10\">\n    <path clip-path=\"url(#p0af9b251c1)\" d=\"M 115.525128 376.08 \nL 119.081465 376.08 \nL 119.081465 364.469178 \nL 115.525128 364.469178 \nz\n\" style=\"fill:#1f77b4;fill-opacity:0.5;stroke:#000000;stroke-linejoin:miter;stroke-width:0.160704;\"/>\n   </g>\n   <g id=\"patch_11\">\n    <path clip-path=\"url(#p0af9b251c1)\" d=\"M 119.081465 376.08 \nL 122.637803 376.08 \nL 122.637803 311.525218 \nL 119.081465 311.525218 \nz\n\" style=\"fill:#1f77b4;fill-opacity:0.5;stroke:#000000;stroke-linejoin:miter;stroke-width:0.160704;\"/>\n   </g>\n   <g id=\"patch_12\">\n    <path clip-path=\"url(#p0af9b251c1)\" d=\"M 122.637803 376.08 \nL 126.194141 376.08 \nL 126.194141 369.092649 \nL 122.637803 369.092649 \nz\n\" style=\"fill:#1f77b4;fill-opacity:0.5;stroke:#000000;stroke-linejoin:miter;stroke-width:0.160704;\"/>\n   </g>\n   <g id=\"patch_13\">\n    <path clip-path=\"url(#p0af9b251c1)\" d=\"M 126.194141 376.08 \nL 129.750479 376.08 \nL 129.750479 322.857937 \nL 126.194141 322.857937 \nz\n\" style=\"fill:#1f77b4;fill-opacity:0.5;stroke:#000000;stroke-linejoin:miter;stroke-width:0.160704;\"/>\n   </g>\n   <g id=\"patch_14\">\n    <path clip-path=\"url(#p0af9b251c1)\" d=\"M 129.750479 376.08 \nL 133.306816 376.08 \nL 133.306816 369.162175 \nL 129.750479 369.162175 \nz\n\" style=\"fill:#1f77b4;fill-opacity:0.5;stroke:#000000;stroke-linejoin:miter;stroke-width:0.160704;\"/>\n   </g>\n   <g id=\"patch_15\">\n    <path clip-path=\"url(#p0af9b251c1)\" d=\"M 133.306816 376.08 \nL 136.863154 376.08 \nL 136.863154 334.885914 \nL 133.306816 334.885914 \nz\n\" style=\"fill:#1f77b4;fill-opacity:0.5;stroke:#000000;stroke-linejoin:miter;stroke-width:0.160704;\"/>\n   </g>\n   <g id=\"patch_16\">\n    <path clip-path=\"url(#p0af9b251c1)\" d=\"M 136.863154 376.08 \nL 140.419492 376.08 \nL 140.419492 24.765714 \nL 136.863154 24.765714 \nz\n\" style=\"fill:#1f77b4;fill-opacity:0.5;stroke:#000000;stroke-linejoin:miter;stroke-width:0.160704;\"/>\n   </g>\n   <g id=\"patch_17\">\n    <path clip-path=\"url(#p0af9b251c1)\" d=\"M 140.419492 376.08 \nL 143.97583 376.08 \nL 143.97583 340.656563 \nL 140.419492 340.656563 \nz\n\" style=\"fill:#1f77b4;fill-opacity:0.5;stroke:#000000;stroke-linejoin:miter;stroke-width:0.160704;\"/>\n   </g>\n   <g id=\"patch_18\">\n    <path clip-path=\"url(#p0af9b251c1)\" d=\"M 143.97583 376.08 \nL 147.532167 376.08 \nL 147.532167 293.726592 \nL 143.97583 293.726592 \nz\n\" style=\"fill:#1f77b4;fill-opacity:0.5;stroke:#000000;stroke-linejoin:miter;stroke-width:0.160704;\"/>\n   </g>\n   <g id=\"patch_19\">\n    <path clip-path=\"url(#p0af9b251c1)\" d=\"M 147.532167 376.08 \nL 151.088505 376.08 \nL 151.088505 346.392448 \nL 147.532167 346.392448 \nz\n\" style=\"fill:#1f77b4;fill-opacity:0.5;stroke:#000000;stroke-linejoin:miter;stroke-width:0.160704;\"/>\n   </g>\n   <g id=\"patch_20\">\n    <path clip-path=\"url(#p0af9b251c1)\" d=\"M 151.088505 376.08 \nL 154.644843 376.08 \nL 154.644843 213.111331 \nL 151.088505 213.111331 \nz\n\" style=\"fill:#1f77b4;fill-opacity:0.5;stroke:#000000;stroke-linejoin:miter;stroke-width:0.160704;\"/>\n   </g>\n   <g id=\"patch_21\">\n    <path clip-path=\"url(#p0af9b251c1)\" d=\"M 154.644843 376.08 \nL 158.201181 376.08 \nL 158.201181 361.514328 \nL 154.644843 361.514328 \nz\n\" style=\"fill:#1f77b4;fill-opacity:0.5;stroke:#000000;stroke-linejoin:miter;stroke-width:0.160704;\"/>\n   </g>\n   <g id=\"patch_22\">\n    <path clip-path=\"url(#p0af9b251c1)\" d=\"M 158.201181 376.08 \nL 161.757518 376.08 \nL 161.757518 318.825436 \nL 158.201181 318.825436 \nz\n\" style=\"fill:#1f77b4;fill-opacity:0.5;stroke:#000000;stroke-linejoin:miter;stroke-width:0.160704;\"/>\n   </g>\n   <g id=\"patch_23\">\n    <path clip-path=\"url(#p0af9b251c1)\" d=\"M 161.757518 376.08 \nL 165.313856 376.08 \nL 165.313856 208.7312 \nL 161.757518 208.7312 \nz\n\" style=\"fill:#1f77b4;fill-opacity:0.5;stroke:#000000;stroke-linejoin:miter;stroke-width:0.160704;\"/>\n   </g>\n   <g id=\"patch_24\">\n    <path clip-path=\"url(#p0af9b251c1)\" d=\"M 165.313856 376.08 \nL 168.870194 376.08 \nL 168.870194 362.383401 \nL 165.313856 362.383401 \nz\n\" style=\"fill:#1f77b4;fill-opacity:0.5;stroke:#000000;stroke-linejoin:miter;stroke-width:0.160704;\"/>\n   </g>\n   <g id=\"patch_25\">\n    <path clip-path=\"url(#p0af9b251c1)\" d=\"M 168.870194 376.08 \nL 172.426532 376.08 \nL 172.426532 318.060651 \nL 168.870194 318.060651 \nz\n\" style=\"fill:#1f77b4;fill-opacity:0.5;stroke:#000000;stroke-linejoin:miter;stroke-width:0.160704;\"/>\n   </g>\n   <g id=\"patch_26\">\n    <path clip-path=\"url(#p0af9b251c1)\" d=\"M 172.426532 376.08 \nL 175.982869 376.08 \nL 175.982869 367.667368 \nL 172.426532 367.667368 \nz\n\" style=\"fill:#1f77b4;fill-opacity:0.5;stroke:#000000;stroke-linejoin:miter;stroke-width:0.160704;\"/>\n   </g>\n   <g id=\"patch_27\">\n    <path clip-path=\"url(#p0af9b251c1)\" d=\"M 175.982869 376.08 \nL 179.539207 376.08 \nL 179.539207 331.305331 \nL 175.982869 331.305331 \nz\n\" style=\"fill:#1f77b4;fill-opacity:0.5;stroke:#000000;stroke-linejoin:miter;stroke-width:0.160704;\"/>\n   </g>\n   <g id=\"patch_28\">\n    <path clip-path=\"url(#p0af9b251c1)\" d=\"M 179.539207 376.08 \nL 183.095545 376.08 \nL 183.095545 370.344115 \nL 179.539207 370.344115 \nz\n\" style=\"fill:#1f77b4;fill-opacity:0.5;stroke:#000000;stroke-linejoin:miter;stroke-width:0.160704;\"/>\n   </g>\n   <g id=\"patch_29\">\n    <path clip-path=\"url(#p0af9b251c1)\" d=\"M 183.095545 376.08 \nL 186.651883 376.08 \nL 186.651883 214.467085 \nL 183.095545 214.467085 \nz\n\" style=\"fill:#1f77b4;fill-opacity:0.5;stroke:#000000;stroke-linejoin:miter;stroke-width:0.160704;\"/>\n   </g>\n   <g id=\"patch_30\">\n    <path clip-path=\"url(#p0af9b251c1)\" d=\"M 186.651883 376.08 \nL 190.20822 376.08 \nL 190.20822 306.102199 \nL 186.651883 306.102199 \nz\n\" style=\"fill:#1f77b4;fill-opacity:0.5;stroke:#000000;stroke-linejoin:miter;stroke-width:0.160704;\"/>\n   </g>\n   <g id=\"patch_31\">\n    <path clip-path=\"url(#p0af9b251c1)\" d=\"M 190.20822 376.08 \nL 193.764558 376.08 \nL 193.764558 372.151788 \nL 190.20822 372.151788 \nz\n\" style=\"fill:#1f77b4;fill-opacity:0.5;stroke:#000000;stroke-linejoin:miter;stroke-width:0.160704;\"/>\n   </g>\n   <g id=\"patch_32\">\n    <path clip-path=\"url(#p0af9b251c1)\" d=\"M 193.764558 376.08 \nL 197.320896 376.08 \nL 197.320896 352.267385 \nL 193.764558 352.267385 \nz\n\" style=\"fill:#1f77b4;fill-opacity:0.5;stroke:#000000;stroke-linejoin:miter;stroke-width:0.160704;\"/>\n   </g>\n   <g id=\"patch_33\">\n    <path clip-path=\"url(#p0af9b251c1)\" d=\"M 197.320896 376.08 \nL 200.877234 376.08 \nL 200.877234 372.186551 \nL 197.320896 372.186551 \nz\n\" style=\"fill:#1f77b4;fill-opacity:0.5;stroke:#000000;stroke-linejoin:miter;stroke-width:0.160704;\"/>\n   </g>\n   <g id=\"patch_34\">\n    <path clip-path=\"url(#p0af9b251c1)\" d=\"M 200.877234 376.08 \nL 204.433571 376.08 \nL 204.433571 322.649359 \nL 200.877234 322.649359 \nz\n\" style=\"fill:#1f77b4;fill-opacity:0.5;stroke:#000000;stroke-linejoin:miter;stroke-width:0.160704;\"/>\n   </g>\n   <g id=\"patch_35\">\n    <path clip-path=\"url(#p0af9b251c1)\" d=\"M 204.433571 376.08 \nL 207.989909 376.08 \nL 207.989909 372.638469 \nL 204.433571 372.638469 \nz\n\" style=\"fill:#1f77b4;fill-opacity:0.5;stroke:#000000;stroke-linejoin:miter;stroke-width:0.160704;\"/>\n   </g>\n   <g id=\"patch_36\">\n    <path clip-path=\"url(#p0af9b251c1)\" d=\"M 207.989909 376.08 \nL 211.546247 376.08 \nL 211.546247 362.418164 \nL 207.989909 362.418164 \nz\n\" style=\"fill:#1f77b4;fill-opacity:0.5;stroke:#000000;stroke-linejoin:miter;stroke-width:0.160704;\"/>\n   </g>\n   <g id=\"patch_37\">\n    <path clip-path=\"url(#p0af9b251c1)\" d=\"M 211.546247 376.08 \nL 215.102585 376.08 \nL 215.102585 226.425537 \nL 211.546247 226.425537 \nz\n\" style=\"fill:#1f77b4;fill-opacity:0.5;stroke:#000000;stroke-linejoin:miter;stroke-width:0.160704;\"/>\n   </g>\n   <g id=\"patch_38\">\n    <path clip-path=\"url(#p0af9b251c1)\" d=\"M 215.102585 376.08 \nL 218.658922 376.08 \nL 218.658922 374.793771 \nL 215.102585 374.793771 \nz\n\" style=\"fill:#1f77b4;fill-opacity:0.5;stroke:#000000;stroke-linejoin:miter;stroke-width:0.160704;\"/>\n   </g>\n   <g id=\"patch_39\">\n    <path clip-path=\"url(#p0af9b251c1)\" d=\"M 218.658922 376.08 \nL 222.21526 376.08 \nL 222.21526 362.591979 \nL 218.658922 362.591979 \nz\n\" style=\"fill:#1f77b4;fill-opacity:0.5;stroke:#000000;stroke-linejoin:miter;stroke-width:0.160704;\"/>\n   </g>\n   <g id=\"patch_40\">\n    <path clip-path=\"url(#p0af9b251c1)\" d=\"M 222.21526 376.08 \nL 225.771598 376.08 \nL 225.771598 374.272327 \nL 222.21526 374.272327 \nz\n\" style=\"fill:#1f77b4;fill-opacity:0.5;stroke:#000000;stroke-linejoin:miter;stroke-width:0.160704;\"/>\n   </g>\n   <g id=\"patch_41\">\n    <path clip-path=\"url(#p0af9b251c1)\" d=\"M 225.771598 376.08 \nL 229.327936 376.08 \nL 229.327936 354.040295 \nL 225.771598 354.040295 \nz\n\" style=\"fill:#1f77b4;fill-opacity:0.5;stroke:#000000;stroke-linejoin:miter;stroke-width:0.160704;\"/>\n   </g>\n   <g id=\"patch_42\">\n    <path clip-path=\"url(#p0af9b251c1)\" d=\"M 229.327936 376.08 \nL 232.884273 376.08 \nL 232.884273 374.411379 \nL 229.327936 374.411379 \nz\n\" style=\"fill:#1f77b4;fill-opacity:0.5;stroke:#000000;stroke-linejoin:miter;stroke-width:0.160704;\"/>\n   </g>\n   <g id=\"patch_43\">\n    <path clip-path=\"url(#p0af9b251c1)\" d=\"M 232.884273 376.08 \nL 236.440611 376.08 \nL 236.440611 350.459712 \nL 232.884273 350.459712 \nz\n\" style=\"fill:#1f77b4;fill-opacity:0.5;stroke:#000000;stroke-linejoin:miter;stroke-width:0.160704;\"/>\n   </g>\n   <g id=\"patch_44\">\n    <path clip-path=\"url(#p0af9b251c1)\" d=\"M 236.440611 376.08 \nL 239.996949 376.08 \nL 239.996949 359.671892 \nL 236.440611 359.671892 \nz\n\" style=\"fill:#1f77b4;fill-opacity:0.5;stroke:#000000;stroke-linejoin:miter;stroke-width:0.160704;\"/>\n   </g>\n   <g id=\"patch_45\">\n    <path clip-path=\"url(#p0af9b251c1)\" d=\"M 239.996949 376.08 \nL 243.553287 376.08 \nL 243.553287 375.141401 \nL 239.996949 375.141401 \nz\n\" style=\"fill:#1f77b4;fill-opacity:0.5;stroke:#000000;stroke-linejoin:miter;stroke-width:0.160704;\"/>\n   </g>\n   <g id=\"patch_46\">\n    <path clip-path=\"url(#p0af9b251c1)\" d=\"M 243.553287 376.08 \nL 247.109624 376.08 \nL 247.109624 309.613256 \nL 243.553287 309.613256 \nz\n\" style=\"fill:#1f77b4;fill-opacity:0.5;stroke:#000000;stroke-linejoin:miter;stroke-width:0.160704;\"/>\n   </g>\n   <g id=\"patch_47\">\n    <path clip-path=\"url(#p0af9b251c1)\" d=\"M 247.109624 376.08 \nL 250.665962 376.08 \nL 250.665962 375.349978 \nL 247.109624 375.349978 \nz\n\" style=\"fill:#1f77b4;fill-opacity:0.5;stroke:#000000;stroke-linejoin:miter;stroke-width:0.160704;\"/>\n   </g>\n   <g id=\"patch_48\">\n    <path clip-path=\"url(#p0af9b251c1)\" d=\"M 250.665962 376.08 \nL 254.2223 376.08 \nL 254.2223 368.188812 \nL 250.665962 368.188812 \nz\n\" style=\"fill:#1f77b4;fill-opacity:0.5;stroke:#000000;stroke-linejoin:miter;stroke-width:0.160704;\"/>\n   </g>\n   <g id=\"patch_49\">\n    <path clip-path=\"url(#p0af9b251c1)\" d=\"M 254.2223 376.08 \nL 257.778638 376.08 \nL 257.778638 375.523793 \nL 254.2223 375.523793 \nz\n\" style=\"fill:#1f77b4;fill-opacity:0.5;stroke:#000000;stroke-linejoin:miter;stroke-width:0.160704;\"/>\n   </g>\n   <g id=\"patch_50\">\n    <path clip-path=\"url(#p0af9b251c1)\" d=\"M 257.778638 376.08 \nL 261.334975 376.08 \nL 261.334975 369.857433 \nL 257.778638 369.857433 \nz\n\" style=\"fill:#1f77b4;fill-opacity:0.5;stroke:#000000;stroke-linejoin:miter;stroke-width:0.160704;\"/>\n   </g>\n   <g id=\"patch_51\">\n    <path clip-path=\"url(#p0af9b251c1)\" d=\"M 261.334975 376.08 \nL 264.891313 376.08 \nL 264.891313 362.209586 \nL 261.334975 362.209586 \nz\n\" style=\"fill:#1f77b4;fill-opacity:0.5;stroke:#000000;stroke-linejoin:miter;stroke-width:0.160704;\"/>\n   </g>\n   <g id=\"patch_52\">\n    <path clip-path=\"url(#p0af9b251c1)\" d=\"M 264.891313 376.08 \nL 268.447651 376.08 \nL 268.447651 375.732371 \nL 264.891313 375.732371 \nz\n\" style=\"fill:#1f77b4;fill-opacity:0.5;stroke:#000000;stroke-linejoin:miter;stroke-width:0.160704;\"/>\n   </g>\n   <g id=\"patch_53\">\n    <path clip-path=\"url(#p0af9b251c1)\" d=\"M 268.447651 376.08 \nL 272.003989 376.08 \nL 272.003989 372.568943 \nL 268.447651 372.568943 \nz\n\" style=\"fill:#1f77b4;fill-opacity:0.5;stroke:#000000;stroke-linejoin:miter;stroke-width:0.160704;\"/>\n   </g>\n   <g id=\"patch_54\">\n    <path clip-path=\"url(#p0af9b251c1)\" d=\"M 272.003989 376.08 \nL 275.560326 376.08 \nL 275.560326 375.349978 \nL 272.003989 375.349978 \nz\n\" style=\"fill:#1f77b4;fill-opacity:0.5;stroke:#000000;stroke-linejoin:miter;stroke-width:0.160704;\"/>\n   </g>\n   <g id=\"patch_55\">\n    <path clip-path=\"url(#p0af9b251c1)\" d=\"M 275.560326 376.08 \nL 279.116664 376.08 \nL 279.116664 285.626826 \nL 275.560326 285.626826 \nz\n\" style=\"fill:#1f77b4;fill-opacity:0.5;stroke:#000000;stroke-linejoin:miter;stroke-width:0.160704;\"/>\n   </g>\n   <g id=\"patch_56\">\n    <path clip-path=\"url(#p0af9b251c1)\" d=\"M 279.116664 376.08 \nL 282.673002 376.08 \nL 282.673002 375.801896 \nL 279.116664 375.801896 \nz\n\" style=\"fill:#1f77b4;fill-opacity:0.5;stroke:#000000;stroke-linejoin:miter;stroke-width:0.160704;\"/>\n   </g>\n   <g id=\"patch_57\">\n    <path clip-path=\"url(#p0af9b251c1)\" d=\"M 282.673002 376.08 \nL 286.22934 376.08 \nL 286.22934 372.986098 \nL 282.673002 372.986098 \nz\n\" style=\"fill:#1f77b4;fill-opacity:0.5;stroke:#000000;stroke-linejoin:miter;stroke-width:0.160704;\"/>\n   </g>\n   <g id=\"patch_58\">\n    <path clip-path=\"url(#p0af9b251c1)\" d=\"M 286.22934 376.08 \nL 289.785677 376.08 \nL 289.785677 367.111161 \nL 286.22934 367.111161 \nz\n\" style=\"fill:#1f77b4;fill-opacity:0.5;stroke:#000000;stroke-linejoin:miter;stroke-width:0.160704;\"/>\n   </g>\n   <g id=\"patch_59\">\n    <path clip-path=\"url(#p0af9b251c1)\" d=\"M 289.785677 376.08 \nL 293.342015 376.08 \nL 293.342015 375.836659 \nL 289.785677 375.836659 \nz\n\" style=\"fill:#1f77b4;fill-opacity:0.5;stroke:#000000;stroke-linejoin:miter;stroke-width:0.160704;\"/>\n   </g>\n   <g id=\"patch_60\">\n    <path clip-path=\"url(#p0af9b251c1)\" d=\"M 293.342015 376.08 \nL 296.898353 376.08 \nL 296.898353 374.028986 \nL 293.342015 374.028986 \nz\n\" style=\"fill:#1f77b4;fill-opacity:0.5;stroke:#000000;stroke-linejoin:miter;stroke-width:0.160704;\"/>\n   </g>\n   <g id=\"patch_61\">\n    <path clip-path=\"url(#p0af9b251c1)\" d=\"M 296.898353 376.08 \nL 300.454691 376.08 \nL 300.454691 375.732371 \nL 296.898353 375.732371 \nz\n\" style=\"fill:#1f77b4;fill-opacity:0.5;stroke:#000000;stroke-linejoin:miter;stroke-width:0.160704;\"/>\n   </g>\n   <g id=\"patch_62\">\n    <path clip-path=\"url(#p0af9b251c1)\" d=\"M 300.454691 376.08 \nL 304.011028 376.08 \nL 304.011028 373.298965 \nL 300.454691 373.298965 \nz\n\" style=\"fill:#1f77b4;fill-opacity:0.5;stroke:#000000;stroke-linejoin:miter;stroke-width:0.160704;\"/>\n   </g>\n   <g id=\"patch_63\">\n    <path clip-path=\"url(#p0af9b251c1)\" d=\"M 304.011028 376.08 \nL 307.567366 376.08 \nL 307.567366 375.732371 \nL 304.011028 375.732371 \nz\n\" style=\"fill:#1f77b4;fill-opacity:0.5;stroke:#000000;stroke-linejoin:miter;stroke-width:0.160704;\"/>\n   </g>\n   <g id=\"patch_64\">\n    <path clip-path=\"url(#p0af9b251c1)\" d=\"M 307.567366 376.08 \nL 311.123704 376.08 \nL 311.123704 340.691326 \nL 307.567366 340.691326 \nz\n\" style=\"fill:#1f77b4;fill-opacity:0.5;stroke:#000000;stroke-linejoin:miter;stroke-width:0.160704;\"/>\n   </g>\n   <g id=\"patch_65\">\n    <path clip-path=\"url(#p0af9b251c1)\" d=\"M 311.123704 376.08 \nL 314.680042 376.08 \nL 314.680042 373.298965 \nL 311.123704 373.298965 \nz\n\" style=\"fill:#1f77b4;fill-opacity:0.5;stroke:#000000;stroke-linejoin:miter;stroke-width:0.160704;\"/>\n   </g>\n   <g id=\"patch_66\">\n    <path clip-path=\"url(#p0af9b251c1)\" d=\"M 314.680042 376.08 \nL 318.236379 376.08 \nL 318.236379 375.801896 \nL 314.680042 375.801896 \nz\n\" style=\"fill:#1f77b4;fill-opacity:0.5;stroke:#000000;stroke-linejoin:miter;stroke-width:0.160704;\"/>\n   </g>\n   <g id=\"patch_67\">\n    <path clip-path=\"url(#p0af9b251c1)\" d=\"M 318.236379 376.08 \nL 321.792717 376.08 \nL 321.792717 374.480905 \nL 318.236379 374.480905 \nz\n\" style=\"fill:#1f77b4;fill-opacity:0.5;stroke:#000000;stroke-linejoin:miter;stroke-width:0.160704;\"/>\n   </g>\n   <g id=\"patch_68\">\n    <path clip-path=\"url(#p0af9b251c1)\" d=\"M 321.792717 376.08 \nL 325.349055 376.08 \nL 325.349055 375.593319 \nL 321.792717 375.593319 \nz\n\" style=\"fill:#1f77b4;fill-opacity:0.5;stroke:#000000;stroke-linejoin:miter;stroke-width:0.160704;\"/>\n   </g>\n   <g id=\"patch_69\">\n    <path clip-path=\"url(#p0af9b251c1)\" d=\"M 325.349055 376.08 \nL 328.905393 376.08 \nL 328.905393 369.718382 \nL 325.349055 369.718382 \nz\n\" style=\"fill:#1f77b4;fill-opacity:0.5;stroke:#000000;stroke-linejoin:miter;stroke-width:0.160704;\"/>\n   </g>\n   <g id=\"patch_70\">\n    <path clip-path=\"url(#p0af9b251c1)\" d=\"M 328.905393 376.08 \nL 332.46173 376.08 \nL 332.46173 375.767134 \nL 328.905393 375.767134 \nz\n\" style=\"fill:#1f77b4;fill-opacity:0.5;stroke:#000000;stroke-linejoin:miter;stroke-width:0.160704;\"/>\n   </g>\n   <g id=\"patch_71\">\n    <path clip-path=\"url(#p0af9b251c1)\" d=\"M 332.46173 376.08 \nL 336.018068 376.08 \nL 336.018068 371.526055 \nL 332.46173 371.526055 \nz\n\" style=\"fill:#1f77b4;fill-opacity:0.5;stroke:#000000;stroke-linejoin:miter;stroke-width:0.160704;\"/>\n   </g>\n   <g id=\"patch_72\">\n    <path clip-path=\"url(#p0af9b251c1)\" d=\"M 336.018068 376.08 \nL 339.574406 376.08 \nL 339.574406 326.368994 \nL 336.018068 326.368994 \nz\n\" style=\"fill:#1f77b4;fill-opacity:0.5;stroke:#000000;stroke-linejoin:miter;stroke-width:0.160704;\"/>\n   </g>\n   <g id=\"patch_73\">\n    <path clip-path=\"url(#p0af9b251c1)\" d=\"M 339.574406 376.08 \nL 343.130744 376.08 \nL 343.130744 375.836659 \nL 339.574406 375.836659 \nz\n\" style=\"fill:#1f77b4;fill-opacity:0.5;stroke:#000000;stroke-linejoin:miter;stroke-width:0.160704;\"/>\n   </g>\n   <g id=\"patch_74\">\n    <path clip-path=\"url(#p0af9b251c1)\" d=\"M 343.130744 376.08 \nL 346.687081 376.08 \nL 346.687081 374.168038 \nL 343.130744 374.168038 \nz\n\" style=\"fill:#1f77b4;fill-opacity:0.5;stroke:#000000;stroke-linejoin:miter;stroke-width:0.160704;\"/>\n   </g>\n   <g id=\"patch_75\">\n    <path clip-path=\"url(#p0af9b251c1)\" d=\"M 346.687081 376.08 \nL 350.243419 376.08 \nL 350.243419 375.836659 \nL 346.687081 375.836659 \nz\n\" style=\"fill:#1f77b4;fill-opacity:0.5;stroke:#000000;stroke-linejoin:miter;stroke-width:0.160704;\"/>\n   </g>\n   <g id=\"patch_76\">\n    <path clip-path=\"url(#p0af9b251c1)\" d=\"M 350.243419 376.08 \nL 353.799757 376.08 \nL 353.799757 373.055624 \nL 350.243419 373.055624 \nz\n\" style=\"fill:#1f77b4;fill-opacity:0.5;stroke:#000000;stroke-linejoin:miter;stroke-width:0.160704;\"/>\n   </g>\n   <g id=\"patch_77\">\n    <path clip-path=\"url(#p0af9b251c1)\" d=\"M 353.799757 376.08 \nL 357.356095 376.08 \nL 357.356095 375.801896 \nL 353.799757 375.801896 \nz\n\" style=\"fill:#1f77b4;fill-opacity:0.5;stroke:#000000;stroke-linejoin:miter;stroke-width:0.160704;\"/>\n   </g>\n   <g id=\"patch_78\">\n    <path clip-path=\"url(#p0af9b251c1)\" d=\"M 357.356095 376.08 \nL 360.912432 376.08 \nL 360.912432 374.585194 \nL 357.356095 374.585194 \nz\n\" style=\"fill:#1f77b4;fill-opacity:0.5;stroke:#000000;stroke-linejoin:miter;stroke-width:0.160704;\"/>\n   </g>\n   <g id=\"patch_79\">\n    <path clip-path=\"url(#p0af9b251c1)\" d=\"M 360.912432 376.08 \nL 364.46877 376.08 \nL 364.46877 375.628082 \nL 360.912432 375.628082 \nz\n\" style=\"fill:#1f77b4;fill-opacity:0.5;stroke:#000000;stroke-linejoin:miter;stroke-width:0.160704;\"/>\n   </g>\n   <g id=\"patch_80\">\n    <path clip-path=\"url(#p0af9b251c1)\" d=\"M 364.46877 376.08 \nL 368.025108 376.08 \nL 368.025108 375.975711 \nL 364.46877 375.975711 \nz\n\" style=\"fill:#1f77b4;fill-opacity:0.5;stroke:#000000;stroke-linejoin:miter;stroke-width:0.160704;\"/>\n   </g>\n   <g id=\"patch_81\">\n    <path clip-path=\"url(#p0af9b251c1)\" d=\"M 368.025108 376.08 \nL 371.581446 376.08 \nL 371.581446 362.279112 \nL 368.025108 362.279112 \nz\n\" style=\"fill:#1f77b4;fill-opacity:0.5;stroke:#000000;stroke-linejoin:miter;stroke-width:0.160704;\"/>\n   </g>\n   <g id=\"patch_82\">\n    <path clip-path=\"url(#p0af9b251c1)\" d=\"M 371.581446 376.08 \nL 375.137783 376.08 \nL 375.137783 375.871422 \nL 371.581446 375.871422 \nz\n\" style=\"fill:#1f77b4;fill-opacity:0.5;stroke:#000000;stroke-linejoin:miter;stroke-width:0.160704;\"/>\n   </g>\n   <g id=\"patch_83\">\n    <path clip-path=\"url(#p0af9b251c1)\" d=\"M 375.137783 376.08 \nL 378.694121 376.08 \nL 378.694121 375.106638 \nL 375.137783 375.106638 \nz\n\" style=\"fill:#1f77b4;fill-opacity:0.5;stroke:#000000;stroke-linejoin:miter;stroke-width:0.160704;\"/>\n   </g>\n   <g id=\"patch_84\">\n    <path clip-path=\"url(#p0af9b251c1)\" d=\"M 378.694121 376.08 \nL 382.250459 376.08 \nL 382.250459 375.419504 \nL 378.694121 375.419504 \nz\n\" style=\"fill:#1f77b4;fill-opacity:0.5;stroke:#000000;stroke-linejoin:miter;stroke-width:0.160704;\"/>\n   </g>\n   <g id=\"patch_85\">\n    <path clip-path=\"url(#p0af9b251c1)\" d=\"M 382.250459 376.08 \nL 385.806797 376.08 \nL 385.806797 375.767134 \nL 382.250459 375.767134 \nz\n\" style=\"fill:#1f77b4;fill-opacity:0.5;stroke:#000000;stroke-linejoin:miter;stroke-width:0.160704;\"/>\n   </g>\n   <g id=\"patch_86\">\n    <path clip-path=\"url(#p0af9b251c1)\" d=\"M 385.806797 376.08 \nL 389.363134 376.08 \nL 389.363134 373.750883 \nL 385.806797 373.750883 \nz\n\" style=\"fill:#1f77b4;fill-opacity:0.5;stroke:#000000;stroke-linejoin:miter;stroke-width:0.160704;\"/>\n   </g>\n   <g id=\"patch_87\">\n    <path clip-path=\"url(#p0af9b251c1)\" d=\"M 389.363134 376.08 \nL 392.919472 376.08 \nL 392.919472 375.975711 \nL 389.363134 375.975711 \nz\n\" style=\"fill:#1f77b4;fill-opacity:0.5;stroke:#000000;stroke-linejoin:miter;stroke-width:0.160704;\"/>\n   </g>\n   <g id=\"patch_88\">\n    <path clip-path=\"url(#p0af9b251c1)\" d=\"M 392.919472 376.08 \nL 396.47581 376.08 \nL 396.47581 375.384741 \nL 392.919472 375.384741 \nz\n\" style=\"fill:#1f77b4;fill-opacity:0.5;stroke:#000000;stroke-linejoin:miter;stroke-width:0.160704;\"/>\n   </g>\n   <g id=\"patch_89\">\n    <path clip-path=\"url(#p0af9b251c1)\" d=\"M 396.47581 376.08 \nL 400.032148 376.08 \nL 400.032148 376.010474 \nL 396.47581 376.010474 \nz\n\" style=\"fill:#1f77b4;fill-opacity:0.5;stroke:#000000;stroke-linejoin:miter;stroke-width:0.160704;\"/>\n   </g>\n   <g id=\"patch_90\">\n    <path clip-path=\"url(#p0af9b251c1)\" d=\"M 400.032148 376.08 \nL 403.588485 376.08 \nL 403.588485 322.579833 \nL 400.032148 322.579833 \nz\n\" style=\"fill:#1f77b4;fill-opacity:0.5;stroke:#000000;stroke-linejoin:miter;stroke-width:0.160704;\"/>\n   </g>\n   <g id=\"patch_91\">\n    <path clip-path=\"url(#p0af9b251c1)\" d=\"M 403.588485 376.08 \nL 407.144823 376.08 \nL 407.144823 375.315215 \nL 403.588485 375.315215 \nz\n\" style=\"fill:#1f77b4;fill-opacity:0.5;stroke:#000000;stroke-linejoin:miter;stroke-width:0.160704;\"/>\n   </g>\n   <g id=\"patch_92\">\n    <path clip-path=\"url(#p0af9b251c1)\" d=\"M 407.144823 376.08 \nL 410.701161 376.08 \nL 410.701161 376.045237 \nL 407.144823 376.045237 \nz\n\" style=\"fill:#1f77b4;fill-opacity:0.5;stroke:#000000;stroke-linejoin:miter;stroke-width:0.160704;\"/>\n   </g>\n   <g id=\"patch_93\">\n    <path clip-path=\"url(#p0af9b251c1)\" d=\"M 410.701161 376.08 \nL 414.257499 376.08 \nL 414.257499 374.028986 \nL 410.701161 374.028986 \nz\n\" style=\"fill:#1f77b4;fill-opacity:0.5;stroke:#000000;stroke-linejoin:miter;stroke-width:0.160704;\"/>\n   </g>\n   <g id=\"patch_94\">\n    <path clip-path=\"url(#p0af9b251c1)\" d=\"M 414.257499 376.08 \nL 417.813836 376.08 \nL 417.813836 375.975711 \nL 414.257499 375.975711 \nz\n\" style=\"fill:#1f77b4;fill-opacity:0.5;stroke:#000000;stroke-linejoin:miter;stroke-width:0.160704;\"/>\n   </g>\n   <g id=\"patch_95\">\n    <path clip-path=\"url(#p0af9b251c1)\" d=\"M 417.813836 376.08 \nL 421.370174 376.08 \nL 421.370174 375.141401 \nL 417.813836 375.141401 \nz\n\" style=\"fill:#1f77b4;fill-opacity:0.5;stroke:#000000;stroke-linejoin:miter;stroke-width:0.160704;\"/>\n   </g>\n   <g id=\"patch_96\">\n    <path clip-path=\"url(#p0af9b251c1)\" d=\"M 421.370174 376.08 \nL 424.926512 376.08 \nL 424.926512 375.975711 \nL 421.370174 375.975711 \nz\n\" style=\"fill:#1f77b4;fill-opacity:0.5;stroke:#000000;stroke-linejoin:miter;stroke-width:0.160704;\"/>\n   </g>\n   <g id=\"patch_97\">\n    <path clip-path=\"url(#p0af9b251c1)\" d=\"M 424.926512 376.08 \nL 428.48285 376.08 \nL 428.48285 375.384741 \nL 424.926512 375.384741 \nz\n\" style=\"fill:#1f77b4;fill-opacity:0.5;stroke:#000000;stroke-linejoin:miter;stroke-width:0.160704;\"/>\n   </g>\n   <g id=\"patch_98\">\n    <path clip-path=\"url(#p0af9b251c1)\" d=\"M 428.48285 376.08 \nL 432.039187 376.08 \nL 432.039187 370.448403 \nL 428.48285 370.448403 \nz\n\" style=\"fill:#1f77b4;fill-opacity:0.5;stroke:#000000;stroke-linejoin:miter;stroke-width:0.160704;\"/>\n   </g>\n   <g id=\"patch_99\">\n    <path clip-path=\"url(#p0af9b251c1)\" d=\"M 432.039187 376.08 \nL 435.595525 376.08 \nL 435.595525 375.836659 \nL 432.039187 375.836659 \nz\n\" style=\"fill:#1f77b4;fill-opacity:0.5;stroke:#000000;stroke-linejoin:miter;stroke-width:0.160704;\"/>\n   </g>\n   <g id=\"patch_100\">\n    <path clip-path=\"url(#p0af9b251c1)\" d=\"M 435.595525 376.08 \nL 439.151863 376.08 \nL 439.151863 374.967586 \nL 435.595525 374.967586 \nz\n\" style=\"fill:#1f77b4;fill-opacity:0.5;stroke:#000000;stroke-linejoin:miter;stroke-width:0.160704;\"/>\n   </g>\n   <g id=\"patch_101\">\n    <path clip-path=\"url(#p0af9b251c1)\" d=\"M 439.151863 376.08 \nL 442.708201 376.08 \nL 442.708201 376.010474 \nL 439.151863 376.010474 \nz\n\" style=\"fill:#1f77b4;fill-opacity:0.5;stroke:#000000;stroke-linejoin:miter;stroke-width:0.160704;\"/>\n   </g>\n   <g id=\"patch_102\">\n    <path clip-path=\"url(#p0af9b251c1)\" d=\"M 442.708201 376.08 \nL 446.264538 376.08 \nL 446.264538 375.628082 \nL 442.708201 375.628082 \nz\n\" style=\"fill:#1f77b4;fill-opacity:0.5;stroke:#000000;stroke-linejoin:miter;stroke-width:0.160704;\"/>\n   </g>\n   <g id=\"patch_103\">\n    <path clip-path=\"url(#p0af9b251c1)\" d=\"M 446.264538 376.08 \nL 449.820876 376.08 \nL 449.820876 376.08 \nL 446.264538 376.08 \nz\n\" style=\"fill:#1f77b4;fill-opacity:0.5;stroke:#000000;stroke-linejoin:miter;stroke-width:0.160704;\"/>\n   </g>\n   <g id=\"patch_104\">\n    <path clip-path=\"url(#p0af9b251c1)\" d=\"M 449.820876 376.08 \nL 453.377214 376.08 \nL 453.377214 375.002349 \nL 449.820876 375.002349 \nz\n\" style=\"fill:#1f77b4;fill-opacity:0.5;stroke:#000000;stroke-linejoin:miter;stroke-width:0.160704;\"/>\n   </g>\n   <g id=\"patch_105\">\n    <path clip-path=\"url(#p0af9b251c1)\" d=\"M 453.377214 376.08 \nL 456.933552 376.08 \nL 456.933552 375.593319 \nL 453.377214 375.593319 \nz\n\" style=\"fill:#1f77b4;fill-opacity:0.5;stroke:#000000;stroke-linejoin:miter;stroke-width:0.160704;\"/>\n   </g>\n   <g id=\"patch_106\">\n    <path clip-path=\"url(#p0af9b251c1)\" d=\"M 456.933552 376.08 \nL 460.489889 376.08 \nL 460.489889 376.045237 \nL 456.933552 376.045237 \nz\n\" style=\"fill:#1f77b4;fill-opacity:0.5;stroke:#000000;stroke-linejoin:miter;stroke-width:0.160704;\"/>\n   </g>\n   <g id=\"patch_107\">\n    <path clip-path=\"url(#p0af9b251c1)\" d=\"M 460.489889 376.08 \nL 464.046227 376.08 \nL 464.046227 352.302148 \nL 460.489889 352.302148 \nz\n\" style=\"fill:#1f77b4;fill-opacity:0.5;stroke:#000000;stroke-linejoin:miter;stroke-width:0.160704;\"/>\n   </g>\n   <g id=\"patch_108\">\n    <path clip-path=\"url(#p0af9b251c1)\" d=\"M 464.046227 376.08 \nL 467.602565 376.08 \nL 467.602565 376.08 \nL 464.046227 376.08 \nz\n\" style=\"fill:#1f77b4;fill-opacity:0.5;stroke:#000000;stroke-linejoin:miter;stroke-width:0.160704;\"/>\n   </g>\n   <g id=\"patch_109\">\n    <path clip-path=\"url(#p0af9b251c1)\" d=\"M 467.602565 376.08 \nL 471.158903 376.08 \nL 471.158903 375.836659 \nL 467.602565 375.836659 \nz\n\" style=\"fill:#1f77b4;fill-opacity:0.5;stroke:#000000;stroke-linejoin:miter;stroke-width:0.160704;\"/>\n   </g>\n   <g id=\"patch_110\">\n    <path clip-path=\"url(#p0af9b251c1)\" d=\"M 471.158903 376.08 \nL 474.71524 376.08 \nL 474.71524 376.045237 \nL 471.158903 376.045237 \nz\n\" style=\"fill:#1f77b4;fill-opacity:0.5;stroke:#000000;stroke-linejoin:miter;stroke-width:0.160704;\"/>\n   </g>\n   <g id=\"patch_111\">\n    <path clip-path=\"url(#p0af9b251c1)\" d=\"M 474.71524 376.08 \nL 478.271578 376.08 \nL 478.271578 375.48903 \nL 474.71524 375.48903 \nz\n\" style=\"fill:#1f77b4;fill-opacity:0.5;stroke:#000000;stroke-linejoin:miter;stroke-width:0.160704;\"/>\n   </g>\n   <g id=\"patch_112\">\n    <path clip-path=\"url(#p0af9b251c1)\" d=\"M 478.271578 376.08 \nL 481.827916 376.08 \nL 481.827916 375.593319 \nL 478.271578 375.593319 \nz\n\" style=\"fill:#1f77b4;fill-opacity:0.5;stroke:#000000;stroke-linejoin:miter;stroke-width:0.160704;\"/>\n   </g>\n   <g id=\"patch_113\">\n    <path clip-path=\"url(#p0af9b251c1)\" d=\"M 481.827916 376.08 \nL 485.384254 376.08 \nL 485.384254 376.010474 \nL 481.827916 376.010474 \nz\n\" style=\"fill:#1f77b4;fill-opacity:0.5;stroke:#000000;stroke-linejoin:miter;stroke-width:0.160704;\"/>\n   </g>\n   <g id=\"patch_114\">\n    <path clip-path=\"url(#p0af9b251c1)\" d=\"M 485.384254 376.08 \nL 488.940591 376.08 \nL 488.940591 375.871422 \nL 485.384254 375.871422 \nz\n\" style=\"fill:#1f77b4;fill-opacity:0.5;stroke:#000000;stroke-linejoin:miter;stroke-width:0.160704;\"/>\n   </g>\n   <g id=\"patch_115\">\n    <path clip-path=\"url(#p0af9b251c1)\" d=\"M 488.940591 376.08 \nL 492.496929 376.08 \nL 492.496929 376.08 \nL 488.940591 376.08 \nz\n\" style=\"fill:#1f77b4;fill-opacity:0.5;stroke:#000000;stroke-linejoin:miter;stroke-width:0.160704;\"/>\n   </g>\n   <g id=\"patch_116\">\n    <path clip-path=\"url(#p0af9b251c1)\" d=\"M 492.496929 376.08 \nL 496.053267 376.08 \nL 496.053267 372.290839 \nL 492.496929 372.290839 \nz\n\" style=\"fill:#1f77b4;fill-opacity:0.5;stroke:#000000;stroke-linejoin:miter;stroke-width:0.160704;\"/>\n   </g>\n   <g id=\"patch_117\">\n    <path clip-path=\"url(#p0af9b251c1)\" d=\"M 496.053267 376.08 \nL 499.609605 376.08 \nL 499.609605 376.08 \nL 496.053267 376.08 \nz\n\" style=\"fill:#1f77b4;fill-opacity:0.5;stroke:#000000;stroke-linejoin:miter;stroke-width:0.160704;\"/>\n   </g>\n   <g id=\"patch_118\">\n    <path clip-path=\"url(#p0af9b251c1)\" d=\"M 499.609605 376.08 \nL 503.165942 376.08 \nL 503.165942 375.940948 \nL 499.609605 375.940948 \nz\n\" style=\"fill:#1f77b4;fill-opacity:0.5;stroke:#000000;stroke-linejoin:miter;stroke-width:0.160704;\"/>\n   </g>\n   <g id=\"patch_119\">\n    <path clip-path=\"url(#p0af9b251c1)\" d=\"M 503.165942 376.08 \nL 506.72228 376.08 \nL 506.72228 375.871422 \nL 503.165942 375.871422 \nz\n\" style=\"fill:#1f77b4;fill-opacity:0.5;stroke:#000000;stroke-linejoin:miter;stroke-width:0.160704;\"/>\n   </g>\n   <g id=\"patch_120\">\n    <path clip-path=\"url(#p0af9b251c1)\" d=\"M 506.72228 376.08 \nL 510.278618 376.08 \nL 510.278618 376.010474 \nL 506.72228 376.010474 \nz\n\" style=\"fill:#1f77b4;fill-opacity:0.5;stroke:#000000;stroke-linejoin:miter;stroke-width:0.160704;\"/>\n   </g>\n   <g id=\"patch_121\">\n    <path clip-path=\"url(#p0af9b251c1)\" d=\"M 510.278618 376.08 \nL 513.834956 376.08 \nL 513.834956 375.245689 \nL 510.278618 375.245689 \nz\n\" style=\"fill:#1f77b4;fill-opacity:0.5;stroke:#000000;stroke-linejoin:miter;stroke-width:0.160704;\"/>\n   </g>\n   <g id=\"patch_122\">\n    <path clip-path=\"url(#p0af9b251c1)\" d=\"M 513.834956 376.08 \nL 517.391293 376.08 \nL 517.391293 376.045237 \nL 513.834956 376.045237 \nz\n\" style=\"fill:#1f77b4;fill-opacity:0.5;stroke:#000000;stroke-linejoin:miter;stroke-width:0.160704;\"/>\n   </g>\n   <g id=\"patch_123\">\n    <path clip-path=\"url(#p0af9b251c1)\" d=\"M 517.391293 376.08 \nL 520.947631 376.08 \nL 520.947631 375.836659 \nL 517.391293 375.836659 \nz\n\" style=\"fill:#1f77b4;fill-opacity:0.5;stroke:#000000;stroke-linejoin:miter;stroke-width:0.160704;\"/>\n   </g>\n   <g id=\"patch_124\">\n    <path clip-path=\"url(#p0af9b251c1)\" d=\"M 520.947631 376.08 \nL 524.503969 376.08 \nL 524.503969 376.08 \nL 520.947631 376.08 \nz\n\" style=\"fill:#1f77b4;fill-opacity:0.5;stroke:#000000;stroke-linejoin:miter;stroke-width:0.160704;\"/>\n   </g>\n   <g id=\"patch_125\">\n    <path clip-path=\"url(#p0af9b251c1)\" d=\"M 524.503969 376.08 \nL 528.060307 376.08 \nL 528.060307 359.393788 \nL 524.503969 359.393788 \nz\n\" style=\"fill:#1f77b4;fill-opacity:0.5;stroke:#000000;stroke-linejoin:miter;stroke-width:0.160704;\"/>\n   </g>\n   <g id=\"patch_126\">\n    <path clip-path=\"url(#p0af9b251c1)\" d=\"M 528.060307 376.08 \nL 531.616644 376.08 \nL 531.616644 375.836659 \nL 528.060307 375.836659 \nz\n\" style=\"fill:#1f77b4;fill-opacity:0.5;stroke:#000000;stroke-linejoin:miter;stroke-width:0.160704;\"/>\n   </g>\n   <g id=\"patch_127\">\n    <path clip-path=\"url(#p0af9b251c1)\" d=\"M 531.616644 376.08 \nL 535.172982 376.08 \nL 535.172982 376.045237 \nL 531.616644 376.045237 \nz\n\" style=\"fill:#1f77b4;fill-opacity:0.5;stroke:#000000;stroke-linejoin:miter;stroke-width:0.160704;\"/>\n   </g>\n   <g id=\"patch_128\">\n    <path clip-path=\"url(#p0af9b251c1)\" d=\"M 535.172982 376.08 \nL 538.72932 376.08 \nL 538.72932 375.523793 \nL 535.172982 375.523793 \nz\n\" style=\"fill:#1f77b4;fill-opacity:0.5;stroke:#000000;stroke-linejoin:miter;stroke-width:0.160704;\"/>\n   </g>\n   <g id=\"patch_129\">\n    <path clip-path=\"url(#p0af9b251c1)\" d=\"M 538.72932 376.08 \nL 542.285658 376.08 \nL 542.285658 376.010474 \nL 538.72932 376.010474 \nz\n\" style=\"fill:#1f77b4;fill-opacity:0.5;stroke:#000000;stroke-linejoin:miter;stroke-width:0.160704;\"/>\n   </g>\n   <g id=\"patch_130\">\n    <path clip-path=\"url(#p0af9b251c1)\" d=\"M 542.285658 376.08 \nL 545.841995 376.08 \nL 545.841995 375.836659 \nL 542.285658 375.836659 \nz\n\" style=\"fill:#1f77b4;fill-opacity:0.5;stroke:#000000;stroke-linejoin:miter;stroke-width:0.160704;\"/>\n   </g>\n   <g id=\"patch_131\">\n    <path clip-path=\"url(#p0af9b251c1)\" d=\"M 545.841995 376.08 \nL 549.398333 376.08 \nL 549.398333 375.975711 \nL 545.841995 375.975711 \nz\n\" style=\"fill:#1f77b4;fill-opacity:0.5;stroke:#000000;stroke-linejoin:miter;stroke-width:0.160704;\"/>\n   </g>\n   <g id=\"patch_132\">\n    <path clip-path=\"url(#p0af9b251c1)\" d=\"M 549.398333 376.08 \nL 552.954671 376.08 \nL 552.954671 376.010474 \nL 549.398333 376.010474 \nz\n\" style=\"fill:#1f77b4;fill-opacity:0.5;stroke:#000000;stroke-linejoin:miter;stroke-width:0.160704;\"/>\n   </g>\n   <g id=\"patch_133\">\n    <path clip-path=\"url(#p0af9b251c1)\" d=\"M 552.954671 376.08 \nL 556.511009 376.08 \nL 556.511009 372.951335 \nL 552.954671 372.951335 \nz\n\" style=\"fill:#1f77b4;fill-opacity:0.5;stroke:#000000;stroke-linejoin:miter;stroke-width:0.160704;\"/>\n   </g>\n   <g id=\"patch_134\">\n    <path clip-path=\"url(#p0af9b251c1)\" d=\"M 556.511009 376.08 \nL 560.067346 376.08 \nL 560.067346 376.08 \nL 556.511009 376.08 \nz\n\" style=\"fill:#1f77b4;fill-opacity:0.5;stroke:#000000;stroke-linejoin:miter;stroke-width:0.160704;\"/>\n   </g>\n   <g id=\"patch_135\">\n    <path clip-path=\"url(#p0af9b251c1)\" d=\"M 560.067346 376.08 \nL 563.623684 376.08 \nL 563.623684 375.871422 \nL 560.067346 375.871422 \nz\n\" style=\"fill:#1f77b4;fill-opacity:0.5;stroke:#000000;stroke-linejoin:miter;stroke-width:0.160704;\"/>\n   </g>\n   <g id=\"patch_136\">\n    <path clip-path=\"url(#p0af9b251c1)\" d=\"M 563.623684 376.08 \nL 567.180022 376.08 \nL 567.180022 376.08 \nL 563.623684 376.08 \nz\n\" style=\"fill:#1f77b4;fill-opacity:0.5;stroke:#000000;stroke-linejoin:miter;stroke-width:0.160704;\"/>\n   </g>\n   <g id=\"patch_137\">\n    <path clip-path=\"url(#p0af9b251c1)\" d=\"M 567.180022 376.08 \nL 570.736359 376.08 \nL 570.736359 375.940948 \nL 567.180022 375.940948 \nz\n\" style=\"fill:#1f77b4;fill-opacity:0.5;stroke:#000000;stroke-linejoin:miter;stroke-width:0.160704;\"/>\n   </g>\n   <g id=\"patch_138\">\n    <path clip-path=\"url(#p0af9b251c1)\" d=\"M 570.736359 376.08 \nL 574.292697 376.08 \nL 574.292697 376.08 \nL 570.736359 376.08 \nz\n\" style=\"fill:#1f77b4;fill-opacity:0.5;stroke:#000000;stroke-linejoin:miter;stroke-width:0.160704;\"/>\n   </g>\n   <g id=\"patch_139\">\n    <path clip-path=\"url(#p0af9b251c1)\" d=\"M 574.292697 376.08 \nL 577.849035 376.08 \nL 577.849035 375.48903 \nL 574.292697 375.48903 \nz\n\" style=\"fill:#1f77b4;fill-opacity:0.5;stroke:#000000;stroke-linejoin:miter;stroke-width:0.160704;\"/>\n   </g>\n   <g id=\"patch_140\">\n    <path clip-path=\"url(#p0af9b251c1)\" d=\"M 577.849035 376.08 \nL 581.405373 376.08 \nL 581.405373 374.237564 \nL 577.849035 374.237564 \nz\n\" style=\"fill:#1f77b4;fill-opacity:0.5;stroke:#000000;stroke-linejoin:miter;stroke-width:0.160704;\"/>\n   </g>\n   <g id=\"patch_141\">\n    <path clip-path=\"url(#p0af9b251c1)\" d=\"M 581.405373 376.08 \nL 584.96171 376.08 \nL 584.96171 376.08 \nL 581.405373 376.08 \nz\n\" style=\"fill:#1f77b4;fill-opacity:0.5;stroke:#000000;stroke-linejoin:miter;stroke-width:0.160704;\"/>\n   </g>\n   <g id=\"patch_142\">\n    <path clip-path=\"url(#p0af9b251c1)\" d=\"M 584.96171 376.08 \nL 588.518048 376.08 \nL 588.518048 359.219973 \nL 584.96171 359.219973 \nz\n\" style=\"fill:#1f77b4;fill-opacity:0.5;stroke:#000000;stroke-linejoin:miter;stroke-width:0.160704;\"/>\n   </g>\n   <g id=\"patch_143\">\n    <path clip-path=\"url(#p0af9b251c1)\" d=\"M 588.518048 376.08 \nL 592.074386 376.08 \nL 592.074386 376.045237 \nL 588.518048 376.045237 \nz\n\" style=\"fill:#1f77b4;fill-opacity:0.5;stroke:#000000;stroke-linejoin:miter;stroke-width:0.160704;\"/>\n   </g>\n   <g id=\"patch_144\">\n    <path clip-path=\"url(#p0af9b251c1)\" d=\"M 592.074386 376.08 \nL 595.630724 376.08 \nL 595.630724 375.871422 \nL 592.074386 375.871422 \nz\n\" style=\"fill:#1f77b4;fill-opacity:0.5;stroke:#000000;stroke-linejoin:miter;stroke-width:0.160704;\"/>\n   </g>\n   <g id=\"patch_145\">\n    <path clip-path=\"url(#p0af9b251c1)\" d=\"M 595.630724 376.08 \nL 599.187061 376.08 \nL 599.187061 376.045237 \nL 595.630724 376.045237 \nz\n\" style=\"fill:#1f77b4;fill-opacity:0.5;stroke:#000000;stroke-linejoin:miter;stroke-width:0.160704;\"/>\n   </g>\n   <g id=\"patch_146\">\n    <path clip-path=\"url(#p0af9b251c1)\" d=\"M 599.187061 376.08 \nL 602.743399 376.08 \nL 602.743399 375.906185 \nL 599.187061 375.906185 \nz\n\" style=\"fill:#1f77b4;fill-opacity:0.5;stroke:#000000;stroke-linejoin:miter;stroke-width:0.160704;\"/>\n   </g>\n   <g id=\"patch_147\">\n    <path clip-path=\"url(#p0af9b251c1)\" d=\"M 602.743399 376.08 \nL 606.299737 376.08 \nL 606.299737 375.906185 \nL 602.743399 375.906185 \nz\n\" style=\"fill:#1f77b4;fill-opacity:0.5;stroke:#000000;stroke-linejoin:miter;stroke-width:0.160704;\"/>\n   </g>\n   <g id=\"patch_148\">\n    <path clip-path=\"url(#p0af9b251c1)\" d=\"M 606.299737 376.08 \nL 609.856075 376.08 \nL 609.856075 376.045237 \nL 606.299737 376.045237 \nz\n\" style=\"fill:#1f77b4;fill-opacity:0.5;stroke:#000000;stroke-linejoin:miter;stroke-width:0.160704;\"/>\n   </g>\n   <g id=\"patch_149\">\n    <path clip-path=\"url(#p0af9b251c1)\" d=\"M 609.856075 376.08 \nL 613.412412 376.08 \nL 613.412412 375.940948 \nL 609.856075 375.940948 \nz\n\" style=\"fill:#1f77b4;fill-opacity:0.5;stroke:#000000;stroke-linejoin:miter;stroke-width:0.160704;\"/>\n   </g>\n   <g id=\"patch_150\">\n    <path clip-path=\"url(#p0af9b251c1)\" d=\"M 613.412412 376.08 \nL 616.96875 376.08 \nL 616.96875 376.08 \nL 613.412412 376.08 \nz\n\" style=\"fill:#1f77b4;fill-opacity:0.5;stroke:#000000;stroke-linejoin:miter;stroke-width:0.160704;\"/>\n   </g>\n   <g id=\"patch_151\">\n    <path clip-path=\"url(#p0af9b251c1)\" d=\"M 616.96875 376.08 \nL 620.525088 376.08 \nL 620.525088 375.037112 \nL 616.96875 375.037112 \nz\n\" style=\"fill:#1f77b4;fill-opacity:0.5;stroke:#000000;stroke-linejoin:miter;stroke-width:0.160704;\"/>\n   </g>\n   <g id=\"patch_152\">\n    <path clip-path=\"url(#p0af9b251c1)\" d=\"M 620.525088 376.08 \nL 624.081426 376.08 \nL 624.081426 376.045237 \nL 620.525088 376.045237 \nz\n\" style=\"fill:#1f77b4;fill-opacity:0.5;stroke:#000000;stroke-linejoin:miter;stroke-width:0.160704;\"/>\n   </g>\n   <g id=\"patch_153\">\n    <path clip-path=\"url(#p0af9b251c1)\" d=\"M 624.081426 376.08 \nL 627.637763 376.08 \nL 627.637763 375.940948 \nL 624.081426 375.940948 \nz\n\" style=\"fill:#1f77b4;fill-opacity:0.5;stroke:#000000;stroke-linejoin:miter;stroke-width:0.160704;\"/>\n   </g>\n   <g id=\"patch_154\">\n    <path clip-path=\"url(#p0af9b251c1)\" d=\"M 627.637763 376.08 \nL 631.194101 376.08 \nL 631.194101 375.801896 \nL 627.637763 375.801896 \nz\n\" style=\"fill:#1f77b4;fill-opacity:0.5;stroke:#000000;stroke-linejoin:miter;stroke-width:0.160704;\"/>\n   </g>\n   <g id=\"patch_155\">\n    <path clip-path=\"url(#p0af9b251c1)\" d=\"M 631.194101 376.08 \nL 634.750439 376.08 \nL 634.750439 376.045237 \nL 631.194101 376.045237 \nz\n\" style=\"fill:#1f77b4;fill-opacity:0.5;stroke:#000000;stroke-linejoin:miter;stroke-width:0.160704;\"/>\n   </g>\n   <g id=\"patch_156\">\n    <path clip-path=\"url(#p0af9b251c1)\" d=\"M 634.750439 376.08 \nL 638.306777 376.08 \nL 638.306777 376.010474 \nL 634.750439 376.010474 \nz\n\" style=\"fill:#1f77b4;fill-opacity:0.5;stroke:#000000;stroke-linejoin:miter;stroke-width:0.160704;\"/>\n   </g>\n   <g id=\"patch_157\">\n    <path clip-path=\"url(#p0af9b251c1)\" d=\"M 638.306777 376.08 \nL 641.863114 376.08 \nL 641.863114 376.045237 \nL 638.306777 376.045237 \nz\n\" style=\"fill:#1f77b4;fill-opacity:0.5;stroke:#000000;stroke-linejoin:miter;stroke-width:0.160704;\"/>\n   </g>\n   <g id=\"patch_158\">\n    <path clip-path=\"url(#p0af9b251c1)\" d=\"M 641.863114 376.08 \nL 645.419452 376.08 \nL 645.419452 375.906185 \nL 641.863114 375.906185 \nz\n\" style=\"fill:#1f77b4;fill-opacity:0.5;stroke:#000000;stroke-linejoin:miter;stroke-width:0.160704;\"/>\n   </g>\n   <g id=\"patch_159\">\n    <path clip-path=\"url(#p0af9b251c1)\" d=\"M 645.419452 376.08 \nL 648.97579 376.08 \nL 648.97579 370.900322 \nL 645.419452 370.900322 \nz\n\" style=\"fill:#1f77b4;fill-opacity:0.5;stroke:#000000;stroke-linejoin:miter;stroke-width:0.160704;\"/>\n   </g>\n   <g id=\"patch_160\">\n    <path clip-path=\"url(#p0af9b251c1)\" d=\"M 648.97579 376.08 \nL 652.532128 376.08 \nL 652.532128 376.08 \nL 648.97579 376.08 \nz\n\" style=\"fill:#1f77b4;fill-opacity:0.5;stroke:#000000;stroke-linejoin:miter;stroke-width:0.160704;\"/>\n   </g>\n   <g id=\"patch_161\">\n    <path clip-path=\"url(#p0af9b251c1)\" d=\"M 652.532128 376.08 \nL 656.088465 376.08 \nL 656.088465 375.975711 \nL 652.532128 375.975711 \nz\n\" style=\"fill:#1f77b4;fill-opacity:0.5;stroke:#000000;stroke-linejoin:miter;stroke-width:0.160704;\"/>\n   </g>\n   <g id=\"patch_162\">\n    <path clip-path=\"url(#p0af9b251c1)\" d=\"M 656.088465 376.08 \nL 659.644803 376.08 \nL 659.644803 376.045237 \nL 656.088465 376.045237 \nz\n\" style=\"fill:#1f77b4;fill-opacity:0.5;stroke:#000000;stroke-linejoin:miter;stroke-width:0.160704;\"/>\n   </g>\n   <g id=\"patch_163\">\n    <path clip-path=\"url(#p0af9b251c1)\" d=\"M 659.644803 376.08 \nL 663.201141 376.08 \nL 663.201141 375.975711 \nL 659.644803 375.975711 \nz\n\" style=\"fill:#1f77b4;fill-opacity:0.5;stroke:#000000;stroke-linejoin:miter;stroke-width:0.160704;\"/>\n   </g>\n   <g id=\"patch_164\">\n    <path clip-path=\"url(#p0af9b251c1)\" d=\"M 663.201141 376.08 \nL 666.757479 376.08 \nL 666.757479 376.08 \nL 663.201141 376.08 \nz\n\" style=\"fill:#1f77b4;fill-opacity:0.5;stroke:#000000;stroke-linejoin:miter;stroke-width:0.160704;\"/>\n   </g>\n   <g id=\"patch_165\">\n    <path clip-path=\"url(#p0af9b251c1)\" d=\"M 666.757479 376.08 \nL 670.313816 376.08 \nL 670.313816 376.045237 \nL 666.757479 376.045237 \nz\n\" style=\"fill:#1f77b4;fill-opacity:0.5;stroke:#000000;stroke-linejoin:miter;stroke-width:0.160704;\"/>\n   </g>\n   <g id=\"patch_166\">\n    <path clip-path=\"url(#p0af9b251c1)\" d=\"M 670.313816 376.08 \nL 673.870154 376.08 \nL 673.870154 375.975711 \nL 670.313816 375.975711 \nz\n\" style=\"fill:#1f77b4;fill-opacity:0.5;stroke:#000000;stroke-linejoin:miter;stroke-width:0.160704;\"/>\n   </g>\n   <g id=\"patch_167\">\n    <path clip-path=\"url(#p0af9b251c1)\" d=\"M 673.870154 376.08 \nL 677.426492 376.08 \nL 677.426492 376.08 \nL 673.870154 376.08 \nz\n\" style=\"fill:#1f77b4;fill-opacity:0.5;stroke:#000000;stroke-linejoin:miter;stroke-width:0.160704;\"/>\n   </g>\n   <g id=\"patch_168\">\n    <path clip-path=\"url(#p0af9b251c1)\" d=\"M 677.426492 376.08 \nL 680.98283 376.08 \nL 680.98283 375.48903 \nL 677.426492 375.48903 \nz\n\" style=\"fill:#1f77b4;fill-opacity:0.5;stroke:#000000;stroke-linejoin:miter;stroke-width:0.160704;\"/>\n   </g>\n   <g id=\"patch_169\">\n    <path clip-path=\"url(#p0af9b251c1)\" d=\"M 680.98283 376.08 \nL 684.539167 376.08 \nL 684.539167 376.045237 \nL 680.98283 376.045237 \nz\n\" style=\"fill:#1f77b4;fill-opacity:0.5;stroke:#000000;stroke-linejoin:miter;stroke-width:0.160704;\"/>\n   </g>\n   <g id=\"patch_170\">\n    <path clip-path=\"url(#p0af9b251c1)\" d=\"M 684.539167 376.08 \nL 688.095505 376.08 \nL 688.095505 375.836659 \nL 684.539167 375.836659 \nz\n\" style=\"fill:#1f77b4;fill-opacity:0.5;stroke:#000000;stroke-linejoin:miter;stroke-width:0.160704;\"/>\n   </g>\n   <g id=\"patch_171\">\n    <path clip-path=\"url(#p0af9b251c1)\" d=\"M 688.095505 376.08 \nL 691.651843 376.08 \nL 691.651843 376.08 \nL 688.095505 376.08 \nz\n\" style=\"fill:#1f77b4;fill-opacity:0.5;stroke:#000000;stroke-linejoin:miter;stroke-width:0.160704;\"/>\n   </g>\n   <g id=\"patch_172\">\n    <path clip-path=\"url(#p0af9b251c1)\" d=\"M 691.651843 376.08 \nL 695.208181 376.08 \nL 695.208181 376.010474 \nL 691.651843 376.010474 \nz\n\" style=\"fill:#1f77b4;fill-opacity:0.5;stroke:#000000;stroke-linejoin:miter;stroke-width:0.160704;\"/>\n   </g>\n   <g id=\"patch_173\">\n    <path clip-path=\"url(#p0af9b251c1)\" d=\"M 695.208181 376.08 \nL 698.764518 376.08 \nL 698.764518 375.871422 \nL 695.208181 375.871422 \nz\n\" style=\"fill:#1f77b4;fill-opacity:0.5;stroke:#000000;stroke-linejoin:miter;stroke-width:0.160704;\"/>\n   </g>\n   <g id=\"patch_174\">\n    <path clip-path=\"url(#p0af9b251c1)\" d=\"M 698.764518 376.08 \nL 702.320856 376.08 \nL 702.320856 376.08 \nL 698.764518 376.08 \nz\n\" style=\"fill:#1f77b4;fill-opacity:0.5;stroke:#000000;stroke-linejoin:miter;stroke-width:0.160704;\"/>\n   </g>\n   <g id=\"patch_175\">\n    <path clip-path=\"url(#p0af9b251c1)\" d=\"M 702.320856 376.08 \nL 705.877194 376.08 \nL 705.877194 376.045237 \nL 702.320856 376.045237 \nz\n\" style=\"fill:#1f77b4;fill-opacity:0.5;stroke:#000000;stroke-linejoin:miter;stroke-width:0.160704;\"/>\n   </g>\n   <g id=\"patch_176\">\n    <path clip-path=\"url(#p0af9b251c1)\" d=\"M 705.877194 376.08 \nL 709.433532 376.08 \nL 709.433532 376.045237 \nL 705.877194 376.045237 \nz\n\" style=\"fill:#1f77b4;fill-opacity:0.5;stroke:#000000;stroke-linejoin:miter;stroke-width:0.160704;\"/>\n   </g>\n   <g id=\"matplotlib.axis_1\">\n    <g id=\"xtick_1\">\n     <g id=\"line2d_1\">\n      <defs>\n       <path d=\"M 0 0 \nL 0 3.5 \n\" id=\"m8dc735d03b\" style=\"stroke:#000000;stroke-width:0.8;\"/>\n      </defs>\n      <g>\n       <use style=\"stroke:#000000;stroke-width:0.8;\" x=\"90.630763\" xlink:href=\"#m8dc735d03b\" y=\"376.08\"/>\n      </g>\n     </g>\n     <g id=\"text_1\">\n      <!-- 0 -->\n      <g transform=\"translate(87.449513 390.678437)scale(0.1 -0.1)\">\n       <defs>\n        <path d=\"M 2034 4250 \nQ 1547 4250 1301 3770 \nQ 1056 3291 1056 2328 \nQ 1056 1369 1301 889 \nQ 1547 409 2034 409 \nQ 2525 409 2770 889 \nQ 3016 1369 3016 2328 \nQ 3016 3291 2770 3770 \nQ 2525 4250 2034 4250 \nz\nM 2034 4750 \nQ 2819 4750 3233 4129 \nQ 3647 3509 3647 2328 \nQ 3647 1150 3233 529 \nQ 2819 -91 2034 -91 \nQ 1250 -91 836 529 \nQ 422 1150 422 2328 \nQ 422 3509 836 4129 \nQ 1250 4750 2034 4750 \nz\n\" id=\"DejaVuSans-30\" transform=\"scale(0.015625)\"/>\n       </defs>\n       <use xlink:href=\"#DejaVuSans-30\"/>\n      </g>\n     </g>\n    </g>\n    <g id=\"xtick_2\">\n     <g id=\"line2d_2\">\n      <g>\n       <use style=\"stroke:#000000;stroke-width:0.8;\" x=\"214.701494\" xlink:href=\"#m8dc735d03b\" y=\"376.08\"/>\n      </g>\n     </g>\n     <g id=\"text_2\">\n      <!-- 2000 -->\n      <g transform=\"translate(201.976494 390.678437)scale(0.1 -0.1)\">\n       <defs>\n        <path d=\"M 1228 531 \nL 3431 531 \nL 3431 0 \nL 469 0 \nL 469 531 \nQ 828 903 1448 1529 \nQ 2069 2156 2228 2338 \nQ 2531 2678 2651 2914 \nQ 2772 3150 2772 3378 \nQ 2772 3750 2511 3984 \nQ 2250 4219 1831 4219 \nQ 1534 4219 1204 4116 \nQ 875 4013 500 3803 \nL 500 4441 \nQ 881 4594 1212 4672 \nQ 1544 4750 1819 4750 \nQ 2544 4750 2975 4387 \nQ 3406 4025 3406 3419 \nQ 3406 3131 3298 2873 \nQ 3191 2616 2906 2266 \nQ 2828 2175 2409 1742 \nQ 1991 1309 1228 531 \nz\n\" id=\"DejaVuSans-32\" transform=\"scale(0.015625)\"/>\n       </defs>\n       <use xlink:href=\"#DejaVuSans-32\"/>\n       <use x=\"63.623047\" xlink:href=\"#DejaVuSans-30\"/>\n       <use x=\"127.246094\" xlink:href=\"#DejaVuSans-30\"/>\n       <use x=\"190.869141\" xlink:href=\"#DejaVuSans-30\"/>\n      </g>\n     </g>\n    </g>\n    <g id=\"xtick_3\">\n     <g id=\"line2d_3\">\n      <g>\n       <use style=\"stroke:#000000;stroke-width:0.8;\" x=\"338.772224\" xlink:href=\"#m8dc735d03b\" y=\"376.08\"/>\n      </g>\n     </g>\n     <g id=\"text_3\">\n      <!-- 4000 -->\n      <g transform=\"translate(326.047224 390.678437)scale(0.1 -0.1)\">\n       <defs>\n        <path d=\"M 2419 4116 \nL 825 1625 \nL 2419 1625 \nL 2419 4116 \nz\nM 2253 4666 \nL 3047 4666 \nL 3047 1625 \nL 3713 1625 \nL 3713 1100 \nL 3047 1100 \nL 3047 0 \nL 2419 0 \nL 2419 1100 \nL 313 1100 \nL 313 1709 \nL 2253 4666 \nz\n\" id=\"DejaVuSans-34\" transform=\"scale(0.015625)\"/>\n       </defs>\n       <use xlink:href=\"#DejaVuSans-34\"/>\n       <use x=\"63.623047\" xlink:href=\"#DejaVuSans-30\"/>\n       <use x=\"127.246094\" xlink:href=\"#DejaVuSans-30\"/>\n       <use x=\"190.869141\" xlink:href=\"#DejaVuSans-30\"/>\n      </g>\n     </g>\n    </g>\n    <g id=\"xtick_4\">\n     <g id=\"line2d_4\">\n      <g>\n       <use style=\"stroke:#000000;stroke-width:0.8;\" x=\"462.842955\" xlink:href=\"#m8dc735d03b\" y=\"376.08\"/>\n      </g>\n     </g>\n     <g id=\"text_4\">\n      <!-- 6000 -->\n      <g transform=\"translate(450.117955 390.678437)scale(0.1 -0.1)\">\n       <defs>\n        <path d=\"M 2113 2584 \nQ 1688 2584 1439 2293 \nQ 1191 2003 1191 1497 \nQ 1191 994 1439 701 \nQ 1688 409 2113 409 \nQ 2538 409 2786 701 \nQ 3034 994 3034 1497 \nQ 3034 2003 2786 2293 \nQ 2538 2584 2113 2584 \nz\nM 3366 4563 \nL 3366 3988 \nQ 3128 4100 2886 4159 \nQ 2644 4219 2406 4219 \nQ 1781 4219 1451 3797 \nQ 1122 3375 1075 2522 \nQ 1259 2794 1537 2939 \nQ 1816 3084 2150 3084 \nQ 2853 3084 3261 2657 \nQ 3669 2231 3669 1497 \nQ 3669 778 3244 343 \nQ 2819 -91 2113 -91 \nQ 1303 -91 875 529 \nQ 447 1150 447 2328 \nQ 447 3434 972 4092 \nQ 1497 4750 2381 4750 \nQ 2619 4750 2861 4703 \nQ 3103 4656 3366 4563 \nz\n\" id=\"DejaVuSans-36\" transform=\"scale(0.015625)\"/>\n       </defs>\n       <use xlink:href=\"#DejaVuSans-36\"/>\n       <use x=\"63.623047\" xlink:href=\"#DejaVuSans-30\"/>\n       <use x=\"127.246094\" xlink:href=\"#DejaVuSans-30\"/>\n       <use x=\"190.869141\" xlink:href=\"#DejaVuSans-30\"/>\n      </g>\n     </g>\n    </g>\n    <g id=\"xtick_5\">\n     <g id=\"line2d_5\">\n      <g>\n       <use style=\"stroke:#000000;stroke-width:0.8;\" x=\"586.913685\" xlink:href=\"#m8dc735d03b\" y=\"376.08\"/>\n      </g>\n     </g>\n     <g id=\"text_5\">\n      <!-- 8000 -->\n      <g transform=\"translate(574.188685 390.678437)scale(0.1 -0.1)\">\n       <defs>\n        <path d=\"M 2034 2216 \nQ 1584 2216 1326 1975 \nQ 1069 1734 1069 1313 \nQ 1069 891 1326 650 \nQ 1584 409 2034 409 \nQ 2484 409 2743 651 \nQ 3003 894 3003 1313 \nQ 3003 1734 2745 1975 \nQ 2488 2216 2034 2216 \nz\nM 1403 2484 \nQ 997 2584 770 2862 \nQ 544 3141 544 3541 \nQ 544 4100 942 4425 \nQ 1341 4750 2034 4750 \nQ 2731 4750 3128 4425 \nQ 3525 4100 3525 3541 \nQ 3525 3141 3298 2862 \nQ 3072 2584 2669 2484 \nQ 3125 2378 3379 2068 \nQ 3634 1759 3634 1313 \nQ 3634 634 3220 271 \nQ 2806 -91 2034 -91 \nQ 1263 -91 848 271 \nQ 434 634 434 1313 \nQ 434 1759 690 2068 \nQ 947 2378 1403 2484 \nz\nM 1172 3481 \nQ 1172 3119 1398 2916 \nQ 1625 2713 2034 2713 \nQ 2441 2713 2670 2916 \nQ 2900 3119 2900 3481 \nQ 2900 3844 2670 4047 \nQ 2441 4250 2034 4250 \nQ 1625 4250 1398 4047 \nQ 1172 3844 1172 3481 \nz\n\" id=\"DejaVuSans-38\" transform=\"scale(0.015625)\"/>\n       </defs>\n       <use xlink:href=\"#DejaVuSans-38\"/>\n       <use x=\"63.623047\" xlink:href=\"#DejaVuSans-30\"/>\n       <use x=\"127.246094\" xlink:href=\"#DejaVuSans-30\"/>\n       <use x=\"190.869141\" xlink:href=\"#DejaVuSans-30\"/>\n      </g>\n     </g>\n    </g>\n    <g id=\"xtick_6\">\n     <g id=\"line2d_6\">\n      <g>\n       <use style=\"stroke:#000000;stroke-width:0.8;\" x=\"710.984416\" xlink:href=\"#m8dc735d03b\" y=\"376.08\"/>\n      </g>\n     </g>\n     <g id=\"text_6\">\n      <!-- 10000 -->\n      <g transform=\"translate(695.078166 390.678437)scale(0.1 -0.1)\">\n       <defs>\n        <path d=\"M 794 531 \nL 1825 531 \nL 1825 4091 \nL 703 3866 \nL 703 4441 \nL 1819 4666 \nL 2450 4666 \nL 2450 531 \nL 3481 531 \nL 3481 0 \nL 794 0 \nL 794 531 \nz\n\" id=\"DejaVuSans-31\" transform=\"scale(0.015625)\"/>\n       </defs>\n       <use xlink:href=\"#DejaVuSans-31\"/>\n       <use x=\"63.623047\" xlink:href=\"#DejaVuSans-30\"/>\n       <use x=\"127.246094\" xlink:href=\"#DejaVuSans-30\"/>\n       <use x=\"190.869141\" xlink:href=\"#DejaVuSans-30\"/>\n       <use x=\"254.492188\" xlink:href=\"#DejaVuSans-30\"/>\n      </g>\n     </g>\n    </g>\n    <g id=\"text_7\">\n     <!-- R$ -->\n     <g transform=\"translate(393.376679 404.356562)scale(0.1 -0.1)\">\n      <defs>\n       <path d=\"M 2841 2188 \nQ 3044 2119 3236 1894 \nQ 3428 1669 3622 1275 \nL 4263 0 \nL 3584 0 \nL 2988 1197 \nQ 2756 1666 2539 1819 \nQ 2322 1972 1947 1972 \nL 1259 1972 \nL 1259 0 \nL 628 0 \nL 628 4666 \nL 2053 4666 \nQ 2853 4666 3247 4331 \nQ 3641 3997 3641 3322 \nQ 3641 2881 3436 2590 \nQ 3231 2300 2841 2188 \nz\nM 1259 4147 \nL 1259 2491 \nL 2053 2491 \nQ 2509 2491 2742 2702 \nQ 2975 2913 2975 3322 \nQ 2975 3731 2742 3939 \nQ 2509 4147 2053 4147 \nL 1259 4147 \nz\n\" id=\"DejaVuSans-52\" transform=\"scale(0.015625)\"/>\n       <path d=\"M 2163 -941 \nL 1850 -941 \nL 1847 0 \nQ 1519 6 1191 76 \nQ 863 147 531 288 \nL 531 850 \nQ 850 650 1176 548 \nQ 1503 447 1850 444 \nL 1850 1869 \nQ 1159 1981 845 2250 \nQ 531 2519 531 2988 \nQ 531 3497 872 3790 \nQ 1213 4084 1850 4128 \nL 1850 4863 \nL 2163 4863 \nL 2163 4138 \nQ 2453 4125 2725 4076 \nQ 2997 4028 3256 3944 \nL 3256 3397 \nQ 2997 3528 2723 3600 \nQ 2450 3672 2163 3684 \nL 2163 2350 \nQ 2872 2241 3206 1959 \nQ 3541 1678 3541 1191 \nQ 3541 663 3186 358 \nQ 2831 53 2163 6 \nL 2163 -941 \nz\nM 1850 2406 \nL 1850 3688 \nQ 1488 3647 1297 3481 \nQ 1106 3316 1106 3041 \nQ 1106 2772 1282 2622 \nQ 1459 2472 1850 2406 \nz\nM 2163 1806 \nL 2163 453 \nQ 2559 506 2761 678 \nQ 2963 850 2963 1131 \nQ 2963 1406 2770 1568 \nQ 2578 1731 2163 1806 \nz\n\" id=\"DejaVuSans-24\" transform=\"scale(0.015625)\"/>\n      </defs>\n      <use xlink:href=\"#DejaVuSans-52\"/>\n      <use x=\"69.482422\" xlink:href=\"#DejaVuSans-24\"/>\n     </g>\n    </g>\n   </g>\n   <g id=\"matplotlib.axis_2\">\n    <g id=\"ytick_1\">\n     <g id=\"line2d_7\">\n      <defs>\n       <path d=\"M 0 0 \nL -3.5 0 \n\" id=\"mdad73e431d\" style=\"stroke:#000000;stroke-width:0.8;\"/>\n      </defs>\n      <g>\n       <use style=\"stroke:#000000;stroke-width:0.8;\" x=\"59.690625\" xlink:href=\"#mdad73e431d\" y=\"376.08\"/>\n      </g>\n     </g>\n     <g id=\"text_8\">\n      <!-- 0 -->\n      <g transform=\"translate(46.328125 379.879219)scale(0.1 -0.1)\">\n       <use xlink:href=\"#DejaVuSans-30\"/>\n      </g>\n     </g>\n    </g>\n    <g id=\"ytick_2\">\n     <g id=\"line2d_8\">\n      <g>\n       <use style=\"stroke:#000000;stroke-width:0.8;\" x=\"59.690625\" xlink:href=\"#mdad73e431d\" y=\"306.554117\"/>\n      </g>\n     </g>\n     <g id=\"text_9\">\n      <!-- 2000 -->\n      <g transform=\"translate(27.240625 310.353336)scale(0.1 -0.1)\">\n       <use xlink:href=\"#DejaVuSans-32\"/>\n       <use x=\"63.623047\" xlink:href=\"#DejaVuSans-30\"/>\n       <use x=\"127.246094\" xlink:href=\"#DejaVuSans-30\"/>\n       <use x=\"190.869141\" xlink:href=\"#DejaVuSans-30\"/>\n      </g>\n     </g>\n    </g>\n    <g id=\"ytick_3\">\n     <g id=\"line2d_9\">\n      <g>\n       <use style=\"stroke:#000000;stroke-width:0.8;\" x=\"59.690625\" xlink:href=\"#mdad73e431d\" y=\"237.028234\"/>\n      </g>\n     </g>\n     <g id=\"text_10\">\n      <!-- 4000 -->\n      <g transform=\"translate(27.240625 240.827453)scale(0.1 -0.1)\">\n       <use xlink:href=\"#DejaVuSans-34\"/>\n       <use x=\"63.623047\" xlink:href=\"#DejaVuSans-30\"/>\n       <use x=\"127.246094\" xlink:href=\"#DejaVuSans-30\"/>\n       <use x=\"190.869141\" xlink:href=\"#DejaVuSans-30\"/>\n      </g>\n     </g>\n    </g>\n    <g id=\"ytick_4\">\n     <g id=\"line2d_10\">\n      <g>\n       <use style=\"stroke:#000000;stroke-width:0.8;\" x=\"59.690625\" xlink:href=\"#mdad73e431d\" y=\"167.502352\"/>\n      </g>\n     </g>\n     <g id=\"text_11\">\n      <!-- 6000 -->\n      <g transform=\"translate(27.240625 171.30157)scale(0.1 -0.1)\">\n       <use xlink:href=\"#DejaVuSans-36\"/>\n       <use x=\"63.623047\" xlink:href=\"#DejaVuSans-30\"/>\n       <use x=\"127.246094\" xlink:href=\"#DejaVuSans-30\"/>\n       <use x=\"190.869141\" xlink:href=\"#DejaVuSans-30\"/>\n      </g>\n     </g>\n    </g>\n    <g id=\"ytick_5\">\n     <g id=\"line2d_11\">\n      <g>\n       <use style=\"stroke:#000000;stroke-width:0.8;\" x=\"59.690625\" xlink:href=\"#mdad73e431d\" y=\"97.976469\"/>\n      </g>\n     </g>\n     <g id=\"text_12\">\n      <!-- 8000 -->\n      <g transform=\"translate(27.240625 101.775688)scale(0.1 -0.1)\">\n       <use xlink:href=\"#DejaVuSans-38\"/>\n       <use x=\"63.623047\" xlink:href=\"#DejaVuSans-30\"/>\n       <use x=\"127.246094\" xlink:href=\"#DejaVuSans-30\"/>\n       <use x=\"190.869141\" xlink:href=\"#DejaVuSans-30\"/>\n      </g>\n     </g>\n    </g>\n    <g id=\"ytick_6\">\n     <g id=\"line2d_12\">\n      <g>\n       <use style=\"stroke:#000000;stroke-width:0.8;\" x=\"59.690625\" xlink:href=\"#mdad73e431d\" y=\"28.450586\"/>\n      </g>\n     </g>\n     <g id=\"text_13\">\n      <!-- 10000 -->\n      <g transform=\"translate(20.878125 32.249805)scale(0.1 -0.1)\">\n       <use xlink:href=\"#DejaVuSans-31\"/>\n       <use x=\"63.623047\" xlink:href=\"#DejaVuSans-30\"/>\n       <use x=\"127.246094\" xlink:href=\"#DejaVuSans-30\"/>\n       <use x=\"190.869141\" xlink:href=\"#DejaVuSans-30\"/>\n       <use x=\"254.492188\" xlink:href=\"#DejaVuSans-30\"/>\n      </g>\n     </g>\n    </g>\n    <g id=\"text_14\">\n     <!-- Count -->\n     <g transform=\"translate(14.798438 206.488437)rotate(-90)scale(0.1 -0.1)\">\n      <defs>\n       <path d=\"M 4122 4306 \nL 4122 3641 \nQ 3803 3938 3442 4084 \nQ 3081 4231 2675 4231 \nQ 1875 4231 1450 3742 \nQ 1025 3253 1025 2328 \nQ 1025 1406 1450 917 \nQ 1875 428 2675 428 \nQ 3081 428 3442 575 \nQ 3803 722 4122 1019 \nL 4122 359 \nQ 3791 134 3420 21 \nQ 3050 -91 2638 -91 \nQ 1578 -91 968 557 \nQ 359 1206 359 2328 \nQ 359 3453 968 4101 \nQ 1578 4750 2638 4750 \nQ 3056 4750 3426 4639 \nQ 3797 4528 4122 4306 \nz\n\" id=\"DejaVuSans-43\" transform=\"scale(0.015625)\"/>\n       <path d=\"M 1959 3097 \nQ 1497 3097 1228 2736 \nQ 959 2375 959 1747 \nQ 959 1119 1226 758 \nQ 1494 397 1959 397 \nQ 2419 397 2687 759 \nQ 2956 1122 2956 1747 \nQ 2956 2369 2687 2733 \nQ 2419 3097 1959 3097 \nz\nM 1959 3584 \nQ 2709 3584 3137 3096 \nQ 3566 2609 3566 1747 \nQ 3566 888 3137 398 \nQ 2709 -91 1959 -91 \nQ 1206 -91 779 398 \nQ 353 888 353 1747 \nQ 353 2609 779 3096 \nQ 1206 3584 1959 3584 \nz\n\" id=\"DejaVuSans-6f\" transform=\"scale(0.015625)\"/>\n       <path d=\"M 544 1381 \nL 544 3500 \nL 1119 3500 \nL 1119 1403 \nQ 1119 906 1312 657 \nQ 1506 409 1894 409 \nQ 2359 409 2629 706 \nQ 2900 1003 2900 1516 \nL 2900 3500 \nL 3475 3500 \nL 3475 0 \nL 2900 0 \nL 2900 538 \nQ 2691 219 2414 64 \nQ 2138 -91 1772 -91 \nQ 1169 -91 856 284 \nQ 544 659 544 1381 \nz\nM 1991 3584 \nL 1991 3584 \nz\n\" id=\"DejaVuSans-75\" transform=\"scale(0.015625)\"/>\n       <path d=\"M 3513 2113 \nL 3513 0 \nL 2938 0 \nL 2938 2094 \nQ 2938 2591 2744 2837 \nQ 2550 3084 2163 3084 \nQ 1697 3084 1428 2787 \nQ 1159 2491 1159 1978 \nL 1159 0 \nL 581 0 \nL 581 3500 \nL 1159 3500 \nL 1159 2956 \nQ 1366 3272 1645 3428 \nQ 1925 3584 2291 3584 \nQ 2894 3584 3203 3211 \nQ 3513 2838 3513 2113 \nz\n\" id=\"DejaVuSans-6e\" transform=\"scale(0.015625)\"/>\n       <path d=\"M 1172 4494 \nL 1172 3500 \nL 2356 3500 \nL 2356 3053 \nL 1172 3053 \nL 1172 1153 \nQ 1172 725 1289 603 \nQ 1406 481 1766 481 \nL 2356 481 \nL 2356 0 \nL 1766 0 \nQ 1100 0 847 248 \nQ 594 497 594 1153 \nL 594 3053 \nL 172 3053 \nL 172 3500 \nL 594 3500 \nL 594 4494 \nL 1172 4494 \nz\n\" id=\"DejaVuSans-74\" transform=\"scale(0.015625)\"/>\n      </defs>\n      <use xlink:href=\"#DejaVuSans-43\"/>\n      <use x=\"69.824219\" xlink:href=\"#DejaVuSans-6f\"/>\n      <use x=\"131.005859\" xlink:href=\"#DejaVuSans-75\"/>\n      <use x=\"194.384766\" xlink:href=\"#DejaVuSans-6e\"/>\n      <use x=\"257.763672\" xlink:href=\"#DejaVuSans-74\"/>\n     </g>\n    </g>\n   </g>\n   <g id=\"line2d_13\">\n    <path clip-path=\"url(#p0af9b251c1)\" d=\"M 90.630763 349.820049 \nL 93.740325 346.438021 \nL 96.849887 344.047351 \nL 99.959448 342.455329 \nL 103.06901 341.334929 \nL 109.288133 339.406005 \nL 112.397695 338.250086 \nL 115.507257 336.698769 \nL 118.616818 334.350376 \nL 121.72638 330.625269 \nL 124.835942 324.951171 \nL 127.945503 317.100207 \nL 131.055065 307.523124 \nL 134.164627 297.451 \nL 137.274188 288.609202 \nL 140.38375 282.615065 \nL 143.493311 280.361379 \nL 146.602873 281.72776 \nL 149.712435 285.759986 \nL 152.821996 291.169382 \nL 155.931558 296.846712 \nL 159.04112 302.140909 \nL 162.150681 306.836116 \nL 165.260243 310.935075 \nL 168.369805 314.439223 \nL 171.479366 317.28268 \nL 174.588928 319.447956 \nL 180.808051 322.829933 \nL 183.917613 325.08416 \nL 187.027175 328.250286 \nL 190.136736 332.222319 \nL 193.246298 336.439841 \nL 196.35586 340.128124 \nL 199.465421 342.640155 \nL 202.574983 343.731313 \nL 205.684544 343.660755 \nL 208.794106 343.096062 \nL 211.903668 342.859843 \nL 215.013229 343.608712 \nL 218.122791 345.57613 \nL 221.232353 348.500956 \nL 224.341914 351.776014 \nL 227.451476 354.7308 \nL 230.561038 356.898909 \nL 233.670599 358.156255 \nL 236.780161 358.705658 \nL 239.889723 358.951549 \nL 242.999284 359.326647 \nL 246.108846 360.125713 \nL 249.218408 361.395704 \nL 252.327969 362.920792 \nL 255.437531 364.309127 \nL 258.547092 365.146159 \nL 261.656654 365.155449 \nL 264.766216 364.31403 \nL 270.985339 361.37492 \nL 274.094901 360.343232 \nL 277.204462 360.233371 \nL 280.314024 361.184211 \nL 283.423586 362.984157 \nL 286.533147 365.169698 \nL 289.642709 367.21717 \nL 292.752271 368.730442 \nL 295.861832 369.549075 \nL 298.971394 369.75593 \nL 308.300079 369.398577 \nL 311.409641 369.671846 \nL 317.628764 370.574512 \nL 320.738325 370.747774 \nL 323.847887 370.493304 \nL 326.957449 369.802005 \nL 333.176572 367.892547 \nL 336.286134 367.293342 \nL 339.395695 367.276882 \nL 342.505257 367.899072 \nL 345.614819 369.016709 \nL 351.833942 371.613266 \nL 354.943504 372.580611 \nL 358.053065 373.17224 \nL 361.162627 373.429765 \nL 367.38175 373.447617 \nL 373.600874 373.51458 \nL 376.710435 373.57315 \nL 379.819997 373.499072 \nL 382.929558 373.145747 \nL 386.03912 372.41429 \nL 389.148682 371.316994 \nL 395.367805 368.78829 \nL 398.477367 367.97092 \nL 401.586928 367.805935 \nL 404.69649 368.35251 \nL 407.806052 369.460429 \nL 414.025175 372.182785 \nL 417.134737 373.267721 \nL 420.244298 374.006445 \nL 423.35386 374.427423 \nL 426.463422 374.625679 \nL 435.792107 374.810097 \nL 442.01123 374.821958 \nL 445.120791 374.670745 \nL 448.230353 374.352443 \nL 454.449476 373.311318 \nL 457.559038 372.791065 \nL 460.6686 372.459086 \nL 463.778161 372.419899 \nL 466.887723 372.692559 \nL 473.106846 373.816768 \nL 476.216408 374.396533 \nL 479.32597 374.846943 \nL 482.435531 375.135053 \nL 488.654655 375.335993 \nL 504.202463 375.332139 \nL 507.312024 375.18867 \nL 513.531148 374.561266 \nL 519.750271 373.766281 \nL 522.859833 373.52927 \nL 525.969394 373.502198 \nL 529.078956 373.694608 \nL 544.626764 375.372971 \nL 550.845888 375.486926 \nL 563.284134 375.431807 \nL 569.503257 375.12565 \nL 575.722381 374.384054 \nL 581.941504 373.558503 \nL 585.051066 373.352353 \nL 588.160627 373.380119 \nL 591.270189 373.639251 \nL 603.708436 375.354658 \nL 609.927559 375.726559 \nL 619.256244 375.829291 \nL 631.69449 375.771182 \nL 650.35186 375.278877 \nL 656.570984 375.468651 \nL 665.899669 375.831775 \nL 675.228354 375.928509 \nL 703.214408 376.025136 \nL 709.433532 376.048822 \nL 709.433532 376.048822 \n\" style=\"fill:none;stroke:#1f77b4;stroke-linecap:square;stroke-width:1.5;\"/>\n   </g>\n   <g id=\"patch_177\">\n    <path d=\"M 59.690625 376.08 \nL 59.690625 7.2 \n\" style=\"fill:none;stroke:#000000;stroke-linecap:square;stroke-linejoin:miter;stroke-width:0.8;\"/>\n   </g>\n   <g id=\"patch_178\">\n    <path d=\"M 59.690625 376.08 \nL 740.37367 376.08 \n\" style=\"fill:none;stroke:#000000;stroke-linecap:square;stroke-linejoin:miter;stroke-width:0.8;\"/>\n   </g>\n  </g>\n </g>\n <defs>\n  <clipPath id=\"p0af9b251c1\">\n   <rect height=\"368.88\" width=\"680.683045\" x=\"59.690625\" y=\"7.2\"/>\n  </clipPath>\n </defs>\n</svg>\n",
      "image/png": "[encoded data removed]"
     },
     "metadata": {
      "needs_background": "light"
     }
    }
   ],
   "metadata": {
    "colab": {},
    "colab_type": "code",
    "id": "s55WPk1aTg2C"
   }
  },
  {
   "cell_type": "code",
   "execution_count": 171,
   "source": [
    "ax = sns.displot(dados.Idade, kde= True)\n",
    "ax.fig.set_size_inches(12, 6)\n",
    "ax.set_titles(\"Distribuição de Frequência - Renda\")\n",
    "ax.set_xlabels(\"R$\")\n",
    "\n",
    "ax"
   ],
   "outputs": [
    {
     "output_type": "execute_result",
     "data": {
      "text/plain": [
       "<seaborn.axisgrid.FacetGrid at 0x7f4d5544e1f0>"
      ]
     },
     "metadata": {},
     "execution_count": 171
    },
    {
     "output_type": "display_data",
     "data": {
      "text/plain": [
       "<Figure size 864x432 with 1 Axes>"
      ],
      "image/svg+xml": "<?xml version=\"1.0\" encoding=\"utf-8\" standalone=\"no\"?>\n<!DOCTYPE svg PUBLIC \"-//W3C//DTD SVG 1.1//EN\"\n  \"http://www.w3.org/Graphics/SVG/1.1/DTD/svg11.dtd\">\n<svg height=\"413.63625pt\" version=\"1.1\" viewBox=\"0 0 761.688125 413.63625\" width=\"761.688125pt\" xmlns=\"http://www.w3.org/2000/svg\" xmlns:xlink=\"http://www.w3.org/1999/xlink\">\n <metadata>\n  <rdf:RDF xmlns:cc=\"http://creativecommons.org/ns#\" xmlns:dc=\"http://purl.org/dc/elements/1.1/\" xmlns:rdf=\"http://www.w3.org/1999/02/22-rdf-syntax-ns#\">\n   <cc:Work>\n    <dc:type rdf:resource=\"http://purl.org/dc/dcmitype/StillImage\"/>\n    <dc:date>2021-08-14T07:54:44.473994</dc:date>\n    <dc:format>image/svg+xml</dc:format>\n    <dc:creator>\n     <cc:Agent>\n      <dc:title>Matplotlib v3.4.3, https://matplotlib.org/</dc:title>\n     </cc:Agent>\n    </dc:creator>\n   </cc:Work>\n  </rdf:RDF>\n </metadata>\n <defs>\n  <style type=\"text/css\">*{stroke-linecap:butt;stroke-linejoin:round;}</style>\n </defs>\n <g id=\"figure_1\">\n  <g id=\"patch_1\">\n   <path d=\"M 0 413.63625 \nL 761.688125 413.63625 \nL 761.688125 0 \nL 0 0 \nz\n\" style=\"fill:none;\"/>\n  </g>\n  <g id=\"axes_1\">\n   <g id=\"patch_2\">\n    <path d=\"M 53.328125 376.08 \nL 754.488125 376.08 \nL 754.488125 7.2 \nL 53.328125 7.2 \nz\n\" style=\"fill:#ffffff;\"/>\n   </g>\n   <g id=\"patch_3\">\n    <path clip-path=\"url(#p781b171eb6)\" d=\"M 85.199034 376.08 \nL 91.770356 376.08 \nL 91.770356 375.924757 \nL 85.199034 375.924757 \nz\n\" style=\"fill:#1f77b4;fill-opacity:0.5;stroke:#000000;stroke-linejoin:miter;stroke-width:0.288273;\"/>\n   </g>\n   <g id=\"patch_4\">\n    <path clip-path=\"url(#p781b171eb6)\" d=\"M 91.770356 376.08 \nL 98.341677 376.08 \nL 98.341677 375.924757 \nL 91.770356 375.924757 \nz\n\" style=\"fill:#1f77b4;fill-opacity:0.5;stroke:#000000;stroke-linejoin:miter;stroke-width:0.288273;\"/>\n   </g>\n   <g id=\"patch_5\">\n    <path clip-path=\"url(#p781b171eb6)\" d=\"M 98.341677 376.08 \nL 104.912998 376.08 \nL 104.912998 375.148544 \nL 98.341677 375.148544 \nz\n\" style=\"fill:#1f77b4;fill-opacity:0.5;stroke:#000000;stroke-linejoin:miter;stroke-width:0.288273;\"/>\n   </g>\n   <g id=\"patch_6\">\n    <path clip-path=\"url(#p781b171eb6)\" d=\"M 104.912998 376.08 \nL 111.48432 376.08 \nL 111.48432 374.527573 \nL 104.912998 374.527573 \nz\n\" style=\"fill:#1f77b4;fill-opacity:0.5;stroke:#000000;stroke-linejoin:miter;stroke-width:0.288273;\"/>\n   </g>\n   <g id=\"patch_7\">\n    <path clip-path=\"url(#p781b171eb6)\" d=\"M 111.48432 376.08 \nL 118.055641 376.08 \nL 118.055641 368.473106 \nL 111.48432 368.473106 \nz\n\" style=\"fill:#1f77b4;fill-opacity:0.5;stroke:#000000;stroke-linejoin:miter;stroke-width:0.288273;\"/>\n   </g>\n   <g id=\"patch_8\">\n    <path clip-path=\"url(#p781b171eb6)\" d=\"M 118.055641 376.08 \nL 124.626963 376.08 \nL 124.626963 353.104077 \nL 118.055641 353.104077 \nz\n\" style=\"fill:#1f77b4;fill-opacity:0.5;stroke:#000000;stroke-linejoin:miter;stroke-width:0.288273;\"/>\n   </g>\n   <g id=\"patch_9\">\n    <path clip-path=\"url(#p781b171eb6)\" d=\"M 124.626963 376.08 \nL 131.198284 376.08 \nL 131.198284 343.789513 \nL 124.626963 343.789513 \nz\n\" style=\"fill:#1f77b4;fill-opacity:0.5;stroke:#000000;stroke-linejoin:miter;stroke-width:0.288273;\"/>\n   </g>\n   <g id=\"patch_10\">\n    <path clip-path=\"url(#p781b171eb6)\" d=\"M 131.198284 376.08 \nL 137.769606 376.08 \nL 137.769606 323.142231 \nL 131.198284 323.142231 \nz\n\" style=\"fill:#1f77b4;fill-opacity:0.5;stroke:#000000;stroke-linejoin:miter;stroke-width:0.288273;\"/>\n   </g>\n   <g id=\"patch_11\">\n    <path clip-path=\"url(#p781b171eb6)\" d=\"M 137.769606 376.08 \nL 144.340927 376.08 \nL 144.340927 376.08 \nL 137.769606 376.08 \nz\n\" style=\"fill:#1f77b4;fill-opacity:0.5;stroke:#000000;stroke-linejoin:miter;stroke-width:0.288273;\"/>\n   </g>\n   <g id=\"patch_12\">\n    <path clip-path=\"url(#p781b171eb6)\" d=\"M 144.340927 376.08 \nL 150.912249 376.08 \nL 150.912249 306.531259 \nL 144.340927 306.531259 \nz\n\" style=\"fill:#1f77b4;fill-opacity:0.5;stroke:#000000;stroke-linejoin:miter;stroke-width:0.288273;\"/>\n   </g>\n   <g id=\"patch_13\">\n    <path clip-path=\"url(#p781b171eb6)\" d=\"M 150.912249 376.08 \nL 157.48357 376.08 \nL 157.48357 284.797278 \nL 150.912249 284.797278 \nz\n\" style=\"fill:#1f77b4;fill-opacity:0.5;stroke:#000000;stroke-linejoin:miter;stroke-width:0.288273;\"/>\n   </g>\n   <g id=\"patch_14\">\n    <path clip-path=\"url(#p781b171eb6)\" d=\"M 157.48357 376.08 \nL 164.054892 376.08 \nL 164.054892 266.478636 \nL 157.48357 266.478636 \nz\n\" style=\"fill:#1f77b4;fill-opacity:0.5;stroke:#000000;stroke-linejoin:miter;stroke-width:0.288273;\"/>\n   </g>\n   <g id=\"patch_15\">\n    <path clip-path=\"url(#p781b171eb6)\" d=\"M 164.054892 376.08 \nL 170.626213 376.08 \nL 170.626213 246.297082 \nL 164.054892 246.297082 \nz\n\" style=\"fill:#1f77b4;fill-opacity:0.5;stroke:#000000;stroke-linejoin:miter;stroke-width:0.288273;\"/>\n   </g>\n   <g id=\"patch_16\">\n    <path clip-path=\"url(#p781b171eb6)\" d=\"M 170.626213 376.08 \nL 177.197535 376.08 \nL 177.197535 223.010674 \nL 170.626213 223.010674 \nz\n\" style=\"fill:#1f77b4;fill-opacity:0.5;stroke:#000000;stroke-linejoin:miter;stroke-width:0.288273;\"/>\n   </g>\n   <g id=\"patch_17\">\n    <path clip-path=\"url(#p781b171eb6)\" d=\"M 177.197535 376.08 \nL 183.768856 376.08 \nL 183.768856 207.486401 \nL 177.197535 207.486401 \nz\n\" style=\"fill:#1f77b4;fill-opacity:0.5;stroke:#000000;stroke-linejoin:miter;stroke-width:0.288273;\"/>\n   </g>\n   <g id=\"patch_18\">\n    <path clip-path=\"url(#p781b171eb6)\" d=\"M 183.768856 376.08 \nL 190.340177 376.08 \nL 190.340177 183.889507 \nL 183.768856 183.889507 \nz\n\" style=\"fill:#1f77b4;fill-opacity:0.5;stroke:#000000;stroke-linejoin:miter;stroke-width:0.288273;\"/>\n   </g>\n   <g id=\"patch_19\">\n    <path clip-path=\"url(#p781b171eb6)\" d=\"M 190.340177 376.08 \nL 196.911499 376.08 \nL 196.911499 157.498244 \nL 190.340177 157.498244 \nz\n\" style=\"fill:#1f77b4;fill-opacity:0.5;stroke:#000000;stroke-linejoin:miter;stroke-width:0.288273;\"/>\n   </g>\n   <g id=\"patch_20\">\n    <path clip-path=\"url(#p781b171eb6)\" d=\"M 196.911499 376.08 \nL 203.48282 376.08 \nL 203.48282 376.08 \nL 196.911499 376.08 \nz\n\" style=\"fill:#1f77b4;fill-opacity:0.5;stroke:#000000;stroke-linejoin:miter;stroke-width:0.288273;\"/>\n   </g>\n   <g id=\"patch_21\">\n    <path clip-path=\"url(#p781b171eb6)\" d=\"M 203.48282 376.08 \nL 210.054142 376.08 \nL 210.054142 133.280379 \nL 203.48282 133.280379 \nz\n\" style=\"fill:#1f77b4;fill-opacity:0.5;stroke:#000000;stroke-linejoin:miter;stroke-width:0.288273;\"/>\n   </g>\n   <g id=\"patch_22\">\n    <path clip-path=\"url(#p781b171eb6)\" d=\"M 210.054142 376.08 \nL 216.625463 376.08 \nL 216.625463 107.199601 \nL 210.054142 107.199601 \nz\n\" style=\"fill:#1f77b4;fill-opacity:0.5;stroke:#000000;stroke-linejoin:miter;stroke-width:0.288273;\"/>\n   </g>\n   <g id=\"patch_23\">\n    <path clip-path=\"url(#p781b171eb6)\" d=\"M 216.625463 376.08 \nL 223.196785 376.08 \nL 223.196785 107.199601 \nL 216.625463 107.199601 \nz\n\" style=\"fill:#1f77b4;fill-opacity:0.5;stroke:#000000;stroke-linejoin:miter;stroke-width:0.288273;\"/>\n   </g>\n   <g id=\"patch_24\">\n    <path clip-path=\"url(#p781b171eb6)\" d=\"M 223.196785 376.08 \nL 229.768106 376.08 \nL 229.768106 71.183289 \nL 223.196785 71.183289 \nz\n\" style=\"fill:#1f77b4;fill-opacity:0.5;stroke:#000000;stroke-linejoin:miter;stroke-width:0.288273;\"/>\n   </g>\n   <g id=\"patch_25\">\n    <path clip-path=\"url(#p781b171eb6)\" d=\"M 229.768106 376.08 \nL 236.339428 376.08 \nL 236.339428 59.384842 \nL 229.768106 59.384842 \nz\n\" style=\"fill:#1f77b4;fill-opacity:0.5;stroke:#000000;stroke-linejoin:miter;stroke-width:0.288273;\"/>\n   </g>\n   <g id=\"patch_26\">\n    <path clip-path=\"url(#p781b171eb6)\" d=\"M 236.339428 376.08 \nL 242.910749 376.08 \nL 242.910749 46.965424 \nL 236.339428 46.965424 \nz\n\" style=\"fill:#1f77b4;fill-opacity:0.5;stroke:#000000;stroke-linejoin:miter;stroke-width:0.288273;\"/>\n   </g>\n   <g id=\"patch_27\">\n    <path clip-path=\"url(#p781b171eb6)\" d=\"M 242.910749 376.08 \nL 249.482071 376.08 \nL 249.482071 33.61455 \nL 242.910749 33.61455 \nz\n\" style=\"fill:#1f77b4;fill-opacity:0.5;stroke:#000000;stroke-linejoin:miter;stroke-width:0.288273;\"/>\n   </g>\n   <g id=\"patch_28\">\n    <path clip-path=\"url(#p781b171eb6)\" d=\"M 249.482071 376.08 \nL 256.053392 376.08 \nL 256.053392 49.759793 \nL 249.482071 49.759793 \nz\n\" style=\"fill:#1f77b4;fill-opacity:0.5;stroke:#000000;stroke-linejoin:miter;stroke-width:0.288273;\"/>\n   </g>\n   <g id=\"patch_29\">\n    <path clip-path=\"url(#p781b171eb6)\" d=\"M 256.053392 376.08 \nL 262.624714 376.08 \nL 262.624714 376.08 \nL 256.053392 376.08 \nz\n\" style=\"fill:#1f77b4;fill-opacity:0.5;stroke:#000000;stroke-linejoin:miter;stroke-width:0.288273;\"/>\n   </g>\n   <g id=\"patch_30\">\n    <path clip-path=\"url(#p781b171eb6)\" d=\"M 262.624714 376.08 \nL 269.196035 376.08 \nL 269.196035 29.112511 \nL 262.624714 29.112511 \nz\n\" style=\"fill:#1f77b4;fill-opacity:0.5;stroke:#000000;stroke-linejoin:miter;stroke-width:0.288273;\"/>\n   </g>\n   <g id=\"patch_31\">\n    <path clip-path=\"url(#p781b171eb6)\" d=\"M 269.196035 376.08 \nL 275.767356 376.08 \nL 275.767356 46.499696 \nL 269.196035 46.499696 \nz\n\" style=\"fill:#1f77b4;fill-opacity:0.5;stroke:#000000;stroke-linejoin:miter;stroke-width:0.288273;\"/>\n   </g>\n   <g id=\"patch_32\">\n    <path clip-path=\"url(#p781b171eb6)\" d=\"M 275.767356 376.08 \nL 282.338678 376.08 \nL 282.338678 36.098433 \nL 275.767356 36.098433 \nz\n\" style=\"fill:#1f77b4;fill-opacity:0.5;stroke:#000000;stroke-linejoin:miter;stroke-width:0.288273;\"/>\n   </g>\n   <g id=\"patch_33\">\n    <path clip-path=\"url(#p781b171eb6)\" d=\"M 282.338678 376.08 \nL 288.909999 376.08 \nL 288.909999 24.765714 \nL 282.338678 24.765714 \nz\n\" style=\"fill:#1f77b4;fill-opacity:0.5;stroke:#000000;stroke-linejoin:miter;stroke-width:0.288273;\"/>\n   </g>\n   <g id=\"patch_34\">\n    <path clip-path=\"url(#p781b171eb6)\" d=\"M 288.909999 376.08 \nL 295.481321 376.08 \nL 295.481321 64.663095 \nL 288.909999 64.663095 \nz\n\" style=\"fill:#1f77b4;fill-opacity:0.5;stroke:#000000;stroke-linejoin:miter;stroke-width:0.288273;\"/>\n   </g>\n   <g id=\"patch_35\">\n    <path clip-path=\"url(#p781b171eb6)\" d=\"M 295.481321 376.08 \nL 302.052642 376.08 \nL 302.052642 36.253676 \nL 295.481321 36.253676 \nz\n\" style=\"fill:#1f77b4;fill-opacity:0.5;stroke:#000000;stroke-linejoin:miter;stroke-width:0.288273;\"/>\n   </g>\n   <g id=\"patch_36\">\n    <path clip-path=\"url(#p781b171eb6)\" d=\"M 302.052642 376.08 \nL 308.623964 376.08 \nL 308.623964 32.527851 \nL 302.052642 32.527851 \nz\n\" style=\"fill:#1f77b4;fill-opacity:0.5;stroke:#000000;stroke-linejoin:miter;stroke-width:0.288273;\"/>\n   </g>\n   <g id=\"patch_37\">\n    <path clip-path=\"url(#p781b171eb6)\" d=\"M 308.623964 376.08 \nL 315.195285 376.08 \nL 315.195285 69.009891 \nL 308.623964 69.009891 \nz\n\" style=\"fill:#1f77b4;fill-opacity:0.5;stroke:#000000;stroke-linejoin:miter;stroke-width:0.288273;\"/>\n   </g>\n   <g id=\"patch_38\">\n    <path clip-path=\"url(#p781b171eb6)\" d=\"M 315.195285 376.08 \nL 321.766607 376.08 \nL 321.766607 376.08 \nL 315.195285 376.08 \nz\n\" style=\"fill:#1f77b4;fill-opacity:0.5;stroke:#000000;stroke-linejoin:miter;stroke-width:0.288273;\"/>\n   </g>\n   <g id=\"patch_39\">\n    <path clip-path=\"url(#p781b171eb6)\" d=\"M 321.766607 376.08 \nL 328.337928 376.08 \nL 328.337928 26.78387 \nL 321.766607 26.78387 \nz\n\" style=\"fill:#1f77b4;fill-opacity:0.5;stroke:#000000;stroke-linejoin:miter;stroke-width:0.288273;\"/>\n   </g>\n   <g id=\"patch_40\">\n    <path clip-path=\"url(#p781b171eb6)\" d=\"M 328.337928 376.08 \nL 334.90925 376.08 \nL 334.90925 67.302221 \nL 328.337928 67.302221 \nz\n\" style=\"fill:#1f77b4;fill-opacity:0.5;stroke:#000000;stroke-linejoin:miter;stroke-width:0.288273;\"/>\n   </g>\n   <g id=\"patch_41\">\n    <path clip-path=\"url(#p781b171eb6)\" d=\"M 334.90925 376.08 \nL 341.480571 376.08 \nL 341.480571 67.612706 \nL 334.90925 67.612706 \nz\n\" style=\"fill:#1f77b4;fill-opacity:0.5;stroke:#000000;stroke-linejoin:miter;stroke-width:0.288273;\"/>\n   </g>\n   <g id=\"patch_42\">\n    <path clip-path=\"url(#p781b171eb6)\" d=\"M 341.480571 376.08 \nL 348.051893 376.08 \nL 348.051893 73.667173 \nL 341.480571 73.667173 \nz\n\" style=\"fill:#1f77b4;fill-opacity:0.5;stroke:#000000;stroke-linejoin:miter;stroke-width:0.288273;\"/>\n   </g>\n   <g id=\"patch_43\">\n    <path clip-path=\"url(#p781b171eb6)\" d=\"M 348.051893 376.08 \nL 354.623214 376.08 \nL 354.623214 47.586395 \nL 348.051893 47.586395 \nz\n\" style=\"fill:#1f77b4;fill-opacity:0.5;stroke:#000000;stroke-linejoin:miter;stroke-width:0.288273;\"/>\n   </g>\n   <g id=\"patch_44\">\n    <path clip-path=\"url(#p781b171eb6)\" d=\"M 354.623214 376.08 \nL 361.194535 376.08 \nL 361.194535 37.495618 \nL 354.623214 37.495618 \nz\n\" style=\"fill:#1f77b4;fill-opacity:0.5;stroke:#000000;stroke-linejoin:miter;stroke-width:0.288273;\"/>\n   </g>\n   <g id=\"patch_45\">\n    <path clip-path=\"url(#p781b171eb6)\" d=\"M 361.194535 376.08 \nL 367.765857 376.08 \nL 367.765857 73.356687 \nL 361.194535 73.356687 \nz\n\" style=\"fill:#1f77b4;fill-opacity:0.5;stroke:#000000;stroke-linejoin:miter;stroke-width:0.288273;\"/>\n   </g>\n   <g id=\"patch_46\">\n    <path clip-path=\"url(#p781b171eb6)\" d=\"M 367.765857 376.08 \nL 374.337178 376.08 \nL 374.337178 73.977658 \nL 367.765857 73.977658 \nz\n\" style=\"fill:#1f77b4;fill-opacity:0.5;stroke:#000000;stroke-linejoin:miter;stroke-width:0.288273;\"/>\n   </g>\n   <g id=\"patch_47\">\n    <path clip-path=\"url(#p781b171eb6)\" d=\"M 374.337178 376.08 \nL 380.9085 376.08 \nL 380.9085 376.08 \nL 374.337178 376.08 \nz\n\" style=\"fill:#1f77b4;fill-opacity:0.5;stroke:#000000;stroke-linejoin:miter;stroke-width:0.288273;\"/>\n   </g>\n   <g id=\"patch_48\">\n    <path clip-path=\"url(#p781b171eb6)\" d=\"M 380.9085 376.08 \nL 387.479821 376.08 \nL 387.479821 89.191445 \nL 380.9085 89.191445 \nz\n\" style=\"fill:#1f77b4;fill-opacity:0.5;stroke:#000000;stroke-linejoin:miter;stroke-width:0.288273;\"/>\n   </g>\n   <g id=\"patch_49\">\n    <path clip-path=\"url(#p781b171eb6)\" d=\"M 387.479821 376.08 \nL 394.051143 376.08 \nL 394.051143 111.391155 \nL 387.479821 111.391155 \nz\n\" style=\"fill:#1f77b4;fill-opacity:0.5;stroke:#000000;stroke-linejoin:miter;stroke-width:0.288273;\"/>\n   </g>\n   <g id=\"patch_50\">\n    <path clip-path=\"url(#p781b171eb6)\" d=\"M 394.051143 376.08 \nL 400.622464 376.08 \nL 400.622464 103.784261 \nL 394.051143 103.784261 \nz\n\" style=\"fill:#1f77b4;fill-opacity:0.5;stroke:#000000;stroke-linejoin:miter;stroke-width:0.288273;\"/>\n   </g>\n   <g id=\"patch_51\">\n    <path clip-path=\"url(#p781b171eb6)\" d=\"M 400.622464 376.08 \nL 407.193786 376.08 \nL 407.193786 146.47601 \nL 400.622464 146.47601 \nz\n\" style=\"fill:#1f77b4;fill-opacity:0.5;stroke:#000000;stroke-linejoin:miter;stroke-width:0.288273;\"/>\n   </g>\n   <g id=\"patch_52\">\n    <path clip-path=\"url(#p781b171eb6)\" d=\"M 407.193786 376.08 \nL 413.765107 376.08 \nL 413.765107 161.379312 \nL 407.193786 161.379312 \nz\n\" style=\"fill:#1f77b4;fill-opacity:0.5;stroke:#000000;stroke-linejoin:miter;stroke-width:0.288273;\"/>\n   </g>\n   <g id=\"patch_53\">\n    <path clip-path=\"url(#p781b171eb6)\" d=\"M 413.765107 376.08 \nL 420.336429 376.08 \nL 420.336429 164.639409 \nL 413.765107 164.639409 \nz\n\" style=\"fill:#1f77b4;fill-opacity:0.5;stroke:#000000;stroke-linejoin:miter;stroke-width:0.288273;\"/>\n   </g>\n   <g id=\"patch_54\">\n    <path clip-path=\"url(#p781b171eb6)\" d=\"M 420.336429 376.08 \nL 426.90775 376.08 \nL 426.90775 181.405623 \nL 420.336429 181.405623 \nz\n\" style=\"fill:#1f77b4;fill-opacity:0.5;stroke:#000000;stroke-linejoin:miter;stroke-width:0.288273;\"/>\n   </g>\n   <g id=\"patch_55\">\n    <path clip-path=\"url(#p781b171eb6)\" d=\"M 426.90775 376.08 \nL 433.479072 376.08 \nL 433.479072 376.08 \nL 426.90775 376.08 \nz\n\" style=\"fill:#1f77b4;fill-opacity:0.5;stroke:#000000;stroke-linejoin:miter;stroke-width:0.288273;\"/>\n   </g>\n   <g id=\"patch_56\">\n    <path clip-path=\"url(#p781b171eb6)\" d=\"M 433.479072 376.08 \nL 440.050393 376.08 \nL 440.050393 187.46009 \nL 433.479072 187.46009 \nz\n\" style=\"fill:#1f77b4;fill-opacity:0.5;stroke:#000000;stroke-linejoin:miter;stroke-width:0.288273;\"/>\n   </g>\n   <g id=\"patch_57\">\n    <path clip-path=\"url(#p781b171eb6)\" d=\"M 440.050393 376.08 \nL 446.621715 376.08 \nL 446.621715 223.010674 \nL 440.050393 223.010674 \nz\n\" style=\"fill:#1f77b4;fill-opacity:0.5;stroke:#000000;stroke-linejoin:miter;stroke-width:0.288273;\"/>\n   </g>\n   <g id=\"patch_58\">\n    <path clip-path=\"url(#p781b171eb6)\" d=\"M 446.621715 376.08 \nL 453.193036 376.08 \nL 453.193036 237.448247 \nL 446.621715 237.448247 \nz\n\" style=\"fill:#1f77b4;fill-opacity:0.5;stroke:#000000;stroke-linejoin:miter;stroke-width:0.288273;\"/>\n   </g>\n   <g id=\"patch_59\">\n    <path clip-path=\"url(#p781b171eb6)\" d=\"M 453.193036 376.08 \nL 459.764357 376.08 \nL 459.764357 250.643879 \nL 453.193036 250.643879 \nz\n\" style=\"fill:#1f77b4;fill-opacity:0.5;stroke:#000000;stroke-linejoin:miter;stroke-width:0.288273;\"/>\n   </g>\n   <g id=\"patch_60\">\n    <path clip-path=\"url(#p781b171eb6)\" d=\"M 459.764357 376.08 \nL 466.335679 376.08 \nL 466.335679 260.113685 \nL 459.764357 260.113685 \nz\n\" style=\"fill:#1f77b4;fill-opacity:0.5;stroke:#000000;stroke-linejoin:miter;stroke-width:0.288273;\"/>\n   </g>\n   <g id=\"patch_61\">\n    <path clip-path=\"url(#p781b171eb6)\" d=\"M 466.335679 376.08 \nL 472.907 376.08 \nL 472.907 271.135918 \nL 466.335679 271.135918 \nz\n\" style=\"fill:#1f77b4;fill-opacity:0.5;stroke:#000000;stroke-linejoin:miter;stroke-width:0.288273;\"/>\n   </g>\n   <g id=\"patch_62\">\n    <path clip-path=\"url(#p781b171eb6)\" d=\"M 472.907 376.08 \nL 479.478322 376.08 \nL 479.478322 303.426405 \nL 472.907 303.426405 \nz\n\" style=\"fill:#1f77b4;fill-opacity:0.5;stroke:#000000;stroke-linejoin:miter;stroke-width:0.288273;\"/>\n   </g>\n   <g id=\"patch_63\">\n    <path clip-path=\"url(#p781b171eb6)\" d=\"M 479.478322 376.08 \nL 486.049643 376.08 \nL 486.049643 305.134075 \nL 479.478322 305.134075 \nz\n\" style=\"fill:#1f77b4;fill-opacity:0.5;stroke:#000000;stroke-linejoin:miter;stroke-width:0.288273;\"/>\n   </g>\n   <g id=\"patch_64\">\n    <path clip-path=\"url(#p781b171eb6)\" d=\"M 486.049643 376.08 \nL 492.620965 376.08 \nL 492.620965 376.08 \nL 486.049643 376.08 \nz\n\" style=\"fill:#1f77b4;fill-opacity:0.5;stroke:#000000;stroke-linejoin:miter;stroke-width:0.288273;\"/>\n   </g>\n   <g id=\"patch_65\">\n    <path clip-path=\"url(#p781b171eb6)\" d=\"M 492.620965 376.08 \nL 499.192286 376.08 \nL 499.192286 312.896211 \nL 492.620965 312.896211 \nz\n\" style=\"fill:#1f77b4;fill-opacity:0.5;stroke:#000000;stroke-linejoin:miter;stroke-width:0.288273;\"/>\n   </g>\n   <g id=\"patch_66\">\n    <path clip-path=\"url(#p781b171eb6)\" d=\"M 499.192286 376.08 \nL 505.763608 376.08 \nL 505.763608 321.279318 \nL 499.192286 321.279318 \nz\n\" style=\"fill:#1f77b4;fill-opacity:0.5;stroke:#000000;stroke-linejoin:miter;stroke-width:0.288273;\"/>\n   </g>\n   <g id=\"patch_67\">\n    <path clip-path=\"url(#p781b171eb6)\" d=\"M 505.763608 376.08 \nL 512.334929 376.08 \nL 512.334929 332.612037 \nL 505.763608 332.612037 \nz\n\" style=\"fill:#1f77b4;fill-opacity:0.5;stroke:#000000;stroke-linejoin:miter;stroke-width:0.288273;\"/>\n   </g>\n   <g id=\"patch_68\">\n    <path clip-path=\"url(#p781b171eb6)\" d=\"M 512.334929 376.08 \nL 518.906251 376.08 \nL 518.906251 338.821746 \nL 512.334929 338.821746 \nz\n\" style=\"fill:#1f77b4;fill-opacity:0.5;stroke:#000000;stroke-linejoin:miter;stroke-width:0.288273;\"/>\n   </g>\n   <g id=\"patch_69\">\n    <path clip-path=\"url(#p781b171eb6)\" d=\"M 518.906251 376.08 \nL 525.477572 376.08 \nL 525.477572 344.099999 \nL 518.906251 344.099999 \nz\n\" style=\"fill:#1f77b4;fill-opacity:0.5;stroke:#000000;stroke-linejoin:miter;stroke-width:0.288273;\"/>\n   </g>\n   <g id=\"patch_70\">\n    <path clip-path=\"url(#p781b171eb6)\" d=\"M 525.477572 376.08 \nL 532.048894 376.08 \nL 532.048894 345.652426 \nL 525.477572 345.652426 \nz\n\" style=\"fill:#1f77b4;fill-opacity:0.5;stroke:#000000;stroke-linejoin:miter;stroke-width:0.288273;\"/>\n   </g>\n   <g id=\"patch_71\">\n    <path clip-path=\"url(#p781b171eb6)\" d=\"M 532.048894 376.08 \nL 538.620215 376.08 \nL 538.620215 352.17262 \nL 532.048894 352.17262 \nz\n\" style=\"fill:#1f77b4;fill-opacity:0.5;stroke:#000000;stroke-linejoin:miter;stroke-width:0.288273;\"/>\n   </g>\n   <g id=\"patch_72\">\n    <path clip-path=\"url(#p781b171eb6)\" d=\"M 538.620215 376.08 \nL 545.191536 376.08 \nL 545.191536 349.688737 \nL 538.620215 349.688737 \nz\n\" style=\"fill:#1f77b4;fill-opacity:0.5;stroke:#000000;stroke-linejoin:miter;stroke-width:0.288273;\"/>\n   </g>\n   <g id=\"patch_73\">\n    <path clip-path=\"url(#p781b171eb6)\" d=\"M 545.191536 376.08 \nL 551.762858 376.08 \nL 551.762858 376.08 \nL 545.191536 376.08 \nz\n\" style=\"fill:#1f77b4;fill-opacity:0.5;stroke:#000000;stroke-linejoin:miter;stroke-width:0.288273;\"/>\n   </g>\n   <g id=\"patch_74\">\n    <path clip-path=\"url(#p781b171eb6)\" d=\"M 551.762858 376.08 \nL 558.334179 376.08 \nL 558.334179 356.674659 \nL 551.762858 356.674659 \nz\n\" style=\"fill:#1f77b4;fill-opacity:0.5;stroke:#000000;stroke-linejoin:miter;stroke-width:0.288273;\"/>\n   </g>\n   <g id=\"patch_75\">\n    <path clip-path=\"url(#p781b171eb6)\" d=\"M 558.334179 376.08 \nL 564.905501 376.08 \nL 564.905501 359.779514 \nL 558.334179 359.779514 \nz\n\" style=\"fill:#1f77b4;fill-opacity:0.5;stroke:#000000;stroke-linejoin:miter;stroke-width:0.288273;\"/>\n   </g>\n   <g id=\"patch_76\">\n    <path clip-path=\"url(#p781b171eb6)\" d=\"M 564.905501 376.08 \nL 571.476822 376.08 \nL 571.476822 361.642427 \nL 564.905501 361.642427 \nz\n\" style=\"fill:#1f77b4;fill-opacity:0.5;stroke:#000000;stroke-linejoin:miter;stroke-width:0.288273;\"/>\n   </g>\n   <g id=\"patch_77\">\n    <path clip-path=\"url(#p781b171eb6)\" d=\"M 571.476822 376.08 \nL 578.048144 376.08 \nL 578.048144 361.642427 \nL 571.476822 361.642427 \nz\n\" style=\"fill:#1f77b4;fill-opacity:0.5;stroke:#000000;stroke-linejoin:miter;stroke-width:0.288273;\"/>\n   </g>\n   <g id=\"patch_78\">\n    <path clip-path=\"url(#p781b171eb6)\" d=\"M 578.048144 376.08 \nL 584.619465 376.08 \nL 584.619465 364.12631 \nL 578.048144 364.12631 \nz\n\" style=\"fill:#1f77b4;fill-opacity:0.5;stroke:#000000;stroke-linejoin:miter;stroke-width:0.288273;\"/>\n   </g>\n   <g id=\"patch_79\">\n    <path clip-path=\"url(#p781b171eb6)\" d=\"M 584.619465 376.08 \nL 591.190787 376.08 \nL 591.190787 368.783592 \nL 584.619465 368.783592 \nz\n\" style=\"fill:#1f77b4;fill-opacity:0.5;stroke:#000000;stroke-linejoin:miter;stroke-width:0.288273;\"/>\n   </g>\n   <g id=\"patch_80\">\n    <path clip-path=\"url(#p781b171eb6)\" d=\"M 591.190787 376.08 \nL 597.762108 376.08 \nL 597.762108 369.559806 \nL 591.190787 369.559806 \nz\n\" style=\"fill:#1f77b4;fill-opacity:0.5;stroke:#000000;stroke-linejoin:miter;stroke-width:0.288273;\"/>\n   </g>\n   <g id=\"patch_81\">\n    <path clip-path=\"url(#p781b171eb6)\" d=\"M 597.762108 376.08 \nL 604.33343 376.08 \nL 604.33343 371.112233 \nL 597.762108 371.112233 \nz\n\" style=\"fill:#1f77b4;fill-opacity:0.5;stroke:#000000;stroke-linejoin:miter;stroke-width:0.288273;\"/>\n   </g>\n   <g id=\"patch_82\">\n    <path clip-path=\"url(#p781b171eb6)\" d=\"M 604.33343 376.08 \nL 610.904751 376.08 \nL 610.904751 376.08 \nL 604.33343 376.08 \nz\n\" style=\"fill:#1f77b4;fill-opacity:0.5;stroke:#000000;stroke-linejoin:miter;stroke-width:0.288273;\"/>\n   </g>\n   <g id=\"patch_83\">\n    <path clip-path=\"url(#p781b171eb6)\" d=\"M 610.904751 376.08 \nL 617.476073 376.08 \nL 617.476073 372.66466 \nL 610.904751 372.66466 \nz\n\" style=\"fill:#1f77b4;fill-opacity:0.5;stroke:#000000;stroke-linejoin:miter;stroke-width:0.288273;\"/>\n   </g>\n   <g id=\"patch_84\">\n    <path clip-path=\"url(#p781b171eb6)\" d=\"M 617.476073 376.08 \nL 624.047394 376.08 \nL 624.047394 372.975146 \nL 617.476073 372.975146 \nz\n\" style=\"fill:#1f77b4;fill-opacity:0.5;stroke:#000000;stroke-linejoin:miter;stroke-width:0.288273;\"/>\n   </g>\n   <g id=\"patch_85\">\n    <path clip-path=\"url(#p781b171eb6)\" d=\"M 624.047394 376.08 \nL 630.618715 376.08 \nL 630.618715 374.682815 \nL 624.047394 374.682815 \nz\n\" style=\"fill:#1f77b4;fill-opacity:0.5;stroke:#000000;stroke-linejoin:miter;stroke-width:0.288273;\"/>\n   </g>\n   <g id=\"patch_86\">\n    <path clip-path=\"url(#p781b171eb6)\" d=\"M 630.618715 376.08 \nL 637.190037 376.08 \nL 637.190037 373.906602 \nL 630.618715 373.906602 \nz\n\" style=\"fill:#1f77b4;fill-opacity:0.5;stroke:#000000;stroke-linejoin:miter;stroke-width:0.288273;\"/>\n   </g>\n   <g id=\"patch_87\">\n    <path clip-path=\"url(#p781b171eb6)\" d=\"M 637.190037 376.08 \nL 643.761358 376.08 \nL 643.761358 374.217087 \nL 637.190037 374.217087 \nz\n\" style=\"fill:#1f77b4;fill-opacity:0.5;stroke:#000000;stroke-linejoin:miter;stroke-width:0.288273;\"/>\n   </g>\n   <g id=\"patch_88\">\n    <path clip-path=\"url(#p781b171eb6)\" d=\"M 643.761358 376.08 \nL 650.33268 376.08 \nL 650.33268 375.614272 \nL 643.761358 375.614272 \nz\n\" style=\"fill:#1f77b4;fill-opacity:0.5;stroke:#000000;stroke-linejoin:miter;stroke-width:0.288273;\"/>\n   </g>\n   <g id=\"patch_89\">\n    <path clip-path=\"url(#p781b171eb6)\" d=\"M 650.33268 376.08 \nL 656.904001 376.08 \nL 656.904001 374.993301 \nL 650.33268 374.993301 \nz\n\" style=\"fill:#1f77b4;fill-opacity:0.5;stroke:#000000;stroke-linejoin:miter;stroke-width:0.288273;\"/>\n   </g>\n   <g id=\"patch_90\">\n    <path clip-path=\"url(#p781b171eb6)\" d=\"M 656.904001 376.08 \nL 663.475323 376.08 \nL 663.475323 374.993301 \nL 656.904001 374.993301 \nz\n\" style=\"fill:#1f77b4;fill-opacity:0.5;stroke:#000000;stroke-linejoin:miter;stroke-width:0.288273;\"/>\n   </g>\n   <g id=\"patch_91\">\n    <path clip-path=\"url(#p781b171eb6)\" d=\"M 663.475323 376.08 \nL 670.046644 376.08 \nL 670.046644 376.08 \nL 663.475323 376.08 \nz\n\" style=\"fill:#1f77b4;fill-opacity:0.5;stroke:#000000;stroke-linejoin:miter;stroke-width:0.288273;\"/>\n   </g>\n   <g id=\"patch_92\">\n    <path clip-path=\"url(#p781b171eb6)\" d=\"M 670.046644 376.08 \nL 676.617966 376.08 \nL 676.617966 375.614272 \nL 670.046644 375.614272 \nz\n\" style=\"fill:#1f77b4;fill-opacity:0.5;stroke:#000000;stroke-linejoin:miter;stroke-width:0.288273;\"/>\n   </g>\n   <g id=\"patch_93\">\n    <path clip-path=\"url(#p781b171eb6)\" d=\"M 676.617966 376.08 \nL 683.189287 376.08 \nL 683.189287 376.08 \nL 676.617966 376.08 \nz\n\" style=\"fill:#1f77b4;fill-opacity:0.5;stroke:#000000;stroke-linejoin:miter;stroke-width:0.288273;\"/>\n   </g>\n   <g id=\"patch_94\">\n    <path clip-path=\"url(#p781b171eb6)\" d=\"M 683.189287 376.08 \nL 689.760609 376.08 \nL 689.760609 375.924757 \nL 683.189287 375.924757 \nz\n\" style=\"fill:#1f77b4;fill-opacity:0.5;stroke:#000000;stroke-linejoin:miter;stroke-width:0.288273;\"/>\n   </g>\n   <g id=\"patch_95\">\n    <path clip-path=\"url(#p781b171eb6)\" d=\"M 689.760609 376.08 \nL 696.33193 376.08 \nL 696.33193 375.924757 \nL 689.760609 375.924757 \nz\n\" style=\"fill:#1f77b4;fill-opacity:0.5;stroke:#000000;stroke-linejoin:miter;stroke-width:0.288273;\"/>\n   </g>\n   <g id=\"patch_96\">\n    <path clip-path=\"url(#p781b171eb6)\" d=\"M 696.33193 376.08 \nL 702.903252 376.08 \nL 702.903252 376.08 \nL 696.33193 376.08 \nz\n\" style=\"fill:#1f77b4;fill-opacity:0.5;stroke:#000000;stroke-linejoin:miter;stroke-width:0.288273;\"/>\n   </g>\n   <g id=\"patch_97\">\n    <path clip-path=\"url(#p781b171eb6)\" d=\"M 702.903252 376.08 \nL 709.474573 376.08 \nL 709.474573 375.924757 \nL 702.903252 375.924757 \nz\n\" style=\"fill:#1f77b4;fill-opacity:0.5;stroke:#000000;stroke-linejoin:miter;stroke-width:0.288273;\"/>\n   </g>\n   <g id=\"patch_98\">\n    <path clip-path=\"url(#p781b171eb6)\" d=\"M 709.474573 376.08 \nL 716.045894 376.08 \nL 716.045894 376.08 \nL 709.474573 376.08 \nz\n\" style=\"fill:#1f77b4;fill-opacity:0.5;stroke:#000000;stroke-linejoin:miter;stroke-width:0.288273;\"/>\n   </g>\n   <g id=\"patch_99\">\n    <path clip-path=\"url(#p781b171eb6)\" d=\"M 716.045894 376.08 \nL 722.617216 376.08 \nL 722.617216 375.924757 \nL 716.045894 375.924757 \nz\n\" style=\"fill:#1f77b4;fill-opacity:0.5;stroke:#000000;stroke-linejoin:miter;stroke-width:0.288273;\"/>\n   </g>\n   <g id=\"matplotlib.axis_1\">\n    <g id=\"xtick_1\">\n     <g id=\"line2d_1\">\n      <defs>\n       <path d=\"M 0 0 \nL 0 3.5 \n\" id=\"m0588a49644\" style=\"stroke:#000000;stroke-width:0.8;\"/>\n      </defs>\n      <g>\n       <use style=\"stroke:#000000;stroke-width:0.8;\" x=\"137.081909\" xlink:href=\"#m0588a49644\" y=\"376.08\"/>\n      </g>\n     </g>\n     <g id=\"text_1\">\n      <!-- 20 -->\n      <g transform=\"translate(130.719409 390.678437)scale(0.1 -0.1)\">\n       <defs>\n        <path d=\"M 1228 531 \nL 3431 531 \nL 3431 0 \nL 469 0 \nL 469 531 \nQ 828 903 1448 1529 \nQ 2069 2156 2228 2338 \nQ 2531 2678 2651 2914 \nQ 2772 3150 2772 3378 \nQ 2772 3750 2511 3984 \nQ 2250 4219 1831 4219 \nQ 1534 4219 1204 4116 \nQ 875 4013 500 3803 \nL 500 4441 \nQ 881 4594 1212 4672 \nQ 1544 4750 1819 4750 \nQ 2544 4750 2975 4387 \nQ 3406 4025 3406 3419 \nQ 3406 3131 3298 2873 \nQ 3191 2616 2906 2266 \nQ 2828 2175 2409 1742 \nQ 1991 1309 1228 531 \nz\n\" id=\"DejaVuSans-32\" transform=\"scale(0.015625)\"/>\n        <path d=\"M 2034 4250 \nQ 1547 4250 1301 3770 \nQ 1056 3291 1056 2328 \nQ 1056 1369 1301 889 \nQ 1547 409 2034 409 \nQ 2525 409 2770 889 \nQ 3016 1369 3016 2328 \nQ 3016 3291 2770 3770 \nQ 2525 4250 2034 4250 \nz\nM 2034 4750 \nQ 2819 4750 3233 4129 \nQ 3647 3509 3647 2328 \nQ 3647 1150 3233 529 \nQ 2819 -91 2034 -91 \nQ 1250 -91 836 529 \nQ 422 1150 422 2328 \nQ 422 3509 836 4129 \nQ 1250 4750 2034 4750 \nz\n\" id=\"DejaVuSans-30\" transform=\"scale(0.015625)\"/>\n       </defs>\n       <use xlink:href=\"#DejaVuSans-32\"/>\n       <use x=\"63.623047\" xlink:href=\"#DejaVuSans-30\"/>\n      </g>\n     </g>\n    </g>\n    <g id=\"xtick_2\">\n     <g id=\"line2d_2\">\n      <g>\n       <use style=\"stroke:#000000;stroke-width:0.8;\" x=\"285.318696\" xlink:href=\"#m0588a49644\" y=\"376.08\"/>\n      </g>\n     </g>\n     <g id=\"text_2\">\n      <!-- 40 -->\n      <g transform=\"translate(278.956196 390.678437)scale(0.1 -0.1)\">\n       <defs>\n        <path d=\"M 2419 4116 \nL 825 1625 \nL 2419 1625 \nL 2419 4116 \nz\nM 2253 4666 \nL 3047 4666 \nL 3047 1625 \nL 3713 1625 \nL 3713 1100 \nL 3047 1100 \nL 3047 0 \nL 2419 0 \nL 2419 1100 \nL 313 1100 \nL 313 1709 \nL 2253 4666 \nz\n\" id=\"DejaVuSans-34\" transform=\"scale(0.015625)\"/>\n       </defs>\n       <use xlink:href=\"#DejaVuSans-34\"/>\n       <use x=\"63.623047\" xlink:href=\"#DejaVuSans-30\"/>\n      </g>\n     </g>\n    </g>\n    <g id=\"xtick_3\">\n     <g id=\"line2d_3\">\n      <g>\n       <use style=\"stroke:#000000;stroke-width:0.8;\" x=\"433.555482\" xlink:href=\"#m0588a49644\" y=\"376.08\"/>\n      </g>\n     </g>\n     <g id=\"text_3\">\n      <!-- 60 -->\n      <g transform=\"translate(427.192982 390.678437)scale(0.1 -0.1)\">\n       <defs>\n        <path d=\"M 2113 2584 \nQ 1688 2584 1439 2293 \nQ 1191 2003 1191 1497 \nQ 1191 994 1439 701 \nQ 1688 409 2113 409 \nQ 2538 409 2786 701 \nQ 3034 994 3034 1497 \nQ 3034 2003 2786 2293 \nQ 2538 2584 2113 2584 \nz\nM 3366 4563 \nL 3366 3988 \nQ 3128 4100 2886 4159 \nQ 2644 4219 2406 4219 \nQ 1781 4219 1451 3797 \nQ 1122 3375 1075 2522 \nQ 1259 2794 1537 2939 \nQ 1816 3084 2150 3084 \nQ 2853 3084 3261 2657 \nQ 3669 2231 3669 1497 \nQ 3669 778 3244 343 \nQ 2819 -91 2113 -91 \nQ 1303 -91 875 529 \nQ 447 1150 447 2328 \nQ 447 3434 972 4092 \nQ 1497 4750 2381 4750 \nQ 2619 4750 2861 4703 \nQ 3103 4656 3366 4563 \nz\n\" id=\"DejaVuSans-36\" transform=\"scale(0.015625)\"/>\n       </defs>\n       <use xlink:href=\"#DejaVuSans-36\"/>\n       <use x=\"63.623047\" xlink:href=\"#DejaVuSans-30\"/>\n      </g>\n     </g>\n    </g>\n    <g id=\"xtick_4\">\n     <g id=\"line2d_4\">\n      <g>\n       <use style=\"stroke:#000000;stroke-width:0.8;\" x=\"581.792269\" xlink:href=\"#m0588a49644\" y=\"376.08\"/>\n      </g>\n     </g>\n     <g id=\"text_4\">\n      <!-- 80 -->\n      <g transform=\"translate(575.429769 390.678437)scale(0.1 -0.1)\">\n       <defs>\n        <path d=\"M 2034 2216 \nQ 1584 2216 1326 1975 \nQ 1069 1734 1069 1313 \nQ 1069 891 1326 650 \nQ 1584 409 2034 409 \nQ 2484 409 2743 651 \nQ 3003 894 3003 1313 \nQ 3003 1734 2745 1975 \nQ 2488 2216 2034 2216 \nz\nM 1403 2484 \nQ 997 2584 770 2862 \nQ 544 3141 544 3541 \nQ 544 4100 942 4425 \nQ 1341 4750 2034 4750 \nQ 2731 4750 3128 4425 \nQ 3525 4100 3525 3541 \nQ 3525 3141 3298 2862 \nQ 3072 2584 2669 2484 \nQ 3125 2378 3379 2068 \nQ 3634 1759 3634 1313 \nQ 3634 634 3220 271 \nQ 2806 -91 2034 -91 \nQ 1263 -91 848 271 \nQ 434 634 434 1313 \nQ 434 1759 690 2068 \nQ 947 2378 1403 2484 \nz\nM 1172 3481 \nQ 1172 3119 1398 2916 \nQ 1625 2713 2034 2713 \nQ 2441 2713 2670 2916 \nQ 2900 3119 2900 3481 \nQ 2900 3844 2670 4047 \nQ 2441 4250 2034 4250 \nQ 1625 4250 1398 4047 \nQ 1172 3844 1172 3481 \nz\n\" id=\"DejaVuSans-38\" transform=\"scale(0.015625)\"/>\n       </defs>\n       <use xlink:href=\"#DejaVuSans-38\"/>\n       <use x=\"63.623047\" xlink:href=\"#DejaVuSans-30\"/>\n      </g>\n     </g>\n    </g>\n    <g id=\"xtick_5\">\n     <g id=\"line2d_5\">\n      <g>\n       <use style=\"stroke:#000000;stroke-width:0.8;\" x=\"730.029055\" xlink:href=\"#m0588a49644\" y=\"376.08\"/>\n      </g>\n     </g>\n     <g id=\"text_5\">\n      <!-- 100 -->\n      <g transform=\"translate(720.485305 390.678437)scale(0.1 -0.1)\">\n       <defs>\n        <path d=\"M 794 531 \nL 1825 531 \nL 1825 4091 \nL 703 3866 \nL 703 4441 \nL 1819 4666 \nL 2450 4666 \nL 2450 531 \nL 3481 531 \nL 3481 0 \nL 794 0 \nL 794 531 \nz\n\" id=\"DejaVuSans-31\" transform=\"scale(0.015625)\"/>\n       </defs>\n       <use xlink:href=\"#DejaVuSans-31\"/>\n       <use x=\"63.623047\" xlink:href=\"#DejaVuSans-30\"/>\n       <use x=\"127.246094\" xlink:href=\"#DejaVuSans-30\"/>\n      </g>\n     </g>\n    </g>\n    <g id=\"text_6\">\n     <!-- R$ -->\n     <g transform=\"translate(397.252656 404.356562)scale(0.1 -0.1)\">\n      <defs>\n       <path d=\"M 2841 2188 \nQ 3044 2119 3236 1894 \nQ 3428 1669 3622 1275 \nL 4263 0 \nL 3584 0 \nL 2988 1197 \nQ 2756 1666 2539 1819 \nQ 2322 1972 1947 1972 \nL 1259 1972 \nL 1259 0 \nL 628 0 \nL 628 4666 \nL 2053 4666 \nQ 2853 4666 3247 4331 \nQ 3641 3997 3641 3322 \nQ 3641 2881 3436 2590 \nQ 3231 2300 2841 2188 \nz\nM 1259 4147 \nL 1259 2491 \nL 2053 2491 \nQ 2509 2491 2742 2702 \nQ 2975 2913 2975 3322 \nQ 2975 3731 2742 3939 \nQ 2509 4147 2053 4147 \nL 1259 4147 \nz\n\" id=\"DejaVuSans-52\" transform=\"scale(0.015625)\"/>\n       <path d=\"M 2163 -941 \nL 1850 -941 \nL 1847 0 \nQ 1519 6 1191 76 \nQ 863 147 531 288 \nL 531 850 \nQ 850 650 1176 548 \nQ 1503 447 1850 444 \nL 1850 1869 \nQ 1159 1981 845 2250 \nQ 531 2519 531 2988 \nQ 531 3497 872 3790 \nQ 1213 4084 1850 4128 \nL 1850 4863 \nL 2163 4863 \nL 2163 4138 \nQ 2453 4125 2725 4076 \nQ 2997 4028 3256 3944 \nL 3256 3397 \nQ 2997 3528 2723 3600 \nQ 2450 3672 2163 3684 \nL 2163 2350 \nQ 2872 2241 3206 1959 \nQ 3541 1678 3541 1191 \nQ 3541 663 3186 358 \nQ 2831 53 2163 6 \nL 2163 -941 \nz\nM 1850 2406 \nL 1850 3688 \nQ 1488 3647 1297 3481 \nQ 1106 3316 1106 3041 \nQ 1106 2772 1282 2622 \nQ 1459 2472 1850 2406 \nz\nM 2163 1806 \nL 2163 453 \nQ 2559 506 2761 678 \nQ 2963 850 2963 1131 \nQ 2963 1406 2770 1568 \nQ 2578 1731 2163 1806 \nz\n\" id=\"DejaVuSans-24\" transform=\"scale(0.015625)\"/>\n      </defs>\n      <use xlink:href=\"#DejaVuSans-52\"/>\n      <use x=\"69.482422\" xlink:href=\"#DejaVuSans-24\"/>\n     </g>\n    </g>\n   </g>\n   <g id=\"matplotlib.axis_2\">\n    <g id=\"ytick_1\">\n     <g id=\"line2d_6\">\n      <defs>\n       <path d=\"M 0 0 \nL -3.5 0 \n\" id=\"m63993cc84b\" style=\"stroke:#000000;stroke-width:0.8;\"/>\n      </defs>\n      <g>\n       <use style=\"stroke:#000000;stroke-width:0.8;\" x=\"53.328125\" xlink:href=\"#m63993cc84b\" y=\"376.08\"/>\n      </g>\n     </g>\n     <g id=\"text_7\">\n      <!-- 0 -->\n      <g transform=\"translate(39.965625 379.879219)scale(0.1 -0.1)\">\n       <use xlink:href=\"#DejaVuSans-30\"/>\n      </g>\n     </g>\n    </g>\n    <g id=\"ytick_2\">\n     <g id=\"line2d_7\">\n      <g>\n       <use style=\"stroke:#000000;stroke-width:0.8;\" x=\"53.328125\" xlink:href=\"#m63993cc84b\" y=\"298.458638\"/>\n      </g>\n     </g>\n     <g id=\"text_8\">\n      <!-- 500 -->\n      <g transform=\"translate(27.240625 302.257856)scale(0.1 -0.1)\">\n       <defs>\n        <path d=\"M 691 4666 \nL 3169 4666 \nL 3169 4134 \nL 1269 4134 \nL 1269 2991 \nQ 1406 3038 1543 3061 \nQ 1681 3084 1819 3084 \nQ 2600 3084 3056 2656 \nQ 3513 2228 3513 1497 \nQ 3513 744 3044 326 \nQ 2575 -91 1722 -91 \nQ 1428 -91 1123 -41 \nQ 819 9 494 109 \nL 494 744 \nQ 775 591 1075 516 \nQ 1375 441 1709 441 \nQ 2250 441 2565 725 \nQ 2881 1009 2881 1497 \nQ 2881 1984 2565 2268 \nQ 2250 2553 1709 2553 \nQ 1456 2553 1204 2497 \nQ 953 2441 691 2322 \nL 691 4666 \nz\n\" id=\"DejaVuSans-35\" transform=\"scale(0.015625)\"/>\n       </defs>\n       <use xlink:href=\"#DejaVuSans-35\"/>\n       <use x=\"63.623047\" xlink:href=\"#DejaVuSans-30\"/>\n       <use x=\"127.246094\" xlink:href=\"#DejaVuSans-30\"/>\n      </g>\n     </g>\n    </g>\n    <g id=\"ytick_3\">\n     <g id=\"line2d_8\">\n      <g>\n       <use style=\"stroke:#000000;stroke-width:0.8;\" x=\"53.328125\" xlink:href=\"#m63993cc84b\" y=\"220.837275\"/>\n      </g>\n     </g>\n     <g id=\"text_9\">\n      <!-- 1000 -->\n      <g transform=\"translate(20.878125 224.636494)scale(0.1 -0.1)\">\n       <use xlink:href=\"#DejaVuSans-31\"/>\n       <use x=\"63.623047\" xlink:href=\"#DejaVuSans-30\"/>\n       <use x=\"127.246094\" xlink:href=\"#DejaVuSans-30\"/>\n       <use x=\"190.869141\" xlink:href=\"#DejaVuSans-30\"/>\n      </g>\n     </g>\n    </g>\n    <g id=\"ytick_4\">\n     <g id=\"line2d_9\">\n      <g>\n       <use style=\"stroke:#000000;stroke-width:0.8;\" x=\"53.328125\" xlink:href=\"#m63993cc84b\" y=\"143.215913\"/>\n      </g>\n     </g>\n     <g id=\"text_10\">\n      <!-- 1500 -->\n      <g transform=\"translate(20.878125 147.015132)scale(0.1 -0.1)\">\n       <use xlink:href=\"#DejaVuSans-31\"/>\n       <use x=\"63.623047\" xlink:href=\"#DejaVuSans-35\"/>\n       <use x=\"127.246094\" xlink:href=\"#DejaVuSans-30\"/>\n       <use x=\"190.869141\" xlink:href=\"#DejaVuSans-30\"/>\n      </g>\n     </g>\n    </g>\n    <g id=\"ytick_5\">\n     <g id=\"line2d_10\">\n      <g>\n       <use style=\"stroke:#000000;stroke-width:0.8;\" x=\"53.328125\" xlink:href=\"#m63993cc84b\" y=\"65.594551\"/>\n      </g>\n     </g>\n     <g id=\"text_11\">\n      <!-- 2000 -->\n      <g transform=\"translate(20.878125 69.39377)scale(0.1 -0.1)\">\n       <use xlink:href=\"#DejaVuSans-32\"/>\n       <use x=\"63.623047\" xlink:href=\"#DejaVuSans-30\"/>\n       <use x=\"127.246094\" xlink:href=\"#DejaVuSans-30\"/>\n       <use x=\"190.869141\" xlink:href=\"#DejaVuSans-30\"/>\n      </g>\n     </g>\n    </g>\n    <g id=\"text_12\">\n     <!-- Count -->\n     <g transform=\"translate(14.798438 206.488437)rotate(-90)scale(0.1 -0.1)\">\n      <defs>\n       <path d=\"M 4122 4306 \nL 4122 3641 \nQ 3803 3938 3442 4084 \nQ 3081 4231 2675 4231 \nQ 1875 4231 1450 3742 \nQ 1025 3253 1025 2328 \nQ 1025 1406 1450 917 \nQ 1875 428 2675 428 \nQ 3081 428 3442 575 \nQ 3803 722 4122 1019 \nL 4122 359 \nQ 3791 134 3420 21 \nQ 3050 -91 2638 -91 \nQ 1578 -91 968 557 \nQ 359 1206 359 2328 \nQ 359 3453 968 4101 \nQ 1578 4750 2638 4750 \nQ 3056 4750 3426 4639 \nQ 3797 4528 4122 4306 \nz\n\" id=\"DejaVuSans-43\" transform=\"scale(0.015625)\"/>\n       <path d=\"M 1959 3097 \nQ 1497 3097 1228 2736 \nQ 959 2375 959 1747 \nQ 959 1119 1226 758 \nQ 1494 397 1959 397 \nQ 2419 397 2687 759 \nQ 2956 1122 2956 1747 \nQ 2956 2369 2687 2733 \nQ 2419 3097 1959 3097 \nz\nM 1959 3584 \nQ 2709 3584 3137 3096 \nQ 3566 2609 3566 1747 \nQ 3566 888 3137 398 \nQ 2709 -91 1959 -91 \nQ 1206 -91 779 398 \nQ 353 888 353 1747 \nQ 353 2609 779 3096 \nQ 1206 3584 1959 3584 \nz\n\" id=\"DejaVuSans-6f\" transform=\"scale(0.015625)\"/>\n       <path d=\"M 544 1381 \nL 544 3500 \nL 1119 3500 \nL 1119 1403 \nQ 1119 906 1312 657 \nQ 1506 409 1894 409 \nQ 2359 409 2629 706 \nQ 2900 1003 2900 1516 \nL 2900 3500 \nL 3475 3500 \nL 3475 0 \nL 2900 0 \nL 2900 538 \nQ 2691 219 2414 64 \nQ 2138 -91 1772 -91 \nQ 1169 -91 856 284 \nQ 544 659 544 1381 \nz\nM 1991 3584 \nL 1991 3584 \nz\n\" id=\"DejaVuSans-75\" transform=\"scale(0.015625)\"/>\n       <path d=\"M 3513 2113 \nL 3513 0 \nL 2938 0 \nL 2938 2094 \nQ 2938 2591 2744 2837 \nQ 2550 3084 2163 3084 \nQ 1697 3084 1428 2787 \nQ 1159 2491 1159 1978 \nL 1159 0 \nL 581 0 \nL 581 3500 \nL 1159 3500 \nL 1159 2956 \nQ 1366 3272 1645 3428 \nQ 1925 3584 2291 3584 \nQ 2894 3584 3203 3211 \nQ 3513 2838 3513 2113 \nz\n\" id=\"DejaVuSans-6e\" transform=\"scale(0.015625)\"/>\n       <path d=\"M 1172 4494 \nL 1172 3500 \nL 2356 3500 \nL 2356 3053 \nL 1172 3053 \nL 1172 1153 \nQ 1172 725 1289 603 \nQ 1406 481 1766 481 \nL 2356 481 \nL 2356 0 \nL 1766 0 \nQ 1100 0 847 248 \nQ 594 497 594 1153 \nL 594 3053 \nL 172 3053 \nL 172 3500 \nL 594 3500 \nL 594 4494 \nL 1172 4494 \nz\n\" id=\"DejaVuSans-74\" transform=\"scale(0.015625)\"/>\n      </defs>\n      <use xlink:href=\"#DejaVuSans-43\"/>\n      <use x=\"69.824219\" xlink:href=\"#DejaVuSans-6f\"/>\n      <use x=\"131.005859\" xlink:href=\"#DejaVuSans-75\"/>\n      <use x=\"194.384766\" xlink:href=\"#DejaVuSans-6e\"/>\n      <use x=\"257.763672\" xlink:href=\"#DejaVuSans-74\"/>\n     </g>\n    </g>\n   </g>\n   <g id=\"line2d_11\">\n    <path clip-path=\"url(#p781b171eb6)\" d=\"M 85.199034 375.872253 \nL 91.605247 375.552453 \nL 94.808353 375.235259 \nL 98.01146 374.728941 \nL 101.214566 373.940045 \nL 104.417673 372.757251 \nL 107.620779 371.068833 \nL 110.823886 368.78695 \nL 114.026992 365.868284 \nL 117.230099 362.319328 \nL 120.433205 358.182348 \nL 123.636311 353.510555 \nL 126.839418 348.348566 \nL 130.042524 342.729239 \nL 133.245631 336.68432 \nL 136.448737 330.256405 \nL 139.651844 323.501911 \nL 146.058056 309.267293 \nL 152.464269 294.430571 \nL 162.073589 271.555683 \nL 174.886014 240.37631 \nL 181.292227 224.337704 \nL 187.69844 207.362486 \nL 203.713972 162.997856 \nL 206.917079 154.930852 \nL 210.120185 147.322697 \nL 216.526398 132.993025 \nL 226.135718 112.075719 \nL 229.338824 105.519124 \nL 232.54193 99.496525 \nL 235.745037 94.176345 \nL 238.948143 89.669792 \nL 242.15125 86.032323 \nL 245.354356 83.256359 \nL 248.557463 81.257135 \nL 251.760569 79.878445 \nL 254.963675 78.934231 \nL 258.166782 78.264707 \nL 264.572995 77.374167 \nL 270.979208 76.753047 \nL 274.182314 76.540419 \nL 277.385421 76.53173 \nL 280.588527 76.883554 \nL 283.791633 77.66517 \nL 290.197846 79.891199 \nL 293.400953 80.760904 \nL 296.604059 81.245351 \nL 303.010272 81.696986 \nL 306.213379 82.175766 \nL 309.416485 82.967657 \nL 312.619591 83.990199 \nL 315.822698 85.159001 \nL 319.025804 86.512682 \nL 322.228911 88.195984 \nL 325.432017 90.309847 \nL 331.83823 95.185636 \nL 335.041337 97.129929 \nL 338.244443 98.157948 \nL 341.447549 98.054323 \nL 344.650656 96.911547 \nL 351.056869 93.359405 \nL 354.259975 92.270442 \nL 357.463082 92.407091 \nL 360.666188 94.00039 \nL 363.869294 96.942261 \nL 367.072401 100.891903 \nL 370.275507 105.452913 \nL 376.68172 115.31665 \nL 386.29104 130.708686 \nL 389.494146 136.09715 \nL 392.697252 141.812868 \nL 395.900359 147.981599 \nL 399.103465 154.604987 \nL 405.509678 168.353292 \nL 408.712785 174.833329 \nL 411.915891 180.749601 \nL 415.118998 186.112024 \nL 424.728317 201.154194 \nL 427.931423 206.731175 \nL 431.13453 212.884277 \nL 434.337636 219.601083 \nL 443.946956 241.05047 \nL 447.150062 247.718572 \nL 450.353168 253.864993 \nL 453.556275 259.524267 \nL 466.368701 280.910889 \nL 475.97802 298.357558 \nL 479.181126 303.703652 \nL 482.384233 308.47632 \nL 485.587339 312.658987 \nL 488.790446 316.368924 \nL 495.196659 323.078956 \nL 504.805978 332.764721 \nL 508.009084 335.79843 \nL 511.212191 338.608714 \nL 514.415297 341.143681 \nL 517.618404 343.387185 \nL 520.82151 345.355992 \nL 524.024617 347.087975 \nL 527.227723 348.627144 \nL 530.430829 350.012454 \nL 536.837042 352.450165 \nL 549.649468 357.052755 \nL 556.055681 359.433176 \nL 559.258787 360.507729 \nL 562.461894 361.456053 \nL 568.868107 363.026799 \nL 575.27432 364.494025 \nL 581.680532 366.191994 \nL 591.289852 368.899459 \nL 597.696065 370.386502 \nL 604.102278 371.561251 \nL 610.50849 372.51389 \nL 616.914703 373.284407 \nL 623.320916 373.864582 \nL 629.727129 374.252906 \nL 648.945768 375.053433 \nL 680.976832 375.881888 \nL 696.992364 375.992633 \nL 722.617216 376.024679 \nL 722.617216 376.024679 \n\" style=\"fill:none;stroke:#1f77b4;stroke-linecap:square;stroke-width:1.5;\"/>\n   </g>\n   <g id=\"patch_100\">\n    <path d=\"M 53.328125 376.08 \nL 53.328125 7.2 \n\" style=\"fill:none;stroke:#000000;stroke-linecap:square;stroke-linejoin:miter;stroke-width:0.8;\"/>\n   </g>\n   <g id=\"patch_101\">\n    <path d=\"M 53.328125 376.08 \nL 754.488125 376.08 \n\" style=\"fill:none;stroke:#000000;stroke-linecap:square;stroke-linejoin:miter;stroke-width:0.8;\"/>\n   </g>\n  </g>\n </g>\n <defs>\n  <clipPath id=\"p781b171eb6\">\n   <rect height=\"368.88\" width=\"701.16\" x=\"53.328125\" y=\"7.2\"/>\n  </clipPath>\n </defs>\n</svg>\n",
      "image/png": "[encoded data removed]"
     },
     "metadata": {
      "needs_background": "light"
     }
    }
   ],
   "metadata": {
    "colab": {},
    "colab_type": "code",
    "id": "uh2CWIG8Tg2A"
   }
  },
  {
   "cell_type": "markdown",
   "source": [
    "> ### Conclusões\n",
    "\n",
    "Com a inpeção do gráfico, vemos que 76% das pessoas tem renda abaixo de 2000 R$"
   ],
   "metadata": {
    "colab_type": "text",
    "id": "w45i-qJ1Tg2E"
   }
  },
  {
   "cell_type": "markdown",
   "source": [
    "### Para a variável RENDA, construa um histograma somente com as informações das pessoas com rendimento até R$ 20.000,00"
   ],
   "metadata": {
    "colab_type": "text",
    "id": "pnAH1T5fTg2F"
   }
  },
  {
   "cell_type": "code",
   "execution_count": 172,
   "source": [
    "ax = sns.displot(dados.query(\"Renda < 20000\").Renda, kde= True)\n",
    "ax.fig.set_size_inches(12, 6)\n",
    "ax.set_titles(\"Distribuição de Frequência - Renda\")\n",
    "ax.set_xlabels(\"R$\")\n",
    "\n",
    "ax"
   ],
   "outputs": [
    {
     "output_type": "execute_result",
     "data": {
      "text/plain": [
       "<seaborn.axisgrid.FacetGrid at 0x7f4d552bc040>"
      ]
     },
     "metadata": {},
     "execution_count": 172
    },
    {
     "output_type": "display_data",
     "data": {
      "text/plain": [
       "<Figure size 864x432 with 1 Axes>"
      ],
      "image/svg+xml": "<?xml version=\"1.0\" encoding=\"utf-8\" standalone=\"no\"?>\n<!DOCTYPE svg PUBLIC \"-//W3C//DTD SVG 1.1//EN\"\n  \"http://www.w3.org/Graphics/SVG/1.1/DTD/svg11.dtd\">\n<svg height=\"413.63625pt\" version=\"1.1\" viewBox=\"0 0 746.391284 413.63625\" width=\"746.391284pt\" xmlns=\"http://www.w3.org/2000/svg\" xmlns:xlink=\"http://www.w3.org/1999/xlink\">\n <metadata>\n  <rdf:RDF xmlns:cc=\"http://creativecommons.org/ns#\" xmlns:dc=\"http://purl.org/dc/elements/1.1/\" xmlns:rdf=\"http://www.w3.org/1999/02/22-rdf-syntax-ns#\">\n   <cc:Work>\n    <dc:type rdf:resource=\"http://purl.org/dc/dcmitype/StillImage\"/>\n    <dc:date>2021-08-14T07:54:45.445638</dc:date>\n    <dc:format>image/svg+xml</dc:format>\n    <dc:creator>\n     <cc:Agent>\n      <dc:title>Matplotlib v3.4.3, https://matplotlib.org/</dc:title>\n     </cc:Agent>\n    </dc:creator>\n   </cc:Work>\n  </rdf:RDF>\n </metadata>\n <defs>\n  <style type=\"text/css\">*{stroke-linecap:butt;stroke-linejoin:round;}</style>\n </defs>\n <g id=\"figure_1\">\n  <g id=\"patch_1\">\n   <path d=\"M 0 413.63625 \nL 746.391284 413.63625 \nL 746.391284 0 \nL 0 0 \nz\n\" style=\"fill:none;\"/>\n  </g>\n  <g id=\"axes_1\">\n   <g id=\"patch_2\">\n    <path d=\"M 53.328125 376.08 \nL 739.191284 376.08 \nL 739.191284 7.2 \nL 53.328125 7.2 \nz\n\" style=\"fill:#ffffff;\"/>\n   </g>\n   <g id=\"patch_3\">\n    <path clip-path=\"url(#pcaab8d1ceb)\" d=\"M 84.503723 376.08 \nL 86.311004 376.08 \nL 86.311004 227.470532 \nL 84.503723 227.470532 \nz\n\" style=\"fill:#1f77b4;fill-opacity:0.5;stroke:#000000;stroke-linejoin:miter;stroke-width:0.081051;\"/>\n   </g>\n   <g id=\"patch_4\">\n    <path clip-path=\"url(#pcaab8d1ceb)\" d=\"M 86.311004 376.08 \nL 88.118285 376.08 \nL 88.118285 340.878074 \nL 86.311004 340.878074 \nz\n\" style=\"fill:#1f77b4;fill-opacity:0.5;stroke:#000000;stroke-linejoin:miter;stroke-width:0.081051;\"/>\n   </g>\n   <g id=\"patch_5\">\n    <path clip-path=\"url(#pcaab8d1ceb)\" d=\"M 88.118285 376.08 \nL 89.925566 376.08 \nL 89.925566 344.637959 \nL 88.118285 344.637959 \nz\n\" style=\"fill:#1f77b4;fill-opacity:0.5;stroke:#000000;stroke-linejoin:miter;stroke-width:0.081051;\"/>\n   </g>\n   <g id=\"patch_6\">\n    <path clip-path=\"url(#pcaab8d1ceb)\" d=\"M 89.925566 376.08 \nL 91.732847 376.08 \nL 91.732847 324.804564 \nL 89.925566 324.804564 \nz\n\" style=\"fill:#1f77b4;fill-opacity:0.5;stroke:#000000;stroke-linejoin:miter;stroke-width:0.081051;\"/>\n   </g>\n   <g id=\"patch_7\">\n    <path clip-path=\"url(#pcaab8d1ceb)\" d=\"M 91.732847 376.08 \nL 93.540128 376.08 \nL 93.540128 349.995796 \nL 91.732847 349.995796 \nz\n\" style=\"fill:#1f77b4;fill-opacity:0.5;stroke:#000000;stroke-linejoin:miter;stroke-width:0.081051;\"/>\n   </g>\n   <g id=\"patch_8\">\n    <path clip-path=\"url(#pcaab8d1ceb)\" d=\"M 93.540128 376.08 \nL 95.347409 376.08 \nL 95.347409 311.597967 \nL 93.540128 311.597967 \nz\n\" style=\"fill:#1f77b4;fill-opacity:0.5;stroke:#000000;stroke-linejoin:miter;stroke-width:0.081051;\"/>\n   </g>\n   <g id=\"patch_9\">\n    <path clip-path=\"url(#pcaab8d1ceb)\" d=\"M 95.347409 376.08 \nL 97.15469 376.08 \nL 97.15469 347.974857 \nL 95.347409 347.974857 \nz\n\" style=\"fill:#1f77b4;fill-opacity:0.5;stroke:#000000;stroke-linejoin:miter;stroke-width:0.081051;\"/>\n   </g>\n   <g id=\"patch_10\">\n    <path clip-path=\"url(#pcaab8d1ceb)\" d=\"M 97.15469 376.08 \nL 98.961972 376.08 \nL 98.961972 294.913475 \nL 97.15469 294.913475 \nz\n\" style=\"fill:#1f77b4;fill-opacity:0.5;stroke:#000000;stroke-linejoin:miter;stroke-width:0.081051;\"/>\n   </g>\n   <g id=\"patch_11\">\n    <path clip-path=\"url(#pcaab8d1ceb)\" d=\"M 98.961972 376.08 \nL 100.769253 376.08 \nL 100.769253 288.803662 \nL 98.961972 288.803662 \nz\n\" style=\"fill:#1f77b4;fill-opacity:0.5;stroke:#000000;stroke-linejoin:miter;stroke-width:0.081051;\"/>\n   </g>\n   <g id=\"patch_12\">\n    <path clip-path=\"url(#pcaab8d1ceb)\" d=\"M 100.769253 376.08 \nL 102.576534 376.08 \nL 102.576534 366.727285 \nL 100.769253 366.727285 \nz\n\" style=\"fill:#1f77b4;fill-opacity:0.5;stroke:#000000;stroke-linejoin:miter;stroke-width:0.081051;\"/>\n   </g>\n   <g id=\"patch_13\">\n    <path clip-path=\"url(#pcaab8d1ceb)\" d=\"M 102.576534 376.08 \nL 104.383815 376.08 \nL 104.383815 304.360187 \nL 102.576534 304.360187 \nz\n\" style=\"fill:#1f77b4;fill-opacity:0.5;stroke:#000000;stroke-linejoin:miter;stroke-width:0.081051;\"/>\n   </g>\n   <g id=\"patch_14\">\n    <path clip-path=\"url(#pcaab8d1ceb)\" d=\"M 104.383815 376.08 \nL 106.191096 376.08 \nL 106.191096 366.398295 \nL 104.383815 366.398295 \nz\n\" style=\"fill:#1f77b4;fill-opacity:0.5;stroke:#000000;stroke-linejoin:miter;stroke-width:0.081051;\"/>\n   </g>\n   <g id=\"patch_15\">\n    <path clip-path=\"url(#pcaab8d1ceb)\" d=\"M 106.191096 376.08 \nL 107.998377 376.08 \nL 107.998377 320.480696 \nL 106.191096 320.480696 \nz\n\" style=\"fill:#1f77b4;fill-opacity:0.5;stroke:#000000;stroke-linejoin:miter;stroke-width:0.081051;\"/>\n   </g>\n   <g id=\"patch_16\">\n    <path clip-path=\"url(#pcaab8d1ceb)\" d=\"M 107.998377 376.08 \nL 109.805658 376.08 \nL 109.805658 24.765714 \nL 107.998377 24.765714 \nz\n\" style=\"fill:#1f77b4;fill-opacity:0.5;stroke:#000000;stroke-linejoin:miter;stroke-width:0.081051;\"/>\n   </g>\n   <g id=\"patch_17\">\n    <path clip-path=\"url(#pcaab8d1ceb)\" d=\"M 109.805658 376.08 \nL 111.612939 376.08 \nL 111.612939 205.052216 \nL 109.805658 205.052216 \nz\n\" style=\"fill:#1f77b4;fill-opacity:0.5;stroke:#000000;stroke-linejoin:miter;stroke-width:0.081051;\"/>\n   </g>\n   <g id=\"patch_18\">\n    <path clip-path=\"url(#pcaab8d1ceb)\" d=\"M 111.612939 376.08 \nL 113.42022 376.08 \nL 113.42022 266.808333 \nL 111.612939 266.808333 \nz\n\" style=\"fill:#1f77b4;fill-opacity:0.5;stroke:#000000;stroke-linejoin:miter;stroke-width:0.081051;\"/>\n   </g>\n   <g id=\"patch_19\">\n    <path clip-path=\"url(#pcaab8d1ceb)\" d=\"M 113.42022 376.08 \nL 115.227501 376.08 \nL 115.227501 335.75523 \nL 113.42022 335.75523 \nz\n\" style=\"fill:#1f77b4;fill-opacity:0.5;stroke:#000000;stroke-linejoin:miter;stroke-width:0.081051;\"/>\n   </g>\n   <g id=\"patch_20\">\n    <path clip-path=\"url(#pcaab8d1ceb)\" d=\"M 115.227501 376.08 \nL 117.034782 376.08 \nL 117.034782 154.904745 \nL 115.227501 154.904745 \nz\n\" style=\"fill:#1f77b4;fill-opacity:0.5;stroke:#000000;stroke-linejoin:miter;stroke-width:0.081051;\"/>\n   </g>\n   <g id=\"patch_21\">\n    <path clip-path=\"url(#pcaab8d1ceb)\" d=\"M 117.034782 376.08 \nL 118.842063 376.08 \nL 118.842063 356.199606 \nL 117.034782 356.199606 \nz\n\" style=\"fill:#1f77b4;fill-opacity:0.5;stroke:#000000;stroke-linejoin:miter;stroke-width:0.081051;\"/>\n   </g>\n   <g id=\"patch_22\">\n    <path clip-path=\"url(#pcaab8d1ceb)\" d=\"M 118.842063 376.08 \nL 120.649344 376.08 \nL 120.649344 298.344371 \nL 118.842063 298.344371 \nz\n\" style=\"fill:#1f77b4;fill-opacity:0.5;stroke:#000000;stroke-linejoin:miter;stroke-width:0.081051;\"/>\n   </g>\n   <g id=\"patch_23\">\n    <path clip-path=\"url(#pcaab8d1ceb)\" d=\"M 120.649344 376.08 \nL 122.456625 376.08 \nL 122.456625 359.160516 \nL 120.649344 359.160516 \nz\n\" style=\"fill:#1f77b4;fill-opacity:0.5;stroke:#000000;stroke-linejoin:miter;stroke-width:0.081051;\"/>\n   </g>\n   <g id=\"patch_24\">\n    <path clip-path=\"url(#pcaab8d1ceb)\" d=\"M 122.456625 376.08 \nL 124.263906 376.08 \nL 124.263906 148.230949 \nL 122.456625 148.230949 \nz\n\" style=\"fill:#1f77b4;fill-opacity:0.5;stroke:#000000;stroke-linejoin:miter;stroke-width:0.081051;\"/>\n   </g>\n   <g id=\"patch_25\">\n    <path clip-path=\"url(#pcaab8d1ceb)\" d=\"M 124.263906 376.08 \nL 126.071187 376.08 \nL 126.071187 296.887415 \nL 124.263906 296.887415 \nz\n\" style=\"fill:#1f77b4;fill-opacity:0.5;stroke:#000000;stroke-linejoin:miter;stroke-width:0.081051;\"/>\n   </g>\n   <g id=\"patch_26\">\n    <path clip-path=\"url(#pcaab8d1ceb)\" d=\"M 126.071187 376.08 \nL 127.878468 376.08 \nL 127.878468 365.27033 \nL 126.071187 365.27033 \nz\n\" style=\"fill:#1f77b4;fill-opacity:0.5;stroke:#000000;stroke-linejoin:miter;stroke-width:0.081051;\"/>\n   </g>\n   <g id=\"patch_27\">\n    <path clip-path=\"url(#pcaab8d1ceb)\" d=\"M 127.878468 376.08 \nL 129.685749 376.08 \nL 129.685749 315.498848 \nL 127.878468 315.498848 \nz\n\" style=\"fill:#1f77b4;fill-opacity:0.5;stroke:#000000;stroke-linejoin:miter;stroke-width:0.081051;\"/>\n   </g>\n   <g id=\"patch_28\">\n    <path clip-path=\"url(#pcaab8d1ceb)\" d=\"M 129.685749 376.08 \nL 131.49303 376.08 \nL 131.49303 368.278238 \nL 129.685749 368.278238 \nz\n\" style=\"fill:#1f77b4;fill-opacity:0.5;stroke:#000000;stroke-linejoin:miter;stroke-width:0.081051;\"/>\n   </g>\n   <g id=\"patch_29\">\n    <path clip-path=\"url(#pcaab8d1ceb)\" d=\"M 131.49303 376.08 \nL 133.300312 376.08 \nL 133.300312 157.442668 \nL 131.49303 157.442668 \nz\n\" style=\"fill:#1f77b4;fill-opacity:0.5;stroke:#000000;stroke-linejoin:miter;stroke-width:0.081051;\"/>\n   </g>\n   <g id=\"patch_30\">\n    <path clip-path=\"url(#pcaab8d1ceb)\" d=\"M 133.300312 376.08 \nL 135.107593 376.08 \nL 135.107593 345.389936 \nL 133.300312 345.389936 \nz\n\" style=\"fill:#1f77b4;fill-opacity:0.5;stroke:#000000;stroke-linejoin:miter;stroke-width:0.081051;\"/>\n   </g>\n   <g id=\"patch_31\">\n    <path clip-path=\"url(#pcaab8d1ceb)\" d=\"M 135.107593 376.08 \nL 136.914874 376.08 \nL 136.914874 306.522121 \nL 135.107593 306.522121 \nz\n\" style=\"fill:#1f77b4;fill-opacity:0.5;stroke:#000000;stroke-linejoin:miter;stroke-width:0.081051;\"/>\n   </g>\n   <g id=\"patch_32\">\n    <path clip-path=\"url(#pcaab8d1ceb)\" d=\"M 136.914874 376.08 \nL 138.722155 376.08 \nL 138.722155 343.650989 \nL 136.914874 343.650989 \nz\n\" style=\"fill:#1f77b4;fill-opacity:0.5;stroke:#000000;stroke-linejoin:miter;stroke-width:0.081051;\"/>\n   </g>\n   <g id=\"patch_33\">\n    <path clip-path=\"url(#pcaab8d1ceb)\" d=\"M 138.722155 376.08 \nL 140.529436 376.08 \nL 140.529436 371.286146 \nL 138.722155 371.286146 \nz\n\" style=\"fill:#1f77b4;fill-opacity:0.5;stroke:#000000;stroke-linejoin:miter;stroke-width:0.081051;\"/>\n   </g>\n   <g id=\"patch_34\">\n    <path clip-path=\"url(#pcaab8d1ceb)\" d=\"M 140.529436 376.08 \nL 142.336717 376.08 \nL 142.336717 303.561212 \nL 140.529436 303.561212 \nz\n\" style=\"fill:#1f77b4;fill-opacity:0.5;stroke:#000000;stroke-linejoin:miter;stroke-width:0.081051;\"/>\n   </g>\n   <g id=\"patch_35\">\n    <path clip-path=\"url(#pcaab8d1ceb)\" d=\"M 142.336717 376.08 \nL 144.143998 376.08 \nL 144.143998 371.897128 \nL 142.336717 371.897128 \nz\n\" style=\"fill:#1f77b4;fill-opacity:0.5;stroke:#000000;stroke-linejoin:miter;stroke-width:0.081051;\"/>\n   </g>\n   <g id=\"patch_36\">\n    <path clip-path=\"url(#pcaab8d1ceb)\" d=\"M 144.143998 376.08 \nL 145.951279 376.08 \nL 145.951279 357.045581 \nL 144.143998 357.045581 \nz\n\" style=\"fill:#1f77b4;fill-opacity:0.5;stroke:#000000;stroke-linejoin:miter;stroke-width:0.081051;\"/>\n   </g>\n   <g id=\"patch_37\">\n    <path clip-path=\"url(#pcaab8d1ceb)\" d=\"M 145.951279 376.08 \nL 147.75856 376.08 \nL 147.75856 372.602106 \nL 145.951279 372.602106 \nz\n\" style=\"fill:#1f77b4;fill-opacity:0.5;stroke:#000000;stroke-linejoin:miter;stroke-width:0.081051;\"/>\n   </g>\n   <g id=\"patch_38\">\n    <path clip-path=\"url(#pcaab8d1ceb)\" d=\"M 147.75856 376.08 \nL 149.565841 376.08 \nL 149.565841 175.490118 \nL 147.75856 175.490118 \nz\n\" style=\"fill:#1f77b4;fill-opacity:0.5;stroke:#000000;stroke-linejoin:miter;stroke-width:0.081051;\"/>\n   </g>\n   <g id=\"patch_39\">\n    <path clip-path=\"url(#pcaab8d1ceb)\" d=\"M 149.565841 376.08 \nL 151.373122 376.08 \nL 151.373122 357.985552 \nL 149.565841 357.985552 \nz\n\" style=\"fill:#1f77b4;fill-opacity:0.5;stroke:#000000;stroke-linejoin:miter;stroke-width:0.081051;\"/>\n   </g>\n   <g id=\"patch_40\">\n    <path clip-path=\"url(#pcaab8d1ceb)\" d=\"M 151.373122 376.08 \nL 153.180403 376.08 \nL 153.180403 373.495079 \nL 151.373122 373.495079 \nz\n\" style=\"fill:#1f77b4;fill-opacity:0.5;stroke:#000000;stroke-linejoin:miter;stroke-width:0.081051;\"/>\n   </g>\n   <g id=\"patch_41\">\n    <path clip-path=\"url(#pcaab8d1ceb)\" d=\"M 153.180403 376.08 \nL 154.987684 376.08 \nL 154.987684 346.376906 \nL 153.180403 346.376906 \nz\n\" style=\"fill:#1f77b4;fill-opacity:0.5;stroke:#000000;stroke-linejoin:miter;stroke-width:0.081051;\"/>\n   </g>\n   <g id=\"patch_42\">\n    <path clip-path=\"url(#pcaab8d1ceb)\" d=\"M 154.987684 376.08 \nL 156.794965 376.08 \nL 156.794965 373.730072 \nL 154.987684 373.730072 \nz\n\" style=\"fill:#1f77b4;fill-opacity:0.5;stroke:#000000;stroke-linejoin:miter;stroke-width:0.081051;\"/>\n   </g>\n   <g id=\"patch_43\">\n    <path clip-path=\"url(#pcaab8d1ceb)\" d=\"M 156.794965 376.08 \nL 158.602246 376.08 \nL 158.602246 342.382028 \nL 156.794965 342.382028 \nz\n\" style=\"fill:#1f77b4;fill-opacity:0.5;stroke:#000000;stroke-linejoin:miter;stroke-width:0.081051;\"/>\n   </g>\n   <g id=\"patch_44\">\n    <path clip-path=\"url(#pcaab8d1ceb)\" d=\"M 158.602246 376.08 \nL 160.409527 376.08 \nL 160.409527 369.500201 \nL 158.602246 369.500201 \nz\n\" style=\"fill:#1f77b4;fill-opacity:0.5;stroke:#000000;stroke-linejoin:miter;stroke-width:0.081051;\"/>\n   </g>\n   <g id=\"patch_45\">\n    <path clip-path=\"url(#pcaab8d1ceb)\" d=\"M 160.409527 376.08 \nL 162.216808 376.08 \nL 162.216808 358.314542 \nL 160.409527 358.314542 \nz\n\" style=\"fill:#1f77b4;fill-opacity:0.5;stroke:#000000;stroke-linejoin:miter;stroke-width:0.081051;\"/>\n   </g>\n   <g id=\"patch_46\">\n    <path clip-path=\"url(#pcaab8d1ceb)\" d=\"M 162.216808 376.08 \nL 164.024089 376.08 \nL 164.024089 286.171742 \nL 162.216808 286.171742 \nz\n\" style=\"fill:#1f77b4;fill-opacity:0.5;stroke:#000000;stroke-linejoin:miter;stroke-width:0.081051;\"/>\n   </g>\n   <g id=\"patch_47\">\n    <path clip-path=\"url(#pcaab8d1ceb)\" d=\"M 164.024089 376.08 \nL 165.83137 376.08 \nL 165.83137 375.046032 \nL 164.024089 375.046032 \nz\n\" style=\"fill:#1f77b4;fill-opacity:0.5;stroke:#000000;stroke-linejoin:miter;stroke-width:0.081051;\"/>\n   </g>\n   <g id=\"patch_48\">\n    <path clip-path=\"url(#pcaab8d1ceb)\" d=\"M 165.83137 376.08 \nL 167.638651 376.08 \nL 167.638651 365.27033 \nL 165.83137 365.27033 \nz\n\" style=\"fill:#1f77b4;fill-opacity:0.5;stroke:#000000;stroke-linejoin:miter;stroke-width:0.081051;\"/>\n   </g>\n   <g id=\"patch_49\">\n    <path clip-path=\"url(#pcaab8d1ceb)\" d=\"M 167.638651 376.08 \nL 169.445933 376.08 \nL 169.445933 375.469019 \nL 167.638651 375.469019 \nz\n\" style=\"fill:#1f77b4;fill-opacity:0.5;stroke:#000000;stroke-linejoin:miter;stroke-width:0.081051;\"/>\n   </g>\n   <g id=\"patch_50\">\n    <path clip-path=\"url(#pcaab8d1ceb)\" d=\"M 169.445933 376.08 \nL 171.253214 376.08 \nL 171.253214 368.137242 \nL 169.445933 368.137242 \nz\n\" style=\"fill:#1f77b4;fill-opacity:0.5;stroke:#000000;stroke-linejoin:miter;stroke-width:0.081051;\"/>\n   </g>\n   <g id=\"patch_51\">\n    <path clip-path=\"url(#pcaab8d1ceb)\" d=\"M 171.253214 376.08 \nL 173.060495 376.08 \nL 173.060495 374.952034 \nL 171.253214 374.952034 \nz\n\" style=\"fill:#1f77b4;fill-opacity:0.5;stroke:#000000;stroke-linejoin:miter;stroke-width:0.081051;\"/>\n   </g>\n   <g id=\"patch_52\">\n    <path clip-path=\"url(#pcaab8d1ceb)\" d=\"M 173.060495 376.08 \nL 174.867776 376.08 \nL 174.867776 357.70356 \nL 173.060495 357.70356 \nz\n\" style=\"fill:#1f77b4;fill-opacity:0.5;stroke:#000000;stroke-linejoin:miter;stroke-width:0.081051;\"/>\n   </g>\n   <g id=\"patch_53\">\n    <path clip-path=\"url(#pcaab8d1ceb)\" d=\"M 174.867776 376.08 \nL 176.675057 376.08 \nL 176.675057 371.004155 \nL 174.867776 371.004155 \nz\n\" style=\"fill:#1f77b4;fill-opacity:0.5;stroke:#000000;stroke-linejoin:miter;stroke-width:0.081051;\"/>\n   </g>\n   <g id=\"patch_54\">\n    <path clip-path=\"url(#pcaab8d1ceb)\" d=\"M 176.675057 376.08 \nL 178.482338 376.08 \nL 178.482338 375.469019 \nL 176.675057 375.469019 \nz\n\" style=\"fill:#1f77b4;fill-opacity:0.5;stroke:#000000;stroke-linejoin:miter;stroke-width:0.081051;\"/>\n   </g>\n   <g id=\"patch_55\">\n    <path clip-path=\"url(#pcaab8d1ceb)\" d=\"M 178.482338 376.08 \nL 180.289619 376.08 \nL 180.289619 253.507738 \nL 178.482338 253.507738 \nz\n\" style=\"fill:#1f77b4;fill-opacity:0.5;stroke:#000000;stroke-linejoin:miter;stroke-width:0.081051;\"/>\n   </g>\n   <g id=\"patch_56\">\n    <path clip-path=\"url(#pcaab8d1ceb)\" d=\"M 180.289619 376.08 \nL 182.0969 376.08 \nL 182.0969 375.704011 \nL 180.289619 375.704011 \nz\n\" style=\"fill:#1f77b4;fill-opacity:0.5;stroke:#000000;stroke-linejoin:miter;stroke-width:0.081051;\"/>\n   </g>\n   <g id=\"patch_57\">\n    <path clip-path=\"url(#pcaab8d1ceb)\" d=\"M 182.0969 376.08 \nL 183.904181 376.08 \nL 183.904181 372.649105 \nL 182.0969 372.649105 \nz\n\" style=\"fill:#1f77b4;fill-opacity:0.5;stroke:#000000;stroke-linejoin:miter;stroke-width:0.081051;\"/>\n   </g>\n   <g id=\"patch_58\">\n    <path clip-path=\"url(#pcaab8d1ceb)\" d=\"M 183.904181 376.08 \nL 185.711462 376.08 \nL 185.711462 374.670043 \nL 183.904181 374.670043 \nz\n\" style=\"fill:#1f77b4;fill-opacity:0.5;stroke:#000000;stroke-linejoin:miter;stroke-width:0.081051;\"/>\n   </g>\n   <g id=\"patch_59\">\n    <path clip-path=\"url(#pcaab8d1ceb)\" d=\"M 185.711462 376.08 \nL 187.518743 376.08 \nL 187.518743 364.424355 \nL 185.711462 364.424355 \nz\n\" style=\"fill:#1f77b4;fill-opacity:0.5;stroke:#000000;stroke-linejoin:miter;stroke-width:0.081051;\"/>\n   </g>\n   <g id=\"patch_60\">\n    <path clip-path=\"url(#pcaab8d1ceb)\" d=\"M 187.518743 376.08 \nL 189.326024 376.08 \nL 189.326024 373.11909 \nL 187.518743 373.11909 \nz\n\" style=\"fill:#1f77b4;fill-opacity:0.5;stroke:#000000;stroke-linejoin:miter;stroke-width:0.081051;\"/>\n   </g>\n   <g id=\"patch_61\">\n    <path clip-path=\"url(#pcaab8d1ceb)\" d=\"M 189.326024 376.08 \nL 191.133305 376.08 \nL 191.133305 375.563016 \nL 189.326024 375.563016 \nz\n\" style=\"fill:#1f77b4;fill-opacity:0.5;stroke:#000000;stroke-linejoin:miter;stroke-width:0.081051;\"/>\n   </g>\n   <g id=\"patch_62\">\n    <path clip-path=\"url(#pcaab8d1ceb)\" d=\"M 191.133305 376.08 \nL 192.940586 376.08 \nL 192.940586 372.367113 \nL 191.133305 372.367113 \nz\n\" style=\"fill:#1f77b4;fill-opacity:0.5;stroke:#000000;stroke-linejoin:miter;stroke-width:0.081051;\"/>\n   </g>\n   <g id=\"patch_63\">\n    <path clip-path=\"url(#pcaab8d1ceb)\" d=\"M 192.940586 376.08 \nL 194.747867 376.08 \nL 194.747867 375.516017 \nL 192.940586 375.516017 \nz\n\" style=\"fill:#1f77b4;fill-opacity:0.5;stroke:#000000;stroke-linejoin:miter;stroke-width:0.081051;\"/>\n   </g>\n   <g id=\"patch_64\">\n    <path clip-path=\"url(#pcaab8d1ceb)\" d=\"M 194.747867 376.08 \nL 196.555148 376.08 \nL 196.555148 328.799442 \nL 194.747867 328.799442 \nz\n\" style=\"fill:#1f77b4;fill-opacity:0.5;stroke:#000000;stroke-linejoin:miter;stroke-width:0.081051;\"/>\n   </g>\n   <g id=\"patch_65\">\n    <path clip-path=\"url(#pcaab8d1ceb)\" d=\"M 196.555148 376.08 \nL 198.362429 376.08 \nL 198.362429 375.281024 \nL 196.555148 375.281024 \nz\n\" style=\"fill:#1f77b4;fill-opacity:0.5;stroke:#000000;stroke-linejoin:miter;stroke-width:0.081051;\"/>\n   </g>\n   <g id=\"patch_66\">\n    <path clip-path=\"url(#pcaab8d1ceb)\" d=\"M 198.362429 376.08 \nL 200.16971 376.08 \nL 200.16971 372.414112 \nL 198.362429 372.414112 \nz\n\" style=\"fill:#1f77b4;fill-opacity:0.5;stroke:#000000;stroke-linejoin:miter;stroke-width:0.081051;\"/>\n   </g>\n   <g id=\"patch_67\">\n    <path clip-path=\"url(#pcaab8d1ceb)\" d=\"M 200.16971 376.08 \nL 201.976991 376.08 \nL 201.976991 373.683073 \nL 200.16971 373.683073 \nz\n\" style=\"fill:#1f77b4;fill-opacity:0.5;stroke:#000000;stroke-linejoin:miter;stroke-width:0.081051;\"/>\n   </g>\n   <g id=\"patch_68\">\n    <path clip-path=\"url(#pcaab8d1ceb)\" d=\"M 201.976991 376.08 \nL 203.784273 376.08 \nL 203.784273 375.610014 \nL 201.976991 375.610014 \nz\n\" style=\"fill:#1f77b4;fill-opacity:0.5;stroke:#000000;stroke-linejoin:miter;stroke-width:0.081051;\"/>\n   </g>\n   <g id=\"patch_69\">\n    <path clip-path=\"url(#pcaab8d1ceb)\" d=\"M 203.784273 376.08 \nL 205.591554 376.08 \nL 205.591554 367.385265 \nL 203.784273 367.385265 \nz\n\" style=\"fill:#1f77b4;fill-opacity:0.5;stroke:#000000;stroke-linejoin:miter;stroke-width:0.081051;\"/>\n   </g>\n   <g id=\"patch_70\">\n    <path clip-path=\"url(#pcaab8d1ceb)\" d=\"M 205.591554 376.08 \nL 207.398835 376.08 \nL 207.398835 375.704011 \nL 205.591554 375.704011 \nz\n\" style=\"fill:#1f77b4;fill-opacity:0.5;stroke:#000000;stroke-linejoin:miter;stroke-width:0.081051;\"/>\n   </g>\n   <g id=\"patch_71\">\n    <path clip-path=\"url(#pcaab8d1ceb)\" d=\"M 207.398835 376.08 \nL 209.206116 376.08 \nL 209.206116 371.709133 \nL 207.398835 371.709133 \nz\n\" style=\"fill:#1f77b4;fill-opacity:0.5;stroke:#000000;stroke-linejoin:miter;stroke-width:0.081051;\"/>\n   </g>\n   <g id=\"patch_72\">\n    <path clip-path=\"url(#pcaab8d1ceb)\" d=\"M 209.206116 376.08 \nL 211.013397 376.08 \nL 211.013397 374.012063 \nL 209.206116 374.012063 \nz\n\" style=\"fill:#1f77b4;fill-opacity:0.5;stroke:#000000;stroke-linejoin:miter;stroke-width:0.081051;\"/>\n   </g>\n   <g id=\"patch_73\">\n    <path clip-path=\"url(#pcaab8d1ceb)\" d=\"M 211.013397 376.08 \nL 212.820678 376.08 \nL 212.820678 308.919048 \nL 211.013397 308.919048 \nz\n\" style=\"fill:#1f77b4;fill-opacity:0.5;stroke:#000000;stroke-linejoin:miter;stroke-width:0.081051;\"/>\n   </g>\n   <g id=\"patch_74\">\n    <path clip-path=\"url(#pcaab8d1ceb)\" d=\"M 212.820678 376.08 \nL 214.627959 376.08 \nL 214.627959 373.542077 \nL 212.820678 373.542077 \nz\n\" style=\"fill:#1f77b4;fill-opacity:0.5;stroke:#000000;stroke-linejoin:miter;stroke-width:0.081051;\"/>\n   </g>\n   <g id=\"patch_75\">\n    <path clip-path=\"url(#pcaab8d1ceb)\" d=\"M 214.627959 376.08 \nL 216.43524 376.08 \nL 216.43524 375.657013 \nL 214.627959 375.657013 \nz\n\" style=\"fill:#1f77b4;fill-opacity:0.5;stroke:#000000;stroke-linejoin:miter;stroke-width:0.081051;\"/>\n   </g>\n   <g id=\"patch_76\">\n    <path clip-path=\"url(#pcaab8d1ceb)\" d=\"M 216.43524 376.08 \nL 218.242521 376.08 \nL 218.242521 371.80313 \nL 216.43524 371.80313 \nz\n\" style=\"fill:#1f77b4;fill-opacity:0.5;stroke:#000000;stroke-linejoin:miter;stroke-width:0.081051;\"/>\n   </g>\n   <g id=\"patch_77\">\n    <path clip-path=\"url(#pcaab8d1ceb)\" d=\"M 218.242521 376.08 \nL 220.049802 376.08 \nL 220.049802 375.704011 \nL 218.242521 375.704011 \nz\n\" style=\"fill:#1f77b4;fill-opacity:0.5;stroke:#000000;stroke-linejoin:miter;stroke-width:0.081051;\"/>\n   </g>\n   <g id=\"patch_78\">\n    <path clip-path=\"url(#pcaab8d1ceb)\" d=\"M 220.049802 376.08 \nL 221.857083 376.08 \nL 221.857083 374.200057 \nL 220.049802 374.200057 \nz\n\" style=\"fill:#1f77b4;fill-opacity:0.5;stroke:#000000;stroke-linejoin:miter;stroke-width:0.081051;\"/>\n   </g>\n   <g id=\"patch_79\">\n    <path clip-path=\"url(#pcaab8d1ceb)\" d=\"M 221.857083 376.08 \nL 223.664364 376.08 \nL 223.664364 375.845007 \nL 221.857083 375.845007 \nz\n\" style=\"fill:#1f77b4;fill-opacity:0.5;stroke:#000000;stroke-linejoin:miter;stroke-width:0.081051;\"/>\n   </g>\n   <g id=\"patch_80\">\n    <path clip-path=\"url(#pcaab8d1ceb)\" d=\"M 223.664364 376.08 \nL 225.471645 376.08 \nL 225.471645 375.516017 \nL 223.664364 375.516017 \nz\n\" style=\"fill:#1f77b4;fill-opacity:0.5;stroke:#000000;stroke-linejoin:miter;stroke-width:0.081051;\"/>\n   </g>\n   <g id=\"patch_81\">\n    <path clip-path=\"url(#pcaab8d1ceb)\" d=\"M 225.471645 376.08 \nL 227.278926 376.08 \nL 227.278926 357.327572 \nL 225.471645 357.327572 \nz\n\" style=\"fill:#1f77b4;fill-opacity:0.5;stroke:#000000;stroke-linejoin:miter;stroke-width:0.081051;\"/>\n   </g>\n   <g id=\"patch_82\">\n    <path clip-path=\"url(#pcaab8d1ceb)\" d=\"M 227.278926 376.08 \nL 229.086207 376.08 \nL 229.086207 375.845007 \nL 227.278926 375.845007 \nz\n\" style=\"fill:#1f77b4;fill-opacity:0.5;stroke:#000000;stroke-linejoin:miter;stroke-width:0.081051;\"/>\n   </g>\n   <g id=\"patch_83\">\n    <path clip-path=\"url(#pcaab8d1ceb)\" d=\"M 229.086207 376.08 \nL 230.893488 376.08 \nL 230.893488 374.717042 \nL 229.086207 374.717042 \nz\n\" style=\"fill:#1f77b4;fill-opacity:0.5;stroke:#000000;stroke-linejoin:miter;stroke-width:0.081051;\"/>\n   </g>\n   <g id=\"patch_84\">\n    <path clip-path=\"url(#pcaab8d1ceb)\" d=\"M 230.893488 376.08 \nL 232.700769 376.08 \nL 232.700769 375.798009 \nL 230.893488 375.798009 \nz\n\" style=\"fill:#1f77b4;fill-opacity:0.5;stroke:#000000;stroke-linejoin:miter;stroke-width:0.081051;\"/>\n   </g>\n   <g id=\"patch_85\">\n    <path clip-path=\"url(#pcaab8d1ceb)\" d=\"M 232.700769 376.08 \nL 234.50805 376.08 \nL 234.50805 375.046032 \nL 232.700769 375.046032 \nz\n\" style=\"fill:#1f77b4;fill-opacity:0.5;stroke:#000000;stroke-linejoin:miter;stroke-width:0.081051;\"/>\n   </g>\n   <g id=\"patch_86\">\n    <path clip-path=\"url(#pcaab8d1ceb)\" d=\"M 234.50805 376.08 \nL 236.315331 376.08 \nL 236.315331 375.986003 \nL 234.50805 375.986003 \nz\n\" style=\"fill:#1f77b4;fill-opacity:0.5;stroke:#000000;stroke-linejoin:miter;stroke-width:0.081051;\"/>\n   </g>\n   <g id=\"patch_87\">\n    <path clip-path=\"url(#pcaab8d1ceb)\" d=\"M 236.315331 376.08 \nL 238.122612 376.08 \nL 238.122612 373.025093 \nL 236.315331 373.025093 \nz\n\" style=\"fill:#1f77b4;fill-opacity:0.5;stroke:#000000;stroke-linejoin:miter;stroke-width:0.081051;\"/>\n   </g>\n   <g id=\"patch_88\">\n    <path clip-path=\"url(#pcaab8d1ceb)\" d=\"M 238.122612 376.08 \nL 239.929894 376.08 \nL 239.929894 375.046032 \nL 238.122612 375.046032 \nz\n\" style=\"fill:#1f77b4;fill-opacity:0.5;stroke:#000000;stroke-linejoin:miter;stroke-width:0.081051;\"/>\n   </g>\n   <g id=\"patch_89\">\n    <path clip-path=\"url(#pcaab8d1ceb)\" d=\"M 239.929894 376.08 \nL 241.737175 376.08 \nL 241.737175 376.033001 \nL 239.929894 376.033001 \nz\n\" style=\"fill:#1f77b4;fill-opacity:0.5;stroke:#000000;stroke-linejoin:miter;stroke-width:0.081051;\"/>\n   </g>\n   <g id=\"patch_90\">\n    <path clip-path=\"url(#pcaab8d1ceb)\" d=\"M 241.737175 376.08 \nL 243.544456 376.08 \nL 243.544456 303.749206 \nL 241.737175 303.749206 \nz\n\" style=\"fill:#1f77b4;fill-opacity:0.5;stroke:#000000;stroke-linejoin:miter;stroke-width:0.081051;\"/>\n   </g>\n   <g id=\"patch_91\">\n    <path clip-path=\"url(#pcaab8d1ceb)\" d=\"M 243.544456 376.08 \nL 245.351737 376.08 \nL 245.351737 375.892006 \nL 243.544456 375.892006 \nz\n\" style=\"fill:#1f77b4;fill-opacity:0.5;stroke:#000000;stroke-linejoin:miter;stroke-width:0.081051;\"/>\n   </g>\n   <g id=\"patch_92\">\n    <path clip-path=\"url(#pcaab8d1ceb)\" d=\"M 245.351737 376.08 \nL 247.159018 376.08 \nL 247.159018 375.140029 \nL 245.351737 375.140029 \nz\n\" style=\"fill:#1f77b4;fill-opacity:0.5;stroke:#000000;stroke-linejoin:miter;stroke-width:0.081051;\"/>\n   </g>\n   <g id=\"patch_93\">\n    <path clip-path=\"url(#pcaab8d1ceb)\" d=\"M 247.159018 376.08 \nL 248.966299 376.08 \nL 248.966299 375.892006 \nL 247.159018 375.892006 \nz\n\" style=\"fill:#1f77b4;fill-opacity:0.5;stroke:#000000;stroke-linejoin:miter;stroke-width:0.081051;\"/>\n   </g>\n   <g id=\"patch_94\">\n    <path clip-path=\"url(#pcaab8d1ceb)\" d=\"M 248.966299 376.08 \nL 250.77358 376.08 \nL 250.77358 373.354083 \nL 248.966299 373.354083 \nz\n\" style=\"fill:#1f77b4;fill-opacity:0.5;stroke:#000000;stroke-linejoin:miter;stroke-width:0.081051;\"/>\n   </g>\n   <g id=\"patch_95\">\n    <path clip-path=\"url(#pcaab8d1ceb)\" d=\"M 250.77358 376.08 \nL 252.580861 376.08 \nL 252.580861 374.811039 \nL 250.77358 374.811039 \nz\n\" style=\"fill:#1f77b4;fill-opacity:0.5;stroke:#000000;stroke-linejoin:miter;stroke-width:0.081051;\"/>\n   </g>\n   <g id=\"patch_96\">\n    <path clip-path=\"url(#pcaab8d1ceb)\" d=\"M 252.580861 376.08 \nL 254.388142 376.08 \nL 254.388142 375.986003 \nL 252.580861 375.986003 \nz\n\" style=\"fill:#1f77b4;fill-opacity:0.5;stroke:#000000;stroke-linejoin:miter;stroke-width:0.081051;\"/>\n   </g>\n   <g id=\"patch_97\">\n    <path clip-path=\"url(#pcaab8d1ceb)\" d=\"M 254.388142 376.08 \nL 256.195423 376.08 \nL 256.195423 375.187027 \nL 254.388142 375.187027 \nz\n\" style=\"fill:#1f77b4;fill-opacity:0.5;stroke:#000000;stroke-linejoin:miter;stroke-width:0.081051;\"/>\n   </g>\n   <g id=\"patch_98\">\n    <path clip-path=\"url(#pcaab8d1ceb)\" d=\"M 256.195423 376.08 \nL 258.002704 376.08 \nL 258.002704 375.939004 \nL 256.195423 375.939004 \nz\n\" style=\"fill:#1f77b4;fill-opacity:0.5;stroke:#000000;stroke-linejoin:miter;stroke-width:0.081051;\"/>\n   </g>\n   <g id=\"patch_99\">\n    <path clip-path=\"url(#pcaab8d1ceb)\" d=\"M 258.002704 376.08 \nL 259.809985 376.08 \nL 259.809985 368.231239 \nL 258.002704 368.231239 \nz\n\" style=\"fill:#1f77b4;fill-opacity:0.5;stroke:#000000;stroke-linejoin:miter;stroke-width:0.081051;\"/>\n   </g>\n   <g id=\"patch_100\">\n    <path clip-path=\"url(#pcaab8d1ceb)\" d=\"M 259.809985 376.08 \nL 261.617266 376.08 \nL 261.617266 375.892006 \nL 259.809985 375.892006 \nz\n\" style=\"fill:#1f77b4;fill-opacity:0.5;stroke:#000000;stroke-linejoin:miter;stroke-width:0.081051;\"/>\n   </g>\n   <g id=\"patch_101\">\n    <path clip-path=\"url(#pcaab8d1ceb)\" d=\"M 261.617266 376.08 \nL 263.424547 376.08 \nL 263.424547 374.623044 \nL 261.617266 374.623044 \nz\n\" style=\"fill:#1f77b4;fill-opacity:0.5;stroke:#000000;stroke-linejoin:miter;stroke-width:0.081051;\"/>\n   </g>\n   <g id=\"patch_102\">\n    <path clip-path=\"url(#pcaab8d1ceb)\" d=\"M 263.424547 376.08 \nL 265.231828 376.08 \nL 265.231828 375.939004 \nL 263.424547 375.939004 \nz\n\" style=\"fill:#1f77b4;fill-opacity:0.5;stroke:#000000;stroke-linejoin:miter;stroke-width:0.081051;\"/>\n   </g>\n   <g id=\"patch_103\">\n    <path clip-path=\"url(#pcaab8d1ceb)\" d=\"M 265.231828 376.08 \nL 267.039109 376.08 \nL 267.039109 375.563016 \nL 265.231828 375.563016 \nz\n\" style=\"fill:#1f77b4;fill-opacity:0.5;stroke:#000000;stroke-linejoin:miter;stroke-width:0.081051;\"/>\n   </g>\n   <g id=\"patch_104\">\n    <path clip-path=\"url(#pcaab8d1ceb)\" d=\"M 267.039109 376.08 \nL 268.84639 376.08 \nL 268.84639 374.717042 \nL 267.039109 374.717042 \nz\n\" style=\"fill:#1f77b4;fill-opacity:0.5;stroke:#000000;stroke-linejoin:miter;stroke-width:0.081051;\"/>\n   </g>\n   <g id=\"patch_105\">\n    <path clip-path=\"url(#pcaab8d1ceb)\" d=\"M 268.84639 376.08 \nL 270.653671 376.08 \nL 270.653671 375.939004 \nL 268.84639 375.939004 \nz\n\" style=\"fill:#1f77b4;fill-opacity:0.5;stroke:#000000;stroke-linejoin:miter;stroke-width:0.081051;\"/>\n   </g>\n   <g id=\"patch_106\">\n    <path clip-path=\"url(#pcaab8d1ceb)\" d=\"M 270.653671 376.08 \nL 272.460952 376.08 \nL 272.460952 375.469019 \nL 270.653671 375.469019 \nz\n\" style=\"fill:#1f77b4;fill-opacity:0.5;stroke:#000000;stroke-linejoin:miter;stroke-width:0.081051;\"/>\n   </g>\n   <g id=\"patch_107\">\n    <path clip-path=\"url(#pcaab8d1ceb)\" d=\"M 272.460952 376.08 \nL 274.268234 376.08 \nL 274.268234 375.986003 \nL 272.460952 375.986003 \nz\n\" style=\"fill:#1f77b4;fill-opacity:0.5;stroke:#000000;stroke-linejoin:miter;stroke-width:0.081051;\"/>\n   </g>\n   <g id=\"patch_108\">\n    <path clip-path=\"url(#pcaab8d1ceb)\" d=\"M 274.268234 376.08 \nL 276.075515 376.08 \nL 276.075515 343.979979 \nL 274.268234 343.979979 \nz\n\" style=\"fill:#1f77b4;fill-opacity:0.5;stroke:#000000;stroke-linejoin:miter;stroke-width:0.081051;\"/>\n   </g>\n   <g id=\"patch_109\">\n    <path clip-path=\"url(#pcaab8d1ceb)\" d=\"M 276.075515 376.08 \nL 277.882796 376.08 \nL 277.882796 376.033001 \nL 276.075515 376.033001 \nz\n\" style=\"fill:#1f77b4;fill-opacity:0.5;stroke:#000000;stroke-linejoin:miter;stroke-width:0.081051;\"/>\n   </g>\n   <g id=\"patch_110\">\n    <path clip-path=\"url(#pcaab8d1ceb)\" d=\"M 277.882796 376.08 \nL 279.690077 376.08 \nL 279.690077 375.75101 \nL 277.882796 375.75101 \nz\n\" style=\"fill:#1f77b4;fill-opacity:0.5;stroke:#000000;stroke-linejoin:miter;stroke-width:0.081051;\"/>\n   </g>\n   <g id=\"patch_111\">\n    <path clip-path=\"url(#pcaab8d1ceb)\" d=\"M 279.690077 376.08 \nL 281.497358 376.08 \nL 281.497358 375.375022 \nL 279.690077 375.375022 \nz\n\" style=\"fill:#1f77b4;fill-opacity:0.5;stroke:#000000;stroke-linejoin:miter;stroke-width:0.081051;\"/>\n   </g>\n   <g id=\"patch_112\">\n    <path clip-path=\"url(#pcaab8d1ceb)\" d=\"M 281.497358 376.08 \nL 283.304639 376.08 \nL 283.304639 375.939004 \nL 281.497358 375.939004 \nz\n\" style=\"fill:#1f77b4;fill-opacity:0.5;stroke:#000000;stroke-linejoin:miter;stroke-width:0.081051;\"/>\n   </g>\n   <g id=\"patch_113\">\n    <path clip-path=\"url(#pcaab8d1ceb)\" d=\"M 283.304639 376.08 \nL 285.11192 376.08 \nL 285.11192 375.469019 \nL 283.304639 375.469019 \nz\n\" style=\"fill:#1f77b4;fill-opacity:0.5;stroke:#000000;stroke-linejoin:miter;stroke-width:0.081051;\"/>\n   </g>\n   <g id=\"patch_114\">\n    <path clip-path=\"url(#pcaab8d1ceb)\" d=\"M 285.11192 376.08 \nL 286.919201 376.08 \nL 286.919201 375.986003 \nL 285.11192 375.986003 \nz\n\" style=\"fill:#1f77b4;fill-opacity:0.5;stroke:#000000;stroke-linejoin:miter;stroke-width:0.081051;\"/>\n   </g>\n   <g id=\"patch_115\">\n    <path clip-path=\"url(#pcaab8d1ceb)\" d=\"M 286.919201 376.08 \nL 288.726482 376.08 \nL 288.726482 375.798009 \nL 286.919201 375.798009 \nz\n\" style=\"fill:#1f77b4;fill-opacity:0.5;stroke:#000000;stroke-linejoin:miter;stroke-width:0.081051;\"/>\n   </g>\n   <g id=\"patch_116\">\n    <path clip-path=\"url(#pcaab8d1ceb)\" d=\"M 288.726482 376.08 \nL 290.533763 376.08 \nL 290.533763 376.08 \nL 288.726482 376.08 \nz\n\" style=\"fill:#1f77b4;fill-opacity:0.5;stroke:#000000;stroke-linejoin:miter;stroke-width:0.081051;\"/>\n   </g>\n   <g id=\"patch_117\">\n    <path clip-path=\"url(#pcaab8d1ceb)\" d=\"M 290.533763 376.08 \nL 292.341044 376.08 \nL 292.341044 370.957156 \nL 290.533763 370.957156 \nz\n\" style=\"fill:#1f77b4;fill-opacity:0.5;stroke:#000000;stroke-linejoin:miter;stroke-width:0.081051;\"/>\n   </g>\n   <g id=\"patch_118\">\n    <path clip-path=\"url(#pcaab8d1ceb)\" d=\"M 292.341044 376.08 \nL 294.148325 376.08 \nL 294.148325 375.892006 \nL 292.341044 375.892006 \nz\n\" style=\"fill:#1f77b4;fill-opacity:0.5;stroke:#000000;stroke-linejoin:miter;stroke-width:0.081051;\"/>\n   </g>\n   <g id=\"patch_119\">\n    <path clip-path=\"url(#pcaab8d1ceb)\" d=\"M 294.148325 376.08 \nL 295.955606 376.08 \nL 295.955606 376.08 \nL 294.148325 376.08 \nz\n\" style=\"fill:#1f77b4;fill-opacity:0.5;stroke:#000000;stroke-linejoin:miter;stroke-width:0.081051;\"/>\n   </g>\n   <g id=\"patch_120\">\n    <path clip-path=\"url(#pcaab8d1ceb)\" d=\"M 295.955606 376.08 \nL 297.762887 376.08 \nL 297.762887 375.798009 \nL 295.955606 375.798009 \nz\n\" style=\"fill:#1f77b4;fill-opacity:0.5;stroke:#000000;stroke-linejoin:miter;stroke-width:0.081051;\"/>\n   </g>\n   <g id=\"patch_121\">\n    <path clip-path=\"url(#pcaab8d1ceb)\" d=\"M 297.762887 376.08 \nL 299.570168 376.08 \nL 299.570168 375.986003 \nL 297.762887 375.986003 \nz\n\" style=\"fill:#1f77b4;fill-opacity:0.5;stroke:#000000;stroke-linejoin:miter;stroke-width:0.081051;\"/>\n   </g>\n   <g id=\"patch_122\">\n    <path clip-path=\"url(#pcaab8d1ceb)\" d=\"M 299.570168 376.08 \nL 301.377449 376.08 \nL 301.377449 374.952034 \nL 299.570168 374.952034 \nz\n\" style=\"fill:#1f77b4;fill-opacity:0.5;stroke:#000000;stroke-linejoin:miter;stroke-width:0.081051;\"/>\n   </g>\n   <g id=\"patch_123\">\n    <path clip-path=\"url(#pcaab8d1ceb)\" d=\"M 301.377449 376.08 \nL 303.18473 376.08 \nL 303.18473 376.033001 \nL 301.377449 376.033001 \nz\n\" style=\"fill:#1f77b4;fill-opacity:0.5;stroke:#000000;stroke-linejoin:miter;stroke-width:0.081051;\"/>\n   </g>\n   <g id=\"patch_124\">\n    <path clip-path=\"url(#pcaab8d1ceb)\" d=\"M 303.18473 376.08 \nL 304.992011 376.08 \nL 304.992011 375.75101 \nL 303.18473 375.75101 \nz\n\" style=\"fill:#1f77b4;fill-opacity:0.5;stroke:#000000;stroke-linejoin:miter;stroke-width:0.081051;\"/>\n   </g>\n   <g id=\"patch_125\">\n    <path clip-path=\"url(#pcaab8d1ceb)\" d=\"M 304.992011 376.08 \nL 306.799292 376.08 \nL 306.799292 353.567687 \nL 304.992011 353.567687 \nz\n\" style=\"fill:#1f77b4;fill-opacity:0.5;stroke:#000000;stroke-linejoin:miter;stroke-width:0.081051;\"/>\n   </g>\n   <g id=\"patch_126\">\n    <path clip-path=\"url(#pcaab8d1ceb)\" d=\"M 306.799292 376.08 \nL 308.606574 376.08 \nL 308.606574 375.986003 \nL 306.799292 375.986003 \nz\n\" style=\"fill:#1f77b4;fill-opacity:0.5;stroke:#000000;stroke-linejoin:miter;stroke-width:0.081051;\"/>\n   </g>\n   <g id=\"patch_127\">\n    <path clip-path=\"url(#pcaab8d1ceb)\" d=\"M 308.606574 376.08 \nL 310.413855 376.08 \nL 310.413855 375.798009 \nL 308.606574 375.798009 \nz\n\" style=\"fill:#1f77b4;fill-opacity:0.5;stroke:#000000;stroke-linejoin:miter;stroke-width:0.081051;\"/>\n   </g>\n   <g id=\"patch_128\">\n    <path clip-path=\"url(#pcaab8d1ceb)\" d=\"M 310.413855 376.08 \nL 312.221136 376.08 \nL 312.221136 376.033001 \nL 310.413855 376.033001 \nz\n\" style=\"fill:#1f77b4;fill-opacity:0.5;stroke:#000000;stroke-linejoin:miter;stroke-width:0.081051;\"/>\n   </g>\n   <g id=\"patch_129\">\n    <path clip-path=\"url(#pcaab8d1ceb)\" d=\"M 312.221136 376.08 \nL 314.028417 376.08 \nL 314.028417 375.328023 \nL 312.221136 375.328023 \nz\n\" style=\"fill:#1f77b4;fill-opacity:0.5;stroke:#000000;stroke-linejoin:miter;stroke-width:0.081051;\"/>\n   </g>\n   <g id=\"patch_130\">\n    <path clip-path=\"url(#pcaab8d1ceb)\" d=\"M 314.028417 376.08 \nL 315.835698 376.08 \nL 315.835698 375.939004 \nL 314.028417 375.939004 \nz\n\" style=\"fill:#1f77b4;fill-opacity:0.5;stroke:#000000;stroke-linejoin:miter;stroke-width:0.081051;\"/>\n   </g>\n   <g id=\"patch_131\">\n    <path clip-path=\"url(#pcaab8d1ceb)\" d=\"M 315.835698 376.08 \nL 317.642979 376.08 \nL 317.642979 375.704011 \nL 315.835698 375.704011 \nz\n\" style=\"fill:#1f77b4;fill-opacity:0.5;stroke:#000000;stroke-linejoin:miter;stroke-width:0.081051;\"/>\n   </g>\n   <g id=\"patch_132\">\n    <path clip-path=\"url(#pcaab8d1ceb)\" d=\"M 317.642979 376.08 \nL 319.45026 376.08 \nL 319.45026 375.939004 \nL 317.642979 375.939004 \nz\n\" style=\"fill:#1f77b4;fill-opacity:0.5;stroke:#000000;stroke-linejoin:miter;stroke-width:0.081051;\"/>\n   </g>\n   <g id=\"patch_133\">\n    <path clip-path=\"url(#pcaab8d1ceb)\" d=\"M 319.45026 376.08 \nL 321.257541 376.08 \nL 321.257541 376.08 \nL 319.45026 376.08 \nz\n\" style=\"fill:#1f77b4;fill-opacity:0.5;stroke:#000000;stroke-linejoin:miter;stroke-width:0.081051;\"/>\n   </g>\n   <g id=\"patch_134\">\n    <path clip-path=\"url(#pcaab8d1ceb)\" d=\"M 321.257541 376.08 \nL 323.064822 376.08 \nL 323.064822 371.850129 \nL 321.257541 371.850129 \nz\n\" style=\"fill:#1f77b4;fill-opacity:0.5;stroke:#000000;stroke-linejoin:miter;stroke-width:0.081051;\"/>\n   </g>\n   <g id=\"patch_135\">\n    <path clip-path=\"url(#pcaab8d1ceb)\" d=\"M 323.064822 376.08 \nL 324.872103 376.08 \nL 324.872103 376.08 \nL 323.064822 376.08 \nz\n\" style=\"fill:#1f77b4;fill-opacity:0.5;stroke:#000000;stroke-linejoin:miter;stroke-width:0.081051;\"/>\n   </g>\n   <g id=\"patch_136\">\n    <path clip-path=\"url(#pcaab8d1ceb)\" d=\"M 324.872103 376.08 \nL 326.679384 376.08 \nL 326.679384 375.798009 \nL 324.872103 375.798009 \nz\n\" style=\"fill:#1f77b4;fill-opacity:0.5;stroke:#000000;stroke-linejoin:miter;stroke-width:0.081051;\"/>\n   </g>\n   <g id=\"patch_137\">\n    <path clip-path=\"url(#pcaab8d1ceb)\" d=\"M 326.679384 376.08 \nL 328.486665 376.08 \nL 328.486665 376.08 \nL 326.679384 376.08 \nz\n\" style=\"fill:#1f77b4;fill-opacity:0.5;stroke:#000000;stroke-linejoin:miter;stroke-width:0.081051;\"/>\n   </g>\n   <g id=\"patch_138\">\n    <path clip-path=\"url(#pcaab8d1ceb)\" d=\"M 328.486665 376.08 \nL 330.293946 376.08 \nL 330.293946 375.892006 \nL 328.486665 375.892006 \nz\n\" style=\"fill:#1f77b4;fill-opacity:0.5;stroke:#000000;stroke-linejoin:miter;stroke-width:0.081051;\"/>\n   </g>\n   <g id=\"patch_139\">\n    <path clip-path=\"url(#pcaab8d1ceb)\" d=\"M 330.293946 376.08 \nL 332.101227 376.08 \nL 332.101227 375.281024 \nL 330.293946 375.281024 \nz\n\" style=\"fill:#1f77b4;fill-opacity:0.5;stroke:#000000;stroke-linejoin:miter;stroke-width:0.081051;\"/>\n   </g>\n   <g id=\"patch_140\">\n    <path clip-path=\"url(#pcaab8d1ceb)\" d=\"M 332.101227 376.08 \nL 333.908508 376.08 \nL 333.908508 376.033001 \nL 332.101227 376.033001 \nz\n\" style=\"fill:#1f77b4;fill-opacity:0.5;stroke:#000000;stroke-linejoin:miter;stroke-width:0.081051;\"/>\n   </g>\n   <g id=\"patch_141\">\n    <path clip-path=\"url(#pcaab8d1ceb)\" d=\"M 333.908508 376.08 \nL 335.715789 376.08 \nL 335.715789 373.636075 \nL 333.908508 373.636075 \nz\n\" style=\"fill:#1f77b4;fill-opacity:0.5;stroke:#000000;stroke-linejoin:miter;stroke-width:0.081051;\"/>\n   </g>\n   <g id=\"patch_142\">\n    <path clip-path=\"url(#pcaab8d1ceb)\" d=\"M 335.715789 376.08 \nL 337.52307 376.08 \nL 337.52307 376.08 \nL 335.715789 376.08 \nz\n\" style=\"fill:#1f77b4;fill-opacity:0.5;stroke:#000000;stroke-linejoin:miter;stroke-width:0.081051;\"/>\n   </g>\n   <g id=\"patch_143\">\n    <path clip-path=\"url(#pcaab8d1ceb)\" d=\"M 337.52307 376.08 \nL 339.330351 376.08 \nL 339.330351 353.285695 \nL 337.52307 353.285695 \nz\n\" style=\"fill:#1f77b4;fill-opacity:0.5;stroke:#000000;stroke-linejoin:miter;stroke-width:0.081051;\"/>\n   </g>\n   <g id=\"patch_144\">\n    <path clip-path=\"url(#pcaab8d1ceb)\" d=\"M 339.330351 376.08 \nL 341.137632 376.08 \nL 341.137632 376.033001 \nL 339.330351 376.033001 \nz\n\" style=\"fill:#1f77b4;fill-opacity:0.5;stroke:#000000;stroke-linejoin:miter;stroke-width:0.081051;\"/>\n   </g>\n   <g id=\"patch_145\">\n    <path clip-path=\"url(#pcaab8d1ceb)\" d=\"M 341.137632 376.08 \nL 342.944913 376.08 \nL 342.944913 375.75101 \nL 341.137632 375.75101 \nz\n\" style=\"fill:#1f77b4;fill-opacity:0.5;stroke:#000000;stroke-linejoin:miter;stroke-width:0.081051;\"/>\n   </g>\n   <g id=\"patch_146\">\n    <path clip-path=\"url(#pcaab8d1ceb)\" d=\"M 342.944913 376.08 \nL 344.752195 376.08 \nL 344.752195 375.845007 \nL 342.944913 375.845007 \nz\n\" style=\"fill:#1f77b4;fill-opacity:0.5;stroke:#000000;stroke-linejoin:miter;stroke-width:0.081051;\"/>\n   </g>\n   <g id=\"patch_147\">\n    <path clip-path=\"url(#pcaab8d1ceb)\" d=\"M 344.752195 376.08 \nL 346.559476 376.08 \nL 346.559476 376.08 \nL 344.752195 376.08 \nz\n\" style=\"fill:#1f77b4;fill-opacity:0.5;stroke:#000000;stroke-linejoin:miter;stroke-width:0.081051;\"/>\n   </g>\n   <g id=\"patch_148\">\n    <path clip-path=\"url(#pcaab8d1ceb)\" d=\"M 346.559476 376.08 \nL 348.366757 376.08 \nL 348.366757 375.845007 \nL 346.559476 375.845007 \nz\n\" style=\"fill:#1f77b4;fill-opacity:0.5;stroke:#000000;stroke-linejoin:miter;stroke-width:0.081051;\"/>\n   </g>\n   <g id=\"patch_149\">\n    <path clip-path=\"url(#pcaab8d1ceb)\" d=\"M 348.366757 376.08 \nL 350.174038 376.08 \nL 350.174038 376.033001 \nL 348.366757 376.033001 \nz\n\" style=\"fill:#1f77b4;fill-opacity:0.5;stroke:#000000;stroke-linejoin:miter;stroke-width:0.081051;\"/>\n   </g>\n   <g id=\"patch_150\">\n    <path clip-path=\"url(#pcaab8d1ceb)\" d=\"M 350.174038 376.08 \nL 351.981319 376.08 \nL 351.981319 375.892006 \nL 350.174038 375.892006 \nz\n\" style=\"fill:#1f77b4;fill-opacity:0.5;stroke:#000000;stroke-linejoin:miter;stroke-width:0.081051;\"/>\n   </g>\n   <g id=\"patch_151\">\n    <path clip-path=\"url(#pcaab8d1ceb)\" d=\"M 351.981319 376.08 \nL 353.7886 376.08 \nL 353.7886 376.08 \nL 351.981319 376.08 \nz\n\" style=\"fill:#1f77b4;fill-opacity:0.5;stroke:#000000;stroke-linejoin:miter;stroke-width:0.081051;\"/>\n   </g>\n   <g id=\"patch_152\">\n    <path clip-path=\"url(#pcaab8d1ceb)\" d=\"M 353.7886 376.08 \nL 355.595881 376.08 \nL 355.595881 374.670043 \nL 353.7886 374.670043 \nz\n\" style=\"fill:#1f77b4;fill-opacity:0.5;stroke:#000000;stroke-linejoin:miter;stroke-width:0.081051;\"/>\n   </g>\n   <g id=\"patch_153\">\n    <path clip-path=\"url(#pcaab8d1ceb)\" d=\"M 355.595881 376.08 \nL 357.403162 376.08 \nL 357.403162 375.845007 \nL 355.595881 375.845007 \nz\n\" style=\"fill:#1f77b4;fill-opacity:0.5;stroke:#000000;stroke-linejoin:miter;stroke-width:0.081051;\"/>\n   </g>\n   <g id=\"patch_154\">\n    <path clip-path=\"url(#pcaab8d1ceb)\" d=\"M 357.403162 376.08 \nL 359.210443 376.08 \nL 359.210443 376.08 \nL 357.403162 376.08 \nz\n\" style=\"fill:#1f77b4;fill-opacity:0.5;stroke:#000000;stroke-linejoin:miter;stroke-width:0.081051;\"/>\n   </g>\n   <g id=\"patch_155\">\n    <path clip-path=\"url(#pcaab8d1ceb)\" d=\"M 359.210443 376.08 \nL 361.017724 376.08 \nL 361.017724 375.657013 \nL 359.210443 375.657013 \nz\n\" style=\"fill:#1f77b4;fill-opacity:0.5;stroke:#000000;stroke-linejoin:miter;stroke-width:0.081051;\"/>\n   </g>\n   <g id=\"patch_156\">\n    <path clip-path=\"url(#pcaab8d1ceb)\" d=\"M 361.017724 376.08 \nL 362.825005 376.08 \nL 362.825005 376.033001 \nL 361.017724 376.033001 \nz\n\" style=\"fill:#1f77b4;fill-opacity:0.5;stroke:#000000;stroke-linejoin:miter;stroke-width:0.081051;\"/>\n   </g>\n   <g id=\"patch_157\">\n    <path clip-path=\"url(#pcaab8d1ceb)\" d=\"M 362.825005 376.08 \nL 364.632286 376.08 \nL 364.632286 376.033001 \nL 362.825005 376.033001 \nz\n\" style=\"fill:#1f77b4;fill-opacity:0.5;stroke:#000000;stroke-linejoin:miter;stroke-width:0.081051;\"/>\n   </g>\n   <g id=\"patch_158\">\n    <path clip-path=\"url(#pcaab8d1ceb)\" d=\"M 364.632286 376.08 \nL 366.439567 376.08 \nL 366.439567 376.033001 \nL 364.632286 376.033001 \nz\n\" style=\"fill:#1f77b4;fill-opacity:0.5;stroke:#000000;stroke-linejoin:miter;stroke-width:0.081051;\"/>\n   </g>\n   <g id=\"patch_159\">\n    <path clip-path=\"url(#pcaab8d1ceb)\" d=\"M 366.439567 376.08 \nL 368.246848 376.08 \nL 368.246848 375.845007 \nL 366.439567 375.845007 \nz\n\" style=\"fill:#1f77b4;fill-opacity:0.5;stroke:#000000;stroke-linejoin:miter;stroke-width:0.081051;\"/>\n   </g>\n   <g id=\"patch_160\">\n    <path clip-path=\"url(#pcaab8d1ceb)\" d=\"M 368.246848 376.08 \nL 370.054129 376.08 \nL 370.054129 369.077214 \nL 368.246848 369.077214 \nz\n\" style=\"fill:#1f77b4;fill-opacity:0.5;stroke:#000000;stroke-linejoin:miter;stroke-width:0.081051;\"/>\n   </g>\n   <g id=\"patch_161\">\n    <path clip-path=\"url(#pcaab8d1ceb)\" d=\"M 370.054129 376.08 \nL 371.86141 376.08 \nL 371.86141 376.08 \nL 370.054129 376.08 \nz\n\" style=\"fill:#1f77b4;fill-opacity:0.5;stroke:#000000;stroke-linejoin:miter;stroke-width:0.081051;\"/>\n   </g>\n   <g id=\"patch_162\">\n    <path clip-path=\"url(#pcaab8d1ceb)\" d=\"M 371.86141 376.08 \nL 373.668691 376.08 \nL 373.668691 375.939004 \nL 371.86141 375.939004 \nz\n\" style=\"fill:#1f77b4;fill-opacity:0.5;stroke:#000000;stroke-linejoin:miter;stroke-width:0.081051;\"/>\n   </g>\n   <g id=\"patch_163\">\n    <path clip-path=\"url(#pcaab8d1ceb)\" d=\"M 373.668691 376.08 \nL 375.475972 376.08 \nL 375.475972 376.033001 \nL 373.668691 376.033001 \nz\n\" style=\"fill:#1f77b4;fill-opacity:0.5;stroke:#000000;stroke-linejoin:miter;stroke-width:0.081051;\"/>\n   </g>\n   <g id=\"patch_164\">\n    <path clip-path=\"url(#pcaab8d1ceb)\" d=\"M 375.475972 376.08 \nL 377.283253 376.08 \nL 377.283253 375.939004 \nL 375.475972 375.939004 \nz\n\" style=\"fill:#1f77b4;fill-opacity:0.5;stroke:#000000;stroke-linejoin:miter;stroke-width:0.081051;\"/>\n   </g>\n   <g id=\"patch_165\">\n    <path clip-path=\"url(#pcaab8d1ceb)\" d=\"M 377.283253 376.08 \nL 379.090535 376.08 \nL 379.090535 376.08 \nL 377.283253 376.08 \nz\n\" style=\"fill:#1f77b4;fill-opacity:0.5;stroke:#000000;stroke-linejoin:miter;stroke-width:0.081051;\"/>\n   </g>\n   <g id=\"patch_166\">\n    <path clip-path=\"url(#pcaab8d1ceb)\" d=\"M 379.090535 376.08 \nL 380.897816 376.08 \nL 380.897816 376.033001 \nL 379.090535 376.033001 \nz\n\" style=\"fill:#1f77b4;fill-opacity:0.5;stroke:#000000;stroke-linejoin:miter;stroke-width:0.081051;\"/>\n   </g>\n   <g id=\"patch_167\">\n    <path clip-path=\"url(#pcaab8d1ceb)\" d=\"M 380.897816 376.08 \nL 382.705097 376.08 \nL 382.705097 375.939004 \nL 380.897816 375.939004 \nz\n\" style=\"fill:#1f77b4;fill-opacity:0.5;stroke:#000000;stroke-linejoin:miter;stroke-width:0.081051;\"/>\n   </g>\n   <g id=\"patch_168\">\n    <path clip-path=\"url(#pcaab8d1ceb)\" d=\"M 382.705097 376.08 \nL 384.512378 376.08 \nL 384.512378 376.08 \nL 382.705097 376.08 \nz\n\" style=\"fill:#1f77b4;fill-opacity:0.5;stroke:#000000;stroke-linejoin:miter;stroke-width:0.081051;\"/>\n   </g>\n   <g id=\"patch_169\">\n    <path clip-path=\"url(#pcaab8d1ceb)\" d=\"M 384.512378 376.08 \nL 386.319659 376.08 \nL 386.319659 375.281024 \nL 384.512378 375.281024 \nz\n\" style=\"fill:#1f77b4;fill-opacity:0.5;stroke:#000000;stroke-linejoin:miter;stroke-width:0.081051;\"/>\n   </g>\n   <g id=\"patch_170\">\n    <path clip-path=\"url(#pcaab8d1ceb)\" d=\"M 386.319659 376.08 \nL 388.12694 376.08 \nL 388.12694 376.033001 \nL 386.319659 376.033001 \nz\n\" style=\"fill:#1f77b4;fill-opacity:0.5;stroke:#000000;stroke-linejoin:miter;stroke-width:0.081051;\"/>\n   </g>\n   <g id=\"patch_171\">\n    <path clip-path=\"url(#pcaab8d1ceb)\" d=\"M 388.12694 376.08 \nL 389.934221 376.08 \nL 389.934221 375.75101 \nL 388.12694 375.75101 \nz\n\" style=\"fill:#1f77b4;fill-opacity:0.5;stroke:#000000;stroke-linejoin:miter;stroke-width:0.081051;\"/>\n   </g>\n   <g id=\"patch_172\">\n    <path clip-path=\"url(#pcaab8d1ceb)\" d=\"M 389.934221 376.08 \nL 391.741502 376.08 \nL 391.741502 376.08 \nL 389.934221 376.08 \nz\n\" style=\"fill:#1f77b4;fill-opacity:0.5;stroke:#000000;stroke-linejoin:miter;stroke-width:0.081051;\"/>\n   </g>\n   <g id=\"patch_173\">\n    <path clip-path=\"url(#pcaab8d1ceb)\" d=\"M 391.741502 376.08 \nL 393.548783 376.08 \nL 393.548783 375.986003 \nL 391.741502 375.986003 \nz\n\" style=\"fill:#1f77b4;fill-opacity:0.5;stroke:#000000;stroke-linejoin:miter;stroke-width:0.081051;\"/>\n   </g>\n   <g id=\"patch_174\">\n    <path clip-path=\"url(#pcaab8d1ceb)\" d=\"M 393.548783 376.08 \nL 395.356064 376.08 \nL 395.356064 375.798009 \nL 393.548783 375.798009 \nz\n\" style=\"fill:#1f77b4;fill-opacity:0.5;stroke:#000000;stroke-linejoin:miter;stroke-width:0.081051;\"/>\n   </g>\n   <g id=\"patch_175\">\n    <path clip-path=\"url(#pcaab8d1ceb)\" d=\"M 395.356064 376.08 \nL 397.163345 376.08 \nL 397.163345 376.08 \nL 395.356064 376.08 \nz\n\" style=\"fill:#1f77b4;fill-opacity:0.5;stroke:#000000;stroke-linejoin:miter;stroke-width:0.081051;\"/>\n   </g>\n   <g id=\"patch_176\">\n    <path clip-path=\"url(#pcaab8d1ceb)\" d=\"M 397.163345 376.08 \nL 398.970626 376.08 \nL 398.970626 376.033001 \nL 397.163345 376.033001 \nz\n\" style=\"fill:#1f77b4;fill-opacity:0.5;stroke:#000000;stroke-linejoin:miter;stroke-width:0.081051;\"/>\n   </g>\n   <g id=\"patch_177\">\n    <path clip-path=\"url(#pcaab8d1ceb)\" d=\"M 398.970626 376.08 \nL 400.777907 376.08 \nL 400.777907 376.08 \nL 398.970626 376.08 \nz\n\" style=\"fill:#1f77b4;fill-opacity:0.5;stroke:#000000;stroke-linejoin:miter;stroke-width:0.081051;\"/>\n   </g>\n   <g id=\"patch_178\">\n    <path clip-path=\"url(#pcaab8d1ceb)\" d=\"M 400.777907 376.08 \nL 402.585188 376.08 \nL 402.585188 346.423904 \nL 400.777907 346.423904 \nz\n\" style=\"fill:#1f77b4;fill-opacity:0.5;stroke:#000000;stroke-linejoin:miter;stroke-width:0.081051;\"/>\n   </g>\n   <g id=\"patch_179\">\n    <path clip-path=\"url(#pcaab8d1ceb)\" d=\"M 402.585188 376.08 \nL 404.392469 376.08 \nL 404.392469 376.033001 \nL 402.585188 376.033001 \nz\n\" style=\"fill:#1f77b4;fill-opacity:0.5;stroke:#000000;stroke-linejoin:miter;stroke-width:0.081051;\"/>\n   </g>\n   <g id=\"patch_180\">\n    <path clip-path=\"url(#pcaab8d1ceb)\" d=\"M 404.392469 376.08 \nL 406.19975 376.08 \nL 406.19975 375.986003 \nL 404.392469 375.986003 \nz\n\" style=\"fill:#1f77b4;fill-opacity:0.5;stroke:#000000;stroke-linejoin:miter;stroke-width:0.081051;\"/>\n   </g>\n   <g id=\"patch_181\">\n    <path clip-path=\"url(#pcaab8d1ceb)\" d=\"M 406.19975 376.08 \nL 408.007031 376.08 \nL 408.007031 376.033001 \nL 406.19975 376.033001 \nz\n\" style=\"fill:#1f77b4;fill-opacity:0.5;stroke:#000000;stroke-linejoin:miter;stroke-width:0.081051;\"/>\n   </g>\n   <g id=\"patch_182\">\n    <path clip-path=\"url(#pcaab8d1ceb)\" d=\"M 408.007031 376.08 \nL 409.814312 376.08 \nL 409.814312 376.08 \nL 408.007031 376.08 \nz\n\" style=\"fill:#1f77b4;fill-opacity:0.5;stroke:#000000;stroke-linejoin:miter;stroke-width:0.081051;\"/>\n   </g>\n   <g id=\"patch_183\">\n    <path clip-path=\"url(#pcaab8d1ceb)\" d=\"M 409.814312 376.08 \nL 411.621593 376.08 \nL 411.621593 375.798009 \nL 409.814312 375.798009 \nz\n\" style=\"fill:#1f77b4;fill-opacity:0.5;stroke:#000000;stroke-linejoin:miter;stroke-width:0.081051;\"/>\n   </g>\n   <g id=\"patch_184\">\n    <path clip-path=\"url(#pcaab8d1ceb)\" d=\"M 411.621593 376.08 \nL 413.428874 376.08 \nL 413.428874 376.033001 \nL 411.621593 376.033001 \nz\n\" style=\"fill:#1f77b4;fill-opacity:0.5;stroke:#000000;stroke-linejoin:miter;stroke-width:0.081051;\"/>\n   </g>\n   <g id=\"patch_185\">\n    <path clip-path=\"url(#pcaab8d1ceb)\" d=\"M 413.428874 376.08 \nL 415.236156 376.08 \nL 415.236156 376.08 \nL 413.428874 376.08 \nz\n\" style=\"fill:#1f77b4;fill-opacity:0.5;stroke:#000000;stroke-linejoin:miter;stroke-width:0.081051;\"/>\n   </g>\n   <g id=\"patch_186\">\n    <path clip-path=\"url(#pcaab8d1ceb)\" d=\"M 415.236156 376.08 \nL 417.043437 376.08 \nL 417.043437 376.033001 \nL 415.236156 376.033001 \nz\n\" style=\"fill:#1f77b4;fill-opacity:0.5;stroke:#000000;stroke-linejoin:miter;stroke-width:0.081051;\"/>\n   </g>\n   <g id=\"patch_187\">\n    <path clip-path=\"url(#pcaab8d1ceb)\" d=\"M 417.043437 376.08 \nL 418.850718 376.08 \nL 418.850718 375.610014 \nL 417.043437 375.610014 \nz\n\" style=\"fill:#1f77b4;fill-opacity:0.5;stroke:#000000;stroke-linejoin:miter;stroke-width:0.081051;\"/>\n   </g>\n   <g id=\"patch_188\">\n    <path clip-path=\"url(#pcaab8d1ceb)\" d=\"M 418.850718 376.08 \nL 420.657999 376.08 \nL 420.657999 375.939004 \nL 418.850718 375.939004 \nz\n\" style=\"fill:#1f77b4;fill-opacity:0.5;stroke:#000000;stroke-linejoin:miter;stroke-width:0.081051;\"/>\n   </g>\n   <g id=\"patch_189\">\n    <path clip-path=\"url(#pcaab8d1ceb)\" d=\"M 420.657999 376.08 \nL 422.46528 376.08 \nL 422.46528 376.08 \nL 420.657999 376.08 \nz\n\" style=\"fill:#1f77b4;fill-opacity:0.5;stroke:#000000;stroke-linejoin:miter;stroke-width:0.081051;\"/>\n   </g>\n   <g id=\"patch_190\">\n    <path clip-path=\"url(#pcaab8d1ceb)\" d=\"M 422.46528 376.08 \nL 424.272561 376.08 \nL 424.272561 376.033001 \nL 422.46528 376.033001 \nz\n\" style=\"fill:#1f77b4;fill-opacity:0.5;stroke:#000000;stroke-linejoin:miter;stroke-width:0.081051;\"/>\n   </g>\n   <g id=\"patch_191\">\n    <path clip-path=\"url(#pcaab8d1ceb)\" d=\"M 424.272561 376.08 \nL 426.079842 376.08 \nL 426.079842 376.08 \nL 424.272561 376.08 \nz\n\" style=\"fill:#1f77b4;fill-opacity:0.5;stroke:#000000;stroke-linejoin:miter;stroke-width:0.081051;\"/>\n   </g>\n   <g id=\"patch_192\">\n    <path clip-path=\"url(#pcaab8d1ceb)\" d=\"M 426.079842 376.08 \nL 427.887123 376.08 \nL 427.887123 375.798009 \nL 426.079842 375.798009 \nz\n\" style=\"fill:#1f77b4;fill-opacity:0.5;stroke:#000000;stroke-linejoin:miter;stroke-width:0.081051;\"/>\n   </g>\n   <g id=\"patch_193\">\n    <path clip-path=\"url(#pcaab8d1ceb)\" d=\"M 427.887123 376.08 \nL 429.694404 376.08 \nL 429.694404 375.939004 \nL 427.887123 375.939004 \nz\n\" style=\"fill:#1f77b4;fill-opacity:0.5;stroke:#000000;stroke-linejoin:miter;stroke-width:0.081051;\"/>\n   </g>\n   <g id=\"patch_194\">\n    <path clip-path=\"url(#pcaab8d1ceb)\" d=\"M 429.694404 376.08 \nL 431.501685 376.08 \nL 431.501685 375.986003 \nL 429.694404 375.986003 \nz\n\" style=\"fill:#1f77b4;fill-opacity:0.5;stroke:#000000;stroke-linejoin:miter;stroke-width:0.081051;\"/>\n   </g>\n   <g id=\"patch_195\">\n    <path clip-path=\"url(#pcaab8d1ceb)\" d=\"M 431.501685 376.08 \nL 433.308966 376.08 \nL 433.308966 376.08 \nL 431.501685 376.08 \nz\n\" style=\"fill:#1f77b4;fill-opacity:0.5;stroke:#000000;stroke-linejoin:miter;stroke-width:0.081051;\"/>\n   </g>\n   <g id=\"patch_196\">\n    <path clip-path=\"url(#pcaab8d1ceb)\" d=\"M 433.308966 376.08 \nL 435.116247 376.08 \nL 435.116247 372.320115 \nL 433.308966 372.320115 \nz\n\" style=\"fill:#1f77b4;fill-opacity:0.5;stroke:#000000;stroke-linejoin:miter;stroke-width:0.081051;\"/>\n   </g>\n   <g id=\"patch_197\">\n    <path clip-path=\"url(#pcaab8d1ceb)\" d=\"M 435.116247 376.08 \nL 436.923528 376.08 \nL 436.923528 376.08 \nL 435.116247 376.08 \nz\n\" style=\"fill:#1f77b4;fill-opacity:0.5;stroke:#000000;stroke-linejoin:miter;stroke-width:0.081051;\"/>\n   </g>\n   <g id=\"patch_198\">\n    <path clip-path=\"url(#pcaab8d1ceb)\" d=\"M 436.923528 376.08 \nL 438.730809 376.08 \nL 438.730809 376.08 \nL 436.923528 376.08 \nz\n\" style=\"fill:#1f77b4;fill-opacity:0.5;stroke:#000000;stroke-linejoin:miter;stroke-width:0.081051;\"/>\n   </g>\n   <g id=\"patch_199\">\n    <path clip-path=\"url(#pcaab8d1ceb)\" d=\"M 438.730809 376.08 \nL 440.53809 376.08 \nL 440.53809 376.08 \nL 438.730809 376.08 \nz\n\" style=\"fill:#1f77b4;fill-opacity:0.5;stroke:#000000;stroke-linejoin:miter;stroke-width:0.081051;\"/>\n   </g>\n   <g id=\"patch_200\">\n    <path clip-path=\"url(#pcaab8d1ceb)\" d=\"M 440.53809 376.08 \nL 442.345371 376.08 \nL 442.345371 376.08 \nL 440.53809 376.08 \nz\n\" style=\"fill:#1f77b4;fill-opacity:0.5;stroke:#000000;stroke-linejoin:miter;stroke-width:0.081051;\"/>\n   </g>\n   <g id=\"patch_201\">\n    <path clip-path=\"url(#pcaab8d1ceb)\" d=\"M 442.345371 376.08 \nL 444.152652 376.08 \nL 444.152652 375.939004 \nL 442.345371 375.939004 \nz\n\" style=\"fill:#1f77b4;fill-opacity:0.5;stroke:#000000;stroke-linejoin:miter;stroke-width:0.081051;\"/>\n   </g>\n   <g id=\"patch_202\">\n    <path clip-path=\"url(#pcaab8d1ceb)\" d=\"M 444.152652 376.08 \nL 445.959933 376.08 \nL 445.959933 376.08 \nL 444.152652 376.08 \nz\n\" style=\"fill:#1f77b4;fill-opacity:0.5;stroke:#000000;stroke-linejoin:miter;stroke-width:0.081051;\"/>\n   </g>\n   <g id=\"patch_203\">\n    <path clip-path=\"url(#pcaab8d1ceb)\" d=\"M 445.959933 376.08 \nL 447.767214 376.08 \nL 447.767214 376.033001 \nL 445.959933 376.033001 \nz\n\" style=\"fill:#1f77b4;fill-opacity:0.5;stroke:#000000;stroke-linejoin:miter;stroke-width:0.081051;\"/>\n   </g>\n   <g id=\"patch_204\">\n    <path clip-path=\"url(#pcaab8d1ceb)\" d=\"M 447.767214 376.08 \nL 449.574496 376.08 \nL 449.574496 375.798009 \nL 447.767214 375.798009 \nz\n\" style=\"fill:#1f77b4;fill-opacity:0.5;stroke:#000000;stroke-linejoin:miter;stroke-width:0.081051;\"/>\n   </g>\n   <g id=\"patch_205\">\n    <path clip-path=\"url(#pcaab8d1ceb)\" d=\"M 449.574496 376.08 \nL 451.381777 376.08 \nL 451.381777 376.08 \nL 449.574496 376.08 \nz\n\" style=\"fill:#1f77b4;fill-opacity:0.5;stroke:#000000;stroke-linejoin:miter;stroke-width:0.081051;\"/>\n   </g>\n   <g id=\"patch_206\">\n    <path clip-path=\"url(#pcaab8d1ceb)\" d=\"M 451.381777 376.08 \nL 453.189058 376.08 \nL 453.189058 376.08 \nL 451.381777 376.08 \nz\n\" style=\"fill:#1f77b4;fill-opacity:0.5;stroke:#000000;stroke-linejoin:miter;stroke-width:0.081051;\"/>\n   </g>\n   <g id=\"patch_207\">\n    <path clip-path=\"url(#pcaab8d1ceb)\" d=\"M 453.189058 376.08 \nL 454.996339 376.08 \nL 454.996339 376.08 \nL 453.189058 376.08 \nz\n\" style=\"fill:#1f77b4;fill-opacity:0.5;stroke:#000000;stroke-linejoin:miter;stroke-width:0.081051;\"/>\n   </g>\n   <g id=\"patch_208\">\n    <path clip-path=\"url(#pcaab8d1ceb)\" d=\"M 454.996339 376.08 \nL 456.80362 376.08 \nL 456.80362 376.033001 \nL 454.996339 376.033001 \nz\n\" style=\"fill:#1f77b4;fill-opacity:0.5;stroke:#000000;stroke-linejoin:miter;stroke-width:0.081051;\"/>\n   </g>\n   <g id=\"patch_209\">\n    <path clip-path=\"url(#pcaab8d1ceb)\" d=\"M 456.80362 376.08 \nL 458.610901 376.08 \nL 458.610901 376.033001 \nL 456.80362 376.033001 \nz\n\" style=\"fill:#1f77b4;fill-opacity:0.5;stroke:#000000;stroke-linejoin:miter;stroke-width:0.081051;\"/>\n   </g>\n   <g id=\"patch_210\">\n    <path clip-path=\"url(#pcaab8d1ceb)\" d=\"M 458.610901 376.08 \nL 460.418182 376.08 \nL 460.418182 375.939004 \nL 458.610901 375.939004 \nz\n\" style=\"fill:#1f77b4;fill-opacity:0.5;stroke:#000000;stroke-linejoin:miter;stroke-width:0.081051;\"/>\n   </g>\n   <g id=\"patch_211\">\n    <path clip-path=\"url(#pcaab8d1ceb)\" d=\"M 460.418182 376.08 \nL 462.225463 376.08 \nL 462.225463 376.08 \nL 460.418182 376.08 \nz\n\" style=\"fill:#1f77b4;fill-opacity:0.5;stroke:#000000;stroke-linejoin:miter;stroke-width:0.081051;\"/>\n   </g>\n   <g id=\"patch_212\">\n    <path clip-path=\"url(#pcaab8d1ceb)\" d=\"M 462.225463 376.08 \nL 464.032744 376.08 \nL 464.032744 376.08 \nL 462.225463 376.08 \nz\n\" style=\"fill:#1f77b4;fill-opacity:0.5;stroke:#000000;stroke-linejoin:miter;stroke-width:0.081051;\"/>\n   </g>\n   <g id=\"patch_213\">\n    <path clip-path=\"url(#pcaab8d1ceb)\" d=\"M 464.032744 376.08 \nL 465.840025 376.08 \nL 465.840025 366.398295 \nL 464.032744 366.398295 \nz\n\" style=\"fill:#1f77b4;fill-opacity:0.5;stroke:#000000;stroke-linejoin:miter;stroke-width:0.081051;\"/>\n   </g>\n   <g id=\"patch_214\">\n    <path clip-path=\"url(#pcaab8d1ceb)\" d=\"M 465.840025 376.08 \nL 467.647306 376.08 \nL 467.647306 376.08 \nL 465.840025 376.08 \nz\n\" style=\"fill:#1f77b4;fill-opacity:0.5;stroke:#000000;stroke-linejoin:miter;stroke-width:0.081051;\"/>\n   </g>\n   <g id=\"patch_215\">\n    <path clip-path=\"url(#pcaab8d1ceb)\" d=\"M 467.647306 376.08 \nL 469.454587 376.08 \nL 469.454587 376.08 \nL 467.647306 376.08 \nz\n\" style=\"fill:#1f77b4;fill-opacity:0.5;stroke:#000000;stroke-linejoin:miter;stroke-width:0.081051;\"/>\n   </g>\n   <g id=\"patch_216\">\n    <path clip-path=\"url(#pcaab8d1ceb)\" d=\"M 469.454587 376.08 \nL 471.261868 376.08 \nL 471.261868 376.08 \nL 469.454587 376.08 \nz\n\" style=\"fill:#1f77b4;fill-opacity:0.5;stroke:#000000;stroke-linejoin:miter;stroke-width:0.081051;\"/>\n   </g>\n   <g id=\"patch_217\">\n    <path clip-path=\"url(#pcaab8d1ceb)\" d=\"M 471.261868 376.08 \nL 473.069149 376.08 \nL 473.069149 376.033001 \nL 471.261868 376.033001 \nz\n\" style=\"fill:#1f77b4;fill-opacity:0.5;stroke:#000000;stroke-linejoin:miter;stroke-width:0.081051;\"/>\n   </g>\n   <g id=\"patch_218\">\n    <path clip-path=\"url(#pcaab8d1ceb)\" d=\"M 473.069149 376.08 \nL 474.87643 376.08 \nL 474.87643 376.08 \nL 473.069149 376.08 \nz\n\" style=\"fill:#1f77b4;fill-opacity:0.5;stroke:#000000;stroke-linejoin:miter;stroke-width:0.081051;\"/>\n   </g>\n   <g id=\"patch_219\">\n    <path clip-path=\"url(#pcaab8d1ceb)\" d=\"M 474.87643 376.08 \nL 476.683711 376.08 \nL 476.683711 376.08 \nL 474.87643 376.08 \nz\n\" style=\"fill:#1f77b4;fill-opacity:0.5;stroke:#000000;stroke-linejoin:miter;stroke-width:0.081051;\"/>\n   </g>\n   <g id=\"patch_220\">\n    <path clip-path=\"url(#pcaab8d1ceb)\" d=\"M 476.683711 376.08 \nL 478.490992 376.08 \nL 478.490992 376.08 \nL 476.683711 376.08 \nz\n\" style=\"fill:#1f77b4;fill-opacity:0.5;stroke:#000000;stroke-linejoin:miter;stroke-width:0.081051;\"/>\n   </g>\n   <g id=\"patch_221\">\n    <path clip-path=\"url(#pcaab8d1ceb)\" d=\"M 478.490992 376.08 \nL 480.298273 376.08 \nL 480.298273 376.08 \nL 478.490992 376.08 \nz\n\" style=\"fill:#1f77b4;fill-opacity:0.5;stroke:#000000;stroke-linejoin:miter;stroke-width:0.081051;\"/>\n   </g>\n   <g id=\"patch_222\">\n    <path clip-path=\"url(#pcaab8d1ceb)\" d=\"M 480.298273 376.08 \nL 482.105554 376.08 \nL 482.105554 375.563016 \nL 480.298273 375.563016 \nz\n\" style=\"fill:#1f77b4;fill-opacity:0.5;stroke:#000000;stroke-linejoin:miter;stroke-width:0.081051;\"/>\n   </g>\n   <g id=\"patch_223\">\n    <path clip-path=\"url(#pcaab8d1ceb)\" d=\"M 482.105554 376.08 \nL 483.912835 376.08 \nL 483.912835 376.033001 \nL 482.105554 376.033001 \nz\n\" style=\"fill:#1f77b4;fill-opacity:0.5;stroke:#000000;stroke-linejoin:miter;stroke-width:0.081051;\"/>\n   </g>\n   <g id=\"patch_224\">\n    <path clip-path=\"url(#pcaab8d1ceb)\" d=\"M 483.912835 376.08 \nL 485.720117 376.08 \nL 485.720117 376.08 \nL 483.912835 376.08 \nz\n\" style=\"fill:#1f77b4;fill-opacity:0.5;stroke:#000000;stroke-linejoin:miter;stroke-width:0.081051;\"/>\n   </g>\n   <g id=\"patch_225\">\n    <path clip-path=\"url(#pcaab8d1ceb)\" d=\"M 485.720117 376.08 \nL 487.527398 376.08 \nL 487.527398 376.08 \nL 485.720117 376.08 \nz\n\" style=\"fill:#1f77b4;fill-opacity:0.5;stroke:#000000;stroke-linejoin:miter;stroke-width:0.081051;\"/>\n   </g>\n   <g id=\"patch_226\">\n    <path clip-path=\"url(#pcaab8d1ceb)\" d=\"M 487.527398 376.08 \nL 489.334679 376.08 \nL 489.334679 376.08 \nL 487.527398 376.08 \nz\n\" style=\"fill:#1f77b4;fill-opacity:0.5;stroke:#000000;stroke-linejoin:miter;stroke-width:0.081051;\"/>\n   </g>\n   <g id=\"patch_227\">\n    <path clip-path=\"url(#pcaab8d1ceb)\" d=\"M 489.334679 376.08 \nL 491.14196 376.08 \nL 491.14196 376.033001 \nL 489.334679 376.033001 \nz\n\" style=\"fill:#1f77b4;fill-opacity:0.5;stroke:#000000;stroke-linejoin:miter;stroke-width:0.081051;\"/>\n   </g>\n   <g id=\"patch_228\">\n    <path clip-path=\"url(#pcaab8d1ceb)\" d=\"M 491.14196 376.08 \nL 492.949241 376.08 \nL 492.949241 376.08 \nL 491.14196 376.08 \nz\n\" style=\"fill:#1f77b4;fill-opacity:0.5;stroke:#000000;stroke-linejoin:miter;stroke-width:0.081051;\"/>\n   </g>\n   <g id=\"patch_229\">\n    <path clip-path=\"url(#pcaab8d1ceb)\" d=\"M 492.949241 376.08 \nL 494.756522 376.08 \nL 494.756522 376.033001 \nL 492.949241 376.033001 \nz\n\" style=\"fill:#1f77b4;fill-opacity:0.5;stroke:#000000;stroke-linejoin:miter;stroke-width:0.081051;\"/>\n   </g>\n   <g id=\"patch_230\">\n    <path clip-path=\"url(#pcaab8d1ceb)\" d=\"M 494.756522 376.08 \nL 496.563803 376.08 \nL 496.563803 376.08 \nL 494.756522 376.08 \nz\n\" style=\"fill:#1f77b4;fill-opacity:0.5;stroke:#000000;stroke-linejoin:miter;stroke-width:0.081051;\"/>\n   </g>\n   <g id=\"patch_231\">\n    <path clip-path=\"url(#pcaab8d1ceb)\" d=\"M 496.563803 376.08 \nL 498.371084 376.08 \nL 498.371084 373.072092 \nL 496.563803 373.072092 \nz\n\" style=\"fill:#1f77b4;fill-opacity:0.5;stroke:#000000;stroke-linejoin:miter;stroke-width:0.081051;\"/>\n   </g>\n   <g id=\"patch_232\">\n    <path clip-path=\"url(#pcaab8d1ceb)\" d=\"M 498.371084 376.08 \nL 500.178365 376.08 \nL 500.178365 376.08 \nL 498.371084 376.08 \nz\n\" style=\"fill:#1f77b4;fill-opacity:0.5;stroke:#000000;stroke-linejoin:miter;stroke-width:0.081051;\"/>\n   </g>\n   <g id=\"patch_233\">\n    <path clip-path=\"url(#pcaab8d1ceb)\" d=\"M 500.178365 376.08 \nL 501.985646 376.08 \nL 501.985646 376.08 \nL 500.178365 376.08 \nz\n\" style=\"fill:#1f77b4;fill-opacity:0.5;stroke:#000000;stroke-linejoin:miter;stroke-width:0.081051;\"/>\n   </g>\n   <g id=\"patch_234\">\n    <path clip-path=\"url(#pcaab8d1ceb)\" d=\"M 501.985646 376.08 \nL 503.792927 376.08 \nL 503.792927 376.08 \nL 501.985646 376.08 \nz\n\" style=\"fill:#1f77b4;fill-opacity:0.5;stroke:#000000;stroke-linejoin:miter;stroke-width:0.081051;\"/>\n   </g>\n   <g id=\"patch_235\">\n    <path clip-path=\"url(#pcaab8d1ceb)\" d=\"M 503.792927 376.08 \nL 505.600208 376.08 \nL 505.600208 376.08 \nL 503.792927 376.08 \nz\n\" style=\"fill:#1f77b4;fill-opacity:0.5;stroke:#000000;stroke-linejoin:miter;stroke-width:0.081051;\"/>\n   </g>\n   <g id=\"patch_236\">\n    <path clip-path=\"url(#pcaab8d1ceb)\" d=\"M 505.600208 376.08 \nL 507.407489 376.08 \nL 507.407489 376.08 \nL 505.600208 376.08 \nz\n\" style=\"fill:#1f77b4;fill-opacity:0.5;stroke:#000000;stroke-linejoin:miter;stroke-width:0.081051;\"/>\n   </g>\n   <g id=\"patch_237\">\n    <path clip-path=\"url(#pcaab8d1ceb)\" d=\"M 507.407489 376.08 \nL 509.21477 376.08 \nL 509.21477 376.033001 \nL 507.407489 376.033001 \nz\n\" style=\"fill:#1f77b4;fill-opacity:0.5;stroke:#000000;stroke-linejoin:miter;stroke-width:0.081051;\"/>\n   </g>\n   <g id=\"patch_238\">\n    <path clip-path=\"url(#pcaab8d1ceb)\" d=\"M 509.21477 376.08 \nL 511.022051 376.08 \nL 511.022051 376.08 \nL 509.21477 376.08 \nz\n\" style=\"fill:#1f77b4;fill-opacity:0.5;stroke:#000000;stroke-linejoin:miter;stroke-width:0.081051;\"/>\n   </g>\n   <g id=\"patch_239\">\n    <path clip-path=\"url(#pcaab8d1ceb)\" d=\"M 511.022051 376.08 \nL 512.829332 376.08 \nL 512.829332 375.892006 \nL 511.022051 375.892006 \nz\n\" style=\"fill:#1f77b4;fill-opacity:0.5;stroke:#000000;stroke-linejoin:miter;stroke-width:0.081051;\"/>\n   </g>\n   <g id=\"patch_240\">\n    <path clip-path=\"url(#pcaab8d1ceb)\" d=\"M 512.829332 376.08 \nL 514.636613 376.08 \nL 514.636613 376.08 \nL 512.829332 376.08 \nz\n\" style=\"fill:#1f77b4;fill-opacity:0.5;stroke:#000000;stroke-linejoin:miter;stroke-width:0.081051;\"/>\n   </g>\n   <g id=\"patch_241\">\n    <path clip-path=\"url(#pcaab8d1ceb)\" d=\"M 514.636613 376.08 \nL 516.443894 376.08 \nL 516.443894 376.033001 \nL 514.636613 376.033001 \nz\n\" style=\"fill:#1f77b4;fill-opacity:0.5;stroke:#000000;stroke-linejoin:miter;stroke-width:0.081051;\"/>\n   </g>\n   <g id=\"patch_242\">\n    <path clip-path=\"url(#pcaab8d1ceb)\" d=\"M 516.443894 376.08 \nL 518.251175 376.08 \nL 518.251175 376.08 \nL 516.443894 376.08 \nz\n\" style=\"fill:#1f77b4;fill-opacity:0.5;stroke:#000000;stroke-linejoin:miter;stroke-width:0.081051;\"/>\n   </g>\n   <g id=\"patch_243\">\n    <path clip-path=\"url(#pcaab8d1ceb)\" d=\"M 518.251175 376.08 \nL 520.058457 376.08 \nL 520.058457 376.08 \nL 518.251175 376.08 \nz\n\" style=\"fill:#1f77b4;fill-opacity:0.5;stroke:#000000;stroke-linejoin:miter;stroke-width:0.081051;\"/>\n   </g>\n   <g id=\"patch_244\">\n    <path clip-path=\"url(#pcaab8d1ceb)\" d=\"M 520.058457 376.08 \nL 521.865738 376.08 \nL 521.865738 376.08 \nL 520.058457 376.08 \nz\n\" style=\"fill:#1f77b4;fill-opacity:0.5;stroke:#000000;stroke-linejoin:miter;stroke-width:0.081051;\"/>\n   </g>\n   <g id=\"patch_245\">\n    <path clip-path=\"url(#pcaab8d1ceb)\" d=\"M 521.865738 376.08 \nL 523.673019 376.08 \nL 523.673019 376.033001 \nL 521.865738 376.033001 \nz\n\" style=\"fill:#1f77b4;fill-opacity:0.5;stroke:#000000;stroke-linejoin:miter;stroke-width:0.081051;\"/>\n   </g>\n   <g id=\"patch_246\">\n    <path clip-path=\"url(#pcaab8d1ceb)\" d=\"M 523.673019 376.08 \nL 525.4803 376.08 \nL 525.4803 376.033001 \nL 523.673019 376.033001 \nz\n\" style=\"fill:#1f77b4;fill-opacity:0.5;stroke:#000000;stroke-linejoin:miter;stroke-width:0.081051;\"/>\n   </g>\n   <g id=\"patch_247\">\n    <path clip-path=\"url(#pcaab8d1ceb)\" d=\"M 525.4803 376.08 \nL 527.287581 376.08 \nL 527.287581 376.08 \nL 525.4803 376.08 \nz\n\" style=\"fill:#1f77b4;fill-opacity:0.5;stroke:#000000;stroke-linejoin:miter;stroke-width:0.081051;\"/>\n   </g>\n   <g id=\"patch_248\">\n    <path clip-path=\"url(#pcaab8d1ceb)\" d=\"M 527.287581 376.08 \nL 529.094862 376.08 \nL 529.094862 373.213087 \nL 527.287581 373.213087 \nz\n\" style=\"fill:#1f77b4;fill-opacity:0.5;stroke:#000000;stroke-linejoin:miter;stroke-width:0.081051;\"/>\n   </g>\n   <g id=\"patch_249\">\n    <path clip-path=\"url(#pcaab8d1ceb)\" d=\"M 529.094862 376.08 \nL 530.902143 376.08 \nL 530.902143 376.08 \nL 529.094862 376.08 \nz\n\" style=\"fill:#1f77b4;fill-opacity:0.5;stroke:#000000;stroke-linejoin:miter;stroke-width:0.081051;\"/>\n   </g>\n   <g id=\"patch_250\">\n    <path clip-path=\"url(#pcaab8d1ceb)\" d=\"M 530.902143 376.08 \nL 532.709424 376.08 \nL 532.709424 376.08 \nL 530.902143 376.08 \nz\n\" style=\"fill:#1f77b4;fill-opacity:0.5;stroke:#000000;stroke-linejoin:miter;stroke-width:0.081051;\"/>\n   </g>\n   <g id=\"patch_251\">\n    <path clip-path=\"url(#pcaab8d1ceb)\" d=\"M 532.709424 376.08 \nL 534.516705 376.08 \nL 534.516705 376.08 \nL 532.709424 376.08 \nz\n\" style=\"fill:#1f77b4;fill-opacity:0.5;stroke:#000000;stroke-linejoin:miter;stroke-width:0.081051;\"/>\n   </g>\n   <g id=\"patch_252\">\n    <path clip-path=\"url(#pcaab8d1ceb)\" d=\"M 534.516705 376.08 \nL 536.323986 376.08 \nL 536.323986 375.986003 \nL 534.516705 375.986003 \nz\n\" style=\"fill:#1f77b4;fill-opacity:0.5;stroke:#000000;stroke-linejoin:miter;stroke-width:0.081051;\"/>\n   </g>\n   <g id=\"patch_253\">\n    <path clip-path=\"url(#pcaab8d1ceb)\" d=\"M 536.323986 376.08 \nL 538.131267 376.08 \nL 538.131267 376.033001 \nL 536.323986 376.033001 \nz\n\" style=\"fill:#1f77b4;fill-opacity:0.5;stroke:#000000;stroke-linejoin:miter;stroke-width:0.081051;\"/>\n   </g>\n   <g id=\"patch_254\">\n    <path clip-path=\"url(#pcaab8d1ceb)\" d=\"M 538.131267 376.08 \nL 539.938548 376.08 \nL 539.938548 376.08 \nL 538.131267 376.08 \nz\n\" style=\"fill:#1f77b4;fill-opacity:0.5;stroke:#000000;stroke-linejoin:miter;stroke-width:0.081051;\"/>\n   </g>\n   <g id=\"patch_255\">\n    <path clip-path=\"url(#pcaab8d1ceb)\" d=\"M 539.938548 376.08 \nL 541.745829 376.08 \nL 541.745829 376.08 \nL 539.938548 376.08 \nz\n\" style=\"fill:#1f77b4;fill-opacity:0.5;stroke:#000000;stroke-linejoin:miter;stroke-width:0.081051;\"/>\n   </g>\n   <g id=\"patch_256\">\n    <path clip-path=\"url(#pcaab8d1ceb)\" d=\"M 541.745829 376.08 \nL 543.55311 376.08 \nL 543.55311 376.08 \nL 541.745829 376.08 \nz\n\" style=\"fill:#1f77b4;fill-opacity:0.5;stroke:#000000;stroke-linejoin:miter;stroke-width:0.081051;\"/>\n   </g>\n   <g id=\"patch_257\">\n    <path clip-path=\"url(#pcaab8d1ceb)\" d=\"M 543.55311 376.08 \nL 545.360391 376.08 \nL 545.360391 375.892006 \nL 543.55311 375.892006 \nz\n\" style=\"fill:#1f77b4;fill-opacity:0.5;stroke:#000000;stroke-linejoin:miter;stroke-width:0.081051;\"/>\n   </g>\n   <g id=\"patch_258\">\n    <path clip-path=\"url(#pcaab8d1ceb)\" d=\"M 545.360391 376.08 \nL 547.167672 376.08 \nL 547.167672 376.08 \nL 545.360391 376.08 \nz\n\" style=\"fill:#1f77b4;fill-opacity:0.5;stroke:#000000;stroke-linejoin:miter;stroke-width:0.081051;\"/>\n   </g>\n   <g id=\"patch_259\">\n    <path clip-path=\"url(#pcaab8d1ceb)\" d=\"M 547.167672 376.08 \nL 548.974953 376.08 \nL 548.974953 375.986003 \nL 547.167672 375.986003 \nz\n\" style=\"fill:#1f77b4;fill-opacity:0.5;stroke:#000000;stroke-linejoin:miter;stroke-width:0.081051;\"/>\n   </g>\n   <g id=\"patch_260\">\n    <path clip-path=\"url(#pcaab8d1ceb)\" d=\"M 548.974953 376.08 \nL 550.782234 376.08 \nL 550.782234 376.08 \nL 548.974953 376.08 \nz\n\" style=\"fill:#1f77b4;fill-opacity:0.5;stroke:#000000;stroke-linejoin:miter;stroke-width:0.081051;\"/>\n   </g>\n   <g id=\"patch_261\">\n    <path clip-path=\"url(#pcaab8d1ceb)\" d=\"M 550.782234 376.08 \nL 552.589515 376.08 \nL 552.589515 376.08 \nL 550.782234 376.08 \nz\n\" style=\"fill:#1f77b4;fill-opacity:0.5;stroke:#000000;stroke-linejoin:miter;stroke-width:0.081051;\"/>\n   </g>\n   <g id=\"patch_262\">\n    <path clip-path=\"url(#pcaab8d1ceb)\" d=\"M 552.589515 376.08 \nL 554.396796 376.08 \nL 554.396796 375.892006 \nL 552.589515 375.892006 \nz\n\" style=\"fill:#1f77b4;fill-opacity:0.5;stroke:#000000;stroke-linejoin:miter;stroke-width:0.081051;\"/>\n   </g>\n   <g id=\"patch_263\">\n    <path clip-path=\"url(#pcaab8d1ceb)\" d=\"M 554.396796 376.08 \nL 556.204078 376.08 \nL 556.204078 376.08 \nL 554.396796 376.08 \nz\n\" style=\"fill:#1f77b4;fill-opacity:0.5;stroke:#000000;stroke-linejoin:miter;stroke-width:0.081051;\"/>\n   </g>\n   <g id=\"patch_264\">\n    <path clip-path=\"url(#pcaab8d1ceb)\" d=\"M 556.204078 376.08 \nL 558.011359 376.08 \nL 558.011359 376.033001 \nL 556.204078 376.033001 \nz\n\" style=\"fill:#1f77b4;fill-opacity:0.5;stroke:#000000;stroke-linejoin:miter;stroke-width:0.081051;\"/>\n   </g>\n   <g id=\"patch_265\">\n    <path clip-path=\"url(#pcaab8d1ceb)\" d=\"M 558.011359 376.08 \nL 559.81864 376.08 \nL 559.81864 376.08 \nL 558.011359 376.08 \nz\n\" style=\"fill:#1f77b4;fill-opacity:0.5;stroke:#000000;stroke-linejoin:miter;stroke-width:0.081051;\"/>\n   </g>\n   <g id=\"patch_266\">\n    <path clip-path=\"url(#pcaab8d1ceb)\" d=\"M 559.81864 376.08 \nL 561.625921 376.08 \nL 561.625921 364.189363 \nL 559.81864 364.189363 \nz\n\" style=\"fill:#1f77b4;fill-opacity:0.5;stroke:#000000;stroke-linejoin:miter;stroke-width:0.081051;\"/>\n   </g>\n   <g id=\"patch_267\">\n    <path clip-path=\"url(#pcaab8d1ceb)\" d=\"M 561.625921 376.08 \nL 563.433202 376.08 \nL 563.433202 376.033001 \nL 561.625921 376.033001 \nz\n\" style=\"fill:#1f77b4;fill-opacity:0.5;stroke:#000000;stroke-linejoin:miter;stroke-width:0.081051;\"/>\n   </g>\n   <g id=\"patch_268\">\n    <path clip-path=\"url(#pcaab8d1ceb)\" d=\"M 563.433202 376.08 \nL 565.240483 376.08 \nL 565.240483 376.033001 \nL 563.433202 376.033001 \nz\n\" style=\"fill:#1f77b4;fill-opacity:0.5;stroke:#000000;stroke-linejoin:miter;stroke-width:0.081051;\"/>\n   </g>\n   <g id=\"patch_269\">\n    <path clip-path=\"url(#pcaab8d1ceb)\" d=\"M 565.240483 376.08 \nL 567.047764 376.08 \nL 567.047764 376.033001 \nL 565.240483 376.033001 \nz\n\" style=\"fill:#1f77b4;fill-opacity:0.5;stroke:#000000;stroke-linejoin:miter;stroke-width:0.081051;\"/>\n   </g>\n   <g id=\"patch_270\">\n    <path clip-path=\"url(#pcaab8d1ceb)\" d=\"M 567.047764 376.08 \nL 568.855045 376.08 \nL 568.855045 376.08 \nL 567.047764 376.08 \nz\n\" style=\"fill:#1f77b4;fill-opacity:0.5;stroke:#000000;stroke-linejoin:miter;stroke-width:0.081051;\"/>\n   </g>\n   <g id=\"patch_271\">\n    <path clip-path=\"url(#pcaab8d1ceb)\" d=\"M 568.855045 376.08 \nL 570.662326 376.08 \nL 570.662326 376.08 \nL 568.855045 376.08 \nz\n\" style=\"fill:#1f77b4;fill-opacity:0.5;stroke:#000000;stroke-linejoin:miter;stroke-width:0.081051;\"/>\n   </g>\n   <g id=\"patch_272\">\n    <path clip-path=\"url(#pcaab8d1ceb)\" d=\"M 570.662326 376.08 \nL 572.469607 376.08 \nL 572.469607 376.08 \nL 570.662326 376.08 \nz\n\" style=\"fill:#1f77b4;fill-opacity:0.5;stroke:#000000;stroke-linejoin:miter;stroke-width:0.081051;\"/>\n   </g>\n   <g id=\"patch_273\">\n    <path clip-path=\"url(#pcaab8d1ceb)\" d=\"M 572.469607 376.08 \nL 574.276888 376.08 \nL 574.276888 376.08 \nL 572.469607 376.08 \nz\n\" style=\"fill:#1f77b4;fill-opacity:0.5;stroke:#000000;stroke-linejoin:miter;stroke-width:0.081051;\"/>\n   </g>\n   <g id=\"patch_274\">\n    <path clip-path=\"url(#pcaab8d1ceb)\" d=\"M 574.276888 376.08 \nL 576.084169 376.08 \nL 576.084169 375.939004 \nL 574.276888 375.939004 \nz\n\" style=\"fill:#1f77b4;fill-opacity:0.5;stroke:#000000;stroke-linejoin:miter;stroke-width:0.081051;\"/>\n   </g>\n   <g id=\"patch_275\">\n    <path clip-path=\"url(#pcaab8d1ceb)\" d=\"M 576.084169 376.08 \nL 577.89145 376.08 \nL 577.89145 376.08 \nL 576.084169 376.08 \nz\n\" style=\"fill:#1f77b4;fill-opacity:0.5;stroke:#000000;stroke-linejoin:miter;stroke-width:0.081051;\"/>\n   </g>\n   <g id=\"patch_276\">\n    <path clip-path=\"url(#pcaab8d1ceb)\" d=\"M 577.89145 376.08 \nL 579.698731 376.08 \nL 579.698731 375.986003 \nL 577.89145 375.986003 \nz\n\" style=\"fill:#1f77b4;fill-opacity:0.5;stroke:#000000;stroke-linejoin:miter;stroke-width:0.081051;\"/>\n   </g>\n   <g id=\"patch_277\">\n    <path clip-path=\"url(#pcaab8d1ceb)\" d=\"M 579.698731 376.08 \nL 581.506012 376.08 \nL 581.506012 375.986003 \nL 579.698731 375.986003 \nz\n\" style=\"fill:#1f77b4;fill-opacity:0.5;stroke:#000000;stroke-linejoin:miter;stroke-width:0.081051;\"/>\n   </g>\n   <g id=\"patch_278\">\n    <path clip-path=\"url(#pcaab8d1ceb)\" d=\"M 581.506012 376.08 \nL 583.313293 376.08 \nL 583.313293 376.033001 \nL 581.506012 376.033001 \nz\n\" style=\"fill:#1f77b4;fill-opacity:0.5;stroke:#000000;stroke-linejoin:miter;stroke-width:0.081051;\"/>\n   </g>\n   <g id=\"patch_279\">\n    <path clip-path=\"url(#pcaab8d1ceb)\" d=\"M 583.313293 376.08 \nL 585.120574 376.08 \nL 585.120574 375.657013 \nL 583.313293 375.657013 \nz\n\" style=\"fill:#1f77b4;fill-opacity:0.5;stroke:#000000;stroke-linejoin:miter;stroke-width:0.081051;\"/>\n   </g>\n   <g id=\"patch_280\">\n    <path clip-path=\"url(#pcaab8d1ceb)\" d=\"M 585.120574 376.08 \nL 586.927855 376.08 \nL 586.927855 375.798009 \nL 585.120574 375.798009 \nz\n\" style=\"fill:#1f77b4;fill-opacity:0.5;stroke:#000000;stroke-linejoin:miter;stroke-width:0.081051;\"/>\n   </g>\n   <g id=\"patch_281\">\n    <path clip-path=\"url(#pcaab8d1ceb)\" d=\"M 586.927855 376.08 \nL 588.735136 376.08 \nL 588.735136 376.08 \nL 586.927855 376.08 \nz\n\" style=\"fill:#1f77b4;fill-opacity:0.5;stroke:#000000;stroke-linejoin:miter;stroke-width:0.081051;\"/>\n   </g>\n   <g id=\"patch_282\">\n    <path clip-path=\"url(#pcaab8d1ceb)\" d=\"M 588.735136 376.08 \nL 590.542418 376.08 \nL 590.542418 376.08 \nL 588.735136 376.08 \nz\n\" style=\"fill:#1f77b4;fill-opacity:0.5;stroke:#000000;stroke-linejoin:miter;stroke-width:0.081051;\"/>\n   </g>\n   <g id=\"patch_283\">\n    <path clip-path=\"url(#pcaab8d1ceb)\" d=\"M 590.542418 376.08 \nL 592.349699 376.08 \nL 592.349699 373.072092 \nL 590.542418 373.072092 \nz\n\" style=\"fill:#1f77b4;fill-opacity:0.5;stroke:#000000;stroke-linejoin:miter;stroke-width:0.081051;\"/>\n   </g>\n   <g id=\"patch_284\">\n    <path clip-path=\"url(#pcaab8d1ceb)\" d=\"M 592.349699 376.08 \nL 594.15698 376.08 \nL 594.15698 376.08 \nL 592.349699 376.08 \nz\n\" style=\"fill:#1f77b4;fill-opacity:0.5;stroke:#000000;stroke-linejoin:miter;stroke-width:0.081051;\"/>\n   </g>\n   <g id=\"patch_285\">\n    <path clip-path=\"url(#pcaab8d1ceb)\" d=\"M 594.15698 376.08 \nL 595.964261 376.08 \nL 595.964261 376.08 \nL 594.15698 376.08 \nz\n\" style=\"fill:#1f77b4;fill-opacity:0.5;stroke:#000000;stroke-linejoin:miter;stroke-width:0.081051;\"/>\n   </g>\n   <g id=\"patch_286\">\n    <path clip-path=\"url(#pcaab8d1ceb)\" d=\"M 595.964261 376.08 \nL 597.771542 376.08 \nL 597.771542 376.08 \nL 595.964261 376.08 \nz\n\" style=\"fill:#1f77b4;fill-opacity:0.5;stroke:#000000;stroke-linejoin:miter;stroke-width:0.081051;\"/>\n   </g>\n   <g id=\"patch_287\">\n    <path clip-path=\"url(#pcaab8d1ceb)\" d=\"M 597.771542 376.08 \nL 599.578823 376.08 \nL 599.578823 376.08 \nL 597.771542 376.08 \nz\n\" style=\"fill:#1f77b4;fill-opacity:0.5;stroke:#000000;stroke-linejoin:miter;stroke-width:0.081051;\"/>\n   </g>\n   <g id=\"patch_288\">\n    <path clip-path=\"url(#pcaab8d1ceb)\" d=\"M 599.578823 376.08 \nL 601.386104 376.08 \nL 601.386104 376.08 \nL 599.578823 376.08 \nz\n\" style=\"fill:#1f77b4;fill-opacity:0.5;stroke:#000000;stroke-linejoin:miter;stroke-width:0.081051;\"/>\n   </g>\n   <g id=\"patch_289\">\n    <path clip-path=\"url(#pcaab8d1ceb)\" d=\"M 601.386104 376.08 \nL 603.193385 376.08 \nL 603.193385 376.08 \nL 601.386104 376.08 \nz\n\" style=\"fill:#1f77b4;fill-opacity:0.5;stroke:#000000;stroke-linejoin:miter;stroke-width:0.081051;\"/>\n   </g>\n   <g id=\"patch_290\">\n    <path clip-path=\"url(#pcaab8d1ceb)\" d=\"M 603.193385 376.08 \nL 605.000666 376.08 \nL 605.000666 376.08 \nL 603.193385 376.08 \nz\n\" style=\"fill:#1f77b4;fill-opacity:0.5;stroke:#000000;stroke-linejoin:miter;stroke-width:0.081051;\"/>\n   </g>\n   <g id=\"patch_291\">\n    <path clip-path=\"url(#pcaab8d1ceb)\" d=\"M 605.000666 376.08 \nL 606.807947 376.08 \nL 606.807947 376.033001 \nL 605.000666 376.033001 \nz\n\" style=\"fill:#1f77b4;fill-opacity:0.5;stroke:#000000;stroke-linejoin:miter;stroke-width:0.081051;\"/>\n   </g>\n   <g id=\"patch_292\">\n    <path clip-path=\"url(#pcaab8d1ceb)\" d=\"M 606.807947 376.08 \nL 608.615228 376.08 \nL 608.615228 375.986003 \nL 606.807947 375.986003 \nz\n\" style=\"fill:#1f77b4;fill-opacity:0.5;stroke:#000000;stroke-linejoin:miter;stroke-width:0.081051;\"/>\n   </g>\n   <g id=\"patch_293\">\n    <path clip-path=\"url(#pcaab8d1ceb)\" d=\"M 608.615228 376.08 \nL 610.422509 376.08 \nL 610.422509 376.08 \nL 608.615228 376.08 \nz\n\" style=\"fill:#1f77b4;fill-opacity:0.5;stroke:#000000;stroke-linejoin:miter;stroke-width:0.081051;\"/>\n   </g>\n   <g id=\"patch_294\">\n    <path clip-path=\"url(#pcaab8d1ceb)\" d=\"M 610.422509 376.08 \nL 612.22979 376.08 \nL 612.22979 376.08 \nL 610.422509 376.08 \nz\n\" style=\"fill:#1f77b4;fill-opacity:0.5;stroke:#000000;stroke-linejoin:miter;stroke-width:0.081051;\"/>\n   </g>\n   <g id=\"patch_295\">\n    <path clip-path=\"url(#pcaab8d1ceb)\" d=\"M 612.22979 376.08 \nL 614.037071 376.08 \nL 614.037071 376.08 \nL 612.22979 376.08 \nz\n\" style=\"fill:#1f77b4;fill-opacity:0.5;stroke:#000000;stroke-linejoin:miter;stroke-width:0.081051;\"/>\n   </g>\n   <g id=\"patch_296\">\n    <path clip-path=\"url(#pcaab8d1ceb)\" d=\"M 614.037071 376.08 \nL 615.844352 376.08 \nL 615.844352 376.033001 \nL 614.037071 376.033001 \nz\n\" style=\"fill:#1f77b4;fill-opacity:0.5;stroke:#000000;stroke-linejoin:miter;stroke-width:0.081051;\"/>\n   </g>\n   <g id=\"patch_297\">\n    <path clip-path=\"url(#pcaab8d1ceb)\" d=\"M 615.844352 376.08 \nL 617.651633 376.08 \nL 617.651633 376.08 \nL 615.844352 376.08 \nz\n\" style=\"fill:#1f77b4;fill-opacity:0.5;stroke:#000000;stroke-linejoin:miter;stroke-width:0.081051;\"/>\n   </g>\n   <g id=\"patch_298\">\n    <path clip-path=\"url(#pcaab8d1ceb)\" d=\"M 617.651633 376.08 \nL 619.458914 376.08 \nL 619.458914 376.08 \nL 617.651633 376.08 \nz\n\" style=\"fill:#1f77b4;fill-opacity:0.5;stroke:#000000;stroke-linejoin:miter;stroke-width:0.081051;\"/>\n   </g>\n   <g id=\"patch_299\">\n    <path clip-path=\"url(#pcaab8d1ceb)\" d=\"M 619.458914 376.08 \nL 621.266195 376.08 \nL 621.266195 376.08 \nL 619.458914 376.08 \nz\n\" style=\"fill:#1f77b4;fill-opacity:0.5;stroke:#000000;stroke-linejoin:miter;stroke-width:0.081051;\"/>\n   </g>\n   <g id=\"patch_300\">\n    <path clip-path=\"url(#pcaab8d1ceb)\" d=\"M 621.266195 376.08 \nL 623.073476 376.08 \nL 623.073476 376.08 \nL 621.266195 376.08 \nz\n\" style=\"fill:#1f77b4;fill-opacity:0.5;stroke:#000000;stroke-linejoin:miter;stroke-width:0.081051;\"/>\n   </g>\n   <g id=\"patch_301\">\n    <path clip-path=\"url(#pcaab8d1ceb)\" d=\"M 623.073476 376.08 \nL 624.880757 376.08 \nL 624.880757 374.529047 \nL 623.073476 374.529047 \nz\n\" style=\"fill:#1f77b4;fill-opacity:0.5;stroke:#000000;stroke-linejoin:miter;stroke-width:0.081051;\"/>\n   </g>\n   <g id=\"patch_302\">\n    <path clip-path=\"url(#pcaab8d1ceb)\" d=\"M 624.880757 376.08 \nL 626.688039 376.08 \nL 626.688039 376.08 \nL 624.880757 376.08 \nz\n\" style=\"fill:#1f77b4;fill-opacity:0.5;stroke:#000000;stroke-linejoin:miter;stroke-width:0.081051;\"/>\n   </g>\n   <g id=\"patch_303\">\n    <path clip-path=\"url(#pcaab8d1ceb)\" d=\"M 626.688039 376.08 \nL 628.49532 376.08 \nL 628.49532 376.08 \nL 626.688039 376.08 \nz\n\" style=\"fill:#1f77b4;fill-opacity:0.5;stroke:#000000;stroke-linejoin:miter;stroke-width:0.081051;\"/>\n   </g>\n   <g id=\"patch_304\">\n    <path clip-path=\"url(#pcaab8d1ceb)\" d=\"M 628.49532 376.08 \nL 630.302601 376.08 \nL 630.302601 376.08 \nL 628.49532 376.08 \nz\n\" style=\"fill:#1f77b4;fill-opacity:0.5;stroke:#000000;stroke-linejoin:miter;stroke-width:0.081051;\"/>\n   </g>\n   <g id=\"patch_305\">\n    <path clip-path=\"url(#pcaab8d1ceb)\" d=\"M 630.302601 376.08 \nL 632.109882 376.08 \nL 632.109882 376.08 \nL 630.302601 376.08 \nz\n\" style=\"fill:#1f77b4;fill-opacity:0.5;stroke:#000000;stroke-linejoin:miter;stroke-width:0.081051;\"/>\n   </g>\n   <g id=\"patch_306\">\n    <path clip-path=\"url(#pcaab8d1ceb)\" d=\"M 632.109882 376.08 \nL 633.917163 376.08 \nL 633.917163 376.08 \nL 632.109882 376.08 \nz\n\" style=\"fill:#1f77b4;fill-opacity:0.5;stroke:#000000;stroke-linejoin:miter;stroke-width:0.081051;\"/>\n   </g>\n   <g id=\"patch_307\">\n    <path clip-path=\"url(#pcaab8d1ceb)\" d=\"M 633.917163 376.08 \nL 635.724444 376.08 \nL 635.724444 376.08 \nL 633.917163 376.08 \nz\n\" style=\"fill:#1f77b4;fill-opacity:0.5;stroke:#000000;stroke-linejoin:miter;stroke-width:0.081051;\"/>\n   </g>\n   <g id=\"patch_308\">\n    <path clip-path=\"url(#pcaab8d1ceb)\" d=\"M 635.724444 376.08 \nL 637.531725 376.08 \nL 637.531725 376.08 \nL 635.724444 376.08 \nz\n\" style=\"fill:#1f77b4;fill-opacity:0.5;stroke:#000000;stroke-linejoin:miter;stroke-width:0.081051;\"/>\n   </g>\n   <g id=\"patch_309\">\n    <path clip-path=\"url(#pcaab8d1ceb)\" d=\"M 637.531725 376.08 \nL 639.339006 376.08 \nL 639.339006 376.08 \nL 637.531725 376.08 \nz\n\" style=\"fill:#1f77b4;fill-opacity:0.5;stroke:#000000;stroke-linejoin:miter;stroke-width:0.081051;\"/>\n   </g>\n   <g id=\"patch_310\">\n    <path clip-path=\"url(#pcaab8d1ceb)\" d=\"M 639.339006 376.08 \nL 641.146287 376.08 \nL 641.146287 376.033001 \nL 639.339006 376.033001 \nz\n\" style=\"fill:#1f77b4;fill-opacity:0.5;stroke:#000000;stroke-linejoin:miter;stroke-width:0.081051;\"/>\n   </g>\n   <g id=\"patch_311\">\n    <path clip-path=\"url(#pcaab8d1ceb)\" d=\"M 641.146287 376.08 \nL 642.953568 376.08 \nL 642.953568 376.033001 \nL 641.146287 376.033001 \nz\n\" style=\"fill:#1f77b4;fill-opacity:0.5;stroke:#000000;stroke-linejoin:miter;stroke-width:0.081051;\"/>\n   </g>\n   <g id=\"patch_312\">\n    <path clip-path=\"url(#pcaab8d1ceb)\" d=\"M 642.953568 376.08 \nL 644.760849 376.08 \nL 644.760849 376.08 \nL 642.953568 376.08 \nz\n\" style=\"fill:#1f77b4;fill-opacity:0.5;stroke:#000000;stroke-linejoin:miter;stroke-width:0.081051;\"/>\n   </g>\n   <g id=\"patch_313\">\n    <path clip-path=\"url(#pcaab8d1ceb)\" d=\"M 644.760849 376.08 \nL 646.56813 376.08 \nL 646.56813 376.08 \nL 644.760849 376.08 \nz\n\" style=\"fill:#1f77b4;fill-opacity:0.5;stroke:#000000;stroke-linejoin:miter;stroke-width:0.081051;\"/>\n   </g>\n   <g id=\"patch_314\">\n    <path clip-path=\"url(#pcaab8d1ceb)\" d=\"M 646.56813 376.08 \nL 648.375411 376.08 \nL 648.375411 376.08 \nL 646.56813 376.08 \nz\n\" style=\"fill:#1f77b4;fill-opacity:0.5;stroke:#000000;stroke-linejoin:miter;stroke-width:0.081051;\"/>\n   </g>\n   <g id=\"patch_315\">\n    <path clip-path=\"url(#pcaab8d1ceb)\" d=\"M 648.375411 376.08 \nL 650.182692 376.08 \nL 650.182692 376.08 \nL 648.375411 376.08 \nz\n\" style=\"fill:#1f77b4;fill-opacity:0.5;stroke:#000000;stroke-linejoin:miter;stroke-width:0.081051;\"/>\n   </g>\n   <g id=\"patch_316\">\n    <path clip-path=\"url(#pcaab8d1ceb)\" d=\"M 650.182692 376.08 \nL 651.989973 376.08 \nL 651.989973 376.08 \nL 650.182692 376.08 \nz\n\" style=\"fill:#1f77b4;fill-opacity:0.5;stroke:#000000;stroke-linejoin:miter;stroke-width:0.081051;\"/>\n   </g>\n   <g id=\"patch_317\">\n    <path clip-path=\"url(#pcaab8d1ceb)\" d=\"M 651.989973 376.08 \nL 653.797254 376.08 \nL 653.797254 376.08 \nL 651.989973 376.08 \nz\n\" style=\"fill:#1f77b4;fill-opacity:0.5;stroke:#000000;stroke-linejoin:miter;stroke-width:0.081051;\"/>\n   </g>\n   <g id=\"patch_318\">\n    <path clip-path=\"url(#pcaab8d1ceb)\" d=\"M 653.797254 376.08 \nL 655.604535 376.08 \nL 655.604535 373.730072 \nL 653.797254 373.730072 \nz\n\" style=\"fill:#1f77b4;fill-opacity:0.5;stroke:#000000;stroke-linejoin:miter;stroke-width:0.081051;\"/>\n   </g>\n   <g id=\"patch_319\">\n    <path clip-path=\"url(#pcaab8d1ceb)\" d=\"M 655.604535 376.08 \nL 657.411816 376.08 \nL 657.411816 376.08 \nL 655.604535 376.08 \nz\n\" style=\"fill:#1f77b4;fill-opacity:0.5;stroke:#000000;stroke-linejoin:miter;stroke-width:0.081051;\"/>\n   </g>\n   <g id=\"patch_320\">\n    <path clip-path=\"url(#pcaab8d1ceb)\" d=\"M 657.411816 376.08 \nL 659.219097 376.08 \nL 659.219097 376.08 \nL 657.411816 376.08 \nz\n\" style=\"fill:#1f77b4;fill-opacity:0.5;stroke:#000000;stroke-linejoin:miter;stroke-width:0.081051;\"/>\n   </g>\n   <g id=\"patch_321\">\n    <path clip-path=\"url(#pcaab8d1ceb)\" d=\"M 659.219097 376.08 \nL 661.026379 376.08 \nL 661.026379 376.08 \nL 659.219097 376.08 \nz\n\" style=\"fill:#1f77b4;fill-opacity:0.5;stroke:#000000;stroke-linejoin:miter;stroke-width:0.081051;\"/>\n   </g>\n   <g id=\"patch_322\">\n    <path clip-path=\"url(#pcaab8d1ceb)\" d=\"M 661.026379 376.08 \nL 662.83366 376.08 \nL 662.83366 376.08 \nL 661.026379 376.08 \nz\n\" style=\"fill:#1f77b4;fill-opacity:0.5;stroke:#000000;stroke-linejoin:miter;stroke-width:0.081051;\"/>\n   </g>\n   <g id=\"patch_323\">\n    <path clip-path=\"url(#pcaab8d1ceb)\" d=\"M 662.83366 376.08 \nL 664.640941 376.08 \nL 664.640941 376.08 \nL 662.83366 376.08 \nz\n\" style=\"fill:#1f77b4;fill-opacity:0.5;stroke:#000000;stroke-linejoin:miter;stroke-width:0.081051;\"/>\n   </g>\n   <g id=\"patch_324\">\n    <path clip-path=\"url(#pcaab8d1ceb)\" d=\"M 664.640941 376.08 \nL 666.448222 376.08 \nL 666.448222 376.08 \nL 664.640941 376.08 \nz\n\" style=\"fill:#1f77b4;fill-opacity:0.5;stroke:#000000;stroke-linejoin:miter;stroke-width:0.081051;\"/>\n   </g>\n   <g id=\"patch_325\">\n    <path clip-path=\"url(#pcaab8d1ceb)\" d=\"M 666.448222 376.08 \nL 668.255503 376.08 \nL 668.255503 376.033001 \nL 666.448222 376.033001 \nz\n\" style=\"fill:#1f77b4;fill-opacity:0.5;stroke:#000000;stroke-linejoin:miter;stroke-width:0.081051;\"/>\n   </g>\n   <g id=\"patch_326\">\n    <path clip-path=\"url(#pcaab8d1ceb)\" d=\"M 668.255503 376.08 \nL 670.062784 376.08 \nL 670.062784 376.08 \nL 668.255503 376.08 \nz\n\" style=\"fill:#1f77b4;fill-opacity:0.5;stroke:#000000;stroke-linejoin:miter;stroke-width:0.081051;\"/>\n   </g>\n   <g id=\"patch_327\">\n    <path clip-path=\"url(#pcaab8d1ceb)\" d=\"M 670.062784 376.08 \nL 671.870065 376.08 \nL 671.870065 376.033001 \nL 670.062784 376.033001 \nz\n\" style=\"fill:#1f77b4;fill-opacity:0.5;stroke:#000000;stroke-linejoin:miter;stroke-width:0.081051;\"/>\n   </g>\n   <g id=\"patch_328\">\n    <path clip-path=\"url(#pcaab8d1ceb)\" d=\"M 671.870065 376.08 \nL 673.677346 376.08 \nL 673.677346 376.08 \nL 671.870065 376.08 \nz\n\" style=\"fill:#1f77b4;fill-opacity:0.5;stroke:#000000;stroke-linejoin:miter;stroke-width:0.081051;\"/>\n   </g>\n   <g id=\"patch_329\">\n    <path clip-path=\"url(#pcaab8d1ceb)\" d=\"M 673.677346 376.08 \nL 675.484627 376.08 \nL 675.484627 376.08 \nL 673.677346 376.08 \nz\n\" style=\"fill:#1f77b4;fill-opacity:0.5;stroke:#000000;stroke-linejoin:miter;stroke-width:0.081051;\"/>\n   </g>\n   <g id=\"patch_330\">\n    <path clip-path=\"url(#pcaab8d1ceb)\" d=\"M 675.484627 376.08 \nL 677.291908 376.08 \nL 677.291908 376.08 \nL 675.484627 376.08 \nz\n\" style=\"fill:#1f77b4;fill-opacity:0.5;stroke:#000000;stroke-linejoin:miter;stroke-width:0.081051;\"/>\n   </g>\n   <g id=\"patch_331\">\n    <path clip-path=\"url(#pcaab8d1ceb)\" d=\"M 677.291908 376.08 \nL 679.099189 376.08 \nL 679.099189 376.08 \nL 677.291908 376.08 \nz\n\" style=\"fill:#1f77b4;fill-opacity:0.5;stroke:#000000;stroke-linejoin:miter;stroke-width:0.081051;\"/>\n   </g>\n   <g id=\"patch_332\">\n    <path clip-path=\"url(#pcaab8d1ceb)\" d=\"M 679.099189 376.08 \nL 680.90647 376.08 \nL 680.90647 376.08 \nL 679.099189 376.08 \nz\n\" style=\"fill:#1f77b4;fill-opacity:0.5;stroke:#000000;stroke-linejoin:miter;stroke-width:0.081051;\"/>\n   </g>\n   <g id=\"patch_333\">\n    <path clip-path=\"url(#pcaab8d1ceb)\" d=\"M 680.90647 376.08 \nL 682.713751 376.08 \nL 682.713751 376.08 \nL 680.90647 376.08 \nz\n\" style=\"fill:#1f77b4;fill-opacity:0.5;stroke:#000000;stroke-linejoin:miter;stroke-width:0.081051;\"/>\n   </g>\n   <g id=\"patch_334\">\n    <path clip-path=\"url(#pcaab8d1ceb)\" d=\"M 682.713751 376.08 \nL 684.521032 376.08 \nL 684.521032 376.08 \nL 682.713751 376.08 \nz\n\" style=\"fill:#1f77b4;fill-opacity:0.5;stroke:#000000;stroke-linejoin:miter;stroke-width:0.081051;\"/>\n   </g>\n   <g id=\"patch_335\">\n    <path clip-path=\"url(#pcaab8d1ceb)\" d=\"M 684.521032 376.08 \nL 686.328313 376.08 \nL 686.328313 376.08 \nL 684.521032 376.08 \nz\n\" style=\"fill:#1f77b4;fill-opacity:0.5;stroke:#000000;stroke-linejoin:miter;stroke-width:0.081051;\"/>\n   </g>\n   <g id=\"patch_336\">\n    <path clip-path=\"url(#pcaab8d1ceb)\" d=\"M 686.328313 376.08 \nL 688.135594 376.08 \nL 688.135594 375.281024 \nL 686.328313 375.281024 \nz\n\" style=\"fill:#1f77b4;fill-opacity:0.5;stroke:#000000;stroke-linejoin:miter;stroke-width:0.081051;\"/>\n   </g>\n   <g id=\"patch_337\">\n    <path clip-path=\"url(#pcaab8d1ceb)\" d=\"M 688.135594 376.08 \nL 689.942875 376.08 \nL 689.942875 376.08 \nL 688.135594 376.08 \nz\n\" style=\"fill:#1f77b4;fill-opacity:0.5;stroke:#000000;stroke-linejoin:miter;stroke-width:0.081051;\"/>\n   </g>\n   <g id=\"patch_338\">\n    <path clip-path=\"url(#pcaab8d1ceb)\" d=\"M 689.942875 376.08 \nL 691.750156 376.08 \nL 691.750156 376.08 \nL 689.942875 376.08 \nz\n\" style=\"fill:#1f77b4;fill-opacity:0.5;stroke:#000000;stroke-linejoin:miter;stroke-width:0.081051;\"/>\n   </g>\n   <g id=\"patch_339\">\n    <path clip-path=\"url(#pcaab8d1ceb)\" d=\"M 691.750156 376.08 \nL 693.557437 376.08 \nL 693.557437 375.986003 \nL 691.750156 375.986003 \nz\n\" style=\"fill:#1f77b4;fill-opacity:0.5;stroke:#000000;stroke-linejoin:miter;stroke-width:0.081051;\"/>\n   </g>\n   <g id=\"patch_340\">\n    <path clip-path=\"url(#pcaab8d1ceb)\" d=\"M 693.557437 376.08 \nL 695.364718 376.08 \nL 695.364718 376.08 \nL 693.557437 376.08 \nz\n\" style=\"fill:#1f77b4;fill-opacity:0.5;stroke:#000000;stroke-linejoin:miter;stroke-width:0.081051;\"/>\n   </g>\n   <g id=\"patch_341\">\n    <path clip-path=\"url(#pcaab8d1ceb)\" d=\"M 695.364718 376.08 \nL 697.172 376.08 \nL 697.172 376.08 \nL 695.364718 376.08 \nz\n\" style=\"fill:#1f77b4;fill-opacity:0.5;stroke:#000000;stroke-linejoin:miter;stroke-width:0.081051;\"/>\n   </g>\n   <g id=\"patch_342\">\n    <path clip-path=\"url(#pcaab8d1ceb)\" d=\"M 697.172 376.08 \nL 698.979281 376.08 \nL 698.979281 376.08 \nL 697.172 376.08 \nz\n\" style=\"fill:#1f77b4;fill-opacity:0.5;stroke:#000000;stroke-linejoin:miter;stroke-width:0.081051;\"/>\n   </g>\n   <g id=\"patch_343\">\n    <path clip-path=\"url(#pcaab8d1ceb)\" d=\"M 698.979281 376.08 \nL 700.786562 376.08 \nL 700.786562 376.08 \nL 698.979281 376.08 \nz\n\" style=\"fill:#1f77b4;fill-opacity:0.5;stroke:#000000;stroke-linejoin:miter;stroke-width:0.081051;\"/>\n   </g>\n   <g id=\"patch_344\">\n    <path clip-path=\"url(#pcaab8d1ceb)\" d=\"M 700.786562 376.08 \nL 702.593843 376.08 \nL 702.593843 376.08 \nL 700.786562 376.08 \nz\n\" style=\"fill:#1f77b4;fill-opacity:0.5;stroke:#000000;stroke-linejoin:miter;stroke-width:0.081051;\"/>\n   </g>\n   <g id=\"patch_345\">\n    <path clip-path=\"url(#pcaab8d1ceb)\" d=\"M 702.593843 376.08 \nL 704.401124 376.08 \nL 704.401124 376.08 \nL 702.593843 376.08 \nz\n\" style=\"fill:#1f77b4;fill-opacity:0.5;stroke:#000000;stroke-linejoin:miter;stroke-width:0.081051;\"/>\n   </g>\n   <g id=\"patch_346\">\n    <path clip-path=\"url(#pcaab8d1ceb)\" d=\"M 704.401124 376.08 \nL 706.208405 376.08 \nL 706.208405 376.08 \nL 704.401124 376.08 \nz\n\" style=\"fill:#1f77b4;fill-opacity:0.5;stroke:#000000;stroke-linejoin:miter;stroke-width:0.081051;\"/>\n   </g>\n   <g id=\"patch_347\">\n    <path clip-path=\"url(#pcaab8d1ceb)\" d=\"M 706.208405 376.08 \nL 708.015686 376.08 \nL 708.015686 376.033001 \nL 706.208405 376.033001 \nz\n\" style=\"fill:#1f77b4;fill-opacity:0.5;stroke:#000000;stroke-linejoin:miter;stroke-width:0.081051;\"/>\n   </g>\n   <g id=\"matplotlib.axis_1\">\n    <g id=\"xtick_1\">\n     <g id=\"line2d_1\">\n      <defs>\n       <path d=\"M 0 0 \nL 0 3.5 \n\" id=\"m851db7512e\" style=\"stroke:#000000;stroke-width:0.8;\"/>\n      </defs>\n      <g>\n       <use style=\"stroke:#000000;stroke-width:0.8;\" x=\"84.503723\" xlink:href=\"#m851db7512e\" y=\"376.08\"/>\n      </g>\n     </g>\n     <g id=\"text_1\">\n      <!-- 0 -->\n      <g transform=\"translate(81.322473 390.678437)scale(0.1 -0.1)\">\n       <defs>\n        <path d=\"M 2034 4250 \nQ 1547 4250 1301 3770 \nQ 1056 3291 1056 2328 \nQ 1056 1369 1301 889 \nQ 1547 409 2034 409 \nQ 2525 409 2770 889 \nQ 3016 1369 3016 2328 \nQ 3016 3291 2770 3770 \nQ 2525 4250 2034 4250 \nz\nM 2034 4750 \nQ 2819 4750 3233 4129 \nQ 3647 3509 3647 2328 \nQ 3647 1150 3233 529 \nQ 2819 -91 2034 -91 \nQ 1250 -91 836 529 \nQ 422 1150 422 2328 \nQ 422 3509 836 4129 \nQ 1250 4750 2034 4750 \nz\n\" id=\"DejaVuSans-30\" transform=\"scale(0.015625)\"/>\n       </defs>\n       <use xlink:href=\"#DejaVuSans-30\"/>\n      </g>\n     </g>\n    </g>\n    <g id=\"xtick_2\">\n     <g id=\"line2d_2\">\n      <g>\n       <use style=\"stroke:#000000;stroke-width:0.8;\" x=\"163.778498\" xlink:href=\"#m851db7512e\" y=\"376.08\"/>\n      </g>\n     </g>\n     <g id=\"text_2\">\n      <!-- 2500 -->\n      <g transform=\"translate(151.053498 390.678437)scale(0.1 -0.1)\">\n       <defs>\n        <path d=\"M 1228 531 \nL 3431 531 \nL 3431 0 \nL 469 0 \nL 469 531 \nQ 828 903 1448 1529 \nQ 2069 2156 2228 2338 \nQ 2531 2678 2651 2914 \nQ 2772 3150 2772 3378 \nQ 2772 3750 2511 3984 \nQ 2250 4219 1831 4219 \nQ 1534 4219 1204 4116 \nQ 875 4013 500 3803 \nL 500 4441 \nQ 881 4594 1212 4672 \nQ 1544 4750 1819 4750 \nQ 2544 4750 2975 4387 \nQ 3406 4025 3406 3419 \nQ 3406 3131 3298 2873 \nQ 3191 2616 2906 2266 \nQ 2828 2175 2409 1742 \nQ 1991 1309 1228 531 \nz\n\" id=\"DejaVuSans-32\" transform=\"scale(0.015625)\"/>\n        <path d=\"M 691 4666 \nL 3169 4666 \nL 3169 4134 \nL 1269 4134 \nL 1269 2991 \nQ 1406 3038 1543 3061 \nQ 1681 3084 1819 3084 \nQ 2600 3084 3056 2656 \nQ 3513 2228 3513 1497 \nQ 3513 744 3044 326 \nQ 2575 -91 1722 -91 \nQ 1428 -91 1123 -41 \nQ 819 9 494 109 \nL 494 744 \nQ 775 591 1075 516 \nQ 1375 441 1709 441 \nQ 2250 441 2565 725 \nQ 2881 1009 2881 1497 \nQ 2881 1984 2565 2268 \nQ 2250 2553 1709 2553 \nQ 1456 2553 1204 2497 \nQ 953 2441 691 2322 \nL 691 4666 \nz\n\" id=\"DejaVuSans-35\" transform=\"scale(0.015625)\"/>\n       </defs>\n       <use xlink:href=\"#DejaVuSans-32\"/>\n       <use x=\"63.623047\" xlink:href=\"#DejaVuSans-35\"/>\n       <use x=\"127.246094\" xlink:href=\"#DejaVuSans-30\"/>\n       <use x=\"190.869141\" xlink:href=\"#DejaVuSans-30\"/>\n      </g>\n     </g>\n    </g>\n    <g id=\"xtick_3\">\n     <g id=\"line2d_3\">\n      <g>\n       <use style=\"stroke:#000000;stroke-width:0.8;\" x=\"243.053274\" xlink:href=\"#m851db7512e\" y=\"376.08\"/>\n      </g>\n     </g>\n     <g id=\"text_3\">\n      <!-- 5000 -->\n      <g transform=\"translate(230.328274 390.678437)scale(0.1 -0.1)\">\n       <use xlink:href=\"#DejaVuSans-35\"/>\n       <use x=\"63.623047\" xlink:href=\"#DejaVuSans-30\"/>\n       <use x=\"127.246094\" xlink:href=\"#DejaVuSans-30\"/>\n       <use x=\"190.869141\" xlink:href=\"#DejaVuSans-30\"/>\n      </g>\n     </g>\n    </g>\n    <g id=\"xtick_4\">\n     <g id=\"line2d_4\">\n      <g>\n       <use style=\"stroke:#000000;stroke-width:0.8;\" x=\"322.328049\" xlink:href=\"#m851db7512e\" y=\"376.08\"/>\n      </g>\n     </g>\n     <g id=\"text_4\">\n      <!-- 7500 -->\n      <g transform=\"translate(309.603049 390.678437)scale(0.1 -0.1)\">\n       <defs>\n        <path d=\"M 525 4666 \nL 3525 4666 \nL 3525 4397 \nL 1831 0 \nL 1172 0 \nL 2766 4134 \nL 525 4134 \nL 525 4666 \nz\n\" id=\"DejaVuSans-37\" transform=\"scale(0.015625)\"/>\n       </defs>\n       <use xlink:href=\"#DejaVuSans-37\"/>\n       <use x=\"63.623047\" xlink:href=\"#DejaVuSans-35\"/>\n       <use x=\"127.246094\" xlink:href=\"#DejaVuSans-30\"/>\n       <use x=\"190.869141\" xlink:href=\"#DejaVuSans-30\"/>\n      </g>\n     </g>\n    </g>\n    <g id=\"xtick_5\">\n     <g id=\"line2d_5\">\n      <g>\n       <use style=\"stroke:#000000;stroke-width:0.8;\" x=\"401.602824\" xlink:href=\"#m851db7512e\" y=\"376.08\"/>\n      </g>\n     </g>\n     <g id=\"text_5\">\n      <!-- 10000 -->\n      <g transform=\"translate(385.696574 390.678437)scale(0.1 -0.1)\">\n       <defs>\n        <path d=\"M 794 531 \nL 1825 531 \nL 1825 4091 \nL 703 3866 \nL 703 4441 \nL 1819 4666 \nL 2450 4666 \nL 2450 531 \nL 3481 531 \nL 3481 0 \nL 794 0 \nL 794 531 \nz\n\" id=\"DejaVuSans-31\" transform=\"scale(0.015625)\"/>\n       </defs>\n       <use xlink:href=\"#DejaVuSans-31\"/>\n       <use x=\"63.623047\" xlink:href=\"#DejaVuSans-30\"/>\n       <use x=\"127.246094\" xlink:href=\"#DejaVuSans-30\"/>\n       <use x=\"190.869141\" xlink:href=\"#DejaVuSans-30\"/>\n       <use x=\"254.492188\" xlink:href=\"#DejaVuSans-30\"/>\n      </g>\n     </g>\n    </g>\n    <g id=\"xtick_6\">\n     <g id=\"line2d_6\">\n      <g>\n       <use style=\"stroke:#000000;stroke-width:0.8;\" x=\"480.8776\" xlink:href=\"#m851db7512e\" y=\"376.08\"/>\n      </g>\n     </g>\n     <g id=\"text_6\">\n      <!-- 12500 -->\n      <g transform=\"translate(464.97135 390.678437)scale(0.1 -0.1)\">\n       <use xlink:href=\"#DejaVuSans-31\"/>\n       <use x=\"63.623047\" xlink:href=\"#DejaVuSans-32\"/>\n       <use x=\"127.246094\" xlink:href=\"#DejaVuSans-35\"/>\n       <use x=\"190.869141\" xlink:href=\"#DejaVuSans-30\"/>\n       <use x=\"254.492188\" xlink:href=\"#DejaVuSans-30\"/>\n      </g>\n     </g>\n    </g>\n    <g id=\"xtick_7\">\n     <g id=\"line2d_7\">\n      <g>\n       <use style=\"stroke:#000000;stroke-width:0.8;\" x=\"560.152375\" xlink:href=\"#m851db7512e\" y=\"376.08\"/>\n      </g>\n     </g>\n     <g id=\"text_7\">\n      <!-- 15000 -->\n      <g transform=\"translate(544.246125 390.678437)scale(0.1 -0.1)\">\n       <use xlink:href=\"#DejaVuSans-31\"/>\n       <use x=\"63.623047\" xlink:href=\"#DejaVuSans-35\"/>\n       <use x=\"127.246094\" xlink:href=\"#DejaVuSans-30\"/>\n       <use x=\"190.869141\" xlink:href=\"#DejaVuSans-30\"/>\n       <use x=\"254.492188\" xlink:href=\"#DejaVuSans-30\"/>\n      </g>\n     </g>\n    </g>\n    <g id=\"xtick_8\">\n     <g id=\"line2d_8\">\n      <g>\n       <use style=\"stroke:#000000;stroke-width:0.8;\" x=\"639.42715\" xlink:href=\"#m851db7512e\" y=\"376.08\"/>\n      </g>\n     </g>\n     <g id=\"text_8\">\n      <!-- 17500 -->\n      <g transform=\"translate(623.5209 390.678437)scale(0.1 -0.1)\">\n       <use xlink:href=\"#DejaVuSans-31\"/>\n       <use x=\"63.623047\" xlink:href=\"#DejaVuSans-37\"/>\n       <use x=\"127.246094\" xlink:href=\"#DejaVuSans-35\"/>\n       <use x=\"190.869141\" xlink:href=\"#DejaVuSans-30\"/>\n       <use x=\"254.492188\" xlink:href=\"#DejaVuSans-30\"/>\n      </g>\n     </g>\n    </g>\n    <g id=\"xtick_9\">\n     <g id=\"line2d_9\">\n      <g>\n       <use style=\"stroke:#000000;stroke-width:0.8;\" x=\"718.701926\" xlink:href=\"#m851db7512e\" y=\"376.08\"/>\n      </g>\n     </g>\n     <g id=\"text_9\">\n      <!-- 20000 -->\n      <g transform=\"translate(702.795676 390.678437)scale(0.1 -0.1)\">\n       <use xlink:href=\"#DejaVuSans-32\"/>\n       <use x=\"63.623047\" xlink:href=\"#DejaVuSans-30\"/>\n       <use x=\"127.246094\" xlink:href=\"#DejaVuSans-30\"/>\n       <use x=\"190.869141\" xlink:href=\"#DejaVuSans-30\"/>\n       <use x=\"254.492188\" xlink:href=\"#DejaVuSans-30\"/>\n      </g>\n     </g>\n    </g>\n    <g id=\"text_10\">\n     <!-- R$ -->\n     <g transform=\"translate(389.604236 404.356562)scale(0.1 -0.1)\">\n      <defs>\n       <path d=\"M 2841 2188 \nQ 3044 2119 3236 1894 \nQ 3428 1669 3622 1275 \nL 4263 0 \nL 3584 0 \nL 2988 1197 \nQ 2756 1666 2539 1819 \nQ 2322 1972 1947 1972 \nL 1259 1972 \nL 1259 0 \nL 628 0 \nL 628 4666 \nL 2053 4666 \nQ 2853 4666 3247 4331 \nQ 3641 3997 3641 3322 \nQ 3641 2881 3436 2590 \nQ 3231 2300 2841 2188 \nz\nM 1259 4147 \nL 1259 2491 \nL 2053 2491 \nQ 2509 2491 2742 2702 \nQ 2975 2913 2975 3322 \nQ 2975 3731 2742 3939 \nQ 2509 4147 2053 4147 \nL 1259 4147 \nz\n\" id=\"DejaVuSans-52\" transform=\"scale(0.015625)\"/>\n       <path d=\"M 2163 -941 \nL 1850 -941 \nL 1847 0 \nQ 1519 6 1191 76 \nQ 863 147 531 288 \nL 531 850 \nQ 850 650 1176 548 \nQ 1503 447 1850 444 \nL 1850 1869 \nQ 1159 1981 845 2250 \nQ 531 2519 531 2988 \nQ 531 3497 872 3790 \nQ 1213 4084 1850 4128 \nL 1850 4863 \nL 2163 4863 \nL 2163 4138 \nQ 2453 4125 2725 4076 \nQ 2997 4028 3256 3944 \nL 3256 3397 \nQ 2997 3528 2723 3600 \nQ 2450 3672 2163 3684 \nL 2163 2350 \nQ 2872 2241 3206 1959 \nQ 3541 1678 3541 1191 \nQ 3541 663 3186 358 \nQ 2831 53 2163 6 \nL 2163 -941 \nz\nM 1850 2406 \nL 1850 3688 \nQ 1488 3647 1297 3481 \nQ 1106 3316 1106 3041 \nQ 1106 2772 1282 2622 \nQ 1459 2472 1850 2406 \nz\nM 2163 1806 \nL 2163 453 \nQ 2559 506 2761 678 \nQ 2963 850 2963 1131 \nQ 2963 1406 2770 1568 \nQ 2578 1731 2163 1806 \nz\n\" id=\"DejaVuSans-24\" transform=\"scale(0.015625)\"/>\n      </defs>\n      <use xlink:href=\"#DejaVuSans-52\"/>\n      <use x=\"69.482422\" xlink:href=\"#DejaVuSans-24\"/>\n     </g>\n    </g>\n   </g>\n   <g id=\"matplotlib.axis_2\">\n    <g id=\"ytick_1\">\n     <g id=\"line2d_10\">\n      <defs>\n       <path d=\"M 0 0 \nL -3.5 0 \n\" id=\"m9936cf233a\" style=\"stroke:#000000;stroke-width:0.8;\"/>\n      </defs>\n      <g>\n       <use style=\"stroke:#000000;stroke-width:0.8;\" x=\"53.328125\" xlink:href=\"#m9936cf233a\" y=\"376.08\"/>\n      </g>\n     </g>\n     <g id=\"text_11\">\n      <!-- 0 -->\n      <g transform=\"translate(39.965625 379.879219)scale(0.1 -0.1)\">\n       <use xlink:href=\"#DejaVuSans-30\"/>\n      </g>\n     </g>\n    </g>\n    <g id=\"ytick_2\">\n     <g id=\"line2d_11\">\n      <g>\n       <use style=\"stroke:#000000;stroke-width:0.8;\" x=\"53.328125\" xlink:href=\"#m9936cf233a\" y=\"329.081433\"/>\n      </g>\n     </g>\n     <g id=\"text_12\">\n      <!-- 1000 -->\n      <g transform=\"translate(20.878125 332.880652)scale(0.1 -0.1)\">\n       <use xlink:href=\"#DejaVuSans-31\"/>\n       <use x=\"63.623047\" xlink:href=\"#DejaVuSans-30\"/>\n       <use x=\"127.246094\" xlink:href=\"#DejaVuSans-30\"/>\n       <use x=\"190.869141\" xlink:href=\"#DejaVuSans-30\"/>\n      </g>\n     </g>\n    </g>\n    <g id=\"ytick_3\">\n     <g id=\"line2d_12\">\n      <g>\n       <use style=\"stroke:#000000;stroke-width:0.8;\" x=\"53.328125\" xlink:href=\"#m9936cf233a\" y=\"282.082867\"/>\n      </g>\n     </g>\n     <g id=\"text_13\">\n      <!-- 2000 -->\n      <g transform=\"translate(20.878125 285.882085)scale(0.1 -0.1)\">\n       <use xlink:href=\"#DejaVuSans-32\"/>\n       <use x=\"63.623047\" xlink:href=\"#DejaVuSans-30\"/>\n       <use x=\"127.246094\" xlink:href=\"#DejaVuSans-30\"/>\n       <use x=\"190.869141\" xlink:href=\"#DejaVuSans-30\"/>\n      </g>\n     </g>\n    </g>\n    <g id=\"ytick_4\">\n     <g id=\"line2d_13\">\n      <g>\n       <use style=\"stroke:#000000;stroke-width:0.8;\" x=\"53.328125\" xlink:href=\"#m9936cf233a\" y=\"235.0843\"/>\n      </g>\n     </g>\n     <g id=\"text_14\">\n      <!-- 3000 -->\n      <g transform=\"translate(20.878125 238.883519)scale(0.1 -0.1)\">\n       <defs>\n        <path d=\"M 2597 2516 \nQ 3050 2419 3304 2112 \nQ 3559 1806 3559 1356 \nQ 3559 666 3084 287 \nQ 2609 -91 1734 -91 \nQ 1441 -91 1130 -33 \nQ 819 25 488 141 \nL 488 750 \nQ 750 597 1062 519 \nQ 1375 441 1716 441 \nQ 2309 441 2620 675 \nQ 2931 909 2931 1356 \nQ 2931 1769 2642 2001 \nQ 2353 2234 1838 2234 \nL 1294 2234 \nL 1294 2753 \nL 1863 2753 \nQ 2328 2753 2575 2939 \nQ 2822 3125 2822 3475 \nQ 2822 3834 2567 4026 \nQ 2313 4219 1838 4219 \nQ 1578 4219 1281 4162 \nQ 984 4106 628 3988 \nL 628 4550 \nQ 988 4650 1302 4700 \nQ 1616 4750 1894 4750 \nQ 2613 4750 3031 4423 \nQ 3450 4097 3450 3541 \nQ 3450 3153 3228 2886 \nQ 3006 2619 2597 2516 \nz\n\" id=\"DejaVuSans-33\" transform=\"scale(0.015625)\"/>\n       </defs>\n       <use xlink:href=\"#DejaVuSans-33\"/>\n       <use x=\"63.623047\" xlink:href=\"#DejaVuSans-30\"/>\n       <use x=\"127.246094\" xlink:href=\"#DejaVuSans-30\"/>\n       <use x=\"190.869141\" xlink:href=\"#DejaVuSans-30\"/>\n      </g>\n     </g>\n    </g>\n    <g id=\"ytick_5\">\n     <g id=\"line2d_14\">\n      <g>\n       <use style=\"stroke:#000000;stroke-width:0.8;\" x=\"53.328125\" xlink:href=\"#m9936cf233a\" y=\"188.085733\"/>\n      </g>\n     </g>\n     <g id=\"text_15\">\n      <!-- 4000 -->\n      <g transform=\"translate(20.878125 191.884952)scale(0.1 -0.1)\">\n       <defs>\n        <path d=\"M 2419 4116 \nL 825 1625 \nL 2419 1625 \nL 2419 4116 \nz\nM 2253 4666 \nL 3047 4666 \nL 3047 1625 \nL 3713 1625 \nL 3713 1100 \nL 3047 1100 \nL 3047 0 \nL 2419 0 \nL 2419 1100 \nL 313 1100 \nL 313 1709 \nL 2253 4666 \nz\n\" id=\"DejaVuSans-34\" transform=\"scale(0.015625)\"/>\n       </defs>\n       <use xlink:href=\"#DejaVuSans-34\"/>\n       <use x=\"63.623047\" xlink:href=\"#DejaVuSans-30\"/>\n       <use x=\"127.246094\" xlink:href=\"#DejaVuSans-30\"/>\n       <use x=\"190.869141\" xlink:href=\"#DejaVuSans-30\"/>\n      </g>\n     </g>\n    </g>\n    <g id=\"ytick_6\">\n     <g id=\"line2d_15\">\n      <g>\n       <use style=\"stroke:#000000;stroke-width:0.8;\" x=\"53.328125\" xlink:href=\"#m9936cf233a\" y=\"141.087167\"/>\n      </g>\n     </g>\n     <g id=\"text_16\">\n      <!-- 5000 -->\n      <g transform=\"translate(20.878125 144.886385)scale(0.1 -0.1)\">\n       <use xlink:href=\"#DejaVuSans-35\"/>\n       <use x=\"63.623047\" xlink:href=\"#DejaVuSans-30\"/>\n       <use x=\"127.246094\" xlink:href=\"#DejaVuSans-30\"/>\n       <use x=\"190.869141\" xlink:href=\"#DejaVuSans-30\"/>\n      </g>\n     </g>\n    </g>\n    <g id=\"ytick_7\">\n     <g id=\"line2d_16\">\n      <g>\n       <use style=\"stroke:#000000;stroke-width:0.8;\" x=\"53.328125\" xlink:href=\"#m9936cf233a\" y=\"94.0886\"/>\n      </g>\n     </g>\n     <g id=\"text_17\">\n      <!-- 6000 -->\n      <g transform=\"translate(20.878125 97.887819)scale(0.1 -0.1)\">\n       <defs>\n        <path d=\"M 2113 2584 \nQ 1688 2584 1439 2293 \nQ 1191 2003 1191 1497 \nQ 1191 994 1439 701 \nQ 1688 409 2113 409 \nQ 2538 409 2786 701 \nQ 3034 994 3034 1497 \nQ 3034 2003 2786 2293 \nQ 2538 2584 2113 2584 \nz\nM 3366 4563 \nL 3366 3988 \nQ 3128 4100 2886 4159 \nQ 2644 4219 2406 4219 \nQ 1781 4219 1451 3797 \nQ 1122 3375 1075 2522 \nQ 1259 2794 1537 2939 \nQ 1816 3084 2150 3084 \nQ 2853 3084 3261 2657 \nQ 3669 2231 3669 1497 \nQ 3669 778 3244 343 \nQ 2819 -91 2113 -91 \nQ 1303 -91 875 529 \nQ 447 1150 447 2328 \nQ 447 3434 972 4092 \nQ 1497 4750 2381 4750 \nQ 2619 4750 2861 4703 \nQ 3103 4656 3366 4563 \nz\n\" id=\"DejaVuSans-36\" transform=\"scale(0.015625)\"/>\n       </defs>\n       <use xlink:href=\"#DejaVuSans-36\"/>\n       <use x=\"63.623047\" xlink:href=\"#DejaVuSans-30\"/>\n       <use x=\"127.246094\" xlink:href=\"#DejaVuSans-30\"/>\n       <use x=\"190.869141\" xlink:href=\"#DejaVuSans-30\"/>\n      </g>\n     </g>\n    </g>\n    <g id=\"ytick_8\">\n     <g id=\"line2d_17\">\n      <g>\n       <use style=\"stroke:#000000;stroke-width:0.8;\" x=\"53.328125\" xlink:href=\"#m9936cf233a\" y=\"47.090033\"/>\n      </g>\n     </g>\n     <g id=\"text_18\">\n      <!-- 7000 -->\n      <g transform=\"translate(20.878125 50.889252)scale(0.1 -0.1)\">\n       <use xlink:href=\"#DejaVuSans-37\"/>\n       <use x=\"63.623047\" xlink:href=\"#DejaVuSans-30\"/>\n       <use x=\"127.246094\" xlink:href=\"#DejaVuSans-30\"/>\n       <use x=\"190.869141\" xlink:href=\"#DejaVuSans-30\"/>\n      </g>\n     </g>\n    </g>\n    <g id=\"text_19\">\n     <!-- Count -->\n     <g transform=\"translate(14.798438 206.488437)rotate(-90)scale(0.1 -0.1)\">\n      <defs>\n       <path d=\"M 4122 4306 \nL 4122 3641 \nQ 3803 3938 3442 4084 \nQ 3081 4231 2675 4231 \nQ 1875 4231 1450 3742 \nQ 1025 3253 1025 2328 \nQ 1025 1406 1450 917 \nQ 1875 428 2675 428 \nQ 3081 428 3442 575 \nQ 3803 722 4122 1019 \nL 4122 359 \nQ 3791 134 3420 21 \nQ 3050 -91 2638 -91 \nQ 1578 -91 968 557 \nQ 359 1206 359 2328 \nQ 359 3453 968 4101 \nQ 1578 4750 2638 4750 \nQ 3056 4750 3426 4639 \nQ 3797 4528 4122 4306 \nz\n\" id=\"DejaVuSans-43\" transform=\"scale(0.015625)\"/>\n       <path d=\"M 1959 3097 \nQ 1497 3097 1228 2736 \nQ 959 2375 959 1747 \nQ 959 1119 1226 758 \nQ 1494 397 1959 397 \nQ 2419 397 2687 759 \nQ 2956 1122 2956 1747 \nQ 2956 2369 2687 2733 \nQ 2419 3097 1959 3097 \nz\nM 1959 3584 \nQ 2709 3584 3137 3096 \nQ 3566 2609 3566 1747 \nQ 3566 888 3137 398 \nQ 2709 -91 1959 -91 \nQ 1206 -91 779 398 \nQ 353 888 353 1747 \nQ 353 2609 779 3096 \nQ 1206 3584 1959 3584 \nz\n\" id=\"DejaVuSans-6f\" transform=\"scale(0.015625)\"/>\n       <path d=\"M 544 1381 \nL 544 3500 \nL 1119 3500 \nL 1119 1403 \nQ 1119 906 1312 657 \nQ 1506 409 1894 409 \nQ 2359 409 2629 706 \nQ 2900 1003 2900 1516 \nL 2900 3500 \nL 3475 3500 \nL 3475 0 \nL 2900 0 \nL 2900 538 \nQ 2691 219 2414 64 \nQ 2138 -91 1772 -91 \nQ 1169 -91 856 284 \nQ 544 659 544 1381 \nz\nM 1991 3584 \nL 1991 3584 \nz\n\" id=\"DejaVuSans-75\" transform=\"scale(0.015625)\"/>\n       <path d=\"M 3513 2113 \nL 3513 0 \nL 2938 0 \nL 2938 2094 \nQ 2938 2591 2744 2837 \nQ 2550 3084 2163 3084 \nQ 1697 3084 1428 2787 \nQ 1159 2491 1159 1978 \nL 1159 0 \nL 581 0 \nL 581 3500 \nL 1159 3500 \nL 1159 2956 \nQ 1366 3272 1645 3428 \nQ 1925 3584 2291 3584 \nQ 2894 3584 3203 3211 \nQ 3513 2838 3513 2113 \nz\n\" id=\"DejaVuSans-6e\" transform=\"scale(0.015625)\"/>\n       <path d=\"M 1172 4494 \nL 1172 3500 \nL 2356 3500 \nL 2356 3053 \nL 1172 3053 \nL 1172 1153 \nQ 1172 725 1289 603 \nQ 1406 481 1766 481 \nL 2356 481 \nL 2356 0 \nL 1766 0 \nQ 1100 0 847 248 \nQ 594 497 594 1153 \nL 594 3053 \nL 172 3053 \nL 172 3500 \nL 594 3500 \nL 594 4494 \nL 1172 4494 \nz\n\" id=\"DejaVuSans-74\" transform=\"scale(0.015625)\"/>\n      </defs>\n      <use xlink:href=\"#DejaVuSans-43\"/>\n      <use x=\"69.824219\" xlink:href=\"#DejaVuSans-6f\"/>\n      <use x=\"131.005859\" xlink:href=\"#DejaVuSans-75\"/>\n      <use x=\"194.384766\" xlink:href=\"#DejaVuSans-6e\"/>\n      <use x=\"257.763672\" xlink:href=\"#DejaVuSans-74\"/>\n     </g>\n    </g>\n   </g>\n   <g id=\"line2d_18\">\n    <path clip-path=\"url(#pcaab8d1ceb)\" d=\"M 84.503723 344.180442 \nL 87.636949 336.810162 \nL 90.770175 330.762341 \nL 93.903401 325.009866 \nL 97.036627 317.692716 \nL 100.169853 307.155527 \nL 103.303079 293.351796 \nL 106.436305 278.772303 \nL 109.569531 267.632627 \nL 112.702757 263.346242 \nL 115.835983 266.348534 \nL 118.969209 274.230567 \nL 122.102434 283.750438 \nL 125.23566 292.739096 \nL 128.368886 300.678374 \nL 134.635338 315.302619 \nL 137.768564 321.990794 \nL 140.90179 327.388107 \nL 144.035016 331.424916 \nL 147.168242 334.994762 \nL 150.301468 339.050912 \nL 153.434694 343.635501 \nL 156.56792 348.01493 \nL 159.701146 351.595129 \nL 162.834372 354.382969 \nL 165.967598 356.567398 \nL 169.100824 358.019294 \nL 172.23405 358.50199 \nL 175.367275 358.300754 \nL 178.500501 358.331338 \nL 181.633727 359.425058 \nL 184.766953 361.568412 \nL 187.900179 363.974202 \nL 191.033405 365.852944 \nL 194.166631 366.97491 \nL 197.299857 367.517213 \nL 200.433083 367.619589 \nL 203.566309 367.302269 \nL 206.699535 366.76332 \nL 209.832761 366.510928 \nL 212.965987 367.026854 \nL 216.099213 368.320616 \nL 219.232439 369.906792 \nL 222.365665 371.212858 \nL 225.498891 371.934968 \nL 228.632117 372.020187 \nL 231.765342 371.471661 \nL 234.898568 370.347564 \nL 238.031794 368.970507 \nL 241.16502 367.977823 \nL 244.298246 367.970067 \nL 247.431472 369.042188 \nL 253.697924 372.286972 \nL 256.83115 373.362103 \nL 259.964376 373.852442 \nL 263.097602 373.847231 \nL 266.230828 373.470912 \nL 269.364054 372.915105 \nL 272.49728 372.477009 \nL 275.630506 372.43938 \nL 278.763732 372.870995 \nL 285.030184 374.251794 \nL 288.163409 374.700656 \nL 291.296635 374.867201 \nL 294.429861 374.768367 \nL 297.563087 374.443358 \nL 303.829539 373.612492 \nL 306.962765 373.507215 \nL 310.095991 373.746132 \nL 316.362443 374.66385 \nL 319.495669 374.959078 \nL 322.628895 375.023631 \nL 325.762121 374.847015 \nL 328.895347 374.451412 \nL 335.161799 373.512586 \nL 338.295025 373.402631 \nL 341.42825 373.691719 \nL 350.827928 375.299826 \nL 353.961154 375.543853 \nL 357.09438 375.613175 \nL 363.360832 375.44019 \nL 369.627284 375.273269 \nL 375.893736 375.473176 \nL 382.160188 375.688836 \nL 385.293414 375.615513 \nL 388.42664 375.333016 \nL 391.559866 374.802521 \nL 397.826317 373.403669 \nL 400.959543 373.05304 \nL 404.092769 373.215395 \nL 407.225995 373.810905 \nL 410.359221 374.563082 \nL 413.492447 375.200698 \nL 416.625673 375.599867 \nL 419.758899 375.77636 \nL 426.025351 375.750703 \nL 432.291803 375.645798 \nL 438.558255 375.745952 \nL 447.957933 375.919059 \nL 454.224384 375.709023 \nL 463.624062 375.104478 \nL 466.757288 375.116551 \nL 473.02374 375.517496 \nL 479.290192 375.866977 \nL 485.556644 375.91854 \nL 498.089548 375.769981 \nL 516.888903 375.965353 \nL 529.421807 375.775528 \nL 545.087937 375.880449 \nL 551.354389 375.467293 \nL 557.620841 374.926044 \nL 560.754067 374.863765 \nL 563.887292 375.010165 \nL 573.28697 375.786421 \nL 579.553422 375.88647 \nL 592.086326 375.72795 \nL 614.018908 375.999287 \nL 626.551811 375.934995 \nL 642.217941 376.019519 \nL 657.884071 375.857041 \nL 676.683426 376.041656 \nL 695.482782 376.030376 \nL 708.015686 376.073227 \nL 708.015686 376.073227 \n\" style=\"fill:none;stroke:#1f77b4;stroke-linecap:square;stroke-width:1.5;\"/>\n   </g>\n   <g id=\"patch_348\">\n    <path d=\"M 53.328125 376.08 \nL 53.328125 7.2 \n\" style=\"fill:none;stroke:#000000;stroke-linecap:square;stroke-linejoin:miter;stroke-width:0.8;\"/>\n   </g>\n   <g id=\"patch_349\">\n    <path d=\"M 53.328125 376.08 \nL 739.191284 376.08 \n\" style=\"fill:none;stroke:#000000;stroke-linecap:square;stroke-linejoin:miter;stroke-width:0.8;\"/>\n   </g>\n  </g>\n </g>\n <defs>\n  <clipPath id=\"pcaab8d1ceb\">\n   <rect height=\"368.88\" width=\"685.863159\" x=\"53.328125\" y=\"7.2\"/>\n  </clipPath>\n </defs>\n</svg>\n",
      "image/png": "[encoded data removed]"
     },
     "metadata": {
      "needs_background": "light"
     }
    }
   ],
   "metadata": {
    "colab": {},
    "colab_type": "code",
    "id": "C7zHF1vPTg2G"
   }
  },
  {
   "cell_type": "markdown",
   "source": [
    "### Construa uma tabela de frequências e uma com os percentuais do cruzando das variáveis SEXO e COR\n",
    "#### <font color='blue'>Avalie o resultado da tabela e escreva suas principais conclusões</font>\n",
    "#### <font color='red'>Utilize os dicionários abaixo para renomear as linha e colunas das tabelas de frequências e dos gráficos em nosso projeto</font>"
   ],
   "metadata": {
    "colab_type": "text",
    "id": "vvtzLOUKTg2H"
   }
  },
  {
   "cell_type": "code",
   "execution_count": 173,
   "source": [
    "sexo = {\n",
    "    0: 'Masculino', \n",
    "    1: 'Feminino'\n",
    "}\n",
    "cor = {\n",
    "    0: 'Indígena', \n",
    "    2: 'Branca', \n",
    "    4: 'Preta', \n",
    "    6: 'Amarela', \n",
    "    8: 'Parda', \n",
    "    9: 'Sem declaração'\n",
    "}\n",
    "anos_de_estudo = {\n",
    "    1: 'Sem instrução e menos de 1 ano', \n",
    "    2: '1 ano', \n",
    "    3: '2 anos', \n",
    "    4: '3 anos', \n",
    "    5: '4 anos', \n",
    "    6: '5 anos', \n",
    "    7: '6 anos', \n",
    "    8: '7 anos', \n",
    "    9: '8 anos', \n",
    "    10: '9 anos', \n",
    "    11: '10 anos', \n",
    "    12: '11 anos', \n",
    "    13: '12 anos', \n",
    "    14: '13 anos', \n",
    "    15: '14 anos', \n",
    "    16: '15 anos ou mais', \n",
    "    17: 'Não determinados'\n",
    "}\n",
    "uf = {\n",
    "    11: 'Rondônia', \n",
    "    12: 'Acre', \n",
    "    13: 'Amazonas', \n",
    "    14: 'Roraima', \n",
    "    15: 'Pará', \n",
    "    16: 'Amapá', \n",
    "    17: 'Tocantins', \n",
    "    21: 'Maranhão', \n",
    "    22: 'Piauí', \n",
    "    23: 'Ceará', \n",
    "    24: 'Rio Grande do Norte', \n",
    "    25: 'Paraíba', \n",
    "    26: 'Pernambuco', \n",
    "    27: 'Alagoas', \n",
    "    28: 'Sergipe', \n",
    "    29: 'Bahia', \n",
    "    31: 'Minas Gerais', \n",
    "    32: 'Espírito Santo', \n",
    "    33: 'Rio de Janeiro', \n",
    "    35: 'São Paulo', \n",
    "    41: 'Paraná', \n",
    "    42: 'Santa Catarina', \n",
    "    43: 'Rio Grande do Sul', \n",
    "    50: 'Mato Grosso do Sul', \n",
    "    51: 'Mato Grosso', \n",
    "    52: 'Goiás', \n",
    "    53: 'Distrito Federal'\n",
    "}"
   ],
   "outputs": [],
   "metadata": {
    "colab": {},
    "colab_type": "code",
    "id": "sChJRo_qTg2I"
   }
  },
  {
   "cell_type": "code",
   "execution_count": 183,
   "source": [
    "frequencia = pd.crosstab(dados.Cor,\n",
    "                         dados['Anos de Estudo'],\n",
    "                         aggfunc=\"max\",\n",
    "                         values=dados.Renda)\n",
    "frequencia.rename(index = cor, inplace = True)\n",
    "frequencia.rename(columns = anos_de_estudo, inplace = True)\n",
    "frequencia"
   ],
   "outputs": [
    {
     "output_type": "execute_result",
     "data": {
      "text/plain": [
       "Anos de Estudo  Sem instrução e menos de 1 ano    1 ano   2 anos   3 anos  \\\n",
       "Cor                                                                         \n",
       "Indígena                                2000.0   2000.0   2000.0   3000.0   \n",
       "Branca                                 30000.0  30000.0  40000.0  80000.0   \n",
       "Preta                                  10000.0   3500.0  15000.0   5000.0   \n",
       "Amarela                                 2250.0    788.0    940.0   1000.0   \n",
       "Parda                                   7000.0  20000.0  11000.0  20000.0   \n",
       "\n",
       "Anos de Estudo   4 anos   5 anos   6 anos   7 anos   8 anos   9 anos  10 anos  \\\n",
       "Cor                                                                             \n",
       "Indígena         1500.0   1675.0   2800.0   2500.0   4000.0   2500.0   2500.0   \n",
       "Branca          50000.0  30000.0  25000.0  40000.0  30000.0  60000.0  18000.0   \n",
       "Preta            6000.0   7000.0   6000.0  10000.0   7000.0  10000.0  15000.0   \n",
       "Amarela          4000.0   2500.0   2730.0   1800.0   7500.0   2000.0   4000.0   \n",
       "Parda           15000.0  35000.0  20000.0  15000.0  25000.0  10000.0  45000.0   \n",
       "\n",
       "Anos de Estudo   11 anos   12 anos  13 anos  14 anos  15 anos ou mais  \\\n",
       "Cor                                                                     \n",
       "Indígena         10000.0  120000.0   4500.0   3800.0           9500.0   \n",
       "Branca          200000.0   30000.0  25000.0  50000.0         200000.0   \n",
       "Preta            50000.0   14000.0  20000.0  27000.0          25000.0   \n",
       "Amarela          50000.0    3500.0   8400.0  12000.0          28000.0   \n",
       "Parda            33400.0   20000.0  18000.0  30000.0         100000.0   \n",
       "\n",
       "Anos de Estudo  Não determinados  \n",
       "Cor                               \n",
       "Indígena                   800.0  \n",
       "Branca                    3600.0  \n",
       "Preta                     3000.0  \n",
       "Amarela                      NaN  \n",
       "Parda                     7000.0  "
      ],
      "text/html": [
       "<div>\n",
       "<style scoped>\n",
       "    .dataframe tbody tr th:only-of-type {\n",
       "        vertical-align: middle;\n",
       "    }\n",
       "\n",
       "    .dataframe tbody tr th {\n",
       "        vertical-align: top;\n",
       "    }\n",
       "\n",
       "    .dataframe thead th {\n",
       "        text-align: right;\n",
       "    }\n",
       "</style>\n",
       "<table border=\"1\" class=\"dataframe\">\n",
       "  <thead>\n",
       "    <tr style=\"text-align: right;\">\n",
       "      <th>Anos de Estudo</th>\n",
       "      <th>Sem instrução e menos de 1 ano</th>\n",
       "      <th>1 ano</th>\n",
       "      <th>2 anos</th>\n",
       "      <th>3 anos</th>\n",
       "      <th>4 anos</th>\n",
       "      <th>5 anos</th>\n",
       "      <th>6 anos</th>\n",
       "      <th>7 anos</th>\n",
       "      <th>8 anos</th>\n",
       "      <th>9 anos</th>\n",
       "      <th>10 anos</th>\n",
       "      <th>11 anos</th>\n",
       "      <th>12 anos</th>\n",
       "      <th>13 anos</th>\n",
       "      <th>14 anos</th>\n",
       "      <th>15 anos ou mais</th>\n",
       "      <th>Não determinados</th>\n",
       "    </tr>\n",
       "    <tr>\n",
       "      <th>Cor</th>\n",
       "      <th></th>\n",
       "      <th></th>\n",
       "      <th></th>\n",
       "      <th></th>\n",
       "      <th></th>\n",
       "      <th></th>\n",
       "      <th></th>\n",
       "      <th></th>\n",
       "      <th></th>\n",
       "      <th></th>\n",
       "      <th></th>\n",
       "      <th></th>\n",
       "      <th></th>\n",
       "      <th></th>\n",
       "      <th></th>\n",
       "      <th></th>\n",
       "      <th></th>\n",
       "    </tr>\n",
       "  </thead>\n",
       "  <tbody>\n",
       "    <tr>\n",
       "      <th>Indígena</th>\n",
       "      <td>2000.0</td>\n",
       "      <td>2000.0</td>\n",
       "      <td>2000.0</td>\n",
       "      <td>3000.0</td>\n",
       "      <td>1500.0</td>\n",
       "      <td>1675.0</td>\n",
       "      <td>2800.0</td>\n",
       "      <td>2500.0</td>\n",
       "      <td>4000.0</td>\n",
       "      <td>2500.0</td>\n",
       "      <td>2500.0</td>\n",
       "      <td>10000.0</td>\n",
       "      <td>120000.0</td>\n",
       "      <td>4500.0</td>\n",
       "      <td>3800.0</td>\n",
       "      <td>9500.0</td>\n",
       "      <td>800.0</td>\n",
       "    </tr>\n",
       "    <tr>\n",
       "      <th>Branca</th>\n",
       "      <td>30000.0</td>\n",
       "      <td>30000.0</td>\n",
       "      <td>40000.0</td>\n",
       "      <td>80000.0</td>\n",
       "      <td>50000.0</td>\n",
       "      <td>30000.0</td>\n",
       "      <td>25000.0</td>\n",
       "      <td>40000.0</td>\n",
       "      <td>30000.0</td>\n",
       "      <td>60000.0</td>\n",
       "      <td>18000.0</td>\n",
       "      <td>200000.0</td>\n",
       "      <td>30000.0</td>\n",
       "      <td>25000.0</td>\n",
       "      <td>50000.0</td>\n",
       "      <td>200000.0</td>\n",
       "      <td>3600.0</td>\n",
       "    </tr>\n",
       "    <tr>\n",
       "      <th>Preta</th>\n",
       "      <td>10000.0</td>\n",
       "      <td>3500.0</td>\n",
       "      <td>15000.0</td>\n",
       "      <td>5000.0</td>\n",
       "      <td>6000.0</td>\n",
       "      <td>7000.0</td>\n",
       "      <td>6000.0</td>\n",
       "      <td>10000.0</td>\n",
       "      <td>7000.0</td>\n",
       "      <td>10000.0</td>\n",
       "      <td>15000.0</td>\n",
       "      <td>50000.0</td>\n",
       "      <td>14000.0</td>\n",
       "      <td>20000.0</td>\n",
       "      <td>27000.0</td>\n",
       "      <td>25000.0</td>\n",
       "      <td>3000.0</td>\n",
       "    </tr>\n",
       "    <tr>\n",
       "      <th>Amarela</th>\n",
       "      <td>2250.0</td>\n",
       "      <td>788.0</td>\n",
       "      <td>940.0</td>\n",
       "      <td>1000.0</td>\n",
       "      <td>4000.0</td>\n",
       "      <td>2500.0</td>\n",
       "      <td>2730.0</td>\n",
       "      <td>1800.0</td>\n",
       "      <td>7500.0</td>\n",
       "      <td>2000.0</td>\n",
       "      <td>4000.0</td>\n",
       "      <td>50000.0</td>\n",
       "      <td>3500.0</td>\n",
       "      <td>8400.0</td>\n",
       "      <td>12000.0</td>\n",
       "      <td>28000.0</td>\n",
       "      <td>NaN</td>\n",
       "    </tr>\n",
       "    <tr>\n",
       "      <th>Parda</th>\n",
       "      <td>7000.0</td>\n",
       "      <td>20000.0</td>\n",
       "      <td>11000.0</td>\n",
       "      <td>20000.0</td>\n",
       "      <td>15000.0</td>\n",
       "      <td>35000.0</td>\n",
       "      <td>20000.0</td>\n",
       "      <td>15000.0</td>\n",
       "      <td>25000.0</td>\n",
       "      <td>10000.0</td>\n",
       "      <td>45000.0</td>\n",
       "      <td>33400.0</td>\n",
       "      <td>20000.0</td>\n",
       "      <td>18000.0</td>\n",
       "      <td>30000.0</td>\n",
       "      <td>100000.0</td>\n",
       "      <td>7000.0</td>\n",
       "    </tr>\n",
       "  </tbody>\n",
       "</table>\n",
       "</div>"
      ]
     },
     "metadata": {},
     "execution_count": 183
    }
   ],
   "metadata": {}
  },
  {
   "cell_type": "code",
   "execution_count": 174,
   "source": [
    "frequencia = pd.crosstab(dados.Sexo,\n",
    "                         dados.Cor)\n",
    "frequencia.rename(index = sexo, inplace = True)\n",
    "frequencia.rename(columns = cor, inplace = True)\n",
    "frequencia\n"
   ],
   "outputs": [
    {
     "output_type": "execute_result",
     "data": {
      "text/plain": [
       "Cor        Indígena  Branca  Preta  Amarela  Parda\n",
       "Sexo                                              \n",
       "Masculino       256   22194   5502      235  25063\n",
       "Feminino        101    9621   2889      117  10862"
      ],
      "text/html": [
       "<div>\n",
       "<style scoped>\n",
       "    .dataframe tbody tr th:only-of-type {\n",
       "        vertical-align: middle;\n",
       "    }\n",
       "\n",
       "    .dataframe tbody tr th {\n",
       "        vertical-align: top;\n",
       "    }\n",
       "\n",
       "    .dataframe thead th {\n",
       "        text-align: right;\n",
       "    }\n",
       "</style>\n",
       "<table border=\"1\" class=\"dataframe\">\n",
       "  <thead>\n",
       "    <tr style=\"text-align: right;\">\n",
       "      <th>Cor</th>\n",
       "      <th>Indígena</th>\n",
       "      <th>Branca</th>\n",
       "      <th>Preta</th>\n",
       "      <th>Amarela</th>\n",
       "      <th>Parda</th>\n",
       "    </tr>\n",
       "    <tr>\n",
       "      <th>Sexo</th>\n",
       "      <th></th>\n",
       "      <th></th>\n",
       "      <th></th>\n",
       "      <th></th>\n",
       "      <th></th>\n",
       "    </tr>\n",
       "  </thead>\n",
       "  <tbody>\n",
       "    <tr>\n",
       "      <th>Masculino</th>\n",
       "      <td>256</td>\n",
       "      <td>22194</td>\n",
       "      <td>5502</td>\n",
       "      <td>235</td>\n",
       "      <td>25063</td>\n",
       "    </tr>\n",
       "    <tr>\n",
       "      <th>Feminino</th>\n",
       "      <td>101</td>\n",
       "      <td>9621</td>\n",
       "      <td>2889</td>\n",
       "      <td>117</td>\n",
       "      <td>10862</td>\n",
       "    </tr>\n",
       "  </tbody>\n",
       "</table>\n",
       "</div>"
      ]
     },
     "metadata": {},
     "execution_count": 174
    }
   ],
   "metadata": {
    "colab": {},
    "colab_type": "code",
    "id": "KbeFXAGSTg2K"
   }
  },
  {
   "cell_type": "code",
   "execution_count": 175,
   "source": [
    "frequencia = pd.crosstab(dados.UF,\n",
    "                         dados['Anos de Estudo'])\n",
    "frequencia.rename(index = uf, inplace = True)\n",
    "frequencia.rename(columns = anos_de_estudo, inplace = True)\n",
    "frequencia"
   ],
   "outputs": [
    {
     "output_type": "execute_result",
     "data": {
      "text/plain": [
       "Anos de Estudo       Sem instrução e menos de 1 ano  1 ano  2 anos  3 anos  \\\n",
       "UF                                                                           \n",
       "Rondônia                                        118     41      55      73   \n",
       "Acre                                            189     18      17      34   \n",
       "Amazonas                                        181     54      72      76   \n",
       "Roraima                                          53     10      10      17   \n",
       "Pará                                            393    108     170     273   \n",
       "Amapá                                            30      8      10      17   \n",
       "Tocantins                                       123     41      44      72   \n",
       "Maranhão                                        322     86      95      76   \n",
       "Piauí                                           243     44      74      79   \n",
       "Ceará                                           416    104     113     145   \n",
       "Rio Grande do Norte                             106     39      30      41   \n",
       "Paraíba                                         204     57      55      60   \n",
       "Pernambuco                                      381     79     117     142   \n",
       "Alagoas                                         131     26      56      46   \n",
       "Sergipe                                         214     60      77      85   \n",
       "Bahia                                           684    137     189     249   \n",
       "Minas Gerais                                    463    100     238     348   \n",
       "Espírito Santo                                   94     24      38      44   \n",
       "Rio de Janeiro                                  217     44      93     136   \n",
       "São Paulo                                       318     60     102     208   \n",
       "Paraná                                          223     30      89     137   \n",
       "Santa Catarina                                   78     15      32      50   \n",
       "Rio Grande do Sul                               176     72     124     215   \n",
       "Mato Grosso do Sul                               77     36      50      45   \n",
       "Mato Grosso                                     135     28      48      63   \n",
       "Goiás                                           207     55      91     128   \n",
       "Distrito Federal                                 73     12      12      32   \n",
       "\n",
       "Anos de Estudo       4 anos  5 anos  6 anos  7 anos  8 anos  9 anos  10 anos  \\\n",
       "UF                                                                             \n",
       "Rondônia                174     105      55      53     173      42       41   \n",
       "Acre                     66      36      10      25     109      21       36   \n",
       "Amazonas                138     148      73      83     207      56       65   \n",
       "Roraima                  29      21      19      19      44       9       18   \n",
       "Pará                    356     291     161     155     502     113      181   \n",
       "Amapá                    37      21      16      14      58      17       16   \n",
       "Tocantins                88      89      39      29     129      41       41   \n",
       "Maranhão                147     100      49      62     162      43       51   \n",
       "Piauí                   154      61      34      32      80      40       28   \n",
       "Ceará                   203     184      97     114     401      83       94   \n",
       "Rio Grande do Norte      70      55      32      38      78      33       39   \n",
       "Paraíba                 112      64      36      37      96      38       22   \n",
       "Pernambuco              282     244     110     135     345      91       85   \n",
       "Alagoas                  83      65      29      58      72      28       13   \n",
       "Sergipe                 117      69      59      51      93      33       34   \n",
       "Bahia                   452     356     194     216     403     158      161   \n",
       "Minas Gerais           1144     391     257     328     781     176      166   \n",
       "Espírito Santo          186      93      39      56     164      34       42   \n",
       "Rio de Janeiro          334     281     157     181     747     100      174   \n",
       "São Paulo               684     392     237     251     925     189      212   \n",
       "Paraná                  453     227     123     124     465      87      129   \n",
       "Santa Catarina          279      91      44      67     340      38       52   \n",
       "Rio Grande do Sul       469     604     269     225     720     161      172   \n",
       "Mato Grosso do Sul      142      89      62      62     146      40       28   \n",
       "Mato Grosso             146     115      54      53     222      44       57   \n",
       "Goiás                   292     234     149     166     386      94      116   \n",
       "Distrito Federal         92      73      41      55     132      31       45   \n",
       "\n",
       "Anos de Estudo       11 anos  12 anos  13 anos  14 anos  15 anos ou mais  \\\n",
       "UF                                                                         \n",
       "Rondônia                 355       25       23       26              173   \n",
       "Acre                     216       22       13       10              111   \n",
       "Amazonas                 672       39       31       42              256   \n",
       "Roraima                  156       15       11       21               88   \n",
       "Pará                    1205       52       42       49              385   \n",
       "Amapá                    159        8       10       12               76   \n",
       "Tocantins                331       21       20       30              167   \n",
       "Maranhão                 407       34       13       22              114   \n",
       "Piauí                    206       18        9        9              100   \n",
       "Ceará                    952       49       47       57              294   \n",
       "Rio Grande do Norte      258       16       10       15              112   \n",
       "Paraíba                  262       23       27       16              164   \n",
       "Pernambuco              1066      153       64       40              470   \n",
       "Alagoas                  170       10        9       11               93   \n",
       "Sergipe                  268       15        6       13               93   \n",
       "Bahia                   1707      116       78       71              527   \n",
       "Minas Gerais            1915      144      105      121              991   \n",
       "Espírito Santo           397       39       19       27              212   \n",
       "Rio de Janeiro          1653      228       82       86             1035   \n",
       "São Paulo               2723      198      207      229             1598   \n",
       "Paraná                  1194      125       92      114              724   \n",
       "Santa Catarina           648       84       43       43              357   \n",
       "Rio Grande do Sul       1547      184      130      152             1095   \n",
       "Mato Grosso do Sul       364       24       20       27              223   \n",
       "Mato Grosso              482       57       30       28              234   \n",
       "Goiás                    938       90       53       46              428   \n",
       "Distrito Federal         597       47       59       71              675   \n",
       "\n",
       "Anos de Estudo       Não determinados  \n",
       "UF                                     \n",
       "Rondônia                            5  \n",
       "Acre                                4  \n",
       "Amazonas                           13  \n",
       "Roraima                             0  \n",
       "Pará                               13  \n",
       "Amapá                               3  \n",
       "Tocantins                           1  \n",
       "Maranhão                            4  \n",
       "Piauí                               0  \n",
       "Ceará                               6  \n",
       "Rio Grande do Norte                 1  \n",
       "Paraíba                             1  \n",
       "Pernambuco                         16  \n",
       "Alagoas                             3  \n",
       "Sergipe                             0  \n",
       "Bahia                              19  \n",
       "Minas Gerais                       18  \n",
       "Espírito Santo                      3  \n",
       "Rio de Janeiro                      8  \n",
       "São Paulo                          11  \n",
       "Paraná                             20  \n",
       "Santa Catarina                     14  \n",
       "Rio Grande do Sul                   7  \n",
       "Mato Grosso do Sul                  5  \n",
       "Mato Grosso                         4  \n",
       "Goiás                               5  \n",
       "Distrito Federal                    7  "
      ],
      "text/html": [
       "<div>\n",
       "<style scoped>\n",
       "    .dataframe tbody tr th:only-of-type {\n",
       "        vertical-align: middle;\n",
       "    }\n",
       "\n",
       "    .dataframe tbody tr th {\n",
       "        vertical-align: top;\n",
       "    }\n",
       "\n",
       "    .dataframe thead th {\n",
       "        text-align: right;\n",
       "    }\n",
       "</style>\n",
       "<table border=\"1\" class=\"dataframe\">\n",
       "  <thead>\n",
       "    <tr style=\"text-align: right;\">\n",
       "      <th>Anos de Estudo</th>\n",
       "      <th>Sem instrução e menos de 1 ano</th>\n",
       "      <th>1 ano</th>\n",
       "      <th>2 anos</th>\n",
       "      <th>3 anos</th>\n",
       "      <th>4 anos</th>\n",
       "      <th>5 anos</th>\n",
       "      <th>6 anos</th>\n",
       "      <th>7 anos</th>\n",
       "      <th>8 anos</th>\n",
       "      <th>9 anos</th>\n",
       "      <th>10 anos</th>\n",
       "      <th>11 anos</th>\n",
       "      <th>12 anos</th>\n",
       "      <th>13 anos</th>\n",
       "      <th>14 anos</th>\n",
       "      <th>15 anos ou mais</th>\n",
       "      <th>Não determinados</th>\n",
       "    </tr>\n",
       "    <tr>\n",
       "      <th>UF</th>\n",
       "      <th></th>\n",
       "      <th></th>\n",
       "      <th></th>\n",
       "      <th></th>\n",
       "      <th></th>\n",
       "      <th></th>\n",
       "      <th></th>\n",
       "      <th></th>\n",
       "      <th></th>\n",
       "      <th></th>\n",
       "      <th></th>\n",
       "      <th></th>\n",
       "      <th></th>\n",
       "      <th></th>\n",
       "      <th></th>\n",
       "      <th></th>\n",
       "      <th></th>\n",
       "    </tr>\n",
       "  </thead>\n",
       "  <tbody>\n",
       "    <tr>\n",
       "      <th>Rondônia</th>\n",
       "      <td>118</td>\n",
       "      <td>41</td>\n",
       "      <td>55</td>\n",
       "      <td>73</td>\n",
       "      <td>174</td>\n",
       "      <td>105</td>\n",
       "      <td>55</td>\n",
       "      <td>53</td>\n",
       "      <td>173</td>\n",
       "      <td>42</td>\n",
       "      <td>41</td>\n",
       "      <td>355</td>\n",
       "      <td>25</td>\n",
       "      <td>23</td>\n",
       "      <td>26</td>\n",
       "      <td>173</td>\n",
       "      <td>5</td>\n",
       "    </tr>\n",
       "    <tr>\n",
       "      <th>Acre</th>\n",
       "      <td>189</td>\n",
       "      <td>18</td>\n",
       "      <td>17</td>\n",
       "      <td>34</td>\n",
       "      <td>66</td>\n",
       "      <td>36</td>\n",
       "      <td>10</td>\n",
       "      <td>25</td>\n",
       "      <td>109</td>\n",
       "      <td>21</td>\n",
       "      <td>36</td>\n",
       "      <td>216</td>\n",
       "      <td>22</td>\n",
       "      <td>13</td>\n",
       "      <td>10</td>\n",
       "      <td>111</td>\n",
       "      <td>4</td>\n",
       "    </tr>\n",
       "    <tr>\n",
       "      <th>Amazonas</th>\n",
       "      <td>181</td>\n",
       "      <td>54</td>\n",
       "      <td>72</td>\n",
       "      <td>76</td>\n",
       "      <td>138</td>\n",
       "      <td>148</td>\n",
       "      <td>73</td>\n",
       "      <td>83</td>\n",
       "      <td>207</td>\n",
       "      <td>56</td>\n",
       "      <td>65</td>\n",
       "      <td>672</td>\n",
       "      <td>39</td>\n",
       "      <td>31</td>\n",
       "      <td>42</td>\n",
       "      <td>256</td>\n",
       "      <td>13</td>\n",
       "    </tr>\n",
       "    <tr>\n",
       "      <th>Roraima</th>\n",
       "      <td>53</td>\n",
       "      <td>10</td>\n",
       "      <td>10</td>\n",
       "      <td>17</td>\n",
       "      <td>29</td>\n",
       "      <td>21</td>\n",
       "      <td>19</td>\n",
       "      <td>19</td>\n",
       "      <td>44</td>\n",
       "      <td>9</td>\n",
       "      <td>18</td>\n",
       "      <td>156</td>\n",
       "      <td>15</td>\n",
       "      <td>11</td>\n",
       "      <td>21</td>\n",
       "      <td>88</td>\n",
       "      <td>0</td>\n",
       "    </tr>\n",
       "    <tr>\n",
       "      <th>Pará</th>\n",
       "      <td>393</td>\n",
       "      <td>108</td>\n",
       "      <td>170</td>\n",
       "      <td>273</td>\n",
       "      <td>356</td>\n",
       "      <td>291</td>\n",
       "      <td>161</td>\n",
       "      <td>155</td>\n",
       "      <td>502</td>\n",
       "      <td>113</td>\n",
       "      <td>181</td>\n",
       "      <td>1205</td>\n",
       "      <td>52</td>\n",
       "      <td>42</td>\n",
       "      <td>49</td>\n",
       "      <td>385</td>\n",
       "      <td>13</td>\n",
       "    </tr>\n",
       "    <tr>\n",
       "      <th>Amapá</th>\n",
       "      <td>30</td>\n",
       "      <td>8</td>\n",
       "      <td>10</td>\n",
       "      <td>17</td>\n",
       "      <td>37</td>\n",
       "      <td>21</td>\n",
       "      <td>16</td>\n",
       "      <td>14</td>\n",
       "      <td>58</td>\n",
       "      <td>17</td>\n",
       "      <td>16</td>\n",
       "      <td>159</td>\n",
       "      <td>8</td>\n",
       "      <td>10</td>\n",
       "      <td>12</td>\n",
       "      <td>76</td>\n",
       "      <td>3</td>\n",
       "    </tr>\n",
       "    <tr>\n",
       "      <th>Tocantins</th>\n",
       "      <td>123</td>\n",
       "      <td>41</td>\n",
       "      <td>44</td>\n",
       "      <td>72</td>\n",
       "      <td>88</td>\n",
       "      <td>89</td>\n",
       "      <td>39</td>\n",
       "      <td>29</td>\n",
       "      <td>129</td>\n",
       "      <td>41</td>\n",
       "      <td>41</td>\n",
       "      <td>331</td>\n",
       "      <td>21</td>\n",
       "      <td>20</td>\n",
       "      <td>30</td>\n",
       "      <td>167</td>\n",
       "      <td>1</td>\n",
       "    </tr>\n",
       "    <tr>\n",
       "      <th>Maranhão</th>\n",
       "      <td>322</td>\n",
       "      <td>86</td>\n",
       "      <td>95</td>\n",
       "      <td>76</td>\n",
       "      <td>147</td>\n",
       "      <td>100</td>\n",
       "      <td>49</td>\n",
       "      <td>62</td>\n",
       "      <td>162</td>\n",
       "      <td>43</td>\n",
       "      <td>51</td>\n",
       "      <td>407</td>\n",
       "      <td>34</td>\n",
       "      <td>13</td>\n",
       "      <td>22</td>\n",
       "      <td>114</td>\n",
       "      <td>4</td>\n",
       "    </tr>\n",
       "    <tr>\n",
       "      <th>Piauí</th>\n",
       "      <td>243</td>\n",
       "      <td>44</td>\n",
       "      <td>74</td>\n",
       "      <td>79</td>\n",
       "      <td>154</td>\n",
       "      <td>61</td>\n",
       "      <td>34</td>\n",
       "      <td>32</td>\n",
       "      <td>80</td>\n",
       "      <td>40</td>\n",
       "      <td>28</td>\n",
       "      <td>206</td>\n",
       "      <td>18</td>\n",
       "      <td>9</td>\n",
       "      <td>9</td>\n",
       "      <td>100</td>\n",
       "      <td>0</td>\n",
       "    </tr>\n",
       "    <tr>\n",
       "      <th>Ceará</th>\n",
       "      <td>416</td>\n",
       "      <td>104</td>\n",
       "      <td>113</td>\n",
       "      <td>145</td>\n",
       "      <td>203</td>\n",
       "      <td>184</td>\n",
       "      <td>97</td>\n",
       "      <td>114</td>\n",
       "      <td>401</td>\n",
       "      <td>83</td>\n",
       "      <td>94</td>\n",
       "      <td>952</td>\n",
       "      <td>49</td>\n",
       "      <td>47</td>\n",
       "      <td>57</td>\n",
       "      <td>294</td>\n",
       "      <td>6</td>\n",
       "    </tr>\n",
       "    <tr>\n",
       "      <th>Rio Grande do Norte</th>\n",
       "      <td>106</td>\n",
       "      <td>39</td>\n",
       "      <td>30</td>\n",
       "      <td>41</td>\n",
       "      <td>70</td>\n",
       "      <td>55</td>\n",
       "      <td>32</td>\n",
       "      <td>38</td>\n",
       "      <td>78</td>\n",
       "      <td>33</td>\n",
       "      <td>39</td>\n",
       "      <td>258</td>\n",
       "      <td>16</td>\n",
       "      <td>10</td>\n",
       "      <td>15</td>\n",
       "      <td>112</td>\n",
       "      <td>1</td>\n",
       "    </tr>\n",
       "    <tr>\n",
       "      <th>Paraíba</th>\n",
       "      <td>204</td>\n",
       "      <td>57</td>\n",
       "      <td>55</td>\n",
       "      <td>60</td>\n",
       "      <td>112</td>\n",
       "      <td>64</td>\n",
       "      <td>36</td>\n",
       "      <td>37</td>\n",
       "      <td>96</td>\n",
       "      <td>38</td>\n",
       "      <td>22</td>\n",
       "      <td>262</td>\n",
       "      <td>23</td>\n",
       "      <td>27</td>\n",
       "      <td>16</td>\n",
       "      <td>164</td>\n",
       "      <td>1</td>\n",
       "    </tr>\n",
       "    <tr>\n",
       "      <th>Pernambuco</th>\n",
       "      <td>381</td>\n",
       "      <td>79</td>\n",
       "      <td>117</td>\n",
       "      <td>142</td>\n",
       "      <td>282</td>\n",
       "      <td>244</td>\n",
       "      <td>110</td>\n",
       "      <td>135</td>\n",
       "      <td>345</td>\n",
       "      <td>91</td>\n",
       "      <td>85</td>\n",
       "      <td>1066</td>\n",
       "      <td>153</td>\n",
       "      <td>64</td>\n",
       "      <td>40</td>\n",
       "      <td>470</td>\n",
       "      <td>16</td>\n",
       "    </tr>\n",
       "    <tr>\n",
       "      <th>Alagoas</th>\n",
       "      <td>131</td>\n",
       "      <td>26</td>\n",
       "      <td>56</td>\n",
       "      <td>46</td>\n",
       "      <td>83</td>\n",
       "      <td>65</td>\n",
       "      <td>29</td>\n",
       "      <td>58</td>\n",
       "      <td>72</td>\n",
       "      <td>28</td>\n",
       "      <td>13</td>\n",
       "      <td>170</td>\n",
       "      <td>10</td>\n",
       "      <td>9</td>\n",
       "      <td>11</td>\n",
       "      <td>93</td>\n",
       "      <td>3</td>\n",
       "    </tr>\n",
       "    <tr>\n",
       "      <th>Sergipe</th>\n",
       "      <td>214</td>\n",
       "      <td>60</td>\n",
       "      <td>77</td>\n",
       "      <td>85</td>\n",
       "      <td>117</td>\n",
       "      <td>69</td>\n",
       "      <td>59</td>\n",
       "      <td>51</td>\n",
       "      <td>93</td>\n",
       "      <td>33</td>\n",
       "      <td>34</td>\n",
       "      <td>268</td>\n",
       "      <td>15</td>\n",
       "      <td>6</td>\n",
       "      <td>13</td>\n",
       "      <td>93</td>\n",
       "      <td>0</td>\n",
       "    </tr>\n",
       "    <tr>\n",
       "      <th>Bahia</th>\n",
       "      <td>684</td>\n",
       "      <td>137</td>\n",
       "      <td>189</td>\n",
       "      <td>249</td>\n",
       "      <td>452</td>\n",
       "      <td>356</td>\n",
       "      <td>194</td>\n",
       "      <td>216</td>\n",
       "      <td>403</td>\n",
       "      <td>158</td>\n",
       "      <td>161</td>\n",
       "      <td>1707</td>\n",
       "      <td>116</td>\n",
       "      <td>78</td>\n",
       "      <td>71</td>\n",
       "      <td>527</td>\n",
       "      <td>19</td>\n",
       "    </tr>\n",
       "    <tr>\n",
       "      <th>Minas Gerais</th>\n",
       "      <td>463</td>\n",
       "      <td>100</td>\n",
       "      <td>238</td>\n",
       "      <td>348</td>\n",
       "      <td>1144</td>\n",
       "      <td>391</td>\n",
       "      <td>257</td>\n",
       "      <td>328</td>\n",
       "      <td>781</td>\n",
       "      <td>176</td>\n",
       "      <td>166</td>\n",
       "      <td>1915</td>\n",
       "      <td>144</td>\n",
       "      <td>105</td>\n",
       "      <td>121</td>\n",
       "      <td>991</td>\n",
       "      <td>18</td>\n",
       "    </tr>\n",
       "    <tr>\n",
       "      <th>Espírito Santo</th>\n",
       "      <td>94</td>\n",
       "      <td>24</td>\n",
       "      <td>38</td>\n",
       "      <td>44</td>\n",
       "      <td>186</td>\n",
       "      <td>93</td>\n",
       "      <td>39</td>\n",
       "      <td>56</td>\n",
       "      <td>164</td>\n",
       "      <td>34</td>\n",
       "      <td>42</td>\n",
       "      <td>397</td>\n",
       "      <td>39</td>\n",
       "      <td>19</td>\n",
       "      <td>27</td>\n",
       "      <td>212</td>\n",
       "      <td>3</td>\n",
       "    </tr>\n",
       "    <tr>\n",
       "      <th>Rio de Janeiro</th>\n",
       "      <td>217</td>\n",
       "      <td>44</td>\n",
       "      <td>93</td>\n",
       "      <td>136</td>\n",
       "      <td>334</td>\n",
       "      <td>281</td>\n",
       "      <td>157</td>\n",
       "      <td>181</td>\n",
       "      <td>747</td>\n",
       "      <td>100</td>\n",
       "      <td>174</td>\n",
       "      <td>1653</td>\n",
       "      <td>228</td>\n",
       "      <td>82</td>\n",
       "      <td>86</td>\n",
       "      <td>1035</td>\n",
       "      <td>8</td>\n",
       "    </tr>\n",
       "    <tr>\n",
       "      <th>São Paulo</th>\n",
       "      <td>318</td>\n",
       "      <td>60</td>\n",
       "      <td>102</td>\n",
       "      <td>208</td>\n",
       "      <td>684</td>\n",
       "      <td>392</td>\n",
       "      <td>237</td>\n",
       "      <td>251</td>\n",
       "      <td>925</td>\n",
       "      <td>189</td>\n",
       "      <td>212</td>\n",
       "      <td>2723</td>\n",
       "      <td>198</td>\n",
       "      <td>207</td>\n",
       "      <td>229</td>\n",
       "      <td>1598</td>\n",
       "      <td>11</td>\n",
       "    </tr>\n",
       "    <tr>\n",
       "      <th>Paraná</th>\n",
       "      <td>223</td>\n",
       "      <td>30</td>\n",
       "      <td>89</td>\n",
       "      <td>137</td>\n",
       "      <td>453</td>\n",
       "      <td>227</td>\n",
       "      <td>123</td>\n",
       "      <td>124</td>\n",
       "      <td>465</td>\n",
       "      <td>87</td>\n",
       "      <td>129</td>\n",
       "      <td>1194</td>\n",
       "      <td>125</td>\n",
       "      <td>92</td>\n",
       "      <td>114</td>\n",
       "      <td>724</td>\n",
       "      <td>20</td>\n",
       "    </tr>\n",
       "    <tr>\n",
       "      <th>Santa Catarina</th>\n",
       "      <td>78</td>\n",
       "      <td>15</td>\n",
       "      <td>32</td>\n",
       "      <td>50</td>\n",
       "      <td>279</td>\n",
       "      <td>91</td>\n",
       "      <td>44</td>\n",
       "      <td>67</td>\n",
       "      <td>340</td>\n",
       "      <td>38</td>\n",
       "      <td>52</td>\n",
       "      <td>648</td>\n",
       "      <td>84</td>\n",
       "      <td>43</td>\n",
       "      <td>43</td>\n",
       "      <td>357</td>\n",
       "      <td>14</td>\n",
       "    </tr>\n",
       "    <tr>\n",
       "      <th>Rio Grande do Sul</th>\n",
       "      <td>176</td>\n",
       "      <td>72</td>\n",
       "      <td>124</td>\n",
       "      <td>215</td>\n",
       "      <td>469</td>\n",
       "      <td>604</td>\n",
       "      <td>269</td>\n",
       "      <td>225</td>\n",
       "      <td>720</td>\n",
       "      <td>161</td>\n",
       "      <td>172</td>\n",
       "      <td>1547</td>\n",
       "      <td>184</td>\n",
       "      <td>130</td>\n",
       "      <td>152</td>\n",
       "      <td>1095</td>\n",
       "      <td>7</td>\n",
       "    </tr>\n",
       "    <tr>\n",
       "      <th>Mato Grosso do Sul</th>\n",
       "      <td>77</td>\n",
       "      <td>36</td>\n",
       "      <td>50</td>\n",
       "      <td>45</td>\n",
       "      <td>142</td>\n",
       "      <td>89</td>\n",
       "      <td>62</td>\n",
       "      <td>62</td>\n",
       "      <td>146</td>\n",
       "      <td>40</td>\n",
       "      <td>28</td>\n",
       "      <td>364</td>\n",
       "      <td>24</td>\n",
       "      <td>20</td>\n",
       "      <td>27</td>\n",
       "      <td>223</td>\n",
       "      <td>5</td>\n",
       "    </tr>\n",
       "    <tr>\n",
       "      <th>Mato Grosso</th>\n",
       "      <td>135</td>\n",
       "      <td>28</td>\n",
       "      <td>48</td>\n",
       "      <td>63</td>\n",
       "      <td>146</td>\n",
       "      <td>115</td>\n",
       "      <td>54</td>\n",
       "      <td>53</td>\n",
       "      <td>222</td>\n",
       "      <td>44</td>\n",
       "      <td>57</td>\n",
       "      <td>482</td>\n",
       "      <td>57</td>\n",
       "      <td>30</td>\n",
       "      <td>28</td>\n",
       "      <td>234</td>\n",
       "      <td>4</td>\n",
       "    </tr>\n",
       "    <tr>\n",
       "      <th>Goiás</th>\n",
       "      <td>207</td>\n",
       "      <td>55</td>\n",
       "      <td>91</td>\n",
       "      <td>128</td>\n",
       "      <td>292</td>\n",
       "      <td>234</td>\n",
       "      <td>149</td>\n",
       "      <td>166</td>\n",
       "      <td>386</td>\n",
       "      <td>94</td>\n",
       "      <td>116</td>\n",
       "      <td>938</td>\n",
       "      <td>90</td>\n",
       "      <td>53</td>\n",
       "      <td>46</td>\n",
       "      <td>428</td>\n",
       "      <td>5</td>\n",
       "    </tr>\n",
       "    <tr>\n",
       "      <th>Distrito Federal</th>\n",
       "      <td>73</td>\n",
       "      <td>12</td>\n",
       "      <td>12</td>\n",
       "      <td>32</td>\n",
       "      <td>92</td>\n",
       "      <td>73</td>\n",
       "      <td>41</td>\n",
       "      <td>55</td>\n",
       "      <td>132</td>\n",
       "      <td>31</td>\n",
       "      <td>45</td>\n",
       "      <td>597</td>\n",
       "      <td>47</td>\n",
       "      <td>59</td>\n",
       "      <td>71</td>\n",
       "      <td>675</td>\n",
       "      <td>7</td>\n",
       "    </tr>\n",
       "  </tbody>\n",
       "</table>\n",
       "</div>"
      ]
     },
     "metadata": {},
     "execution_count": 175
    }
   ],
   "metadata": {}
  },
  {
   "cell_type": "code",
   "execution_count": 176,
   "source": [
    "percentual = pd.crosstab(dados.Sexo,\n",
    "                         dados.Cor,\n",
    "                         normalize= True)*100\n",
    "percentual.rename(index = sexo, inplace = True)\n",
    "percentual.rename(columns = cor, inplace = True)\n",
    "\n",
    "percentual"
   ],
   "outputs": [
    {
     "output_type": "execute_result",
     "data": {
      "text/plain": [
       "Cor        Indígena     Branca     Preta   Amarela      Parda\n",
       "Sexo                                                         \n",
       "Masculino  0.333160  28.883394  7.160333  0.305830  32.617126\n",
       "Feminino   0.131442  12.520822  3.759761  0.152264  14.135867"
      ],
      "text/html": [
       "<div>\n",
       "<style scoped>\n",
       "    .dataframe tbody tr th:only-of-type {\n",
       "        vertical-align: middle;\n",
       "    }\n",
       "\n",
       "    .dataframe tbody tr th {\n",
       "        vertical-align: top;\n",
       "    }\n",
       "\n",
       "    .dataframe thead th {\n",
       "        text-align: right;\n",
       "    }\n",
       "</style>\n",
       "<table border=\"1\" class=\"dataframe\">\n",
       "  <thead>\n",
       "    <tr style=\"text-align: right;\">\n",
       "      <th>Cor</th>\n",
       "      <th>Indígena</th>\n",
       "      <th>Branca</th>\n",
       "      <th>Preta</th>\n",
       "      <th>Amarela</th>\n",
       "      <th>Parda</th>\n",
       "    </tr>\n",
       "    <tr>\n",
       "      <th>Sexo</th>\n",
       "      <th></th>\n",
       "      <th></th>\n",
       "      <th></th>\n",
       "      <th></th>\n",
       "      <th></th>\n",
       "    </tr>\n",
       "  </thead>\n",
       "  <tbody>\n",
       "    <tr>\n",
       "      <th>Masculino</th>\n",
       "      <td>0.333160</td>\n",
       "      <td>28.883394</td>\n",
       "      <td>7.160333</td>\n",
       "      <td>0.305830</td>\n",
       "      <td>32.617126</td>\n",
       "    </tr>\n",
       "    <tr>\n",
       "      <th>Feminino</th>\n",
       "      <td>0.131442</td>\n",
       "      <td>12.520822</td>\n",
       "      <td>3.759761</td>\n",
       "      <td>0.152264</td>\n",
       "      <td>14.135867</td>\n",
       "    </tr>\n",
       "  </tbody>\n",
       "</table>\n",
       "</div>"
      ]
     },
     "metadata": {},
     "execution_count": 176
    }
   ],
   "metadata": {
    "colab": {},
    "colab_type": "code",
    "id": "csL1jaeSTg2M"
   }
  },
  {
   "cell_type": "markdown",
   "source": [
    "> ### Conclusões\n",
    "\n",
    "Escreva suas conclusões aqui..."
   ],
   "metadata": {
    "colab_type": "text",
    "id": "2jLZmww2Tg2O"
   }
  },
  {
   "cell_type": "markdown",
   "source": [
    "## Realize, para a variável RENDA, uma análise descritiva com as ferramentas que aprendemos em nosso treinamento"
   ],
   "metadata": {
    "colab_type": "text",
    "id": "Aoeayf6zTg2P"
   }
  },
  {
   "cell_type": "markdown",
   "source": [
    "### Obtenha a média aritimética"
   ],
   "metadata": {
    "colab_type": "text",
    "id": "c2CtT71oTg2P"
   }
  },
  {
   "cell_type": "code",
   "execution_count": 184,
   "source": [
    "dados.Renda.mean()"
   ],
   "outputs": [
    {
     "output_type": "execute_result",
     "data": {
      "text/plain": [
       "2000.3831988547631"
      ]
     },
     "metadata": {},
     "execution_count": 184
    }
   ],
   "metadata": {
    "colab": {},
    "colab_type": "code",
    "id": "qlJESCU6Tg2P"
   }
  },
  {
   "cell_type": "markdown",
   "source": [
    "### Obtenha a mediana"
   ],
   "metadata": {
    "colab_type": "text",
    "id": "Xd4saPBCTg2R"
   }
  },
  {
   "cell_type": "code",
   "execution_count": 185,
   "source": [
    "dados.Renda.median()"
   ],
   "outputs": [
    {
     "output_type": "execute_result",
     "data": {
      "text/plain": [
       "1200.0"
      ]
     },
     "metadata": {},
     "execution_count": 185
    }
   ],
   "metadata": {
    "colab": {},
    "colab_type": "code",
    "id": "vHTqX-UATg2R"
   }
  },
  {
   "cell_type": "markdown",
   "source": [
    "### Obtenha a moda"
   ],
   "metadata": {
    "colab_type": "text",
    "id": "_e40rDSwTg2U"
   }
  },
  {
   "cell_type": "code",
   "execution_count": 186,
   "source": [
    "dados.Renda.mode()"
   ],
   "outputs": [
    {
     "output_type": "execute_result",
     "data": {
      "text/plain": [
       "0    788\n",
       "dtype: int64"
      ]
     },
     "metadata": {},
     "execution_count": 186
    }
   ],
   "metadata": {
    "colab": {},
    "colab_type": "code",
    "id": "BFOOdYOvTg2V"
   }
  },
  {
   "cell_type": "markdown",
   "source": [
    "### Obtenha o desvio médio absoluto"
   ],
   "metadata": {
    "colab_type": "text",
    "id": "Rnr1gOCMTg2X"
   }
  },
  {
   "cell_type": "code",
   "execution_count": 187,
   "source": [
    "dados.Renda.mad()"
   ],
   "outputs": [
    {
     "output_type": "execute_result",
     "data": {
      "text/plain": [
       "1526.4951371638058"
      ]
     },
     "metadata": {},
     "execution_count": 187
    }
   ],
   "metadata": {
    "colab": {},
    "colab_type": "code",
    "id": "TmE_1QDGTg2Y"
   }
  },
  {
   "cell_type": "markdown",
   "source": [
    "### Obtenha a variância"
   ],
   "metadata": {
    "colab_type": "text",
    "id": "hCgV_XaQTg2Z"
   }
  },
  {
   "cell_type": "code",
   "execution_count": 188,
   "source": [
    "dados.Renda.var()"
   ],
   "outputs": [
    {
     "output_type": "execute_result",
     "data": {
      "text/plain": [
       "11044906.006217021"
      ]
     },
     "metadata": {},
     "execution_count": 188
    }
   ],
   "metadata": {
    "colab": {},
    "colab_type": "code",
    "id": "SwRgACeGTg2a"
   }
  },
  {
   "cell_type": "markdown",
   "source": [
    "### Obtenha o desvio-padrão"
   ],
   "metadata": {
    "colab_type": "text",
    "id": "gsO6MKOcTg2c"
   }
  },
  {
   "cell_type": "code",
   "execution_count": 189,
   "source": [
    "dados.Renda.std()"
   ],
   "outputs": [
    {
     "output_type": "execute_result",
     "data": {
      "text/plain": [
       "3323.3877303464037"
      ]
     },
     "metadata": {},
     "execution_count": 189
    }
   ],
   "metadata": {
    "colab": {},
    "colab_type": "code",
    "id": "gR-LVTRYTg2d"
   }
  },
  {
   "cell_type": "markdown",
   "source": [
    "### Obtenha a média, mediana e valor máximo da variável RENDA segundo SEXO e COR\n",
    "#### <font color='blue'>Destaque os pontos mais importante que você observa nas tabulações</font>\n",
    "#### <font color='red'>O parâmento <i>aggfunc</i> da função <i>crosstab()</i> pode receber uma lista de funções. Exemplo: <i>aggfunc = {'mean', 'median', 'max'}</i></font>"
   ],
   "metadata": {
    "colab_type": "text",
    "id": "vG-rdO5fTg2f"
   }
  },
  {
   "cell_type": "code",
   "execution_count": 196,
   "source": [
    "frequencia = pd.crosstab(dados.Sexo,\n",
    "                         dados.Cor,\n",
    "                         aggfunc=\"median\",\n",
    "                         values=dados.Renda)\n",
    "frequencia.rename(index = sexo, inplace = True)\n",
    "frequencia.rename(columns = cor, inplace = True)\n",
    "frequencia\n"
   ],
   "outputs": [
    {
     "output_type": "execute_result",
     "data": {
      "text/plain": [
       "Cor        Indígena  Branca   Preta  Amarela   Parda\n",
       "Sexo                                                \n",
       "Masculino     797.5  1700.0  1200.0   2800.0  1200.0\n",
       "Feminino      788.0  1200.0   800.0   1500.0   800.0"
      ],
      "text/html": [
       "<div>\n",
       "<style scoped>\n",
       "    .dataframe tbody tr th:only-of-type {\n",
       "        vertical-align: middle;\n",
       "    }\n",
       "\n",
       "    .dataframe tbody tr th {\n",
       "        vertical-align: top;\n",
       "    }\n",
       "\n",
       "    .dataframe thead th {\n",
       "        text-align: right;\n",
       "    }\n",
       "</style>\n",
       "<table border=\"1\" class=\"dataframe\">\n",
       "  <thead>\n",
       "    <tr style=\"text-align: right;\">\n",
       "      <th>Cor</th>\n",
       "      <th>Indígena</th>\n",
       "      <th>Branca</th>\n",
       "      <th>Preta</th>\n",
       "      <th>Amarela</th>\n",
       "      <th>Parda</th>\n",
       "    </tr>\n",
       "    <tr>\n",
       "      <th>Sexo</th>\n",
       "      <th></th>\n",
       "      <th></th>\n",
       "      <th></th>\n",
       "      <th></th>\n",
       "      <th></th>\n",
       "    </tr>\n",
       "  </thead>\n",
       "  <tbody>\n",
       "    <tr>\n",
       "      <th>Masculino</th>\n",
       "      <td>797.5</td>\n",
       "      <td>1700.0</td>\n",
       "      <td>1200.0</td>\n",
       "      <td>2800.0</td>\n",
       "      <td>1200.0</td>\n",
       "    </tr>\n",
       "    <tr>\n",
       "      <th>Feminino</th>\n",
       "      <td>788.0</td>\n",
       "      <td>1200.0</td>\n",
       "      <td>800.0</td>\n",
       "      <td>1500.0</td>\n",
       "      <td>800.0</td>\n",
       "    </tr>\n",
       "  </tbody>\n",
       "</table>\n",
       "</div>"
      ]
     },
     "metadata": {},
     "execution_count": 196
    }
   ],
   "metadata": {
    "colab": {},
    "colab_type": "code",
    "id": "VgxygKWXTg2g"
   }
  },
  {
   "cell_type": "markdown",
   "source": [
    "> ### Conclusões\n",
    "\n",
    "Escreva suas conclusões aqui..."
   ],
   "metadata": {
    "colab_type": "text",
    "id": "ibndm9iwTg2i"
   }
  },
  {
   "cell_type": "markdown",
   "source": [
    "### Obtenha as medidas de dispersão da variável RENDA segundo SEXO e COR\n",
    "#### <font color='blue'>Destaque os pontos mais importante que você observa nas tabulações</font>\n",
    "#### <font color='red'>O parâmento <i>aggfunc</i> da função <i>crosstab()</i> pode receber uma lista de funções. Exemplo: <i>aggfunc = {'mad', 'var', 'std'}</i></font>"
   ],
   "metadata": {
    "colab_type": "text",
    "id": "CleJ6c1rTg2i"
   }
  },
  {
   "cell_type": "code",
   "execution_count": 197,
   "source": [
    "frequencia = pd.crosstab(dados.Sexo,\n",
    "                         dados.Cor,\n",
    "                         aggfunc=\"std\",\n",
    "                         values=dados.Renda)\n",
    "frequencia.rename(index = sexo, inplace = True)\n",
    "frequencia.rename(columns = cor, inplace = True)\n",
    "frequencia\n"
   ],
   "outputs": [
    {
     "output_type": "execute_result",
     "data": {
      "text/plain": [
       "Cor            Indígena       Branca        Preta     Amarela        Parda\n",
       "Sexo                                                                      \n",
       "Masculino   1204.093490  4750.791872  1936.309271  5740.82482  2312.087184\n",
       "Feminino   11957.498292  3251.013154  1349.799809  3731.17366  1596.233048"
      ],
      "text/html": [
       "<div>\n",
       "<style scoped>\n",
       "    .dataframe tbody tr th:only-of-type {\n",
       "        vertical-align: middle;\n",
       "    }\n",
       "\n",
       "    .dataframe tbody tr th {\n",
       "        vertical-align: top;\n",
       "    }\n",
       "\n",
       "    .dataframe thead th {\n",
       "        text-align: right;\n",
       "    }\n",
       "</style>\n",
       "<table border=\"1\" class=\"dataframe\">\n",
       "  <thead>\n",
       "    <tr style=\"text-align: right;\">\n",
       "      <th>Cor</th>\n",
       "      <th>Indígena</th>\n",
       "      <th>Branca</th>\n",
       "      <th>Preta</th>\n",
       "      <th>Amarela</th>\n",
       "      <th>Parda</th>\n",
       "    </tr>\n",
       "    <tr>\n",
       "      <th>Sexo</th>\n",
       "      <th></th>\n",
       "      <th></th>\n",
       "      <th></th>\n",
       "      <th></th>\n",
       "      <th></th>\n",
       "    </tr>\n",
       "  </thead>\n",
       "  <tbody>\n",
       "    <tr>\n",
       "      <th>Masculino</th>\n",
       "      <td>1204.093490</td>\n",
       "      <td>4750.791872</td>\n",
       "      <td>1936.309271</td>\n",
       "      <td>5740.82482</td>\n",
       "      <td>2312.087184</td>\n",
       "    </tr>\n",
       "    <tr>\n",
       "      <th>Feminino</th>\n",
       "      <td>11957.498292</td>\n",
       "      <td>3251.013154</td>\n",
       "      <td>1349.799809</td>\n",
       "      <td>3731.17366</td>\n",
       "      <td>1596.233048</td>\n",
       "    </tr>\n",
       "  </tbody>\n",
       "</table>\n",
       "</div>"
      ]
     },
     "metadata": {},
     "execution_count": 197
    }
   ],
   "metadata": {
    "colab": {},
    "colab_type": "code",
    "id": "bNv-eWZ3Tg2j"
   }
  },
  {
   "cell_type": "markdown",
   "source": [
    "> ### Conclusões\n",
    "\n",
    "Escreva suas conclusões aqui..."
   ],
   "metadata": {
    "colab_type": "text",
    "id": "57aHvJMSTg2l"
   }
  },
  {
   "cell_type": "markdown",
   "source": [
    "### Construa um box plot da variável RENDA segundo SEXO e COR\n",
    "#### <font color='blue'>É possível verificar algum comportamento diferenciado no rendimento entre os grupos de pessoas analisados? Avalie o gráfico e destaque os pontos mais importantes.</font>\n",
    "#### <font color='red'>1º - Utilize somente as informações de pessoas com renda abaixo de R$ 10.000</font>\n",
    "#### <font color='red'>2º - Para incluir uma terceira variável na construção de um boxplot utilize o parâmetro <i>hue</i> e indique a variável que quer incluir na subdivisão.</font>\n",
    "#### Mais informações: https://seaborn.pydata.org/generated/seaborn.boxplot.html"
   ],
   "metadata": {
    "colab_type": "text",
    "id": "QSYjkdyOTg2l"
   }
  },
  {
   "cell_type": "code",
   "execution_count": null,
   "source": [],
   "outputs": [],
   "metadata": {
    "colab": {},
    "colab_type": "code",
    "id": "8hGa4SMRTg2m"
   }
  },
  {
   "cell_type": "markdown",
   "source": [
    "> ### Conclusões\n",
    "\n",
    "Escreva suas conclusões aqui..."
   ],
   "metadata": {
    "colab_type": "text",
    "id": "ROiIQRFhTg2o"
   }
  },
  {
   "cell_type": "markdown",
   "source": [
    "# <font color=\"red\">DESAFIO<font>\n",
    "### Qual percentual de pessoas de nosso <i>dataset</i> ganham um salário mínimo (R$ 788,00) ou menos?\n",
    "#### <font color='red'>Utilize a função <i>percentileofscore()</i> do <i>scipy</i> para realizar estas análises.</font>\n",
    "#### Mais informações: https://docs.scipy.org/doc/scipy/reference/generated/scipy.stats.percentileofscore.html\n"
   ],
   "metadata": {
    "colab_type": "text",
    "id": "zi4BaGooTg2o"
   }
  },
  {
   "cell_type": "code",
   "execution_count": 198,
   "source": [
    "from scipy import stats\n",
    "stats.percentileofscore(dados.Renda, 788)\n",
    "\n",
    "\n"
   ],
   "outputs": [
    {
     "output_type": "execute_result",
     "data": {
      "text/plain": [
       "24.390942217595004"
      ]
     },
     "metadata": {},
     "execution_count": 198
    }
   ],
   "metadata": {
    "colab": {},
    "colab_type": "code",
    "id": "9DwXo2yITg2p"
   }
  },
  {
   "cell_type": "markdown",
   "source": [
    "### Qual o valor máximo ganho por 99% das pessoas de nosso <i>dataset</i>?\n",
    "#### <font color='red'>Utilize o método <i>quantile()</i> do <i>pandas</i> para realizar estas análises.</font>"
   ],
   "metadata": {
    "colab_type": "text",
    "id": "bl0fOMuKTg2q"
   }
  },
  {
   "cell_type": "code",
   "execution_count": null,
   "source": [],
   "outputs": [],
   "metadata": {
    "colab": {},
    "colab_type": "code",
    "id": "cIVwy8bKTg2q"
   }
  },
  {
   "cell_type": "markdown",
   "source": [
    "### Obtenha a média, mediana, valor máximo e desvio-padrão da variável RENDA segundo ANOS DE ESTUDO e SEXO\n",
    "#### <font color='blue'>Destaque os pontos mais importante que você observa nas tabulações</font>\n",
    "#### <font color='red'>O parâmento <i>aggfunc</i> da função <i>crosstab()</i> pode receber uma lista de funções. Exemplo: <i>aggfunc = ['mean', 'median', 'max', 'std']</i></font>"
   ],
   "metadata": {
    "colab_type": "text",
    "id": "zeRhvtngTg2r"
   }
  },
  {
   "cell_type": "code",
   "execution_count": null,
   "source": [],
   "outputs": [],
   "metadata": {
    "colab": {},
    "colab_type": "code",
    "id": "8nxGdQIpTg2s"
   }
  },
  {
   "cell_type": "markdown",
   "source": [
    "### Construa um box plot da variável RENDA segundo ANOS DE ESTUDO e SEXO\n",
    "#### <font color='blue'>É possível verificar algum comportamento diferenciado no rendimento entre os grupos de pessoas analisados? Avalie o gráfico e destaque os pontos mais importantes.</font>\n",
    "#### <font color='red'>1º - Utilize somente as informações de pessoas com renda abaixo de R$ 10.000</font>\n",
    "#### <font color='red'>2º - Utilize a variável IDADE para identificar se a desigualdade se verifica para pessoas de mesma idade. Exemplo: <i>data=dados.query('Renda < 10000 and Idade == 40')</i> ou <i>data=dados.query('Renda < 10000 and Idade == 50')</i></font>\n",
    "#### <font color='red'>3º - Para incluir uma terceira variável na construção de um boxplot utilize o parâmetro <i>hue</i> e indique a variável que quer incluir na subdivisão.</font>\n",
    "#### Mais informações: https://seaborn.pydata.org/generated/seaborn.boxplot.html"
   ],
   "metadata": {
    "colab_type": "text",
    "id": "1Rm1n7a_Tg2u"
   }
  },
  {
   "cell_type": "code",
   "execution_count": null,
   "source": [],
   "outputs": [],
   "metadata": {
    "colab": {},
    "colab_type": "code",
    "id": "rgMU0WyJTg2v"
   }
  },
  {
   "cell_type": "markdown",
   "source": [
    "> ### Conclusões\n",
    "\n",
    "Escreva suas conclusões aqui..."
   ],
   "metadata": {
    "colab_type": "text",
    "id": "LrEECOmNTg2w"
   }
  },
  {
   "cell_type": "markdown",
   "source": [
    "### Obtenha a média, mediana, valor máximo e desvio-padrão da variável RENDA segundo as UNIDADES DA FEDERAÇÃO\n",
    "#### <font color='blue'>Destaque os pontos mais importante que você observa nas tabulações</font>\n",
    "#### <font color='red'>Utilize o método <i>groupby()</i> do <i>pandas</i> juntamente com o método <i>agg()</i> para contruir a tabulação. O método <i>agg()</i> pode receber um dicionário especificando qual coluna do DataFrame deve ser utilizada e qual lista de funções estatísticas queremos obter, por exemplo: <i>dados.groupby(['UF']).agg({'Renda': ['mean', 'median', 'max', 'std']})</i></font>"
   ],
   "metadata": {
    "colab_type": "text",
    "id": "0fIFSxj8Tg2x"
   }
  },
  {
   "cell_type": "code",
   "execution_count": null,
   "source": [],
   "outputs": [],
   "metadata": {
    "colab": {},
    "colab_type": "code",
    "id": "91IxQFJoTg2x"
   }
  },
  {
   "cell_type": "markdown",
   "source": [
    "### Construa um box plot da variável RENDA segundo as UNIDADES DA FEDERAÇÃO\n",
    "#### <font color='blue'>É possível verificar algum comportamento diferenciado no rendimento entre os grupos analisados? Avalie o gráfico e destaque os pontos mais importantes.</font>\n",
    "#### <font color='red'>1º - Utilize somente as informações de pessoas com renda abaixo de R$ 10.000</font>"
   ],
   "metadata": {
    "colab_type": "text",
    "id": "6NfAKimkTg2y"
   }
  },
  {
   "cell_type": "code",
   "execution_count": null,
   "source": [],
   "outputs": [],
   "metadata": {
    "colab": {},
    "colab_type": "code",
    "id": "XdEGG3blTg2z"
   }
  },
  {
   "cell_type": "markdown",
   "source": [
    "> ### Conclusões\n",
    "\n",
    "Escreva suas conclusões aqui..."
   ],
   "metadata": {
    "colab_type": "text",
    "id": "7ssOt3MRTg22"
   }
  }
 ],
 "metadata": {
  "colab": {
   "name": "Análise_Descritiva.ipynb",
   "provenance": [],
   "toc_visible": true,
   "version": "0.3.2"
  },
  "kernelspec": {
   "name": "python3",
   "display_name": "Python 3.8.10 64-bit"
  },
  "language_info": {
   "codemirror_mode": {
    "name": "ipython",
    "version": 3
   },
   "file_extension": ".py",
   "mimetype": "text/x-python",
   "name": "python",
   "nbconvert_exporter": "python",
   "pygments_lexer": "ipython3",
   "version": "3.8.10"
  },
  "interpreter": {
   "hash": "916dbcbb3f70747c44a77c7bcd40155683ae19c65e1c03b4aa3499c5328201f1"
  }
 },
 "nbformat": 4,
 "nbformat_minor": 1
}